{
 "cells": [
  {
   "cell_type": "markdown",
   "id": "e0890eca",
   "metadata": {},
   "source": [
    "# Welcome to week 2!\n",
    "\n",
    "1. Loops\n",
    "    - What are loops for?\n",
    "    - `for` loops\n",
    "    - Looping a number of times\n",
    "    - `while` loops\n",
    "2. Lists (collections)\n",
    "    - How to create lists\n",
    "    - Working with lists\n",
    "    - Lists are mutable\n",
    "3. Strings to lists (and back)\n",
    "    - `str.split` method\n",
    "    - `str.join` method\n",
    "4. Tuples\n",
    "5. Tuple unpacking"
   ]
  },
  {
   "cell_type": "code",
   "execution_count": 1,
   "id": "0bb144c4",
   "metadata": {},
   "outputs": [
    {
     "name": "stdout",
     "output_type": "stream",
     "text": [
      "a\n",
      "b\n",
      "c\n",
      "d\n"
     ]
    }
   ],
   "source": [
    "# let's assume that I have a short string, assigned to s\n",
    "\n",
    "s = 'abcd'\n",
    "\n",
    "# I want to print each of the characters in s\n",
    "print(s[0])\n",
    "print(s[1])\n",
    "print(s[2])\n",
    "print(s[3])"
   ]
  },
  {
   "cell_type": "code",
   "execution_count": null,
   "id": "098d292f",
   "metadata": {},
   "outputs": [],
   "source": []
  }
 ],
 "metadata": {
  "kernelspec": {
   "display_name": "Python 3 (ipykernel)",
   "language": "python",
   "name": "python3"
  },
  "language_info": {
   "codemirror_mode": {
    "name": "ipython",
    "version": 3
   },
   "file_extension": ".py",
   "mimetype": "text/x-python",
   "name": "python",
   "nbconvert_exporter": "python",
   "pygments_lexer": "ipython3",
   "version": "3.10.4"
  }
 },
 "nbformat": 4,
 "nbformat_minor": 5
}
