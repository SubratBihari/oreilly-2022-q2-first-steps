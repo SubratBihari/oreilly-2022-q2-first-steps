{
 "cells": [
  {
   "cell_type": "markdown",
   "id": "e0d86906",
   "metadata": {},
   "source": [
    "# Welcome to week 2!\n",
    "\n",
    "1. Loops\n",
    "    - What are loops for?\n",
    "    - `for` loops\n",
    "    - Looping a number of times\n",
    "    - `while` loops\n",
    "2. Lists (collections)\n",
    "    - How to create lists\n",
    "    - Working with lists\n",
    "    - Lists are mutable\n",
    "3. Strings to lists (and back)\n",
    "    - `str.split` method\n",
    "    - `str.join` method\n",
    "4. Tuples\n",
    "5. Tuple unpacking"
   ]
  },
  {
   "cell_type": "code",
   "execution_count": 1,
   "id": "36900c3b",
   "metadata": {},
   "outputs": [
    {
     "name": "stdout",
     "output_type": "stream",
     "text": [
      "a\n",
      "b\n",
      "c\n",
      "d\n"
     ]
    }
   ],
   "source": [
    "# let's assume that I have a short string, assigned to s\n",
    "\n",
    "s = 'abcd'\n",
    "\n",
    "# I want to print each of the characters in s\n",
    "print(s[0])\n",
    "print(s[1])\n",
    "print(s[2])\n",
    "print(s[3])"
   ]
  },
  {
   "cell_type": "markdown",
   "id": "f7819227",
   "metadata": {},
   "source": [
    "# DRY -- don't repeat yourself!\n",
    "\n",
    "In programming, you want to avoid repeating yourself.  This is good for you, and it's also good for the program.\n",
    "\n",
    "- It saves you time, if you can write code once, and refer to it many times\n",
    "- It makes the coding more maintainable -- if you need to change something, you can do it in once place\n",
    "- Reduces memory usage\n",
    "- If you optimize something, every part of the program will benefit\n",
    "\n"
   ]
  },
  {
   "cell_type": "markdown",
   "id": "7cdc45a2",
   "metadata": {},
   "source": [
    "# Loops lets us repeat code without repeating code\n",
    "\n",
    "We tell the computer that we want to repeat certain instructions, and it does that!\n",
    "\n",
    "There are two types of loops in Python:\n",
    "- `for` loops\n",
    "- `while` loops\n",
    "\n",
    "`for` loops are much more common, but both are used quite a lot."
   ]
  },
  {
   "cell_type": "code",
   "execution_count": 2,
   "id": "ea3d8cb0",
   "metadata": {},
   "outputs": [
    {
     "name": "stdout",
     "output_type": "stream",
     "text": [
      "a\n",
      "b\n",
      "c\n",
      "d\n"
     ]
    }
   ],
   "source": [
    "# to display each character in s, here is a for loop:\n",
    "\n",
    "# for VARIABLE in OBJECT:\n",
    "for one_character in s:   # for loop asks s: are you iterable?  If s says \"yes,\" then for asks for the next item\n",
    "    print(one_character)"
   ]
  },
  {
   "cell_type": "markdown",
   "id": "079d7083",
   "metadata": {},
   "source": [
    "# Some vocabulary\n",
    "\n",
    "If we loop over an object, we're going to perform some action repeatedly.\n",
    "\n",
    "An object that knows how to behave inside of a `for` loop is called \"iterable,\" and each time that we do something, it's called one \"iteration.\"\n",
    "\n",
    "Strings are iterable, and thus we can use a `for` loop on them.  When we do so, we get one character in each iteration."
   ]
  },
  {
   "cell_type": "code",
   "execution_count": 3,
   "id": "a86d0ab5",
   "metadata": {},
   "outputs": [
    {
     "ename": "TypeError",
     "evalue": "'int' object is not iterable",
     "output_type": "error",
     "traceback": [
      "\u001b[0;31m---------------------------------------------------------------------------\u001b[0m",
      "\u001b[0;31mTypeError\u001b[0m                                 Traceback (most recent call last)",
      "\u001b[0;32m/var/folders/rr/0mnyyv811fs5vyp22gf4fxk00000gn/T/ipykernel_63065/1987108268.py\u001b[0m in \u001b[0;36m<module>\u001b[0;34m\u001b[0m\n\u001b[0;32m----> 1\u001b[0;31m \u001b[0;32mfor\u001b[0m \u001b[0mone_item\u001b[0m \u001b[0;32min\u001b[0m \u001b[0;36m5\u001b[0m\u001b[0;34m:\u001b[0m\u001b[0;34m\u001b[0m\u001b[0;34m\u001b[0m\u001b[0m\n\u001b[0m\u001b[1;32m      2\u001b[0m     \u001b[0mprint\u001b[0m\u001b[0;34m(\u001b[0m\u001b[0mone_item\u001b[0m\u001b[0;34m)\u001b[0m\u001b[0;34m\u001b[0m\u001b[0;34m\u001b[0m\u001b[0m\n",
      "\u001b[0;31mTypeError\u001b[0m: 'int' object is not iterable"
     ]
    }
   ],
   "source": [
    "for one_item in 5:\n",
    "    print(one_item)"
   ]
  },
  {
   "cell_type": "markdown",
   "id": "a337265a",
   "metadata": {},
   "source": [
    "# Exercise: Vowel and others counter\n",
    "\n",
    "1. Define two variables, `vowels` and `others`, and set them both to be 0.\n",
    "2. Ask the user to enter a string (with `input`).\n",
    "3. Go through each character in the string, and check if it is a vowel.\n",
    "    - If so, then add 1 to `vowels`\n",
    "    - If not, then add 1 to `others`\n",
    "4. When the loop is done, print the values of `vowels` and `others`.    "
   ]
  },
  {
   "cell_type": "code",
   "execution_count": 4,
   "id": "e13942e8",
   "metadata": {},
   "outputs": [
    {
     "name": "stdout",
     "output_type": "stream",
     "text": [
      "Enter a string: hello out there\n",
      "vowels = 6\n",
      "others = 9\n"
     ]
    }
   ],
   "source": [
    "vowels = 0\n",
    "others = 0\n",
    "\n",
    "s = input('Enter a string: ').strip()   # get input from the user, remove leading/trailing whitespace, then assign\n",
    "\n",
    "for one_character in s:\n",
    "    if one_character in 'aeiou':\n",
    "        vowels += 1\n",
    "    else:\n",
    "        others += 1\n",
    "        \n",
    "print(f'vowels = {vowels}')        \n",
    "print(f'others = {others}')        "
   ]
  },
  {
   "cell_type": "markdown",
   "id": "e3b2181f",
   "metadata": {},
   "source": [
    "# What are loops used for?\n",
    "\n",
    "Two common cases are:\n",
    "- Searching for something\n",
    "- Counting something"
   ]
  },
  {
   "cell_type": "code",
   "execution_count": 5,
   "id": "0194446c",
   "metadata": {},
   "outputs": [],
   "source": [
    "s = 'abcd'   # we see 4 letters, but Python sees 4 characters\n",
    "s = 'a  d'   # we see 2 letters and 2 spaces, but Python still sees 4 characters"
   ]
  },
  {
   "cell_type": "code",
   "execution_count": 6,
   "id": "466b205c",
   "metadata": {},
   "outputs": [
    {
     "ename": "TypeError",
     "evalue": "'int' object is not iterable",
     "output_type": "error",
     "traceback": [
      "\u001b[0;31m---------------------------------------------------------------------------\u001b[0m",
      "\u001b[0;31mTypeError\u001b[0m                                 Traceback (most recent call last)",
      "\u001b[0;32m/var/folders/rr/0mnyyv811fs5vyp22gf4fxk00000gn/T/ipykernel_63065/1987108268.py\u001b[0m in \u001b[0;36m<module>\u001b[0;34m\u001b[0m\n\u001b[0;32m----> 1\u001b[0;31m \u001b[0;32mfor\u001b[0m \u001b[0mone_item\u001b[0m \u001b[0;32min\u001b[0m \u001b[0;36m5\u001b[0m\u001b[0;34m:\u001b[0m\u001b[0;34m\u001b[0m\u001b[0;34m\u001b[0m\u001b[0m\n\u001b[0m\u001b[1;32m      2\u001b[0m     \u001b[0mprint\u001b[0m\u001b[0;34m(\u001b[0m\u001b[0mone_item\u001b[0m\u001b[0;34m)\u001b[0m\u001b[0;34m\u001b[0m\u001b[0;34m\u001b[0m\u001b[0m\n",
      "\u001b[0;31mTypeError\u001b[0m: 'int' object is not iterable"
     ]
    }
   ],
   "source": [
    "for one_item in 5:\n",
    "    print(one_item)"
   ]
  },
  {
   "cell_type": "code",
   "execution_count": 7,
   "id": "23a347d5",
   "metadata": {},
   "outputs": [
    {
     "name": "stdout",
     "output_type": "stream",
     "text": [
      "Yay!\n",
      "Yay!\n",
      "Yay!\n"
     ]
    }
   ],
   "source": [
    "# this works -- nothing technically wrong with it\n",
    "print('Yay!')\n",
    "print('Yay!')\n",
    "print('Yay!')"
   ]
  },
  {
   "cell_type": "code",
   "execution_count": 8,
   "id": "1e3f2a7b",
   "metadata": {},
   "outputs": [
    {
     "name": "stdout",
     "output_type": "stream",
     "text": [
      "Yay!\n",
      "Yay!\n",
      "Yay!\n"
     ]
    }
   ],
   "source": [
    "# I want to run my for loop 3 times\n",
    "# I can do this with \"range\"\n",
    "# range returns an iterable object that runs a given number of times\n",
    "\n",
    "for count in range(3):\n",
    "    print('Yay!')"
   ]
  },
  {
   "cell_type": "code",
   "execution_count": 9,
   "id": "cae0028d",
   "metadata": {},
   "outputs": [
    {
     "name": "stdout",
     "output_type": "stream",
     "text": [
      "0 Yay!\n",
      "1 Yay!\n",
      "2 Yay!\n"
     ]
    }
   ],
   "source": [
    "# what will be the values of \"count\" in our loop?\n",
    "# starting at 0, up to (and not including) the number we specify\n",
    "\n",
    "for count in range(3):\n",
    "    print(f'{count} Yay!')"
   ]
  },
  {
   "cell_type": "code",
   "execution_count": 10,
   "id": "100dcb39",
   "metadata": {},
   "outputs": [
    {
     "name": "stdout",
     "output_type": "stream",
     "text": [
      "0 Yay!\n",
      "1 Yay!\n",
      "2 Yay!\n"
     ]
    }
   ],
   "source": [
    "# I can hand range 1, 2, or 3 arguments when I call it\n",
    "\n",
    "for count in range(3):   # from 0 up to (and not including) 3\n",
    "    print(f'{count} Yay!')"
   ]
  },
  {
   "cell_type": "code",
   "execution_count": 11,
   "id": "2d1017bb",
   "metadata": {},
   "outputs": [
    {
     "name": "stdout",
     "output_type": "stream",
     "text": [
      "3 Yay!\n",
      "4 Yay!\n",
      "5 Yay!\n",
      "6 Yay!\n",
      "7 Yay!\n"
     ]
    }
   ],
   "source": [
    "for count in range(3,8):   # from 3 up to (and not including) 8\n",
    "    print(f'{count} Yay!')"
   ]
  },
  {
   "cell_type": "code",
   "execution_count": 12,
   "id": "81a65e72",
   "metadata": {},
   "outputs": [
    {
     "name": "stdout",
     "output_type": "stream",
     "text": [
      "3 Yay!\n",
      "5 Yay!\n",
      "7 Yay!\n"
     ]
    }
   ],
   "source": [
    "for count in range(3,8,2):   # from 3 up to (and not including) 8, increasing by 2 each time\n",
    "    print(f'{count} Yay!')"
   ]
  },
  {
   "cell_type": "markdown",
   "id": "dccd92f6",
   "metadata": {},
   "source": [
    "# Stopping the loop early\n",
    "\n",
    "There are two ways to stop our `for` loop early:\n",
    "\n",
    "- We can exit from the loop completely, if we've accomplished our task. This is done with `break`.\n",
    "- We can exit from the current iteration, if it's irrelevant or unnecessary, continuing with the next iteration.  We do this with `continue`."
   ]
  },
  {
   "cell_type": "code",
   "execution_count": 13,
   "id": "e0f917dc",
   "metadata": {},
   "outputs": [
    {
     "ename": "SyntaxError",
     "evalue": "'break' outside loop (668683560.py, line 1)",
     "output_type": "error",
     "traceback": [
      "\u001b[0;36m  File \u001b[0;32m\"/var/folders/rr/0mnyyv811fs5vyp22gf4fxk00000gn/T/ipykernel_63065/668683560.py\"\u001b[0;36m, line \u001b[0;32m1\u001b[0m\n\u001b[0;31m    break\u001b[0m\n\u001b[0m    ^\u001b[0m\n\u001b[0;31mSyntaxError\u001b[0m\u001b[0;31m:\u001b[0m 'break' outside loop\n"
     ]
    }
   ],
   "source": [
    "break"
   ]
  },
  {
   "cell_type": "code",
   "execution_count": 14,
   "id": "0eb0e478",
   "metadata": {},
   "outputs": [
    {
     "ename": "SyntaxError",
     "evalue": "'continue' not properly in loop (414696514.py, line 1)",
     "output_type": "error",
     "traceback": [
      "\u001b[0;36m  File \u001b[0;32m\"/var/folders/rr/0mnyyv811fs5vyp22gf4fxk00000gn/T/ipykernel_63065/414696514.py\"\u001b[0;36m, line \u001b[0;32m1\u001b[0m\n\u001b[0;31m    continue\u001b[0m\n\u001b[0m    ^\u001b[0m\n\u001b[0;31mSyntaxError\u001b[0m\u001b[0;31m:\u001b[0m 'continue' not properly in loop\n"
     ]
    }
   ],
   "source": [
    "continue"
   ]
  },
  {
   "cell_type": "code",
   "execution_count": 16,
   "id": "e469ccb4",
   "metadata": {},
   "outputs": [
    {
     "name": "stdout",
     "output_type": "stream",
     "text": [
      "a\n",
      "b\n",
      "d\n",
      "e\n"
     ]
    }
   ],
   "source": [
    "s = 'abcde'\n",
    "\n",
    "for one_letter in s:\n",
    "    if one_letter == 'c':\n",
    "        continue   # go to the next iteration right away -- ignore the rest of the loop body\n",
    "    \n",
    "    print(one_letter)"
   ]
  },
  {
   "cell_type": "code",
   "execution_count": 17,
   "id": "2210b888",
   "metadata": {},
   "outputs": [
    {
     "name": "stdout",
     "output_type": "stream",
     "text": [
      "a\n",
      "b\n"
     ]
    }
   ],
   "source": [
    "s = 'abcde'\n",
    "\n",
    "for one_letter in s:\n",
    "    if one_letter == 'c':\n",
    "        break   # exit the for loop *RIGHT NOW*\n",
    "    \n",
    "    print(one_letter)"
   ]
  },
  {
   "cell_type": "code",
   "execution_count": 20,
   "id": "ca377c52",
   "metadata": {},
   "outputs": [],
   "source": [
    "one_letter = 'a'  # \"snake case\", because it stays close to the ground, usual style in Python"
   ]
  },
  {
   "cell_type": "code",
   "execution_count": 21,
   "id": "8a62ba44",
   "metadata": {},
   "outputs": [],
   "source": [
    "oneLetter = 'a'   # \"camel case\", because it has one or more humps in the middle -- in Python, only in class names"
   ]
  },
  {
   "cell_type": "code",
   "execution_count": 22,
   "id": "29beb38e",
   "metadata": {},
   "outputs": [
    {
     "name": "stdout",
     "output_type": "stream",
     "text": [
      "a\n",
      "b\n",
      "c\n",
      "d\n"
     ]
    }
   ],
   "source": [
    "s = 'abcd'\n",
    "\n",
    "for one_letter in s:\n",
    "    print(one_letter)\n",
    "    \n",
    "    \n",
    "# this means: execute the loop body once for each character in s,\n",
    "# the current character is assigned to the variable one_letter"
   ]
  },
  {
   "cell_type": "markdown",
   "id": "91586a9c",
   "metadata": {},
   "source": [
    "# Exercise: Name triangles\n",
    "\n",
    "1. Ask the user to enter their name, and assign to a variable, `name`.\n",
    "2. Print the user's name in a triangle, with the first letter on the first line, the full name on the final line, and each line in between \"growing\" by one letter.\n",
    "\n",
    "Example:\n",
    "\n",
    "    Enter your name: Reuven\n",
    "    R\n",
    "    Re\n",
    "    Reu\n",
    "    Reuv\n",
    "    Reuve\n",
    "    Reuven\n",
    "    \n",
    "Hints:\n",
    "1. Use `len` to get the length of a string\n",
    "2. Use `range` to run a `for` loop a particular number of times\n",
    "3. You can retrieve a \"slice\" from a string, where you specify the starting index and the ending index + 1 (e.g., `s[2:5]` or `s[:5]`)\n",
    "\n"
   ]
  },
  {
   "cell_type": "code",
   "execution_count": 24,
   "id": "667e3a61",
   "metadata": {},
   "outputs": [
    {
     "name": "stdout",
     "output_type": "stream",
     "text": [
      "Enter your name: Reuven\n",
      "R\n",
      "Re\n",
      "Reu\n",
      "Reuv\n",
      "Reuve\n",
      "Reuven\n"
     ]
    }
   ],
   "source": [
    "name = input('Enter your name: ').strip()\n",
    "\n",
    "# what do I really want to print?\n",
    "print(name[:1])\n",
    "print(name[:2])\n",
    "print(name[:3])\n",
    "print(name[:4])\n",
    "print(name[:5])\n",
    "print(name[:6])"
   ]
  },
  {
   "cell_type": "code",
   "execution_count": 26,
   "id": "1e464177",
   "metadata": {},
   "outputs": [
    {
     "name": "stdout",
     "output_type": "stream",
     "text": [
      "Enter your name: Reuven\n",
      "R\n",
      "Re\n",
      "Reu\n",
      "Reuv\n",
      "Reuve\n",
      "Reuven\n"
     ]
    }
   ],
   "source": [
    "name = input('Enter your name: ').strip()\n",
    "\n",
    "for max_index in range(len(name)):\n",
    "    print(name[:max_index+1])  # print the slice of name from the start up to (and not including) max_index+1\n"
   ]
  },
  {
   "cell_type": "code",
   "execution_count": 27,
   "id": "e2ff820e",
   "metadata": {},
   "outputs": [
    {
     "name": "stdout",
     "output_type": "stream",
     "text": [
      "Enter your name: Reuven\n",
      "R\n",
      "Re\n",
      "Reu\n",
      "Reuv\n",
      "Reuve\n",
      "Reuven\n"
     ]
    }
   ],
   "source": [
    "name = input('Enter your name: ').strip()\n",
    "\n",
    "for max_index in range(1,len(name)+1):  # count from 1 up to (and not including) len(name) + 1\n",
    "    print(name[:max_index])  \n"
   ]
  },
  {
   "cell_type": "markdown",
   "id": "b22b3ec4",
   "metadata": {},
   "source": [
    "# Next up\n",
    "\n",
    "1. `while` loops\n",
    "2. Where's the index? (And how we can get it without working too hard)\n",
    "\n"
   ]
  },
  {
   "cell_type": "code",
   "execution_count": 28,
   "id": "62337fcb",
   "metadata": {},
   "outputs": [
    {
     "name": "stdout",
     "output_type": "stream",
     "text": [
      "Enter your name: Reuven\n",
      "R\n",
      "Re\n",
      "Reu\n",
      "Reuv\n",
      "Reuve\n",
      "Reuven\n"
     ]
    }
   ],
   "source": [
    "# name triangle, in a different way\n",
    "\n",
    "name = input('Enter your name: ').strip()\n",
    "output = ''\n",
    "\n",
    "for one_character in name:\n",
    "    output += one_character\n",
    "    print(output)"
   ]
  },
  {
   "cell_type": "code",
   "execution_count": null,
   "id": "e047f933",
   "metadata": {},
   "outputs": [],
   "source": [
    "output = ''\n",
    "output = 'R'\n",
    "output = 'Re'\n",
    "output = 'Reu'\n",
    "\n",
    "# the above can also be written as\n",
    "output = ''\n",
    "output += 'R'\n",
    "output += 'e'\n",
    "output += 'u'"
   ]
  },
  {
   "cell_type": "markdown",
   "id": "67909cf2",
   "metadata": {},
   "source": [
    "# `while` loops\n",
    "\n",
    "`for` loops iterate over an existing data structure, one element at a time.  We'll get the first character, the second character, etc., until we get to the end.  We know how many times the loop will run.\n",
    "\n",
    "By constrast, `while` loops are for when we don't know how many times we'll want to iterate, but we do know under what conditions we want to stop.\n",
    "\n",
    "You can think of a `while` loop as an `if` statement that runs repeatedly until the condition is found to be `False`."
   ]
  },
  {
   "cell_type": "code",
   "execution_count": 30,
   "id": "acee3511",
   "metadata": {},
   "outputs": [
    {
     "name": "stdout",
     "output_type": "stream",
     "text": [
      "Before\n",
      "5\n",
      "4\n",
      "3\n",
      "2\n",
      "1\n",
      "After\n"
     ]
    }
   ],
   "source": [
    "x = 5\n",
    "\n",
    "print('Before')\n",
    "while x > 0:    # if this condition (x>0) is True, then run the loop body and come back to the top condition\n",
    "    print(x)\n",
    "    x -= 1   # reduce x by 1\n",
    "print('After')    "
   ]
  },
  {
   "cell_type": "code",
   "execution_count": 31,
   "id": "741f45de",
   "metadata": {},
   "outputs": [
    {
     "name": "stdout",
     "output_type": "stream",
     "text": [
      "Enter your name: Reuven\n",
      "Hello, Reuven!\n",
      "Enter your name: world\n",
      "Hello, world!\n",
      "Enter your name: someone else\n",
      "Hello, someone else!\n",
      "Enter your name: \n"
     ]
    }
   ],
   "source": [
    "while True:    # when will this loop exit? NEVER.  It's an infinite loop!\n",
    "    name = input('Enter your name: ').strip()\n",
    "    \n",
    "    if name == '':   # did I get an empty string?  If so, exit the while loop\n",
    "        break\n",
    "        \n",
    "    if name.isspace():   # does it only contain whitespace?\n",
    "        print('Please enter something!')\n",
    "        continue\n",
    "        \n",
    "    print(f'Hello, {name}!') \n",
    "    "
   ]
  },
  {
   "cell_type": "markdown",
   "id": "66990fda",
   "metadata": {},
   "source": [
    "# Exercise: Sum numbers\n",
    "\n",
    "1. Ask the user to enter our goal number (i.e., what we want to reach), and assign this to `goal`.  (Remember to turn it into an integer!)\n",
    "2. Set `total` to be 0.\n",
    "3. Repeatedly ask the user to enter a number.\n",
    "    - If they enter something non-numeric, then scold them and let them try again\n",
    "    - If they enter something numeric, then add it to `total`, and print the current values of `goal` and `total`.\n",
    "4. Stop asking when the `total` is equal to or greater than `goal`.\n",
    "\n",
    "Example:\n",
    "\n",
    "    Enter goal: 100\n",
    "    Enter number: 20\n",
    "    Total is 20, goal is 100\n",
    "    Enter number: 30\n",
    "    Total is 50, goal is 100\n",
    "    Enter number: abc\n",
    "    abc is not numeric\n",
    "    Enter number: 40\n",
    "    Total is 90, goal is 100\n",
    "    Enter number:\n",
    "    Total is 130, goal is 100\n",
    "    Exiting\n",
    "    Done, with total of 130"
   ]
  },
  {
   "cell_type": "code",
   "execution_count": 32,
   "id": "236adf08",
   "metadata": {},
   "outputs": [
    {
     "name": "stdout",
     "output_type": "stream",
     "text": [
      "Enter goal: 100\n",
      "Enter number: 20\n",
      "total is 20, goal is 100\n",
      "Enter number: 30\n",
      "total is 50, goal is 100\n",
      "Enter number: 42\n",
      "total is 92, goal is 100\n",
      "Enter number: asdfafafa\n",
      "asdfafafa is not numeric\n",
      "Enter number: 7\n",
      "total is 99, goal is 100\n",
      "Enter number: 12345\n",
      "total is 12444, goal is 100\n",
      "Done, with total of {total}\n"
     ]
    }
   ],
   "source": [
    "goal = int(input('Enter goal: '))   # assumes the user really enters only digits\n",
    "total = 0\n",
    "\n",
    "# ask the user to enter numbers, and add them to total until we get to goal\n",
    "while total < goal:\n",
    "    s = input('Enter number: ').strip()\n",
    "    \n",
    "    if s.isdigit():   # if s is a string containing only digits\n",
    "        total += int(s)\n",
    "        print(f'total is {total}, goal is {goal}')\n",
    "    else:\n",
    "        print(f'{s} is not numeric')\n",
    "        \n",
    "print(f'Done, with total of {total}')        "
   ]
  },
  {
   "cell_type": "code",
   "execution_count": 35,
   "id": "9f4332bb",
   "metadata": {},
   "outputs": [
    {
     "name": "stdout",
     "output_type": "stream",
     "text": [
      "The secret number is 49\n",
      "Enter guess: 10\n",
      "Too low!\n"
     ]
    }
   ],
   "source": [
    "# last time, we did (I think!) a number guessing game\n",
    "\n",
    "import random\n",
    "number = random.randint(0, 100)  # get a random number from 0-100\n",
    "print(f'The secret number is {number}')\n",
    "\n",
    "# ask the user to guess the number\n",
    "guess = int(input('Enter guess: '))\n",
    "\n",
    "if guess < number:\n",
    "    print('Too low!')\n",
    "elif guess > number:\n",
    "    print('Too high!')\n",
    "else:\n",
    "    print('You got it!')"
   ]
  },
  {
   "cell_type": "code",
   "execution_count": 37,
   "id": "73c221bd",
   "metadata": {},
   "outputs": [
    {
     "name": "stdout",
     "output_type": "stream",
     "text": [
      "The secret number is 25\n",
      "Enter guess: 200\n",
      "Too high!\n",
      "Enter guess: 200\n",
      "Too high!\n",
      "Enter guess: 2000\n",
      "Too high!\n",
      "Enter guess: \n"
     ]
    },
    {
     "ename": "ValueError",
     "evalue": "invalid literal for int() with base 10: ''",
     "output_type": "error",
     "traceback": [
      "\u001b[0;31m---------------------------------------------------------------------------\u001b[0m",
      "\u001b[0;31mValueError\u001b[0m                                Traceback (most recent call last)",
      "\u001b[0;32m/var/folders/rr/0mnyyv811fs5vyp22gf4fxk00000gn/T/ipykernel_63065/2813241731.py\u001b[0m in \u001b[0;36m<module>\u001b[0;34m\u001b[0m\n\u001b[1;32m      7\u001b[0m \u001b[0;32mwhile\u001b[0m \u001b[0;32mTrue\u001b[0m\u001b[0;34m:\u001b[0m\u001b[0;34m\u001b[0m\u001b[0;34m\u001b[0m\u001b[0m\n\u001b[1;32m      8\u001b[0m \u001b[0;34m\u001b[0m\u001b[0m\n\u001b[0;32m----> 9\u001b[0;31m     \u001b[0mguess\u001b[0m \u001b[0;34m=\u001b[0m \u001b[0mint\u001b[0m\u001b[0;34m(\u001b[0m\u001b[0minput\u001b[0m\u001b[0;34m(\u001b[0m\u001b[0;34m'Enter guess: '\u001b[0m\u001b[0;34m)\u001b[0m\u001b[0;34m)\u001b[0m\u001b[0;34m\u001b[0m\u001b[0;34m\u001b[0m\u001b[0m\n\u001b[0m\u001b[1;32m     10\u001b[0m \u001b[0;34m\u001b[0m\u001b[0m\n\u001b[1;32m     11\u001b[0m     \u001b[0;32mif\u001b[0m \u001b[0mguess\u001b[0m \u001b[0;34m<\u001b[0m \u001b[0mnumber\u001b[0m\u001b[0;34m:\u001b[0m\u001b[0;34m\u001b[0m\u001b[0;34m\u001b[0m\u001b[0m\n",
      "\u001b[0;31mValueError\u001b[0m: invalid literal for int() with base 10: ''"
     ]
    }
   ],
   "source": [
    "# number guessing game, let the user guess multiple times until they get it right\n",
    "\n",
    "import random\n",
    "number = random.randint(0, 100)  # get a random number from 0-100\n",
    "print(f'The secret number is {number}')\n",
    "\n",
    "while True:\n",
    "\n",
    "    guess = int(input('Enter guess: '))\n",
    "\n",
    "    if guess < number:\n",
    "        print('Too low!')\n",
    "    elif guess > number:\n",
    "        print('Too high!')\n",
    "    else:\n",
    "        print('You got it!')\n",
    "        break  # exit from the loop when we guess correctly"
   ]
  },
  {
   "cell_type": "markdown",
   "id": "571ddef8",
   "metadata": {},
   "source": [
    "# Where's the index?\n",
    "\n",
    "In C, our `for` loops look very different: We have our iteration variable, often called `i`, and it generally starts at 0, and goes up with each iteration until we get to some goal.  We can retrieve all of the characters from a string by starting at index 0, stopping at the length of the string, and incrementing between.\n",
    "\n",
    "In Python, we don't need to do this -- we can simply get the characters from the string. We don't need the index!\n",
    "\n",
    "In C, I use the index to get the data. In Python, I get the data myself, so I don't need the index.\n",
    "\n",
    "Sometimes, we want to use or print the index with the characters.  How can we do that?"
   ]
  },
  {
   "cell_type": "code",
   "execution_count": 38,
   "id": "8e98fd5b",
   "metadata": {},
   "outputs": [
    {
     "name": "stdout",
     "output_type": "stream",
     "text": [
      "0: a\n",
      "1: b\n",
      "2: c\n",
      "3: d\n"
     ]
    }
   ],
   "source": [
    "# Option 1: Do it ourselves\n",
    "\n",
    "s = 'abcd'\n",
    "index = 0\n",
    "\n",
    "for one_character in s:\n",
    "    print(f'{index}: {one_character}')\n",
    "    index += 1"
   ]
  },
  {
   "cell_type": "code",
   "execution_count": 39,
   "id": "6cf42b8b",
   "metadata": {},
   "outputs": [
    {
     "name": "stdout",
     "output_type": "stream",
     "text": [
      "0: a\n",
      "1: b\n",
      "2: c\n",
      "3: d\n"
     ]
    }
   ],
   "source": [
    "# Option 2: Use \"enumerate\"\n",
    "\n",
    "# enumerate is a function that can be called on any iterable (i.e., anything that \n",
    "# can be in a for loop).  It is meant to be used inside of a for loop.  With each\n",
    "# iteration, you get *two* values -- both the current index and the current element.\n",
    "\n",
    "# in other words, enumerate counts the elements for you, avoiding the need to increment index yourself each time\n",
    "\n",
    "\n",
    "s = 'abcd'\n",
    "\n",
    "for index, one_character in enumerate(s):  # enumerate returns *two* values with each iteration\n",
    "    print(f'{index}: {one_character}')"
   ]
  },
  {
   "cell_type": "code",
   "execution_count": 40,
   "id": "f84135b6",
   "metadata": {},
   "outputs": [
    {
     "name": "stdout",
     "output_type": "stream",
     "text": [
      "1: a\n",
      "2: b\n",
      "3: c\n",
      "4: d\n"
     ]
    }
   ],
   "source": [
    "# to have the enumerate's index start counting at 1, pass a second (optional) argument to enumerate\n",
    "\n",
    "s = 'abcd'\n",
    "\n",
    "for index, one_character in enumerate(s, 1): \n",
    "    print(f'{index}: {one_character}')"
   ]
  },
  {
   "cell_type": "code",
   "execution_count": 41,
   "id": "c77f5328",
   "metadata": {},
   "outputs": [
    {
     "name": "stdout",
     "output_type": "stream",
     "text": [
      "8: a\n",
      "9: b\n",
      "10: c\n",
      "11: d\n"
     ]
    }
   ],
   "source": [
    "s = 'abcd'\n",
    "\n",
    "for index, one_character in enumerate(s, 8): \n",
    "    print(f'{index}: {one_character}')"
   ]
  },
  {
   "cell_type": "markdown",
   "id": "674bbdf3",
   "metadata": {},
   "source": [
    "# Exercise: Powers of 10\n",
    "\n",
    "You might know that when we have a number like 123, that's actually 1\\*100 + 2\\*10 + 3\\*1.  The number is 3 digits long, thus the first digit is multiplied by 10\\*\\*2, the second by 10\\*\\*1, and the third by 10\\*\\*0 (anything to the 0th power is 1).\n",
    "\n",
    "Ask the user to enter a number. Print the number, one digit at a time, expanded with powers of 10.\n",
    "\n",
    "Example:\n",
    "\n",
    "    Enter a number: 1234\n",
    "    1234 = 1*1000 + 2*100 + 3*10 + 4*1\n",
    "    \n",
    "Hints/reminders:\n",
    "1. Iterate over a string with `for`\n",
    "2. We can get the length of the string with `len`\n",
    "3. The exponentiation operator in Python is `**`, so `2**3` is 8."
   ]
  },
  {
   "cell_type": "code",
   "execution_count": 47,
   "id": "8aed6770",
   "metadata": {},
   "outputs": [
    {
     "name": "stdout",
     "output_type": "stream",
     "text": [
      "Enter a number: 1234\n",
      "1 * 1000\n",
      "2 * 100\n",
      "3 * 10\n",
      "4 * 1\n"
     ]
    }
   ],
   "source": [
    "s = input('Enter a number: ').strip()\n",
    "\n",
    "if s.isdigit():\n",
    "    for index, one_digit in enumerate(s):\n",
    "        power = len(s) - index - 1\n",
    "        \n",
    "        print(f'{one_digit} * {10 ** power}')"
   ]
  },
  {
   "cell_type": "markdown",
   "id": "7e6991c8",
   "metadata": {},
   "source": [
    "# Demo: Sum digits\n",
    "\n",
    "I'll ask the user to enter strings.  When the user enters an empty string, we'll stop asking.\n",
    "\n",
    "Meanwhile, we'll go through each entered string, one character at a time. If the character is a digit, then we'll add it to our total.  (If not, we'll scold the user.)"
   ]
  },
  {
   "cell_type": "code",
   "execution_count": 48,
   "id": "38ea077e",
   "metadata": {
    "scrolled": true
   },
   "outputs": [
    {
     "name": "stdout",
     "output_type": "stream",
     "text": [
      "Enter digits: 12345\n",
      "Added 1; total is now 1\n",
      "Added 2; total is now 3\n",
      "Added 3; total is now 6\n",
      "Added 4; total is now 10\n",
      "Added 5; total is now 15\n",
      "Enter digits: abc456\n",
      "a is not numeric\n",
      "b is not numeric\n",
      "c is not numeric\n",
      "Added 4; total is now 19\n",
      "Added 5; total is now 24\n",
      "Added 6; total is now 30\n",
      "Enter digits: \n",
      "total = 30\n"
     ]
    }
   ],
   "source": [
    "total = 0\n",
    "\n",
    "while True:  # ask for many inputs from the user\n",
    "    s = input('Enter digits: ').strip()  # s is a string\n",
    "    \n",
    "    if s == '':  # exit the loop when we get an empty string\n",
    "        break\n",
    "        \n",
    "    for one_character in s:  # one_character is a string\n",
    "        if one_character.isdigit():\n",
    "            total += int(one_character)\n",
    "            print(f'Added {one_character}; total is now {total}')\n",
    "        else:\n",
    "            print(f'{one_character} is not numeric')\n",
    "            \n",
    "print(f'total = {total}')            "
   ]
  },
  {
   "cell_type": "code",
   "execution_count": 49,
   "id": "f6194ee0",
   "metadata": {},
   "outputs": [
    {
     "data": {
      "text/plain": [
       "True"
      ]
     },
     "execution_count": 49,
     "metadata": {},
     "output_type": "execute_result"
    }
   ],
   "source": [
    "s = '1'\n",
    "\n",
    "s.isdigit()"
   ]
  },
  {
   "cell_type": "code",
   "execution_count": 50,
   "id": "ba09dbef",
   "metadata": {},
   "outputs": [
    {
     "data": {
      "text/plain": [
       "'11'"
      ]
     },
     "execution_count": 50,
     "metadata": {},
     "output_type": "execute_result"
    }
   ],
   "source": [
    "s + s"
   ]
  },
  {
   "cell_type": "code",
   "execution_count": 51,
   "id": "280d8283",
   "metadata": {},
   "outputs": [
    {
     "data": {
      "text/plain": [
       "True"
      ]
     },
     "execution_count": 51,
     "metadata": {},
     "output_type": "execute_result"
    }
   ],
   "source": [
    "# str.isdigit is a \"string method\" \n",
    "# methods are functions that are attached to specific types of objects\n",
    "\n",
    "s = '1234'\n",
    "s.isdigit()   # returns True if all characters are 0-9, False otherwise"
   ]
  },
  {
   "cell_type": "code",
   "execution_count": 52,
   "id": "9113c69c",
   "metadata": {},
   "outputs": [
    {
     "data": {
      "text/plain": [
       "'aBcD eFgH iJkL'"
      ]
     },
     "execution_count": 52,
     "metadata": {},
     "output_type": "execute_result"
    }
   ],
   "source": [
    "# Some string methods!\n",
    "\n",
    "s = '  aBcD eFgH iJkL '\n",
    "s.strip()  # returns a new string, based on s, without leading/trailing whitespace (space, \\n, \\t, etc.)"
   ]
  },
  {
   "cell_type": "code",
   "execution_count": 54,
   "id": "d6c49570",
   "metadata": {
    "scrolled": true
   },
   "outputs": [
    {
     "data": {
      "text/plain": [
       "'  ABCD EFGH IJKL '"
      ]
     },
     "execution_count": 54,
     "metadata": {},
     "output_type": "execute_result"
    }
   ],
   "source": [
    "s.upper()  # returns a new string, based on s, with all characters UPPERCASE"
   ]
  },
  {
   "cell_type": "code",
   "execution_count": 55,
   "id": "5b418046",
   "metadata": {
    "scrolled": true
   },
   "outputs": [
    {
     "data": {
      "text/plain": [
       "'  abcd efgh ijkl '"
      ]
     },
     "execution_count": 55,
     "metadata": {},
     "output_type": "execute_result"
    }
   ],
   "source": [
    "s.lower()  # returns a new string, based on s, with all characters lowercase"
   ]
  },
  {
   "cell_type": "code",
   "execution_count": 56,
   "id": "0ecc06c4",
   "metadata": {
    "scrolled": true
   },
   "outputs": [
    {
     "data": {
      "text/plain": [
       "'  Abcd Efgh Ijkl '"
      ]
     },
     "execution_count": 56,
     "metadata": {},
     "output_type": "execute_result"
    }
   ],
   "source": [
    "s.title()"
   ]
  },
  {
   "cell_type": "code",
   "execution_count": 57,
   "id": "1d11564c",
   "metadata": {
    "scrolled": true
   },
   "outputs": [
    {
     "data": {
      "text/plain": [
       "7"
      ]
     },
     "execution_count": 57,
     "metadata": {},
     "output_type": "execute_result"
    }
   ],
   "source": [
    "s.index('e')  # returns the integer of where 'e' is located in s"
   ]
  },
  {
   "cell_type": "code",
   "execution_count": 59,
   "id": "53e7fbd6",
   "metadata": {},
   "outputs": [
    {
     "data": {
      "text/plain": [
       "'  aBcD eFgH iJkL '"
      ]
     },
     "execution_count": 59,
     "metadata": {},
     "output_type": "execute_result"
    }
   ],
   "source": [
    "s"
   ]
  },
  {
   "cell_type": "code",
   "execution_count": 58,
   "id": "37daa8f1",
   "metadata": {},
   "outputs": [
    {
     "data": {
      "text/plain": [
       "'aBcDeFgHiJkL'"
      ]
     },
     "execution_count": 58,
     "metadata": {},
     "output_type": "execute_result"
    }
   ],
   "source": [
    "s.replace(' ', '')  # returns a new string based on s, replacing all ' ' with '' (meaning: remove them)"
   ]
  },
  {
   "cell_type": "markdown",
   "id": "668bbc9b",
   "metadata": {},
   "source": [
    "# Next up\n",
    "\n",
    "Lists\n",
    "   - Defining lists\n",
    "   - Retrieve from lists\n",
    "   - Lists are sequences (just like strings)\n",
    "   - Lists are mutable, which is both good and bad\n",
    "   - List methods"
   ]
  },
  {
   "cell_type": "markdown",
   "id": "b809049f",
   "metadata": {},
   "source": [
    "# Lists \n",
    "\n",
    "So far, we've looked at integers and strings.  Strings are containers, but for individual characters.\n",
    "\n",
    "What if I need a collection of other things?\n",
    "\n",
    "- IP addresses\n",
    "- Usernames\n",
    "- URLs for Web sites\n",
    "- Numbers (salaries, bonuses, sales figures)\n",
    "\n",
    "Lists are defined with `[]`, and the elements of the list can be *anything at all* in Python.  Elements are separated with commas (`,`)."
   ]
  },
  {
   "cell_type": "code",
   "execution_count": 60,
   "id": "1d956015",
   "metadata": {},
   "outputs": [
    {
     "data": {
      "text/plain": [
       "list"
      ]
     },
     "execution_count": 60,
     "metadata": {},
     "output_type": "execute_result"
    }
   ],
   "source": [
    "mylist = [10, 20, 30, 40, 50, 60, 70, 80, 90, 100]\n",
    "type(mylist)"
   ]
  },
  {
   "cell_type": "markdown",
   "id": "ac4172c6",
   "metadata": {},
   "source": [
    "Even though a list may contain any number of objects of any sort, it's traditional for a list's elements to all be of the same type."
   ]
  },
  {
   "cell_type": "code",
   "execution_count": 61,
   "id": "fff01df0",
   "metadata": {},
   "outputs": [
    {
     "data": {
      "text/plain": [
       "10"
      ]
     },
     "execution_count": 61,
     "metadata": {},
     "output_type": "execute_result"
    }
   ],
   "source": [
    "# What can I do with lists?  Many of the actions are just like what we can do with strings!\n",
    "# (that's on purpose, to make it easier to remember and use)\n",
    "\n",
    "mylist[0]  # gets the first element"
   ]
  },
  {
   "cell_type": "code",
   "execution_count": 62,
   "id": "2edd67e5",
   "metadata": {},
   "outputs": [
    {
     "data": {
      "text/plain": [
       "20"
      ]
     },
     "execution_count": 62,
     "metadata": {},
     "output_type": "execute_result"
    }
   ],
   "source": [
    "mylist[1]  # gets the second element"
   ]
  },
  {
   "cell_type": "code",
   "execution_count": 63,
   "id": "a7bf68c4",
   "metadata": {},
   "outputs": [
    {
     "data": {
      "text/plain": [
       "100"
      ]
     },
     "execution_count": 63,
     "metadata": {},
     "output_type": "execute_result"
    }
   ],
   "source": [
    "mylist[-1]  # gets the final element"
   ]
  },
  {
   "cell_type": "code",
   "execution_count": 64,
   "id": "b4c49044",
   "metadata": {},
   "outputs": [
    {
     "data": {
      "text/plain": [
       "10"
      ]
     },
     "execution_count": 64,
     "metadata": {},
     "output_type": "execute_result"
    }
   ],
   "source": [
    "len(mylist)  # how many elements are in mylist?"
   ]
  },
  {
   "cell_type": "code",
   "execution_count": 65,
   "id": "84b9622c",
   "metadata": {},
   "outputs": [
    {
     "name": "stdout",
     "output_type": "stream",
     "text": [
      "10\n"
     ]
    }
   ],
   "source": [
    "print(len(mylist))"
   ]
  },
  {
   "cell_type": "code",
   "execution_count": 66,
   "id": "1cda2e2b",
   "metadata": {},
   "outputs": [
    {
     "name": "stdout",
     "output_type": "stream",
     "text": [
      "10\n",
      "20\n",
      "30\n",
      "40\n",
      "50\n",
      "60\n",
      "70\n",
      "80\n",
      "90\n",
      "100\n"
     ]
    }
   ],
   "source": [
    "# iterate over a list\n",
    "for one_item in mylist:\n",
    "    print(one_item)"
   ]
  },
  {
   "cell_type": "code",
   "execution_count": 67,
   "id": "1d82a3a0",
   "metadata": {},
   "outputs": [
    {
     "data": {
      "text/plain": [
       "True"
      ]
     },
     "execution_count": 67,
     "metadata": {},
     "output_type": "execute_result"
    }
   ],
   "source": [
    "# search in a list\n",
    "50 in mylist"
   ]
  },
  {
   "cell_type": "code",
   "execution_count": 68,
   "id": "23dfc710",
   "metadata": {},
   "outputs": [
    {
     "data": {
      "text/plain": [
       "False"
      ]
     },
     "execution_count": 68,
     "metadata": {},
     "output_type": "execute_result"
    }
   ],
   "source": [
    "'50' in mylist"
   ]
  },
  {
   "cell_type": "code",
   "execution_count": 69,
   "id": "80956dee",
   "metadata": {},
   "outputs": [
    {
     "data": {
      "text/plain": [
       "[30, 40, 50, 60, 70]"
      ]
     },
     "execution_count": 69,
     "metadata": {},
     "output_type": "execute_result"
    }
   ],
   "source": [
    "# slices, too!\n",
    "\n",
    "mylist[2:7]"
   ]
  },
  {
   "cell_type": "code",
   "execution_count": 70,
   "id": "49da0c79",
   "metadata": {},
   "outputs": [],
   "source": [
    "mylist = [10, 20, 30]\n",
    "biglist = [mylist, mylist, mylist]"
   ]
  },
  {
   "cell_type": "code",
   "execution_count": 71,
   "id": "b8498817",
   "metadata": {},
   "outputs": [
    {
     "data": {
      "text/plain": [
       "3"
      ]
     },
     "execution_count": 71,
     "metadata": {},
     "output_type": "execute_result"
    }
   ],
   "source": [
    "len(mylist)"
   ]
  },
  {
   "cell_type": "code",
   "execution_count": 72,
   "id": "e6cdd8ee",
   "metadata": {},
   "outputs": [
    {
     "data": {
      "text/plain": [
       "3"
      ]
     },
     "execution_count": 72,
     "metadata": {},
     "output_type": "execute_result"
    }
   ],
   "source": [
    "len(biglist)"
   ]
  },
  {
   "cell_type": "code",
   "execution_count": 73,
   "id": "4303b430",
   "metadata": {},
   "outputs": [
    {
     "ename": "TypeError",
     "evalue": "'str' object does not support item assignment",
     "output_type": "error",
     "traceback": [
      "\u001b[0;31m---------------------------------------------------------------------------\u001b[0m",
      "\u001b[0;31mTypeError\u001b[0m                                 Traceback (most recent call last)",
      "\u001b[0;32m/var/folders/rr/0mnyyv811fs5vyp22gf4fxk00000gn/T/ipykernel_63065/1178979598.py\u001b[0m in \u001b[0;36m<module>\u001b[0;34m\u001b[0m\n\u001b[1;32m      1\u001b[0m \u001b[0;31m# strings are immutable\u001b[0m\u001b[0;34m\u001b[0m\u001b[0;34m\u001b[0m\u001b[0m\n\u001b[1;32m      2\u001b[0m \u001b[0ms\u001b[0m \u001b[0;34m=\u001b[0m \u001b[0;34m'abcd'\u001b[0m\u001b[0;34m\u001b[0m\u001b[0;34m\u001b[0m\u001b[0m\n\u001b[0;32m----> 3\u001b[0;31m \u001b[0ms\u001b[0m\u001b[0;34m[\u001b[0m\u001b[0;36m0\u001b[0m\u001b[0;34m]\u001b[0m \u001b[0;34m=\u001b[0m \u001b[0;34m'!'\u001b[0m  \u001b[0;31m# this won't work!\u001b[0m\u001b[0;34m\u001b[0m\u001b[0;34m\u001b[0m\u001b[0m\n\u001b[0m",
      "\u001b[0;31mTypeError\u001b[0m: 'str' object does not support item assignment"
     ]
    }
   ],
   "source": [
    "# strings are immutable\n",
    "s = 'abcd'\n",
    "s[0] = '!'  # this won't work!"
   ]
  },
  {
   "cell_type": "code",
   "execution_count": 74,
   "id": "369c779f",
   "metadata": {},
   "outputs": [],
   "source": [
    "mylist[0] = '!'  # can we change a list?"
   ]
  },
  {
   "cell_type": "code",
   "execution_count": 75,
   "id": "03154ec8",
   "metadata": {},
   "outputs": [
    {
     "data": {
      "text/plain": [
       "['!', 20, 30]"
      ]
     },
     "execution_count": 75,
     "metadata": {},
     "output_type": "execute_result"
    }
   ],
   "source": [
    "mylist"
   ]
  },
  {
   "cell_type": "code",
   "execution_count": 76,
   "id": "72fb2017",
   "metadata": {},
   "outputs": [
    {
     "data": {
      "text/plain": [
       "[['!', 20, 30], ['!', 20, 30], ['!', 20, 30]]"
      ]
     },
     "execution_count": 76,
     "metadata": {},
     "output_type": "execute_result"
    }
   ],
   "source": [
    "biglist"
   ]
  },
  {
   "cell_type": "code",
   "execution_count": 77,
   "id": "c51954ad",
   "metadata": {},
   "outputs": [
    {
     "data": {
      "text/plain": [
       "[10, 20, 30, 40]"
      ]
     },
     "execution_count": 77,
     "metadata": {},
     "output_type": "execute_result"
    }
   ],
   "source": [
    "# to add one element to the end of a list, use \"list.append\"\n",
    "mylist = [10, 20, 30]\n",
    "mylist.append(40)  # now the list has 4 elements, ending with 40\n",
    "\n",
    "mylist"
   ]
  },
  {
   "cell_type": "code",
   "execution_count": 78,
   "id": "547bd977",
   "metadata": {},
   "outputs": [
    {
     "data": {
      "text/plain": [
       "[10, 20, 30, 40, [50, 60, 70]]"
      ]
     },
     "execution_count": 78,
     "metadata": {},
     "output_type": "execute_result"
    }
   ],
   "source": [
    "# I can append any Python data type to the end of a list\n",
    "mylist.append([50, 60, 70])\n",
    "mylist"
   ]
  },
  {
   "cell_type": "code",
   "execution_count": 79,
   "id": "4db2dc4e",
   "metadata": {},
   "outputs": [
    {
     "data": {
      "text/plain": [
       "[10, 20, 30, 40, [50, 60, 70], 80, 90, 100]"
      ]
     },
     "execution_count": 79,
     "metadata": {},
     "output_type": "execute_result"
    }
   ],
   "source": [
    "# what if I want to add more than one thing? \n",
    "# I can use the += operator, which does change the list\n",
    "\n",
    "mylist += [80, 90, 100]  # += runs a for loop on the list we see on the right side, appending each element\n",
    "mylist"
   ]
  },
  {
   "cell_type": "code",
   "execution_count": 80,
   "id": "589f930b",
   "metadata": {},
   "outputs": [
    {
     "data": {
      "text/plain": [
       "[10, 20, 30, 'abc']"
      ]
     },
     "execution_count": 80,
     "metadata": {},
     "output_type": "execute_result"
    }
   ],
   "source": [
    "mylist = [10, 20, 30]\n",
    "mylist.append('abc')\n",
    "mylist"
   ]
  },
  {
   "cell_type": "code",
   "execution_count": 81,
   "id": "cc5ffcaa",
   "metadata": {},
   "outputs": [
    {
     "data": {
      "text/plain": [
       "[10, 20, 30, 'abc', 'a', 'b', 'c']"
      ]
     },
     "execution_count": 81,
     "metadata": {},
     "output_type": "execute_result"
    }
   ],
   "source": [
    "mylist += 'abc'   # += runs a for loop on the item to its right, appending each one\n",
    "mylist"
   ]
  },
  {
   "cell_type": "code",
   "execution_count": 82,
   "id": "ef2af157",
   "metadata": {},
   "outputs": [
    {
     "data": {
      "text/plain": [
       "'c'"
      ]
     },
     "execution_count": 82,
     "metadata": {},
     "output_type": "execute_result"
    }
   ],
   "source": [
    "# you can remove items from a list\n",
    "# the easiest way is to use \"list.pop\", which removes + returns the final element in the list\n",
    "\n",
    "mylist.pop()"
   ]
  },
  {
   "cell_type": "code",
   "execution_count": 83,
   "id": "48416b41",
   "metadata": {},
   "outputs": [
    {
     "data": {
      "text/plain": [
       "[10, 20, 30, 'abc', 'a', 'b']"
      ]
     },
     "execution_count": 83,
     "metadata": {},
     "output_type": "execute_result"
    }
   ],
   "source": [
    "mylist"
   ]
  },
  {
   "cell_type": "code",
   "execution_count": 84,
   "id": "dcbc035a",
   "metadata": {},
   "outputs": [
    {
     "data": {
      "text/plain": [
       "'b'"
      ]
     },
     "execution_count": 84,
     "metadata": {},
     "output_type": "execute_result"
    }
   ],
   "source": [
    "mylist.pop()"
   ]
  },
  {
   "cell_type": "code",
   "execution_count": 85,
   "id": "6f6b9b80",
   "metadata": {},
   "outputs": [
    {
     "data": {
      "text/plain": [
       "[10, 20, 30, 'abc', 'a']"
      ]
     },
     "execution_count": 85,
     "metadata": {},
     "output_type": "execute_result"
    }
   ],
   "source": [
    "mylist"
   ]
  },
  {
   "cell_type": "code",
   "execution_count": 86,
   "id": "2d99542c",
   "metadata": {},
   "outputs": [
    {
     "data": {
      "text/plain": [
       "20"
      ]
     },
     "execution_count": 86,
     "metadata": {},
     "output_type": "execute_result"
    }
   ],
   "source": [
    "mylist.pop(1)  # removes the item at index 1"
   ]
  },
  {
   "cell_type": "code",
   "execution_count": 87,
   "id": "1c09d3f5",
   "metadata": {},
   "outputs": [
    {
     "data": {
      "text/plain": [
       "[10, 30, 'abc', 'a']"
      ]
     },
     "execution_count": 87,
     "metadata": {},
     "output_type": "execute_result"
    }
   ],
   "source": [
    "mylist"
   ]
  },
  {
   "cell_type": "code",
   "execution_count": 89,
   "id": "46dac882",
   "metadata": {},
   "outputs": [
    {
     "name": "stdout",
     "output_type": "stream",
     "text": [
      "20\n",
      "30\n",
      "40\n"
     ]
    }
   ],
   "source": [
    "# print elements of mylist + 10\n",
    "\n",
    "mylist = [10, 20, 30]\n",
    "\n",
    "for one_item in mylist:\n",
    "    print(one_item + 10)"
   ]
  },
  {
   "cell_type": "code",
   "execution_count": 90,
   "id": "2ae23622",
   "metadata": {},
   "outputs": [
    {
     "data": {
      "text/plain": [
       "[20, 30, 40]"
      ]
     },
     "execution_count": 90,
     "metadata": {},
     "output_type": "execute_result"
    }
   ],
   "source": [
    "# get a new list, whose elements are teh same as mylist, but +10\n",
    "\n",
    "output = [] # empty list\n",
    "mylist = [10, 20, 30]\n",
    "\n",
    "for one_item in mylist:\n",
    "    output.append(one_item + 10)\n",
    "    \n",
    "output    "
   ]
  },
  {
   "cell_type": "code",
   "execution_count": 91,
   "id": "0a2d5db1",
   "metadata": {},
   "outputs": [
    {
     "data": {
      "text/plain": [
       "[10, 'hello', 20, 30, 40, 50]"
      ]
     },
     "execution_count": 91,
     "metadata": {},
     "output_type": "execute_result"
    }
   ],
   "source": [
    "# the list.insert method adds at a particular location, pushing to the right whatever was there before\n",
    "mylist = [10, 20, 30, 40, 50]\n",
    "\n",
    "mylist.insert(1, 'hello')\n",
    "mylist"
   ]
  },
  {
   "cell_type": "markdown",
   "id": "7b1f7682",
   "metadata": {},
   "source": [
    "# Exercise: Odds and evens\n",
    "\n",
    "1. Define two empty lists, `odds` and `evens`.\n",
    "2. Ask the user, repeatedly, to enter a number.\n",
    "     - If they enter an empty string, exit the loop\n",
    "     - If they enter a non-numeric string, scold them and try again\n",
    "     - Turn the user's input into an integer, and check if it's odd or even. If it's odd, add it to `odds`. If it's even, add it to `evens`.\n",
    "3. After the loop, print both `odds` and `evens`.     "
   ]
  },
  {
   "cell_type": "code",
   "execution_count": 92,
   "id": "2b62b46a",
   "metadata": {},
   "outputs": [
    {
     "name": "stdout",
     "output_type": "stream",
     "text": [
      "Enter a number: 100\n",
      "Enter a number: 123\n",
      "Enter a number: 152\n",
      "Enter a number: 157\n",
      "Enter a number: \n",
      "odds = [123, 157]\n",
      "evens = [100, 152]\n"
     ]
    }
   ],
   "source": [
    "odds = []\n",
    "evens = []\n",
    "\n",
    "while True:\n",
    "    s = input('Enter a number: ').strip()\n",
    "    \n",
    "    if s == '':\n",
    "        break\n",
    "        \n",
    "    if not s.isdigit():\n",
    "        print(f'{s} is not numeric; try again')\n",
    "        continue\n",
    "        \n",
    "    # if I'm here, then I know s is not blank, and that it contains only digits\n",
    "    \n",
    "    # method 1 to check if it's odd:\n",
    "    if s[-1] in '13579':       # is the last digit odd?\n",
    "        odds.append(int(s))    # turn it into an integer, and append to odds\n",
    "    else:\n",
    "        evens.append(int(s))   # turn it into an integer, and append to evens\n",
    "        \n",
    "print(f'odds = {odds}')        \n",
    "print(f'evens = {evens}')        \n",
    "    "
   ]
  },
  {
   "cell_type": "code",
   "execution_count": 93,
   "id": "1dcd41b2",
   "metadata": {},
   "outputs": [
    {
     "name": "stdout",
     "output_type": "stream",
     "text": [
      "Enter a number: 10\n",
      "Enter a number: 15\n",
      "Enter a number: 20\n",
      "Enter a number: 25\n",
      "Enter a number: 30\n",
      "Enter a number: 35\n",
      "Enter a number: \n",
      "odds = [15, 25, 35]\n",
      "evens = [10, 20, 30]\n"
     ]
    }
   ],
   "source": [
    "odds = []\n",
    "evens = []\n",
    "\n",
    "while True:\n",
    "    s = input('Enter a number: ').strip()\n",
    "    \n",
    "    if s == '':  # if the user enters an empty string, break out of the while loop\n",
    "        break\n",
    "        \n",
    "    if not s.isdigit():\n",
    "        print(f'{s} is not numeric; try again')\n",
    "        continue\n",
    "        \n",
    "    # if I'm here, then I know s is not blank, and that it contains only digits\n",
    "    \n",
    "    # method 2 is to turn s into an integer, and \n",
    "    # check the remainder after dividing by 2\n",
    "    n = int(s)\n",
    "    \n",
    "    if n % 2 == 1:    # if the remainder from dividing by 2 is 1, it must be odd\n",
    "        odds.append(int(s))    # append to odds\n",
    "    else:\n",
    "        evens.append(int(s))   # append to evens\n",
    "        \n",
    "print(f'odds = {odds}')        \n",
    "print(f'evens = {evens}')        \n",
    "    "
   ]
  },
  {
   "cell_type": "code",
   "execution_count": 94,
   "id": "9efc8dd9",
   "metadata": {},
   "outputs": [
    {
     "data": {
      "text/plain": [
       "75"
      ]
     },
     "execution_count": 94,
     "metadata": {},
     "output_type": "execute_result"
    }
   ],
   "source": [
    "# what if I want to show the sum and average (mean) of each of our lists?\n",
    "# Python has a \"sum\" method that takes a list of numbers as an input\n",
    "\n",
    "sum(odds)"
   ]
  },
  {
   "cell_type": "code",
   "execution_count": 95,
   "id": "97f47a90",
   "metadata": {},
   "outputs": [
    {
     "data": {
      "text/plain": [
       "60"
      ]
     },
     "execution_count": 95,
     "metadata": {},
     "output_type": "execute_result"
    }
   ],
   "source": [
    "sum(evens)"
   ]
  },
  {
   "cell_type": "code",
   "execution_count": 96,
   "id": "66f6bfe4",
   "metadata": {},
   "outputs": [
    {
     "name": "stdout",
     "output_type": "stream",
     "text": [
      "Average of odds = 25.0\n",
      "Average of evens = 20.0\n"
     ]
    }
   ],
   "source": [
    "# average = sum / length\n",
    "print(f'Average of odds = {sum(odds) / len(odds)}')\n",
    "print(f'Average of evens = {sum(evens) / len(evens)}')\n"
   ]
  },
  {
   "cell_type": "code",
   "execution_count": 97,
   "id": "ef7880f7",
   "metadata": {},
   "outputs": [
    {
     "data": {
      "text/plain": [
       "False"
      ]
     },
     "execution_count": 97,
     "metadata": {},
     "output_type": "execute_result"
    }
   ],
   "source": [
    "# we can compare two integers or strings with < and > (and ==)\n",
    "\n",
    "'taxi' < 'cab'"
   ]
  },
  {
   "cell_type": "code",
   "execution_count": 98,
   "id": "2c0fd086",
   "metadata": {},
   "outputs": [
    {
     "data": {
      "text/plain": [
       "True"
      ]
     },
     "execution_count": 98,
     "metadata": {},
     "output_type": "execute_result"
    }
   ],
   "source": [
    "'cab' < 'taxi'"
   ]
  },
  {
   "cell_type": "code",
   "execution_count": 99,
   "id": "6deb883d",
   "metadata": {},
   "outputs": [
    {
     "data": {
      "text/plain": [
       "True"
      ]
     },
     "execution_count": 99,
     "metadata": {},
     "output_type": "execute_result"
    }
   ],
   "source": [
    "10 < 100"
   ]
  },
  {
   "cell_type": "code",
   "execution_count": 100,
   "id": "0f6ad5b6",
   "metadata": {},
   "outputs": [
    {
     "data": {
      "text/plain": [
       "False"
      ]
     },
     "execution_count": 100,
     "metadata": {},
     "output_type": "execute_result"
    }
   ],
   "source": [
    "100 < 10"
   ]
  },
  {
   "cell_type": "code",
   "execution_count": 101,
   "id": "bef6f343",
   "metadata": {},
   "outputs": [
    {
     "data": {
      "text/plain": [
       "[-8, -1, 2, 10, 12, 15, 19, 30]"
      ]
     },
     "execution_count": 101,
     "metadata": {},
     "output_type": "execute_result"
    }
   ],
   "source": [
    "# what if I have a list of elements, and I want to sort them from lowest to highest?\n",
    "mylist = [10, 15, 2, -8, -1, 12, 30, 19]\n",
    "\n",
    "sorted(mylist)  # this returns a new list, based on mylist, with elements sorted from lowest to highest"
   ]
  },
  {
   "cell_type": "code",
   "execution_count": 102,
   "id": "4dfc5b6c",
   "metadata": {},
   "outputs": [
    {
     "data": {
      "text/plain": [
       "['a', 'bunch', 'is', 'of', 'this', 'words']"
      ]
     },
     "execution_count": 102,
     "metadata": {},
     "output_type": "execute_result"
    }
   ],
   "source": [
    "mylist = ['this', 'is', 'a', 'bunch', 'of', 'words']\n",
    "sorted(mylist)"
   ]
  },
  {
   "cell_type": "markdown",
   "id": "146636f1",
   "metadata": {},
   "source": [
    "# Exercise: Vowels, digits, and others\n",
    "\n",
    "1. Define three empty lists -- `vowels`, `digits`, and `others`.\n",
    "2. Repeatedly ask the user to enter a string.\n",
    "    - If the user enters an empty string, stop asking and exit from the loop.\n",
    "3. Go through each character in the string, and check:\n",
    "    - If it's a vowel (a,e, i, o, u) then add it to the `vowels` list\n",
    "    - If it's a digit (0-9) then add it to the `digits` list\n",
    "    - In other cases, add it to the `others` list\n",
    "4. After the loop ends, print the value of each list.    "
   ]
  },
  {
   "cell_type": "code",
   "execution_count": 103,
   "id": "7d2f4963",
   "metadata": {},
   "outputs": [
    {
     "name": "stdout",
     "output_type": "stream",
     "text": [
      "Enter a string: hello !!! 123\n",
      "Enter a string: goodbye ??? 456\n",
      "Enter a string: \n",
      "vowels = ['e', 'o', 'o', 'o', 'e']\n",
      "digits = ['1', '2', '3', '4', '5', '6']\n",
      "others = ['h', 'l', 'l', ' ', '!', '!', '!', ' ', 'g', 'd', 'b', 'y', ' ', '?', '?', '?', ' ']\n"
     ]
    }
   ],
   "source": [
    "vowels = []\n",
    "digits = []\n",
    "others = []\n",
    "\n",
    "while True:\n",
    "    s = input('Enter a string: ').strip()\n",
    "    \n",
    "    if s == '':\n",
    "        break\n",
    "        \n",
    "    for one_character in s:\n",
    "        if one_character in 'aeiou':\n",
    "            vowels.append(one_character)\n",
    "        elif one_character.isdigit():\n",
    "            digits.append(one_character)\n",
    "        else:\n",
    "            others.append(one_character)\n",
    "            \n",
    "print(f'vowels = {vowels}')\n",
    "print(f'digits = {digits}')\n",
    "print(f'others = {others}')\n"
   ]
  },
  {
   "cell_type": "markdown",
   "id": "72ece5bd",
   "metadata": {},
   "source": [
    "# Next up\n",
    "\n",
    "1. Turning strings into lists (with `str.split`)\n",
    "2. Turning lists into strings (with `str.join`)\n",
    "3. Tuples\n",
    "4. Unpacking"
   ]
  },
  {
   "cell_type": "code",
   "execution_count": 104,
   "id": "9188df28",
   "metadata": {},
   "outputs": [
    {
     "data": {
      "text/plain": [
       "5"
      ]
     },
     "execution_count": 104,
     "metadata": {},
     "output_type": "execute_result"
    }
   ],
   "source": [
    "# we know that we can always get a new data structure from an existing one by\n",
    "# calling a type as if it were a function\n",
    "\n",
    "int('5')   # get a new int based on '5'"
   ]
  },
  {
   "cell_type": "code",
   "execution_count": 105,
   "id": "7a354e98",
   "metadata": {},
   "outputs": [
    {
     "data": {
      "text/plain": [
       "'5'"
      ]
     },
     "execution_count": 105,
     "metadata": {},
     "output_type": "execute_result"
    }
   ],
   "source": [
    "str(5)   # get a new string based on 5"
   ]
  },
  {
   "cell_type": "code",
   "execution_count": 106,
   "id": "d0ebfe41",
   "metadata": {},
   "outputs": [
    {
     "data": {
      "text/plain": [
       "['a', 'b', ' ', 'c', 'd', 'e', ' ', 'f', 'g']"
      ]
     },
     "execution_count": 106,
     "metadata": {},
     "output_type": "execute_result"
    }
   ],
   "source": [
    "s = 'ab cde fg'\n",
    "\n",
    "# I want a list based on this\n",
    "list(s)"
   ]
  },
  {
   "cell_type": "code",
   "execution_count": null,
   "id": "4f58c646",
   "metadata": {},
   "outputs": [],
   "source": [
    "# what if you want a list containing the words in s -- that is, with three elements, not 9?\n",
    "# we can use the str.split method, which returns a list of strings based on an existing string\n",
    "\n",
    "s.split(' ')  # this returns a new list of strings, based on s,"
   ]
  }
 ],
 "metadata": {
  "kernelspec": {
   "display_name": "Python 3 (ipykernel)",
   "language": "python",
   "name": "python3"
  },
  "language_info": {
   "codemirror_mode": {
    "name": "ipython",
    "version": 3
   },
   "file_extension": ".py",
   "mimetype": "text/x-python",
   "name": "python",
   "nbconvert_exporter": "python",
   "pygments_lexer": "ipython3",
   "version": "3.10.4"
  }
 },
 "nbformat": 4,
 "nbformat_minor": 5
}
