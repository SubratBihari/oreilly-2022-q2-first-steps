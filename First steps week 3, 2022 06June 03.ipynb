{
 "cells": [
  {
   "cell_type": "markdown",
   "id": "aba1b494",
   "metadata": {},
   "source": [
    "# Agenda: Functions!\n",
    "\n",
    "1. What are functions?\n",
    "2. Writing some simple functions\n",
    "3. Arguments and parameters\n",
    "4. Return values\n",
    "5. Default argument values\n",
    "6. Complex return values\n",
    "7. Unpacking and complex return values\n",
    "8. Local vs. global variables (a little scoping)"
   ]
  },
  {
   "cell_type": "markdown",
   "id": "f261ff6f",
   "metadata": {},
   "source": [
    "# DRY rule -- \"Don't repeat yourself!\"\n",
    "\n",
    "1. If we repeat ourselves several times in a row, we can use a *loop*.\n",
    "2. If we repeat ourselves several times in a program, we can use a *function*.\n",
    "\n",
    "A function lets us assign a name to a bunch of different actions.\n",
    "\n",
    "When we execute a function, we say that we're \"calling\" it.\n",
    "\n",
    "Abstraction -- let's hide the details, so that we can concentrate on the higher-level stuff.\n",
    "\n",
    "Functions are the verbs of a programming language -- they describe the actions.  When we define a new function, we're teaching the programming language a new verb."
   ]
  },
  {
   "cell_type": "code",
   "execution_count": 1,
   "id": "9e94764d",
   "metadata": {},
   "outputs": [],
   "source": [
    "# to define a function in Python, we use the keyword \"def\" (short for \"define\")\n",
    "\n",
    "def hello():\n",
    "    print('Hello out there!')"
   ]
  },
  {
   "cell_type": "markdown",
   "id": "1143dcc9",
   "metadata": {},
   "source": [
    "# Function definitions\n",
    "\n",
    "1. We start with `def`, and then the name of the function we want to define.  That name is actually a variable name, so all of the variable-name rules apply to it, as well.\n",
    "2. After the function's name, we have parentheses. For now, those parentheses will be empty -- but we'll put things in them later on.\n",
    "3. Then we have a `:`, at the end of the line.\n",
    "4. Then we have an indented block. This is the \"body\" of the function.  This is what will execute every time we call the function.\n",
    "5. The function body ends when we end the indentation. So long as we're in the indented block, we're in the function body.\n",
    "6. The function body can contain **ANY PYTHON CODE AT ALL**.  We can include `print` and `input` and `if/else` and `for` and `while`... anything at all.\n",
    "\n",
    "To call a function, just name the function and put parentheses (`()`) after the name."
   ]
  },
  {
   "cell_type": "code",
   "execution_count": 2,
   "id": "58769f12",
   "metadata": {},
   "outputs": [
    {
     "name": "stdout",
     "output_type": "stream",
     "text": [
      "Hello out there!\n"
     ]
    }
   ],
   "source": [
    "hello()     # here, I'm calling the \"hello\" function"
   ]
  },
  {
   "cell_type": "code",
   "execution_count": 3,
   "id": "10ec8ca6",
   "metadata": {},
   "outputs": [],
   "source": [
    "def hello():\n",
    "    name = input('Enter your name: ').strip()\n",
    "    print(f'Hello, {name}!')"
   ]
  },
  {
   "cell_type": "code",
   "execution_count": 4,
   "id": "b048151b",
   "metadata": {},
   "outputs": [
    {
     "name": "stdout",
     "output_type": "stream",
     "text": [
      "Enter your name: Reuven\n",
      "Hello, Reuven!\n"
     ]
    }
   ],
   "source": [
    "hello()"
   ]
  },
  {
   "cell_type": "code",
   "execution_count": 5,
   "id": "7a36b8f6",
   "metadata": {},
   "outputs": [],
   "source": [
    "def hello():\n",
    "    name = input('Enter your name: ').strip()\n",
    "    times = input('How many times should I greet you? ').strip()\n",
    "    \n",
    "    for i in range(int(times)):\n",
    "        print(f'Hello, {name}!')"
   ]
  },
  {
   "cell_type": "code",
   "execution_count": 6,
   "id": "706f94e3",
   "metadata": {},
   "outputs": [
    {
     "name": "stdout",
     "output_type": "stream",
     "text": [
      "Enter your name: Reuven\n",
      "How many times should I greet you? 5\n",
      "Hello, Reuven!\n",
      "Hello, Reuven!\n",
      "Hello, Reuven!\n",
      "Hello, Reuven!\n",
      "Hello, Reuven!\n"
     ]
    }
   ],
   "source": [
    "hello()"
   ]
  },
  {
   "cell_type": "code",
   "execution_count": 8,
   "id": "488e030d",
   "metadata": {},
   "outputs": [
    {
     "data": {
      "text/plain": [
       "4"
      ]
     },
     "execution_count": 8,
     "metadata": {},
     "output_type": "execute_result"
    }
   ],
   "source": [
    "len('abcd')     # we're passing 'abcd' as an argument to the len function"
   ]
  },
  {
   "cell_type": "code",
   "execution_count": 9,
   "id": "ebab0596",
   "metadata": {},
   "outputs": [
    {
     "data": {
      "text/plain": [
       "3"
      ]
     },
     "execution_count": 9,
     "metadata": {},
     "output_type": "execute_result"
    }
   ],
   "source": [
    "len([10, 20, 30])  # we're passing [10, 20, 30] as an argument to the len function"
   ]
  },
  {
   "cell_type": "code",
   "execution_count": 10,
   "id": "62e0bc85",
   "metadata": {},
   "outputs": [
    {
     "name": "stdout",
     "output_type": "stream",
     "text": [
      "A\n",
      "B\n",
      "Hello!\n",
      "C\n"
     ]
    }
   ],
   "source": [
    "print('A')\n",
    "\n",
    "def hello():\n",
    "    print('Hello!')\n",
    "    \n",
    "print('B')\n",
    "\n",
    "hello()\n",
    "\n",
    "print('C')"
   ]
  },
  {
   "cell_type": "code",
   "execution_count": 11,
   "id": "10a1b4cc",
   "metadata": {},
   "outputs": [],
   "source": [
    "# this function prints the number of vowels it finds in a filename\n",
    "\n",
    "def count_vowels():\n",
    "    filename = input('Enter a filename: ').strip()\n",
    "    \n",
    "    total = 0\n",
    "    for one_line in open(filename):\n",
    "        for one_character in one_line.lower():\n",
    "            if one_character in 'aeiou':\n",
    "                total += 1\n",
    "                \n",
    "    print(f'I found {total} vowels in {filename}.')\n",
    "    \n",
    "    "
   ]
  },
  {
   "cell_type": "code",
   "execution_count": 12,
   "id": "ad1b6412",
   "metadata": {},
   "outputs": [
    {
     "name": "stdout",
     "output_type": "stream",
     "text": [
      "Enter a filename: /etc/passwd\n",
      "I found 1906 vowels in /etc/passwd.\n"
     ]
    }
   ],
   "source": [
    "count_vowels()"
   ]
  },
  {
   "cell_type": "markdown",
   "id": "b1082702",
   "metadata": {},
   "source": [
    "# Exercise: Calculator\n",
    "\n",
    "1. Write a function, `calc`, which will allow us to perform some simple calculations.\n",
    "2. Ask the user to enter a math expression in one line (e.g., `'2 + 2'`).\n",
    "3. Use `str.split` to break that input into a list of three elements. (Let's assume that the user enters a valid string, with numbers and an operator between them.)\n",
    "4. If the user entered `+`, print the result of adding the numbers.\n",
    "5. If the user entered `-`, print the result of subtracting the numbers.\n",
    "\n",
    "Example:\n",
    "\n",
    "    calc()\n",
    "\n",
    "    Enter an expression: 10 + 8\n",
    "    10 + 8 = 18    \n",
    "\n",
    "Hints/reminders:\n",
    "1. Any string can be split on whitespace with `s.split()` -- no argument means that we'll split on any whitespace, of any length.\n",
    "2. Remember that the result of `str.split` is a list of strings.\n",
    "3. If you need to turn a string into an integer, use `int`."
   ]
  },
  {
   "cell_type": "code",
   "execution_count": 13,
   "id": "3409641d",
   "metadata": {},
   "outputs": [],
   "source": [
    "def calc():\n",
    "    s = input('Enter expression: ').strip()\n",
    "    \n",
    "#     fields = s.split()  # s.split() here will return a list of strings, e.g., ['2', '+', '2']\n",
    "\n",
    "#     first = fields[0]\n",
    "#     op = fields[1]\n",
    "#     second = fields[2]\n",
    "    \n",
    "    first, op, second = s.split()\n",
    "    first = int(first)  # turn first into an integer\n",
    "    second = int(second)  # turn second into an integer\n",
    "    \n",
    "    if op == '+':\n",
    "        result = first + second\n",
    "    elif op == '-':\n",
    "        result = first - second\n",
    "    else:\n",
    "        result = 'Not supported'\n",
    "        \n",
    "    print(f'{first} {op} {second} = {result}')"
   ]
  },
  {
   "cell_type": "code",
   "execution_count": 15,
   "id": "5381766a",
   "metadata": {},
   "outputs": [
    {
     "name": "stdout",
     "output_type": "stream",
     "text": [
      "Enter expression: 10 - 2\n",
      "10 - 2 = 8\n"
     ]
    }
   ],
   "source": [
    "calc()"
   ]
  },
  {
   "cell_type": "code",
   "execution_count": 16,
   "id": "b1da4cb1",
   "metadata": {},
   "outputs": [
    {
     "data": {
      "text/plain": [
       "4"
      ]
     },
     "execution_count": 16,
     "metadata": {},
     "output_type": "execute_result"
    }
   ],
   "source": [
    "# when we call a function, we can pass it one or more \"arguments\"\n",
    "# those are the values that you put inside of the parentheses\n",
    "\n",
    "len('abcd')   # we pass len one argument, of type str"
   ]
  },
  {
   "cell_type": "code",
   "execution_count": 17,
   "id": "6f149983",
   "metadata": {},
   "outputs": [
    {
     "data": {
      "text/plain": [
       "4"
      ]
     },
     "execution_count": 17,
     "metadata": {},
     "output_type": "execute_result"
    }
   ],
   "source": [
    "len([10, 20, 30, 40])  # we pass len one argument, of type list"
   ]
  },
  {
   "cell_type": "code",
   "execution_count": 18,
   "id": "3c6e7430",
   "metadata": {},
   "outputs": [
    {
     "name": "stdout",
     "output_type": "stream",
     "text": [
      "Enter your name: asdfafa\n"
     ]
    },
    {
     "data": {
      "text/plain": [
       "'asdfafa'"
      ]
     },
     "execution_count": 18,
     "metadata": {},
     "output_type": "execute_result"
    }
   ],
   "source": [
    "input('Enter your name: ')   # we pass input one argument of type str"
   ]
  },
  {
   "cell_type": "markdown",
   "id": "c11efdfe",
   "metadata": {},
   "source": [
    "# Arguments and parameters\n",
    "\n",
    "When we call a function, we can pass one or more arguments.  Those are assigned to special variables in the function, known as parameters.\n",
    "\n",
    "We need to name the parameters at the top of the function, inside of the parentheses, after the function's name.\n",
    "\n",
    "If a function has 3 parameters, we *must* call it with 3 arguments."
   ]
  },
  {
   "cell_type": "code",
   "execution_count": 19,
   "id": "7b08e0f7",
   "metadata": {},
   "outputs": [],
   "source": [
    "# in this version of \"hello\", we have one parameter, called \"name\".\n",
    "# having this parameter means that when we call hello, we must pass one argument.\n",
    "\n",
    "def hello(name):\n",
    "    print(f'Hello, {name}!')"
   ]
  },
  {
   "cell_type": "code",
   "execution_count": 20,
   "id": "69d66f7b",
   "metadata": {},
   "outputs": [
    {
     "ename": "TypeError",
     "evalue": "hello() missing 1 required positional argument: 'name'",
     "output_type": "error",
     "traceback": [
      "\u001b[0;31m---------------------------------------------------------------------------\u001b[0m",
      "\u001b[0;31mTypeError\u001b[0m                                 Traceback (most recent call last)",
      "\u001b[0;32m/var/folders/rr/0mnyyv811fs5vyp22gf4fxk00000gn/T/ipykernel_86208/2674044599.py\u001b[0m in \u001b[0;36m<module>\u001b[0;34m\u001b[0m\n\u001b[0;32m----> 1\u001b[0;31m \u001b[0mhello\u001b[0m\u001b[0;34m(\u001b[0m\u001b[0;34m)\u001b[0m\u001b[0;34m\u001b[0m\u001b[0;34m\u001b[0m\u001b[0m\n\u001b[0m",
      "\u001b[0;31mTypeError\u001b[0m: hello() missing 1 required positional argument: 'name'"
     ]
    }
   ],
   "source": [
    "hello()"
   ]
  },
  {
   "cell_type": "code",
   "execution_count": 21,
   "id": "fe1a4d7a",
   "metadata": {},
   "outputs": [
    {
     "name": "stdout",
     "output_type": "stream",
     "text": [
      "Hello, world!\n"
     ]
    }
   ],
   "source": [
    "hello('world') # now we're passing one argument to hello"
   ]
  },
  {
   "cell_type": "code",
   "execution_count": 22,
   "id": "39ffc64b",
   "metadata": {},
   "outputs": [],
   "source": [
    "# let's write a function with two parameters\n",
    "\n",
    "def add(first, second):\n",
    "    print(first + second)"
   ]
  },
  {
   "cell_type": "code",
   "execution_count": 23,
   "id": "38afa516",
   "metadata": {},
   "outputs": [
    {
     "name": "stdout",
     "output_type": "stream",
     "text": [
      "5\n"
     ]
    }
   ],
   "source": [
    "add(2, 3)"
   ]
  },
  {
   "cell_type": "code",
   "execution_count": 24,
   "id": "7895338c",
   "metadata": {},
   "outputs": [
    {
     "name": "stdout",
     "output_type": "stream",
     "text": [
      "28\n"
     ]
    }
   ],
   "source": [
    "add(10, 18)"
   ]
  },
  {
   "cell_type": "code",
   "execution_count": 25,
   "id": "ddc7c8a6",
   "metadata": {},
   "outputs": [
    {
     "ename": "TypeError",
     "evalue": "add() missing 1 required positional argument: 'second'",
     "output_type": "error",
     "traceback": [
      "\u001b[0;31m---------------------------------------------------------------------------\u001b[0m",
      "\u001b[0;31mTypeError\u001b[0m                                 Traceback (most recent call last)",
      "\u001b[0;32m/var/folders/rr/0mnyyv811fs5vyp22gf4fxk00000gn/T/ipykernel_86208/53490253.py\u001b[0m in \u001b[0;36m<module>\u001b[0;34m\u001b[0m\n\u001b[0;32m----> 1\u001b[0;31m \u001b[0madd\u001b[0m\u001b[0;34m(\u001b[0m\u001b[0;36m10\u001b[0m\u001b[0;34m)\u001b[0m\u001b[0;34m\u001b[0m\u001b[0;34m\u001b[0m\u001b[0m\n\u001b[0m",
      "\u001b[0;31mTypeError\u001b[0m: add() missing 1 required positional argument: 'second'"
     ]
    }
   ],
   "source": [
    "add(10)"
   ]
  },
  {
   "cell_type": "code",
   "execution_count": 26,
   "id": "42f2e79e",
   "metadata": {},
   "outputs": [
    {
     "ename": "TypeError",
     "evalue": "add() missing 2 required positional arguments: 'first' and 'second'",
     "output_type": "error",
     "traceback": [
      "\u001b[0;31m---------------------------------------------------------------------------\u001b[0m",
      "\u001b[0;31mTypeError\u001b[0m                                 Traceback (most recent call last)",
      "\u001b[0;32m/var/folders/rr/0mnyyv811fs5vyp22gf4fxk00000gn/T/ipykernel_86208/3064714114.py\u001b[0m in \u001b[0;36m<module>\u001b[0;34m\u001b[0m\n\u001b[0;32m----> 1\u001b[0;31m \u001b[0madd\u001b[0m\u001b[0;34m(\u001b[0m\u001b[0;34m)\u001b[0m\u001b[0;34m\u001b[0m\u001b[0;34m\u001b[0m\u001b[0m\n\u001b[0m",
      "\u001b[0;31mTypeError\u001b[0m: add() missing 2 required positional arguments: 'first' and 'second'"
     ]
    }
   ],
   "source": [
    "add()"
   ]
  },
  {
   "cell_type": "code",
   "execution_count": 27,
   "id": "d422bf9b",
   "metadata": {},
   "outputs": [
    {
     "name": "stdout",
     "output_type": "stream",
     "text": [
      "abcdef\n"
     ]
    }
   ],
   "source": [
    "add('abcd', 'ef')   # will this work?"
   ]
  },
  {
   "cell_type": "markdown",
   "id": "a07e82c8",
   "metadata": {},
   "source": [
    "# Functions, parameters, and \"overloading\"\n",
    "\n",
    "In some languages, you can define a function multiple times, each time with different types of parameters and different number of parameters.  So you could, in such a language, define:\n",
    "\n",
    "- `add` for two strings\n",
    "- `add` for two numbers\n",
    "- `add` for two lists\n",
    "- `add` for three strings\n",
    "- `add` for three numbers\n",
    "\n",
    "etc.\n",
    "\n",
    "Python does *not* support this.  When you define a function, you are defining the only version of that function that exists.  Your definition needs to indicate (in the documentation) how many arguments should be passed, and what types they should be."
   ]
  },
  {
   "cell_type": "code",
   "execution_count": 28,
   "id": "3b115d00",
   "metadata": {},
   "outputs": [
    {
     "data": {
      "text/plain": [
       "7"
      ]
     },
     "execution_count": 28,
     "metadata": {},
     "output_type": "execute_result"
    }
   ],
   "source": [
    "x = 10\n",
    "x = 7\n",
    "\n",
    "# would you expect that Python somehow remembers that x was previously 10? No.\n",
    "\n",
    "x"
   ]
  },
  {
   "cell_type": "code",
   "execution_count": 29,
   "id": "0ff48c75",
   "metadata": {},
   "outputs": [],
   "source": [
    "# functions are assigned to variables\n",
    "# and thus, the most recent definition of a function is the one that sticks around, and is invoked."
   ]
  },
  {
   "cell_type": "markdown",
   "id": "e8eb8d29",
   "metadata": {},
   "source": [
    "# Exercise: `mysum`\n",
    "\n",
    "1. Python comes with a `sum` function, which takes a list or tuple of numbers, and returns the sum of those numbers. \n",
    "2. I want you to write a similar function, `mysum`, which takes a list or tuple of numbers, and prints the sum of those numbers.\n",
    "3. *DO NOT* use `sum` when writing `mysum`.\n",
    "\n",
    "Example:\n",
    "\n",
    "    mysum([10, 20, 30])   # should print 60\n",
    "    mysum((100, 200))     # should print 300\n"
   ]
  },
  {
   "cell_type": "code",
   "execution_count": 30,
   "id": "882bebb7",
   "metadata": {},
   "outputs": [],
   "source": [
    "def mysum(numbers):\n",
    "    total = 0\n",
    "    \n",
    "    for one_number in numbers:\n",
    "        total += one_number\n",
    "        \n",
    "    print(total)"
   ]
  },
  {
   "cell_type": "code",
   "execution_count": 31,
   "id": "465e66e9",
   "metadata": {},
   "outputs": [
    {
     "name": "stdout",
     "output_type": "stream",
     "text": [
      "60\n"
     ]
    }
   ],
   "source": [
    "mysum([10, 20, 30])"
   ]
  },
  {
   "cell_type": "code",
   "execution_count": 32,
   "id": "5c918367",
   "metadata": {},
   "outputs": [
    {
     "name": "stdout",
     "output_type": "stream",
     "text": [
      "1018\n"
     ]
    }
   ],
   "source": [
    "mysum([100, 200, 300, 400, 18])"
   ]
  },
  {
   "cell_type": "code",
   "execution_count": 33,
   "id": "d7b4e0d0",
   "metadata": {},
   "outputs": [
    {
     "ename": "TypeError",
     "evalue": "mysum() missing 1 required positional argument: 'numbers'",
     "output_type": "error",
     "traceback": [
      "\u001b[0;31m---------------------------------------------------------------------------\u001b[0m",
      "\u001b[0;31mTypeError\u001b[0m                                 Traceback (most recent call last)",
      "\u001b[0;32m/var/folders/rr/0mnyyv811fs5vyp22gf4fxk00000gn/T/ipykernel_86208/2216900251.py\u001b[0m in \u001b[0;36m<module>\u001b[0;34m\u001b[0m\n\u001b[0;32m----> 1\u001b[0;31m \u001b[0mmysum\u001b[0m\u001b[0;34m(\u001b[0m\u001b[0;34m)\u001b[0m\u001b[0;34m\u001b[0m\u001b[0;34m\u001b[0m\u001b[0m\n\u001b[0m",
      "\u001b[0;31mTypeError\u001b[0m: mysum() missing 1 required positional argument: 'numbers'"
     ]
    }
   ],
   "source": [
    "mysum()"
   ]
  },
  {
   "cell_type": "markdown",
   "id": "6ce08f99",
   "metadata": {},
   "source": [
    "# Two types of arguments: Positional and keyword\n",
    "\n",
    "When we call a function in Python, we can pass one or more arguments. These arguments are values that are assigned to parameters.\n",
    "\n",
    "How does Python decide which argument should be assigned to which parameter?\n",
    "\n",
    "There are two techniques:\n",
    "\n",
    "1. Positional arguments: The arguments are assigned to parameters based on their *positions*.  The first argument is assigned to the first parameter, the second to the second, etc.\n",
    "2. Keyword arguments: Here, the argument is of the form `name=value`, with an `=` between the name and value. The name must be a parameter name, and Python uses that to make the assignment."
   ]
  },
  {
   "cell_type": "code",
   "execution_count": 34,
   "id": "f60837a5",
   "metadata": {},
   "outputs": [],
   "source": [
    "def add(a, b):\n",
    "    print(a + b)"
   ]
  },
  {
   "cell_type": "code",
   "execution_count": 35,
   "id": "fa62a504",
   "metadata": {},
   "outputs": [
    {
     "name": "stdout",
     "output_type": "stream",
     "text": [
      "13\n"
     ]
    }
   ],
   "source": [
    "# parameters: a  b\n",
    "# arguments:  10 3\n",
    "\n",
    "add(10, 3)   # two positional arguments"
   ]
  },
  {
   "cell_type": "code",
   "execution_count": 36,
   "id": "9e3ae7c0",
   "metadata": {},
   "outputs": [
    {
     "name": "stdout",
     "output_type": "stream",
     "text": [
      "13\n"
     ]
    }
   ],
   "source": [
    "# parameters: a  b\n",
    "# arguments:  10 3\n",
    "\n",
    "add(a=10, b=3)  # keyword arguments"
   ]
  },
  {
   "cell_type": "code",
   "execution_count": 37,
   "id": "722c34a5",
   "metadata": {},
   "outputs": [
    {
     "name": "stdout",
     "output_type": "stream",
     "text": [
      "13\n"
     ]
    }
   ],
   "source": [
    "# parameters: a  b\n",
    "# arguments:   a  10\n",
    "\n",
    "add(b=10, a=3)"
   ]
  },
  {
   "cell_type": "code",
   "execution_count": 38,
   "id": "3ff71429",
   "metadata": {},
   "outputs": [
    {
     "name": "stdout",
     "output_type": "stream",
     "text": [
      "13\n"
     ]
    }
   ],
   "source": [
    "# can you mix positional and keyword arguments? YES, so long as all positional\n",
    "# come before all keyword\n",
    "\n",
    "add(10, b=3)   # positional, then keyword -- that's OK"
   ]
  },
  {
   "cell_type": "code",
   "execution_count": 39,
   "id": "b53c8fa4",
   "metadata": {},
   "outputs": [
    {
     "ename": "SyntaxError",
     "evalue": "positional argument follows keyword argument (2659952914.py, line 1)",
     "output_type": "error",
     "traceback": [
      "\u001b[0;36m  File \u001b[0;32m\"/var/folders/rr/0mnyyv811fs5vyp22gf4fxk00000gn/T/ipykernel_86208/2659952914.py\"\u001b[0;36m, line \u001b[0;32m1\u001b[0m\n\u001b[0;31m    add(a=10, 3)   # keyword, then positional -- not OK!\u001b[0m\n\u001b[0m               ^\u001b[0m\n\u001b[0;31mSyntaxError\u001b[0m\u001b[0;31m:\u001b[0m positional argument follows keyword argument\n"
     ]
    }
   ],
   "source": [
    "add(a=10, 3)   # keyword, then positional -- not OK!"
   ]
  },
  {
   "cell_type": "markdown",
   "id": "77fde4f9",
   "metadata": {},
   "source": [
    "# Next up\n",
    "\n",
    "1. Return values (how does a function \"return\" something to its caller?)\n",
    "2. Default argument values (i.e., making arguments optional)\n"
   ]
  },
  {
   "cell_type": "markdown",
   "id": "f891420f",
   "metadata": {},
   "source": [
    "# Return values\n",
    "\n",
    "When I call a function, the function can print whatever it wants. It can print once, or many times.\n",
    "\n",
    "More important than what a function prints is the value that it \"returns.\"\n",
    "\n",
    "When I call `len('abcd')`, I don't want `len` to print `4` on the screen.  I want it to \"return\" a value that I can then assign to a variable, print, or do something else with.\n",
    "\n",
    "A function can return one value, because a function only returns once.  In assignment, the function call is replaced with its return value.\n",
    "\n",
    "A function can return a value with the `return` statement.  A function can return any type of Python data.  It can even have more than one `return` statement, but only one will ever be executed.  (This is comment in `if/else` blocks, where you return one thing if a condition is true, and another if it's not."
   ]
  },
  {
   "cell_type": "code",
   "execution_count": 40,
   "id": "eab8ac7e",
   "metadata": {},
   "outputs": [],
   "source": [
    "# because len('abcd') returns a value,\n",
    "# I can put it on the right side of assignment\n",
    "\n",
    "x = len('abcd')     # same as x=4, because len('abcd') is replaced by the value 4, its return value."
   ]
  },
  {
   "cell_type": "code",
   "execution_count": 41,
   "id": "4612aab2",
   "metadata": {},
   "outputs": [
    {
     "data": {
      "text/plain": [
       "4"
      ]
     },
     "execution_count": 41,
     "metadata": {},
     "output_type": "execute_result"
    }
   ],
   "source": [
    "x"
   ]
  },
  {
   "cell_type": "code",
   "execution_count": 42,
   "id": "e243ee1a",
   "metadata": {},
   "outputs": [],
   "source": [
    "def hello(name):\n",
    "    return f'Hello, {name}!'"
   ]
  },
  {
   "cell_type": "code",
   "execution_count": 43,
   "id": "7535cc5b",
   "metadata": {},
   "outputs": [],
   "source": [
    "s = hello('Reuven')  "
   ]
  },
  {
   "cell_type": "code",
   "execution_count": 44,
   "id": "72fe5be7",
   "metadata": {},
   "outputs": [
    {
     "data": {
      "text/plain": [
       "'Hello, Reuven!'"
      ]
     },
     "execution_count": 44,
     "metadata": {},
     "output_type": "execute_result"
    }
   ],
   "source": [
    "s"
   ]
  },
  {
   "cell_type": "code",
   "execution_count": 45,
   "id": "b6b5664b",
   "metadata": {},
   "outputs": [
    {
     "name": "stdout",
     "output_type": "stream",
     "text": [
      "Hello, Reuven!\n"
     ]
    }
   ],
   "source": [
    "print(s)"
   ]
  },
  {
   "cell_type": "code",
   "execution_count": 46,
   "id": "f54f898e",
   "metadata": {},
   "outputs": [
    {
     "name": "stdout",
     "output_type": "stream",
     "text": [
      "Hello, Reuven!\n"
     ]
    }
   ],
   "source": [
    "print(hello('Reuven'))"
   ]
  },
  {
   "cell_type": "markdown",
   "id": "c9fb43fb",
   "metadata": {},
   "source": [
    "# `return` vs. `print`\n",
    "\n",
    "If a function prints something on the screen, then that's great for the end user, but not so good for the program -- we cannot capture, assign, or otherwise use that value.\n",
    "\n",
    "But if a function returns a value, then we can decide what to do with it.\n",
    "\n",
    "On balance, a function should use `print` if its job is to print things, or if you're debugging.\n",
    "\n",
    "In all other cases, I suggest using `return`."
   ]
  },
  {
   "cell_type": "code",
   "execution_count": 47,
   "id": "bb0b6a10",
   "metadata": {},
   "outputs": [],
   "source": [
    "def div(first, second):\n",
    "    if second != 0:\n",
    "        return first / second\n",
    "    else:\n",
    "        return 'You cannot divide by zero!'"
   ]
  },
  {
   "cell_type": "code",
   "execution_count": 48,
   "id": "bd88b795",
   "metadata": {},
   "outputs": [
    {
     "data": {
      "text/plain": [
       "5.0"
      ]
     },
     "execution_count": 48,
     "metadata": {},
     "output_type": "execute_result"
    }
   ],
   "source": [
    "div(10, 2)"
   ]
  },
  {
   "cell_type": "code",
   "execution_count": 49,
   "id": "fb1b5cb7",
   "metadata": {},
   "outputs": [
    {
     "data": {
      "text/plain": [
       "'You cannot divide by zero!'"
      ]
     },
     "execution_count": 49,
     "metadata": {},
     "output_type": "execute_result"
    }
   ],
   "source": [
    "div(10, 0)"
   ]
  },
  {
   "cell_type": "markdown",
   "id": "46488426",
   "metadata": {},
   "source": [
    "# Every function returns a value\n",
    "\n",
    "Even if you don't use `return` in a function, it'll still return a value when it's over. That's because Python functions return the special value `None` when you don't explicitly say what to return.\n",
    "\n"
   ]
  },
  {
   "cell_type": "markdown",
   "id": "9d0afc28",
   "metadata": {},
   "source": [
    "# Exercise: min and max\n",
    "\n",
    "1. Write a function, `min_and_max`, that takes a list of numbers as an argument.\n",
    "2. The output from the function will be a two-element list, in which the first is the smallest number in the input, and the second is the largest number in the input.\n",
    "3. Return this list from the function.\n",
    "\n",
    "```python\n",
    "min_and_max([100, 50, 75, 20, 80])   # [20, 100]\n",
    "min_and_max([5])                     # [5, 5]\n",
    "```\n",
    "\n",
    "There are `min` and `max` functions in Python. Don't use them! Instead, use a `for` loop to iterate over the input list/tuple."
   ]
  },
  {
   "cell_type": "code",
   "execution_count": 50,
   "id": "0f74f916",
   "metadata": {},
   "outputs": [],
   "source": [
    "def min_and_max(numbers):\n",
    "    smallest = numbers[0]   # assume the first number is the smallest\n",
    "    biggest = numbers[0]    # assume the first number is the biggest\n",
    "    \n",
    "    for one_number in numbers:\n",
    "        if one_number < smallest:\n",
    "            smallest = one_number\n",
    "        if one_number > biggest:\n",
    "            biggest = one_number\n",
    "            \n",
    "    return [smallest, biggest]"
   ]
  },
  {
   "cell_type": "code",
   "execution_count": 51,
   "id": "849cb63c",
   "metadata": {},
   "outputs": [
    {
     "data": {
      "text/plain": [
       "[20, 100]"
      ]
     },
     "execution_count": 51,
     "metadata": {},
     "output_type": "execute_result"
    }
   ],
   "source": [
    "min_and_max([100, 50, 75, 20, 80])"
   ]
  },
  {
   "cell_type": "code",
   "execution_count": 52,
   "id": "883dbdf7",
   "metadata": {},
   "outputs": [
    {
     "data": {
      "text/plain": [
       "[5, 5]"
      ]
     },
     "execution_count": 52,
     "metadata": {},
     "output_type": "execute_result"
    }
   ],
   "source": [
    "min_and_max([5])"
   ]
  },
  {
   "cell_type": "code",
   "execution_count": 53,
   "id": "b6032836",
   "metadata": {},
   "outputs": [
    {
     "data": {
      "text/plain": [
       "['I', 'using']"
      ]
     },
     "execution_count": 53,
     "metadata": {},
     "output_type": "execute_result"
    }
   ],
   "source": [
    "# where in min_and_max do we mention numbers?\n",
    "# we don't! We're just comparing < and >\n",
    "# what if I were to find, in a given list of strings, the first and last words, alphabetically?\n",
    "\n",
    "min_and_max('this is a test sentence that I am using for my function'.split())"
   ]
  },
  {
   "cell_type": "code",
   "execution_count": 56,
   "id": "7581c3f3",
   "metadata": {},
   "outputs": [],
   "source": [
    "# can I use my existing function in a new function? YES!\n",
    "# can I write a function that gets the first and last words (alphabetically) in a file?  YES!\n",
    "\n",
    "def first_last_words_from_file(filename):     # find the first and last (alphabetically) words in a file\n",
    "\n",
    "    # create a list of all words from the file\n",
    "    words = []\n",
    "    for one_line in open(filename):\n",
    "        words += one_line.split()\n",
    "        \n",
    "    # now, words contains a list of strings -- all words in the file\n",
    "    return min_and_max(words)\n"
   ]
  },
  {
   "cell_type": "code",
   "execution_count": 54,
   "id": "7c100f88",
   "metadata": {},
   "outputs": [
    {
     "name": "stdout",
     "output_type": "stream",
     "text": [
      "config.txt\t      mini-access-log.txt  nums.txt\t  wcfile.txt\r\n",
      "linux-etc-passwd.txt  myfile.txt\t   shoe-data.txt\r\n"
     ]
    }
   ],
   "source": [
    "!ls *.txt"
   ]
  },
  {
   "cell_type": "code",
   "execution_count": 55,
   "id": "e1321f13",
   "metadata": {},
   "outputs": [
    {
     "name": "stdout",
     "output_type": "stream",
     "text": [
      "This is a test file.\r\n",
      "\r\n",
      "It contains 28 words and 20 different words.\r\n",
      "\r\n",
      "It also contains 165 characters.\r\n",
      "\r\n",
      "It also contains 11 lines.\r\n",
      "\r\n",
      "It is also self-referential.\r\n",
      "\r\n",
      "Wow!\r\n"
     ]
    }
   ],
   "source": [
    "!cat wcfile.txt"
   ]
  },
  {
   "cell_type": "code",
   "execution_count": 57,
   "id": "14d2c01c",
   "metadata": {},
   "outputs": [
    {
     "data": {
      "text/plain": [
       "['11', 'words.']"
      ]
     },
     "execution_count": 57,
     "metadata": {},
     "output_type": "execute_result"
    }
   ],
   "source": [
    "first_last_words_from_file('wcfile.txt')"
   ]
  },
  {
   "cell_type": "code",
   "execution_count": 58,
   "id": "8b4ed1e6",
   "metadata": {},
   "outputs": [
    {
     "data": {
      "text/plain": [
       "[10, 10]"
      ]
     },
     "execution_count": 58,
     "metadata": {},
     "output_type": "execute_result"
    }
   ],
   "source": [
    "min_and_max([10])"
   ]
  },
  {
   "cell_type": "code",
   "execution_count": 59,
   "id": "51ed3d46",
   "metadata": {},
   "outputs": [
    {
     "ename": "TypeError",
     "evalue": "'int' object is not subscriptable",
     "output_type": "error",
     "traceback": [
      "\u001b[0;31m---------------------------------------------------------------------------\u001b[0m",
      "\u001b[0;31mTypeError\u001b[0m                                 Traceback (most recent call last)",
      "\u001b[0;32m/var/folders/rr/0mnyyv811fs5vyp22gf4fxk00000gn/T/ipykernel_86208/3395039632.py\u001b[0m in \u001b[0;36m<module>\u001b[0;34m\u001b[0m\n\u001b[0;32m----> 1\u001b[0;31m \u001b[0mmin_and_max\u001b[0m\u001b[0;34m(\u001b[0m\u001b[0;36m10\u001b[0m\u001b[0;34m)\u001b[0m\u001b[0;34m\u001b[0m\u001b[0;34m\u001b[0m\u001b[0m\n\u001b[0m",
      "\u001b[0;32m/var/folders/rr/0mnyyv811fs5vyp22gf4fxk00000gn/T/ipykernel_86208/203511397.py\u001b[0m in \u001b[0;36mmin_and_max\u001b[0;34m(numbers)\u001b[0m\n\u001b[1;32m      1\u001b[0m \u001b[0;32mdef\u001b[0m \u001b[0mmin_and_max\u001b[0m\u001b[0;34m(\u001b[0m\u001b[0mnumbers\u001b[0m\u001b[0;34m)\u001b[0m\u001b[0;34m:\u001b[0m\u001b[0;34m\u001b[0m\u001b[0;34m\u001b[0m\u001b[0m\n\u001b[0;32m----> 2\u001b[0;31m     \u001b[0msmallest\u001b[0m \u001b[0;34m=\u001b[0m \u001b[0mnumbers\u001b[0m\u001b[0;34m[\u001b[0m\u001b[0;36m0\u001b[0m\u001b[0;34m]\u001b[0m   \u001b[0;31m# assume the first number is the smallest\u001b[0m\u001b[0;34m\u001b[0m\u001b[0;34m\u001b[0m\u001b[0m\n\u001b[0m\u001b[1;32m      3\u001b[0m     \u001b[0mbiggest\u001b[0m \u001b[0;34m=\u001b[0m \u001b[0mnumbers\u001b[0m\u001b[0;34m[\u001b[0m\u001b[0;36m0\u001b[0m\u001b[0;34m]\u001b[0m    \u001b[0;31m# assume the first number is the biggest\u001b[0m\u001b[0;34m\u001b[0m\u001b[0;34m\u001b[0m\u001b[0m\n\u001b[1;32m      4\u001b[0m \u001b[0;34m\u001b[0m\u001b[0m\n\u001b[1;32m      5\u001b[0m     \u001b[0;32mfor\u001b[0m \u001b[0mone_number\u001b[0m \u001b[0;32min\u001b[0m \u001b[0mnumbers\u001b[0m\u001b[0;34m:\u001b[0m\u001b[0;34m\u001b[0m\u001b[0;34m\u001b[0m\u001b[0m\n",
      "\u001b[0;31mTypeError\u001b[0m: 'int' object is not subscriptable"
     ]
    }
   ],
   "source": [
    "min_and_max(10)"
   ]
  },
  {
   "cell_type": "code",
   "execution_count": 60,
   "id": "3be0797b",
   "metadata": {},
   "outputs": [],
   "source": [
    "def add(first, second):\n",
    "    return first + second"
   ]
  },
  {
   "cell_type": "code",
   "execution_count": 61,
   "id": "ff837efc",
   "metadata": {},
   "outputs": [
    {
     "data": {
      "text/plain": [
       "13"
      ]
     },
     "execution_count": 61,
     "metadata": {},
     "output_type": "execute_result"
    }
   ],
   "source": [
    "add(10, 3)"
   ]
  },
  {
   "cell_type": "code",
   "execution_count": 63,
   "id": "9174e9dd",
   "metadata": {},
   "outputs": [
    {
     "ename": "TypeError",
     "evalue": "add() missing 1 required positional argument: 'second'",
     "output_type": "error",
     "traceback": [
      "\u001b[0;31m---------------------------------------------------------------------------\u001b[0m",
      "\u001b[0;31mTypeError\u001b[0m                                 Traceback (most recent call last)",
      "\u001b[0;32m/var/folders/rr/0mnyyv811fs5vyp22gf4fxk00000gn/T/ipykernel_86208/2138195058.py\u001b[0m in \u001b[0;36m<module>\u001b[0;34m\u001b[0m\n\u001b[1;32m      1\u001b[0m \u001b[0;31m# what if I call add with just one argument\u001b[0m\u001b[0;34m\u001b[0m\u001b[0;34m\u001b[0m\u001b[0m\n\u001b[0;32m----> 2\u001b[0;31m \u001b[0madd\u001b[0m\u001b[0;34m(\u001b[0m\u001b[0;36m10\u001b[0m\u001b[0;34m)\u001b[0m\u001b[0;34m\u001b[0m\u001b[0;34m\u001b[0m\u001b[0m\n\u001b[0m",
      "\u001b[0;31mTypeError\u001b[0m: add() missing 1 required positional argument: 'second'"
     ]
    }
   ],
   "source": [
    "# what if I call add with just one argument\n",
    "add(10)"
   ]
  },
  {
   "cell_type": "code",
   "execution_count": 64,
   "id": "202ce931",
   "metadata": {},
   "outputs": [],
   "source": [
    "# I can tell Python to have a default argument value for second\n",
    "# that effectively makes second optional\n",
    "\n",
    "def add(first, second=3):    # here, we've specified that second's default value is 3\n",
    "    return first + second"
   ]
  },
  {
   "cell_type": "code",
   "execution_count": 65,
   "id": "264302b1",
   "metadata": {},
   "outputs": [
    {
     "data": {
      "text/plain": [
       "12"
      ]
     },
     "execution_count": 65,
     "metadata": {},
     "output_type": "execute_result"
    }
   ],
   "source": [
    "# parameters: first  second\n",
    "# arguments    10     2\n",
    "\n",
    "add(10, 2)  "
   ]
  },
  {
   "cell_type": "code",
   "execution_count": 66,
   "id": "9085293a",
   "metadata": {},
   "outputs": [
    {
     "data": {
      "text/plain": [
       "13"
      ]
     },
     "execution_count": 66,
     "metadata": {},
     "output_type": "execute_result"
    }
   ],
   "source": [
    "# parameters: first second\n",
    "# arguments:   10     3\n",
    "\n",
    "add(10)"
   ]
  },
  {
   "cell_type": "markdown",
   "id": "43e0baf3",
   "metadata": {},
   "source": [
    "# Default parameter values\n",
    "\n",
    "1. Any parameter in a Python function can have a default value. This value is assigned if, when calling the function, you don't provide an argument for this parameter.\n",
    "2. Just as when we call functions, positional arguments must all come before keyword arguments, so too must all mandatory parameters (i.e., those without defaults) come before optional ones (i.e., those with defaults).\n",
    "3. Don't use mutable values (e.g., lists and dicts) as defaults."
   ]
  },
  {
   "cell_type": "code",
   "execution_count": 67,
   "id": "e29a5fe6",
   "metadata": {},
   "outputs": [],
   "source": [
    "def add(first=2, second=3):\n",
    "    return first + second"
   ]
  },
  {
   "cell_type": "code",
   "execution_count": 68,
   "id": "6afd7351",
   "metadata": {},
   "outputs": [
    {
     "data": {
      "text/plain": [
       "5"
      ]
     },
     "execution_count": 68,
     "metadata": {},
     "output_type": "execute_result"
    }
   ],
   "source": [
    "add()"
   ]
  },
  {
   "cell_type": "code",
   "execution_count": 69,
   "id": "397d24fe",
   "metadata": {},
   "outputs": [
    {
     "data": {
      "text/plain": [
       "13"
      ]
     },
     "execution_count": 69,
     "metadata": {},
     "output_type": "execute_result"
    }
   ],
   "source": [
    "add(10)"
   ]
  },
  {
   "cell_type": "code",
   "execution_count": 70,
   "id": "18de9d10",
   "metadata": {},
   "outputs": [
    {
     "data": {
      "text/plain": [
       "12"
      ]
     },
     "execution_count": 70,
     "metadata": {},
     "output_type": "execute_result"
    }
   ],
   "source": [
    "add(second=10)"
   ]
  },
  {
   "cell_type": "code",
   "execution_count": 71,
   "id": "42e25354",
   "metadata": {},
   "outputs": [
    {
     "data": {
      "text/plain": [
       "13"
      ]
     },
     "execution_count": 71,
     "metadata": {},
     "output_type": "execute_result"
    }
   ],
   "source": [
    "add(3, second=10)"
   ]
  },
  {
   "cell_type": "code",
   "execution_count": 72,
   "id": "e70618d2",
   "metadata": {},
   "outputs": [
    {
     "ename": "SyntaxError",
     "evalue": "positional argument follows keyword argument (2601075463.py, line 1)",
     "output_type": "error",
     "traceback": [
      "\u001b[0;36m  File \u001b[0;32m\"/var/folders/rr/0mnyyv811fs5vyp22gf4fxk00000gn/T/ipykernel_86208/2601075463.py\"\u001b[0;36m, line \u001b[0;32m1\u001b[0m\n\u001b[0;31m    add(first=3, 10)\u001b[0m\n\u001b[0m                   ^\u001b[0m\n\u001b[0;31mSyntaxError\u001b[0m\u001b[0;31m:\u001b[0m positional argument follows keyword argument\n"
     ]
    }
   ],
   "source": [
    "add(first=3, 10)"
   ]
  },
  {
   "cell_type": "code",
   "execution_count": 73,
   "id": "6ef03fc4",
   "metadata": {},
   "outputs": [
    {
     "ename": "SyntaxError",
     "evalue": "non-default argument follows default argument (2621524490.py, line 1)",
     "output_type": "error",
     "traceback": [
      "\u001b[0;36m  File \u001b[0;32m\"/var/folders/rr/0mnyyv811fs5vyp22gf4fxk00000gn/T/ipykernel_86208/2621524490.py\"\u001b[0;36m, line \u001b[0;32m1\u001b[0m\n\u001b[0;31m    def add(first=2, second):\u001b[0m\n\u001b[0m                     ^\u001b[0m\n\u001b[0;31mSyntaxError\u001b[0m\u001b[0;31m:\u001b[0m non-default argument follows default argument\n"
     ]
    }
   ],
   "source": [
    "def add(first=2, second):\n",
    "    return first + second"
   ]
  },
  {
   "cell_type": "markdown",
   "id": "166412fc",
   "metadata": {},
   "source": [
    "# Exercise: Count characters\n",
    "\n",
    "1. Write a function, `count_characters`, that takes two arguments:\n",
    "    - The name of the file you want to read from\n",
    "    - A string indicating which characters you want to count.  The default will be vowels (a, e, i, o, and u).\n",
    "2. The function should return an integer, the number of times the specified characters appeared in the file.\n",
    "\n",
    "Example:\n",
    "\n",
    "    count_characters('/etc/passwd', 'aeiou')   # how many vowels are in the file?\n",
    "    count_characters('wcfile.txt', '!?.')      # how many end-of-sentence punctuation marks are there?\n",
    "    "
   ]
  },
  {
   "cell_type": "code",
   "execution_count": 74,
   "id": "b233779c",
   "metadata": {},
   "outputs": [],
   "source": [
    "def count_characters(filename):\n",
    "    total = 0\n",
    "    \n",
    "    for one_line in open(filename):\n",
    "        for one_character in one_line.lower():\n",
    "            if one_character in 'aeiou':\n",
    "                total += 1\n",
    "                \n",
    "    return total"
   ]
  },
  {
   "cell_type": "code",
   "execution_count": 75,
   "id": "76fb1173",
   "metadata": {},
   "outputs": [
    {
     "data": {
      "text/plain": [
       "44"
      ]
     },
     "execution_count": 75,
     "metadata": {},
     "output_type": "execute_result"
    }
   ],
   "source": [
    "# count the vowels\n",
    "count_characters('wcfile.txt')"
   ]
  },
  {
   "cell_type": "code",
   "execution_count": 76,
   "id": "4c8955f7",
   "metadata": {},
   "outputs": [],
   "source": [
    "def count_characters(filename, chars):\n",
    "    total = 0\n",
    "    \n",
    "    for one_line in open(filename):\n",
    "        for one_character in one_line.lower():\n",
    "            if one_character in chars:\n",
    "                total += 1\n",
    "                \n",
    "    return total"
   ]
  },
  {
   "cell_type": "code",
   "execution_count": 78,
   "id": "36d127b8",
   "metadata": {},
   "outputs": [
    {
     "data": {
      "text/plain": [
       "44"
      ]
     },
     "execution_count": 78,
     "metadata": {},
     "output_type": "execute_result"
    }
   ],
   "source": [
    "# count the character in the 2nd argument, which happens to be 'aeiou'\n",
    "count_characters('wcfile.txt', 'aeiou')"
   ]
  },
  {
   "cell_type": "code",
   "execution_count": 79,
   "id": "e71df33d",
   "metadata": {},
   "outputs": [
    {
     "data": {
      "text/plain": [
       "6"
      ]
     },
     "execution_count": 79,
     "metadata": {},
     "output_type": "execute_result"
    }
   ],
   "source": [
    "count_characters('wcfile.txt', '!?.')"
   ]
  },
  {
   "cell_type": "code",
   "execution_count": 80,
   "id": "45c82eff",
   "metadata": {},
   "outputs": [
    {
     "ename": "TypeError",
     "evalue": "count_characters() missing 1 required positional argument: 'chars'",
     "output_type": "error",
     "traceback": [
      "\u001b[0;31m---------------------------------------------------------------------------\u001b[0m",
      "\u001b[0;31mTypeError\u001b[0m                                 Traceback (most recent call last)",
      "\u001b[0;32m/var/folders/rr/0mnyyv811fs5vyp22gf4fxk00000gn/T/ipykernel_86208/881896316.py\u001b[0m in \u001b[0;36m<module>\u001b[0;34m\u001b[0m\n\u001b[0;32m----> 1\u001b[0;31m \u001b[0mcount_characters\u001b[0m\u001b[0;34m(\u001b[0m\u001b[0;34m'wcfile.txt'\u001b[0m\u001b[0;34m)\u001b[0m\u001b[0;34m\u001b[0m\u001b[0;34m\u001b[0m\u001b[0m\n\u001b[0m",
      "\u001b[0;31mTypeError\u001b[0m: count_characters() missing 1 required positional argument: 'chars'"
     ]
    }
   ],
   "source": [
    "count_characters('wcfile.txt')"
   ]
  },
  {
   "cell_type": "code",
   "execution_count": 81,
   "id": "334077f4",
   "metadata": {},
   "outputs": [],
   "source": [
    "# now our function has a default value of 'aeiou', for chars\n",
    "\n",
    "def count_characters(filename, chars='aeiou'):\n",
    "    total = 0\n",
    "    \n",
    "    for one_line in open(filename):\n",
    "        for one_character in one_line.lower():\n",
    "            if one_character in chars:\n",
    "                total += 1\n",
    "                \n",
    "    return total"
   ]
  },
  {
   "cell_type": "code",
   "execution_count": 82,
   "id": "afbc39ad",
   "metadata": {},
   "outputs": [
    {
     "data": {
      "text/plain": [
       "6"
      ]
     },
     "execution_count": 82,
     "metadata": {},
     "output_type": "execute_result"
    }
   ],
   "source": [
    "count_characters('wcfile.txt', '!?.')"
   ]
  },
  {
   "cell_type": "code",
   "execution_count": 83,
   "id": "1f38bd9e",
   "metadata": {},
   "outputs": [
    {
     "data": {
      "text/plain": [
       "44"
      ]
     },
     "execution_count": 83,
     "metadata": {},
     "output_type": "execute_result"
    }
   ],
   "source": [
    "count_characters('wcfile.txt')  # now it'll look for vowels"
   ]
  },
  {
   "cell_type": "code",
   "execution_count": 84,
   "id": "b058e10b",
   "metadata": {},
   "outputs": [
    {
     "data": {
      "text/plain": [
       "['ab', 'cd:ef', 'gh']"
      ]
     },
     "execution_count": 84,
     "metadata": {},
     "output_type": "execute_result"
    }
   ],
   "source": [
    "# split has a default!\n",
    "\n",
    "s = 'ab cd:ef gh'\n",
    "\n",
    "s.split(' ')"
   ]
  },
  {
   "cell_type": "code",
   "execution_count": 85,
   "id": "d5a93f87",
   "metadata": {},
   "outputs": [
    {
     "data": {
      "text/plain": [
       "['ab cd', 'ef gh']"
      ]
     },
     "execution_count": 85,
     "metadata": {},
     "output_type": "execute_result"
    }
   ],
   "source": [
    "s.split(':')"
   ]
  },
  {
   "cell_type": "code",
   "execution_count": 86,
   "id": "1e6d59c8",
   "metadata": {},
   "outputs": [
    {
     "data": {
      "text/plain": [
       "['ab', 'cd:ef', 'gh']"
      ]
     },
     "execution_count": 86,
     "metadata": {},
     "output_type": "execute_result"
    }
   ],
   "source": [
    "s.split()   # look -- no argument at all!"
   ]
  },
  {
   "cell_type": "code",
   "execution_count": 87,
   "id": "73ac9542",
   "metadata": {},
   "outputs": [
    {
     "name": "stdout",
     "output_type": "stream",
     "text": [
      "Help on built-in function split:\n",
      "\n",
      "split(sep=None, maxsplit=-1) method of builtins.str instance\n",
      "    Return a list of the words in the string, using sep as the delimiter string.\n",
      "    \n",
      "    sep\n",
      "      The delimiter according which to split the string.\n",
      "      None (the default value) means split according to any whitespace,\n",
      "      and discard empty strings from the result.\n",
      "    maxsplit\n",
      "      Maximum number of splits to do.\n",
      "      -1 (the default value) means no limit.\n",
      "\n"
     ]
    }
   ],
   "source": [
    "help(s.split)   # what is this function's signature and documentation?"
   ]
  },
  {
   "cell_type": "code",
   "execution_count": 90,
   "id": "2a0e2da2",
   "metadata": {},
   "outputs": [],
   "source": [
    "# let's change the function, so that if we don't specify characters,\n",
    "# it counts *all* characters\n",
    "\n",
    "# I'd suggest using None here\n",
    "\n",
    "def count_characters(filename, chars=None):\n",
    "    total = 0\n",
    "    \n",
    "    for one_line in open(filename):\n",
    "        for one_character in one_line.lower():\n",
    "\n",
    "            if chars == None:\n",
    "                total += 1\n",
    "\n",
    "            elif one_character in chars:\n",
    "                total += 1\n",
    "\n",
    "    return total"
   ]
  },
  {
   "cell_type": "code",
   "execution_count": 91,
   "id": "4c9ffb22",
   "metadata": {},
   "outputs": [
    {
     "data": {
      "text/plain": [
       "165"
      ]
     },
     "execution_count": 91,
     "metadata": {},
     "output_type": "execute_result"
    }
   ],
   "source": [
    "count_characters('wcfile.txt')"
   ]
  },
  {
   "cell_type": "code",
   "execution_count": 92,
   "id": "14b07229",
   "metadata": {},
   "outputs": [
    {
     "data": {
      "text/plain": [
       "44"
      ]
     },
     "execution_count": 92,
     "metadata": {},
     "output_type": "execute_result"
    }
   ],
   "source": [
    "count_characters('wcfile.txt', 'aeiou')"
   ]
  },
  {
   "cell_type": "code",
   "execution_count": 93,
   "id": "51432b4e",
   "metadata": {},
   "outputs": [
    {
     "data": {
      "text/plain": [
       "6"
      ]
     },
     "execution_count": 93,
     "metadata": {},
     "output_type": "execute_result"
    }
   ],
   "source": [
    "count_characters('wcfile.txt', '!?.')"
   ]
  },
  {
   "cell_type": "code",
   "execution_count": 94,
   "id": "93f5c26e",
   "metadata": {},
   "outputs": [
    {
     "data": {
      "text/plain": [
       "['this', 'is', 'a', 'bunch', 'of', 'words']"
      ]
     },
     "execution_count": 94,
     "metadata": {},
     "output_type": "execute_result"
    }
   ],
   "source": [
    "s = 'this is a bunch of words'\n",
    "\n",
    "s.split()"
   ]
  },
  {
   "cell_type": "code",
   "execution_count": 96,
   "id": "fdfbd0da",
   "metadata": {},
   "outputs": [
    {
     "data": {
      "text/plain": [
       "['this', 'is', 'a', 'bunch of words']"
      ]
     },
     "execution_count": 96,
     "metadata": {},
     "output_type": "execute_result"
    }
   ],
   "source": [
    "# I can use the \"maxsplit\" parameter to limit the number of times we cut\n",
    "s.split(maxsplit=3)"
   ]
  },
  {
   "cell_type": "markdown",
   "id": "9940e455",
   "metadata": {},
   "source": [
    "# How are people supposed to know how many arguments to pass?\n",
    "\n",
    "If you're using PyCharm or VSCode, it'll give you some hints/warnings if you try to call a function with the wrong number of arguments. \n",
    "\n",
    "In general, though, Python assumes that people will read the documentation.  That's great, but (a) how do I read it, and (b) how can I write it?\n",
    "\n",
    "Python solves this with \"docstrings.\"  If the first line of a function is a string, then that is the documentation for the function, telling people how to invoke it.   This is *not* the same thing as a comment in the code! Comments are meant for maintainers, while docstrings are meant for users."
   ]
  },
  {
   "cell_type": "code",
   "execution_count": 99,
   "id": "8de498af",
   "metadata": {},
   "outputs": [],
   "source": [
    "def hello(name):\n",
    "    \"\"\"A friendly function.\n",
    "    \n",
    "    Expects: A string\n",
    "    Modifies: Nothing\n",
    "    Returns: A friendly string with the user's name\n",
    "    \"\"\"\n",
    "    return f'Hello, {name}!'"
   ]
  },
  {
   "cell_type": "code",
   "execution_count": 100,
   "id": "1cd4291e",
   "metadata": {},
   "outputs": [
    {
     "name": "stdout",
     "output_type": "stream",
     "text": [
      "Help on function hello in module __main__:\n",
      "\n",
      "hello(name)\n",
      "    A friendly function.\n",
      "    \n",
      "    Expects: A string\n",
      "    Modifies: Nothing\n",
      "    Returns: A friendly string with the user's name\n",
      "\n"
     ]
    }
   ],
   "source": [
    "help(hello)  # In Jupyter, I can use \"help\" on a function to get info about it"
   ]
  },
  {
   "cell_type": "code",
   "execution_count": 101,
   "id": "144f5e2f",
   "metadata": {},
   "outputs": [],
   "source": [
    "def myfunc():\n",
    "    return(5)"
   ]
  },
  {
   "cell_type": "code",
   "execution_count": 102,
   "id": "472a8862",
   "metadata": {},
   "outputs": [
    {
     "data": {
      "text/plain": [
       "5"
      ]
     },
     "execution_count": 102,
     "metadata": {},
     "output_type": "execute_result"
    }
   ],
   "source": [
    "myfunc()"
   ]
  },
  {
   "cell_type": "markdown",
   "id": "b34e252d",
   "metadata": {},
   "source": [
    "# Next up\n",
    "\n",
    "1. Mutable defaults -- a bad idea\n",
    "2. Complex return values (returning more than one thing?)\n",
    "3. Unpacking in general, and with function return values\n",
    "4. Scoping (local vs. global variables)"
   ]
  },
  {
   "cell_type": "markdown",
   "id": "f529cf65",
   "metadata": {},
   "source": [
    "# Mutable vs. immutable\n",
    "\n",
    "Mutable values can be changed.  For example, lists can be modified.  Strings cannot be modified."
   ]
  },
  {
   "cell_type": "code",
   "execution_count": 103,
   "id": "b73029f1",
   "metadata": {},
   "outputs": [
    {
     "data": {
      "text/plain": [
       "['!', 20, 30]"
      ]
     },
     "execution_count": 103,
     "metadata": {},
     "output_type": "execute_result"
    }
   ],
   "source": [
    "mylist = [10, 20, 30]\n",
    "mylist[0] = '!'   # I've changed mylist\n",
    "mylist"
   ]
  },
  {
   "cell_type": "code",
   "execution_count": 104,
   "id": "6c9b5c29",
   "metadata": {},
   "outputs": [
    {
     "data": {
      "text/plain": [
       "['!', 20, 30, 40]"
      ]
     },
     "execution_count": 104,
     "metadata": {},
     "output_type": "execute_result"
    }
   ],
   "source": [
    "mylist.append(40)    # I've changed mylist -- I made it longer\n",
    "mylist"
   ]
  },
  {
   "cell_type": "code",
   "execution_count": 105,
   "id": "bc1f1f2f",
   "metadata": {},
   "outputs": [
    {
     "ename": "TypeError",
     "evalue": "'str' object does not support item assignment",
     "output_type": "error",
     "traceback": [
      "\u001b[0;31m---------------------------------------------------------------------------\u001b[0m",
      "\u001b[0;31mTypeError\u001b[0m                                 Traceback (most recent call last)",
      "\u001b[0;32m/var/folders/rr/0mnyyv811fs5vyp22gf4fxk00000gn/T/ipykernel_86208/2784001332.py\u001b[0m in \u001b[0;36m<module>\u001b[0;34m\u001b[0m\n\u001b[1;32m      1\u001b[0m \u001b[0ms\u001b[0m \u001b[0;34m=\u001b[0m \u001b[0;34m'abcd'\u001b[0m\u001b[0;34m\u001b[0m\u001b[0;34m\u001b[0m\u001b[0m\n\u001b[0;32m----> 2\u001b[0;31m \u001b[0ms\u001b[0m\u001b[0;34m[\u001b[0m\u001b[0;36m0\u001b[0m\u001b[0;34m]\u001b[0m \u001b[0;34m=\u001b[0m \u001b[0;34m'!'\u001b[0m  \u001b[0;31m# I cannot change s!\u001b[0m\u001b[0;34m\u001b[0m\u001b[0;34m\u001b[0m\u001b[0m\n\u001b[0m",
      "\u001b[0;31mTypeError\u001b[0m: 'str' object does not support item assignment"
     ]
    }
   ],
   "source": [
    "s = 'abcd'\n",
    "s[0] = '!'  # I cannot change s!"
   ]
  },
  {
   "cell_type": "markdown",
   "id": "bbb8c5ba",
   "metadata": {},
   "source": [
    "# Mutable vs. immutable defaults\n",
    "\n",
    "Python will allow you to use any value you want as a default to a function parameter.  However, it's a really bad idea to use a mutable value, such as a list or a dictionary.\n",
    "\n",
    "Stick to immutable values, such as `None`, integers, floats, strings, or even (sometimes) tuples, as your defaults to avoid problems."
   ]
  },
  {
   "cell_type": "code",
   "execution_count": 106,
   "id": "686a4dc3",
   "metadata": {},
   "outputs": [
    {
     "data": {
      "text/plain": [
       "[1]"
      ]
     },
     "execution_count": 106,
     "metadata": {},
     "output_type": "execute_result"
    }
   ],
   "source": [
    "\n",
    "def add_one(x=[]):\n",
    "    x.append(1)\n",
    "    return x\n",
    "\n",
    "# when I call this function without any arguments, what do I get back?\n",
    "\n",
    "# parameters: x\n",
    "# arguments: []\n",
    "\n",
    "add_one()"
   ]
  },
  {
   "cell_type": "code",
   "execution_count": 107,
   "id": "dc4b01e1",
   "metadata": {},
   "outputs": [
    {
     "data": {
      "text/plain": [
       "([1],)"
      ]
     },
     "execution_count": 107,
     "metadata": {},
     "output_type": "execute_result"
    }
   ],
   "source": [
    "add_one.__defaults__   # this is where defaults are stored!"
   ]
  },
  {
   "cell_type": "code",
   "execution_count": 108,
   "id": "0fc6b91a",
   "metadata": {},
   "outputs": [
    {
     "data": {
      "text/plain": [
       "[1, 1]"
      ]
     },
     "execution_count": 108,
     "metadata": {},
     "output_type": "execute_result"
    }
   ],
   "source": [
    "add_one()"
   ]
  },
  {
   "cell_type": "code",
   "execution_count": 109,
   "id": "2b1db21d",
   "metadata": {},
   "outputs": [
    {
     "data": {
      "text/plain": [
       "[1, 1, 1]"
      ]
     },
     "execution_count": 109,
     "metadata": {},
     "output_type": "execute_result"
    }
   ],
   "source": [
    "add_one()"
   ]
  },
  {
   "cell_type": "markdown",
   "id": "b53d100c",
   "metadata": {},
   "source": [
    "# Mutable defaults are dangerous\n",
    "\n",
    "If you have a mutable default in your function, and you modify that mutable default value, the change will stick around in future calls to the function.\n",
    "\n",
    "This is almost certainly a terrible, terrible thing that is hard to understand and debug.\n",
    "\n",
    "Try to avoid it as much as possible.  PyCharm and VSCode will both warn you if you have a mutable default."
   ]
  },
  {
   "cell_type": "markdown",
   "id": "8f624ddf",
   "metadata": {},
   "source": [
    "# Return values\n",
    "\n",
    "In my function, I can use `return` to return any value that I want.  Usually, I'll want to return something that reflects what the function has done."
   ]
  },
  {
   "cell_type": "code",
   "execution_count": 110,
   "id": "248fcd2e",
   "metadata": {},
   "outputs": [],
   "source": [
    "def count_vowels(s):\n",
    "    total = 0\n",
    "    \n",
    "    for one_character in s.lower():\n",
    "        if one_character in 'aeiou':\n",
    "            total += 1\n",
    "            \n",
    "    return total"
   ]
  },
  {
   "cell_type": "code",
   "execution_count": 111,
   "id": "ad3b5fb4",
   "metadata": {},
   "outputs": [
    {
     "data": {
      "text/plain": [
       "6"
      ]
     },
     "execution_count": 111,
     "metadata": {},
     "output_type": "execute_result"
    }
   ],
   "source": [
    "count_vowels('hello out there')"
   ]
  },
  {
   "cell_type": "code",
   "execution_count": 112,
   "id": "e6853dcd",
   "metadata": {},
   "outputs": [],
   "source": [
    "# can I return something more sophisticated?  Yes!\n",
    "# I can return a list\n",
    "\n",
    "def numbers_less_than(numbers, threshold):\n",
    "    output = []\n",
    "    \n",
    "    for one_number in numbers:\n",
    "        if one_number < threshold:\n",
    "            output.append(one_number)\n",
    "            \n",
    "    return output"
   ]
  },
  {
   "cell_type": "code",
   "execution_count": 113,
   "id": "7c0b4b8c",
   "metadata": {},
   "outputs": [
    {
     "data": {
      "text/plain": [
       "[10, 20, 30]"
      ]
     },
     "execution_count": 113,
     "metadata": {},
     "output_type": "execute_result"
    }
   ],
   "source": [
    "numbers_less_than([10, 20, 30, 40, 50], 35)"
   ]
  },
  {
   "cell_type": "code",
   "execution_count": null,
   "id": "d712c47e",
   "metadata": {},
   "outputs": [],
   "source": [
    "def odds_and_evens(numbers):\n",
    "    output = {'odds':[],\n",
    "             'evens':[]}\n",
    "    \n",
    "    for one_number in numbers:\n",
    "        if one_number % 2 == 1:\n",
    "            output['odds'].append(one_number)\n",
    "        else:\n",
    "            output['evens'].append(one_number)\n",
    "            \n",
    "            "
   ]
  },
  {
   "cell_type": "code",
   "execution_count": 114,
   "id": "111001c9",
   "metadata": {},
   "outputs": [
    {
     "data": {
      "text/plain": [
       "4"
      ]
     },
     "execution_count": 114,
     "metadata": {},
     "output_type": "execute_result"
    }
   ],
   "source": [
    "len('abcd')   # len is a function -- it has no object"
   ]
  },
  {
   "cell_type": "code",
   "execution_count": null,
   "id": "f7c3d4fc",
   "metadata": {},
   "outputs": [],
   "source": []
  }
 ],
 "metadata": {
  "kernelspec": {
   "display_name": "Python 3 (ipykernel)",
   "language": "python",
   "name": "python3"
  },
  "language_info": {
   "codemirror_mode": {
    "name": "ipython",
    "version": 3
   },
   "file_extension": ".py",
   "mimetype": "text/x-python",
   "name": "python",
   "nbconvert_exporter": "python",
   "pygments_lexer": "ipython3",
   "version": "3.10.4"
  }
 },
 "nbformat": 4,
 "nbformat_minor": 5
}
