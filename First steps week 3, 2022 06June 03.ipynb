{
 "cells": [
  {
   "cell_type": "markdown",
   "id": "b39b6488",
   "metadata": {},
   "source": [
    "# Agenda: Functions!\n",
    "\n",
    "1. What are functions?\n",
    "2. Writing some simple functions\n",
    "3. Arguments and parameters\n",
    "4. Return values\n",
    "5. Default argument values\n",
    "6. Complex return values\n",
    "7. Unpacking and complex return values\n",
    "8. Local vs. global variables (a little scoping)"
   ]
  },
  {
   "cell_type": "markdown",
   "id": "d9b273db",
   "metadata": {},
   "source": [
    "# DRY rule -- \"Don't repeat yourself!\"\n",
    "\n",
    "1. If we repeat ourselves several times in a row, we can use a *loop*.\n",
    "2. If we repeat ourselves several times in a program, we can use a *function*.\n",
    "\n",
    "A function lets us assign a name to a bunch of different actions.\n",
    "\n",
    "When we execute a function, we say that we're \"calling\" it.\n",
    "\n",
    "Abstraction -- let's hide the details, so that we can concentrate on the higher-level stuff.\n",
    "\n",
    "Functions are the verbs of a programming language -- they describe the actions.  When we define a new function, we're teaching the programming language a new verb."
   ]
  },
  {
   "cell_type": "code",
   "execution_count": 1,
   "id": "d89c2770",
   "metadata": {},
   "outputs": [],
   "source": [
    "# to define a function in Python, we use the keyword \"def\" (short for \"define\")\n",
    "\n",
    "def hello():\n",
    "    print('Hello out there!')"
   ]
  },
  {
   "cell_type": "markdown",
   "id": "22f7bba7",
   "metadata": {},
   "source": [
    "# Function definitions\n",
    "\n",
    "1. We start with `def`, and then the name of the function we want to define.  That name is actually a variable name, so all of the variable-name rules apply to it, as well.\n",
    "2. After the function's name, we have parentheses. For now, those parentheses will be empty -- but we'll put things in them later on.\n",
    "3. Then we have a `:`, at the end of the line.\n",
    "4. Then we have an indented block. This is the \"body\" of the function.  This is what will execute every time we call the function.\n",
    "5. The function body ends when we end the indentation. So long as we're in the indented block, we're in the function body.\n",
    "6. The function body can contain **ANY PYTHON CODE AT ALL**.  We can include `print` and `input` and `if/else` and `for` and `while`... anything at all.\n",
    "\n",
    "To call a function, just name the function and put parentheses (`()`) after the name."
   ]
  },
  {
   "cell_type": "code",
   "execution_count": 2,
   "id": "a921cd50",
   "metadata": {},
   "outputs": [
    {
     "name": "stdout",
     "output_type": "stream",
     "text": [
      "Hello out there!\n"
     ]
    }
   ],
   "source": [
    "hello()     # here, I'm calling the \"hello\" function"
   ]
  },
  {
   "cell_type": "code",
   "execution_count": 3,
   "id": "3bc40470",
   "metadata": {},
   "outputs": [],
   "source": [
    "def hello():\n",
    "    name = input('Enter your name: ').strip()\n",
    "    print(f'Hello, {name}!')"
   ]
  },
  {
   "cell_type": "code",
   "execution_count": 4,
   "id": "6789f742",
   "metadata": {},
   "outputs": [
    {
     "name": "stdout",
     "output_type": "stream",
     "text": [
      "Enter your name: Reuven\n",
      "Hello, Reuven!\n"
     ]
    }
   ],
   "source": [
    "hello()"
   ]
  },
  {
   "cell_type": "code",
   "execution_count": 5,
   "id": "79abf233",
   "metadata": {},
   "outputs": [],
   "source": [
    "def hello():\n",
    "    name = input('Enter your name: ').strip()\n",
    "    times = input('How many times should I greet you? ').strip()\n",
    "    \n",
    "    for i in range(int(times)):\n",
    "        print(f'Hello, {name}!')"
   ]
  },
  {
   "cell_type": "code",
   "execution_count": 6,
   "id": "7d1e35b1",
   "metadata": {},
   "outputs": [
    {
     "name": "stdout",
     "output_type": "stream",
     "text": [
      "Enter your name: Reuven\n",
      "How many times should I greet you? 5\n",
      "Hello, Reuven!\n",
      "Hello, Reuven!\n",
      "Hello, Reuven!\n",
      "Hello, Reuven!\n",
      "Hello, Reuven!\n"
     ]
    }
   ],
   "source": [
    "hello()"
   ]
  },
  {
   "cell_type": "code",
   "execution_count": 8,
   "id": "4d4b29be",
   "metadata": {},
   "outputs": [
    {
     "data": {
      "text/plain": [
       "4"
      ]
     },
     "execution_count": 8,
     "metadata": {},
     "output_type": "execute_result"
    }
   ],
   "source": [
    "len('abcd')     # we're passing 'abcd' as an argument to the len function"
   ]
  },
  {
   "cell_type": "code",
   "execution_count": 9,
   "id": "a6efb3bf",
   "metadata": {},
   "outputs": [
    {
     "data": {
      "text/plain": [
       "3"
      ]
     },
     "execution_count": 9,
     "metadata": {},
     "output_type": "execute_result"
    }
   ],
   "source": [
    "len([10, 20, 30])  # we're passing [10, 20, 30] as an argument to the len function"
   ]
  },
  {
   "cell_type": "code",
   "execution_count": 10,
   "id": "8de08a8e",
   "metadata": {},
   "outputs": [
    {
     "name": "stdout",
     "output_type": "stream",
     "text": [
      "A\n",
      "B\n",
      "Hello!\n",
      "C\n"
     ]
    }
   ],
   "source": [
    "print('A')\n",
    "\n",
    "def hello():\n",
    "    print('Hello!')\n",
    "    \n",
    "print('B')\n",
    "\n",
    "hello()\n",
    "\n",
    "print('C')"
   ]
  },
  {
   "cell_type": "code",
   "execution_count": 11,
   "id": "04e92348",
   "metadata": {},
   "outputs": [],
   "source": [
    "# this function prints the number of vowels it finds in a filename\n",
    "\n",
    "def count_vowels():\n",
    "    filename = input('Enter a filename: ').strip()\n",
    "    \n",
    "    total = 0\n",
    "    for one_line in open(filename):\n",
    "        for one_character in one_line.lower():\n",
    "            if one_character in 'aeiou':\n",
    "                total += 1\n",
    "                \n",
    "    print(f'I found {total} vowels in {filename}.')\n",
    "    \n",
    "    "
   ]
  },
  {
   "cell_type": "code",
   "execution_count": 12,
   "id": "fc57410c",
   "metadata": {},
   "outputs": [
    {
     "name": "stdout",
     "output_type": "stream",
     "text": [
      "Enter a filename: /etc/passwd\n",
      "I found 1906 vowels in /etc/passwd.\n"
     ]
    }
   ],
   "source": [
    "count_vowels()"
   ]
  },
  {
   "cell_type": "markdown",
   "id": "cf507ba9",
   "metadata": {},
   "source": [
    "# Exercise: Calculator\n",
    "\n",
    "1. Write a function, `calc`, which will allow us to perform some simple calculations.\n",
    "2. Ask the user to enter a math expression in one line (e.g., `'2 + 2'`).\n",
    "3. Use `str.split` to break that input into a list of three elements. (Let's assume that the user enters a valid string, with numbers and an operator between them.)\n",
    "4. If the user entered `+`, print the result of adding the numbers.\n",
    "5. If the user entered `-`, print the result of subtracting the numbers.\n",
    "\n",
    "Example:\n",
    "\n",
    "    calc()\n",
    "\n",
    "    Enter an expression: 10 + 8\n",
    "    10 + 8 = 18    \n",
    "\n",
    "Hints/reminders:\n",
    "1. Any string can be split on whitespace with `s.split()` -- no argument means that we'll split on any whitespace, of any length.\n",
    "2. Remember that the result of `str.split` is a list of strings.\n",
    "3. If you need to turn a string into an integer, use `int`."
   ]
  },
  {
   "cell_type": "code",
   "execution_count": 13,
   "id": "c84040a5",
   "metadata": {},
   "outputs": [],
   "source": [
    "def calc():\n",
    "    s = input('Enter expression: ').strip()\n",
    "    \n",
    "#     fields = s.split()  # s.split() here will return a list of strings, e.g., ['2', '+', '2']\n",
    "\n",
    "#     first = fields[0]\n",
    "#     op = fields[1]\n",
    "#     second = fields[2]\n",
    "    \n",
    "    first, op, second = s.split()\n",
    "    first = int(first)  # turn first into an integer\n",
    "    second = int(second)  # turn second into an integer\n",
    "    \n",
    "    if op == '+':\n",
    "        result = first + second\n",
    "    elif op == '-':\n",
    "        result = first - second\n",
    "    else:\n",
    "        result = 'Not supported'\n",
    "        \n",
    "    print(f'{first} {op} {second} = {result}')"
   ]
  },
  {
   "cell_type": "code",
   "execution_count": 15,
   "id": "aea64ef8",
   "metadata": {},
   "outputs": [
    {
     "name": "stdout",
     "output_type": "stream",
     "text": [
      "Enter expression: 10 - 2\n",
      "10 - 2 = 8\n"
     ]
    }
   ],
   "source": [
    "calc()"
   ]
  },
  {
   "cell_type": "code",
   "execution_count": 16,
   "id": "b83847cc",
   "metadata": {},
   "outputs": [
    {
     "data": {
      "text/plain": [
       "4"
      ]
     },
     "execution_count": 16,
     "metadata": {},
     "output_type": "execute_result"
    }
   ],
   "source": [
    "# when we call a function, we can pass it one or more \"arguments\"\n",
    "# those are the values that you put inside of the parentheses\n",
    "\n",
    "len('abcd')   # we pass len one argument, of type str"
   ]
  },
  {
   "cell_type": "code",
   "execution_count": 17,
   "id": "85d2a157",
   "metadata": {},
   "outputs": [
    {
     "data": {
      "text/plain": [
       "4"
      ]
     },
     "execution_count": 17,
     "metadata": {},
     "output_type": "execute_result"
    }
   ],
   "source": [
    "len([10, 20, 30, 40])  # we pass len one argument, of type list"
   ]
  },
  {
   "cell_type": "code",
   "execution_count": 18,
   "id": "267400a0",
   "metadata": {},
   "outputs": [
    {
     "name": "stdout",
     "output_type": "stream",
     "text": [
      "Enter your name: asdfafa\n"
     ]
    },
    {
     "data": {
      "text/plain": [
       "'asdfafa'"
      ]
     },
     "execution_count": 18,
     "metadata": {},
     "output_type": "execute_result"
    }
   ],
   "source": [
    "input('Enter your name: ')   # we pass input one argument of type str"
   ]
  },
  {
   "cell_type": "markdown",
   "id": "ff5219a4",
   "metadata": {},
   "source": [
    "# Arguments and parameters\n",
    "\n",
    "When we call a function, we can pass one or more arguments.  Those are assigned to special variables in the function, known as parameters.\n",
    "\n",
    "We need to name the parameters at the top of the function, inside of the parentheses, after the function's name.\n",
    "\n",
    "If a function has 3 parameters, we *must* call it with 3 arguments."
   ]
  },
  {
   "cell_type": "code",
   "execution_count": 19,
   "id": "49800e7e",
   "metadata": {},
   "outputs": [],
   "source": [
    "# in this version of \"hello\", we have one parameter, called \"name\".\n",
    "# having this parameter means that when we call hello, we must pass one argument.\n",
    "\n",
    "def hello(name):\n",
    "    print(f'Hello, {name}!')"
   ]
  },
  {
   "cell_type": "code",
   "execution_count": 20,
   "id": "dfe6c6f1",
   "metadata": {},
   "outputs": [
    {
     "ename": "TypeError",
     "evalue": "hello() missing 1 required positional argument: 'name'",
     "output_type": "error",
     "traceback": [
      "\u001b[0;31m---------------------------------------------------------------------------\u001b[0m",
      "\u001b[0;31mTypeError\u001b[0m                                 Traceback (most recent call last)",
      "\u001b[0;32m/var/folders/rr/0mnyyv811fs5vyp22gf4fxk00000gn/T/ipykernel_86208/2674044599.py\u001b[0m in \u001b[0;36m<module>\u001b[0;34m\u001b[0m\n\u001b[0;32m----> 1\u001b[0;31m \u001b[0mhello\u001b[0m\u001b[0;34m(\u001b[0m\u001b[0;34m)\u001b[0m\u001b[0;34m\u001b[0m\u001b[0;34m\u001b[0m\u001b[0m\n\u001b[0m",
      "\u001b[0;31mTypeError\u001b[0m: hello() missing 1 required positional argument: 'name'"
     ]
    }
   ],
   "source": [
    "hello()"
   ]
  },
  {
   "cell_type": "code",
   "execution_count": 21,
   "id": "ea98b2a8",
   "metadata": {},
   "outputs": [
    {
     "name": "stdout",
     "output_type": "stream",
     "text": [
      "Hello, world!\n"
     ]
    }
   ],
   "source": [
    "hello('world') # now we're passing one argument to hello"
   ]
  },
  {
   "cell_type": "code",
   "execution_count": 22,
   "id": "b6a257c2",
   "metadata": {},
   "outputs": [],
   "source": [
    "# let's write a function with two parameters\n",
    "\n",
    "def add(first, second):\n",
    "    print(first + second)"
   ]
  },
  {
   "cell_type": "code",
   "execution_count": 23,
   "id": "d900a826",
   "metadata": {},
   "outputs": [
    {
     "name": "stdout",
     "output_type": "stream",
     "text": [
      "5\n"
     ]
    }
   ],
   "source": [
    "add(2, 3)"
   ]
  },
  {
   "cell_type": "code",
   "execution_count": 24,
   "id": "529dbbec",
   "metadata": {},
   "outputs": [
    {
     "name": "stdout",
     "output_type": "stream",
     "text": [
      "28\n"
     ]
    }
   ],
   "source": [
    "add(10, 18)"
   ]
  },
  {
   "cell_type": "code",
   "execution_count": 25,
   "id": "a30184a9",
   "metadata": {},
   "outputs": [
    {
     "ename": "TypeError",
     "evalue": "add() missing 1 required positional argument: 'second'",
     "output_type": "error",
     "traceback": [
      "\u001b[0;31m---------------------------------------------------------------------------\u001b[0m",
      "\u001b[0;31mTypeError\u001b[0m                                 Traceback (most recent call last)",
      "\u001b[0;32m/var/folders/rr/0mnyyv811fs5vyp22gf4fxk00000gn/T/ipykernel_86208/53490253.py\u001b[0m in \u001b[0;36m<module>\u001b[0;34m\u001b[0m\n\u001b[0;32m----> 1\u001b[0;31m \u001b[0madd\u001b[0m\u001b[0;34m(\u001b[0m\u001b[0;36m10\u001b[0m\u001b[0;34m)\u001b[0m\u001b[0;34m\u001b[0m\u001b[0;34m\u001b[0m\u001b[0m\n\u001b[0m",
      "\u001b[0;31mTypeError\u001b[0m: add() missing 1 required positional argument: 'second'"
     ]
    }
   ],
   "source": [
    "add(10)"
   ]
  },
  {
   "cell_type": "code",
   "execution_count": 26,
   "id": "5001b5a0",
   "metadata": {},
   "outputs": [
    {
     "ename": "TypeError",
     "evalue": "add() missing 2 required positional arguments: 'first' and 'second'",
     "output_type": "error",
     "traceback": [
      "\u001b[0;31m---------------------------------------------------------------------------\u001b[0m",
      "\u001b[0;31mTypeError\u001b[0m                                 Traceback (most recent call last)",
      "\u001b[0;32m/var/folders/rr/0mnyyv811fs5vyp22gf4fxk00000gn/T/ipykernel_86208/3064714114.py\u001b[0m in \u001b[0;36m<module>\u001b[0;34m\u001b[0m\n\u001b[0;32m----> 1\u001b[0;31m \u001b[0madd\u001b[0m\u001b[0;34m(\u001b[0m\u001b[0;34m)\u001b[0m\u001b[0;34m\u001b[0m\u001b[0;34m\u001b[0m\u001b[0m\n\u001b[0m",
      "\u001b[0;31mTypeError\u001b[0m: add() missing 2 required positional arguments: 'first' and 'second'"
     ]
    }
   ],
   "source": [
    "add()"
   ]
  },
  {
   "cell_type": "code",
   "execution_count": 27,
   "id": "45c6cefc",
   "metadata": {},
   "outputs": [
    {
     "name": "stdout",
     "output_type": "stream",
     "text": [
      "abcdef\n"
     ]
    }
   ],
   "source": [
    "add('abcd', 'ef')   # will this work?"
   ]
  },
  {
   "cell_type": "markdown",
   "id": "7bd14227",
   "metadata": {},
   "source": [
    "# Functions, parameters, and \"overloading\"\n",
    "\n",
    "In some languages, you can define a function multiple times, each time with different types of parameters and different number of parameters.  So you could, in such a language, define:\n",
    "\n",
    "- `add` for two strings\n",
    "- `add` for two numbers\n",
    "- `add` for two lists\n",
    "- `add` for three strings\n",
    "- `add` for three numbers\n",
    "\n",
    "etc.\n",
    "\n",
    "Python does *not* support this.  When you define a function, you are defining the only version of that function that exists.  Your definition needs to indicate (in the documentation) how many arguments should be passed, and what types they should be."
   ]
  },
  {
   "cell_type": "code",
   "execution_count": 28,
   "id": "f3eb73da",
   "metadata": {},
   "outputs": [
    {
     "data": {
      "text/plain": [
       "7"
      ]
     },
     "execution_count": 28,
     "metadata": {},
     "output_type": "execute_result"
    }
   ],
   "source": [
    "x = 10\n",
    "x = 7\n",
    "\n",
    "# would you expect that Python somehow remembers that x was previously 10? No.\n",
    "\n",
    "x"
   ]
  },
  {
   "cell_type": "code",
   "execution_count": 29,
   "id": "a8bcbba6",
   "metadata": {},
   "outputs": [],
   "source": [
    "# functions are assigned to variables\n",
    "# and thus, the most recent definition of a function is the one that sticks around, and is invoked."
   ]
  },
  {
   "cell_type": "markdown",
   "id": "0959fe36",
   "metadata": {},
   "source": [
    "# Exercise: `mysum`\n",
    "\n",
    "1. Python comes with a `sum` function, which takes a list or tuple of numbers, and returns the sum of those numbers. \n",
    "2. I want you to write a similar function, `mysum`, which takes a list or tuple of numbers, and prints the sum of those numbers.\n",
    "3. *DO NOT* use `sum` when writing `mysum`.\n",
    "\n",
    "Example:\n",
    "\n",
    "    mysum([10, 20, 30])   # should print 60\n",
    "    mysum((100, 200))     # should print 300\n"
   ]
  },
  {
   "cell_type": "code",
   "execution_count": null,
   "id": "8ec6060e",
   "metadata": {},
   "outputs": [],
   "source": [
    "def mysum(numbers):\n",
    "    total = 0\n",
    "    \n",
    "    for one_number in numbers:"
   ]
  }
 ],
 "metadata": {
  "kernelspec": {
   "display_name": "Python 3 (ipykernel)",
   "language": "python",
   "name": "python3"
  },
  "language_info": {
   "codemirror_mode": {
    "name": "ipython",
    "version": 3
   },
   "file_extension": ".py",
   "mimetype": "text/x-python",
   "name": "python",
   "nbconvert_exporter": "python",
   "pygments_lexer": "ipython3",
   "version": "3.10.4"
  }
 },
 "nbformat": 4,
 "nbformat_minor": 5
}
