{
 "cells": [
  {
   "cell_type": "markdown",
   "id": "538cd19c",
   "metadata": {},
   "source": [
    "# Agenda: Functions!\n",
    "\n",
    "1. What are functions?\n",
    "2. Writing some simple functions\n",
    "3. Arguments and parameters\n",
    "4. Return values\n",
    "5. Default argument values\n",
    "6. Complex return values\n",
    "7. Unpacking and complex return values\n",
    "8. Local vs. global variables (a little scoping)"
   ]
  },
  {
   "cell_type": "code",
   "execution_count": null,
   "id": "6cfb25e9",
   "metadata": {},
   "outputs": [],
   "source": []
  }
 ],
 "metadata": {
  "kernelspec": {
   "display_name": "Python 3 (ipykernel)",
   "language": "python",
   "name": "python3"
  },
  "language_info": {
   "codemirror_mode": {
    "name": "ipython",
    "version": 3
   },
   "file_extension": ".py",
   "mimetype": "text/x-python",
   "name": "python",
   "nbconvert_exporter": "python",
   "pygments_lexer": "ipython3",
   "version": "3.10.4"
  }
 },
 "nbformat": 4,
 "nbformat_minor": 5
}
