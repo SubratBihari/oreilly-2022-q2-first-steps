{
 "cells": [
  {
   "cell_type": "markdown",
   "id": "9a224570",
   "metadata": {},
   "source": [
    "# Agenda: Functions!\n",
    "\n",
    "1. What are functions?\n",
    "2. Writing some simple functions\n",
    "3. Arguments and parameters\n",
    "4. Return values\n",
    "5. Default argument values\n",
    "6. Complex return values\n",
    "7. Unpacking and complex return values\n",
    "8. Local vs. global variables (a little scoping)"
   ]
  },
  {
   "cell_type": "markdown",
   "id": "eae4ad00",
   "metadata": {},
   "source": [
    "# DRY rule -- \"Don't repeat yourself!\"\n",
    "\n",
    "1. If we repeat ourselves several times in a row, we can use a *loop*.\n",
    "2. If we repeat ourselves several times in a program, we can use a *function*.\n",
    "\n",
    "A function lets us assign a name to a bunch of different actions.\n",
    "\n",
    "When we execute a function, we say that we're \"calling\" it.\n",
    "\n",
    "Abstraction -- let's hide the details, so that we can concentrate on the higher-level stuff.\n",
    "\n",
    "Functions are the verbs of a programming language -- they describe the actions.  When we define a new function, we're teaching the programming language a new verb."
   ]
  },
  {
   "cell_type": "code",
   "execution_count": 1,
   "id": "17fccdf2",
   "metadata": {},
   "outputs": [],
   "source": [
    "# to define a function in Python, we use the keyword \"def\" (short for \"define\")\n",
    "\n",
    "def hello():\n",
    "    print('Hello out there!')"
   ]
  },
  {
   "cell_type": "markdown",
   "id": "581ac1ab",
   "metadata": {},
   "source": [
    "# Function definitions\n",
    "\n",
    "1. We start with `def`, and then the name of the function we want to define.  That name is actually a variable name, so all of the variable-name rules apply to it, as well.\n",
    "2. After the function's name, we have parentheses. For now, those parentheses will be empty -- but we'll put things in them later on.\n",
    "3. Then we have a `:`, at the end of the line.\n",
    "4. Then we have an indented block. This is the \"body\" of the function.  This is what will execute every time we call the function.\n",
    "5. The function body ends when we end the indentation. So long as we're in the indented block, we're in the function body.\n",
    "6. The function body can contain **ANY PYTHON CODE AT ALL**.  We can include `print` and `input` and `if/else` and `for` and `while`... anything at all.\n",
    "\n",
    "To call a function, just name the function and put parentheses (`()`) after the name."
   ]
  },
  {
   "cell_type": "code",
   "execution_count": 2,
   "id": "33febd6f",
   "metadata": {},
   "outputs": [
    {
     "name": "stdout",
     "output_type": "stream",
     "text": [
      "Hello out there!\n"
     ]
    }
   ],
   "source": [
    "hello()     # here, I'm calling the \"hello\" function"
   ]
  },
  {
   "cell_type": "code",
   "execution_count": 3,
   "id": "4cf0396c",
   "metadata": {},
   "outputs": [],
   "source": [
    "def hello():\n",
    "    name = input('Enter your name: ').strip()\n",
    "    print(f'Hello, {name}!')"
   ]
  },
  {
   "cell_type": "code",
   "execution_count": 4,
   "id": "6f6d0d55",
   "metadata": {},
   "outputs": [
    {
     "name": "stdout",
     "output_type": "stream",
     "text": [
      "Enter your name: Reuven\n",
      "Hello, Reuven!\n"
     ]
    }
   ],
   "source": [
    "hello()"
   ]
  },
  {
   "cell_type": "code",
   "execution_count": 5,
   "id": "ba6ee22c",
   "metadata": {},
   "outputs": [],
   "source": [
    "def hello():\n",
    "    name = input('Enter your name: ').strip()\n",
    "    times = input('How many times should I greet you? ').strip()\n",
    "    \n",
    "    for i in range(int(times)):\n",
    "        print(f'Hello, {name}!')"
   ]
  },
  {
   "cell_type": "code",
   "execution_count": 6,
   "id": "cd2f10e1",
   "metadata": {},
   "outputs": [
    {
     "name": "stdout",
     "output_type": "stream",
     "text": [
      "Enter your name: Reuven\n",
      "How many times should I greet you? 5\n",
      "Hello, Reuven!\n",
      "Hello, Reuven!\n",
      "Hello, Reuven!\n",
      "Hello, Reuven!\n",
      "Hello, Reuven!\n"
     ]
    }
   ],
   "source": [
    "hello()"
   ]
  },
  {
   "cell_type": "code",
   "execution_count": 8,
   "id": "7625cfeb",
   "metadata": {},
   "outputs": [
    {
     "data": {
      "text/plain": [
       "4"
      ]
     },
     "execution_count": 8,
     "metadata": {},
     "output_type": "execute_result"
    }
   ],
   "source": [
    "len('abcd')     # we're passing 'abcd' as an argument to the len function"
   ]
  },
  {
   "cell_type": "code",
   "execution_count": 9,
   "id": "43630584",
   "metadata": {},
   "outputs": [
    {
     "data": {
      "text/plain": [
       "3"
      ]
     },
     "execution_count": 9,
     "metadata": {},
     "output_type": "execute_result"
    }
   ],
   "source": [
    "len([10, 20, 30])  # we're passing [10, 20, 30] as an argument to the len function"
   ]
  },
  {
   "cell_type": "code",
   "execution_count": 10,
   "id": "5bfdee7d",
   "metadata": {},
   "outputs": [
    {
     "name": "stdout",
     "output_type": "stream",
     "text": [
      "A\n",
      "B\n",
      "Hello!\n",
      "C\n"
     ]
    }
   ],
   "source": [
    "print('A')\n",
    "\n",
    "def hello():\n",
    "    print('Hello!')\n",
    "    \n",
    "print('B')\n",
    "\n",
    "hello()\n",
    "\n",
    "print('C')"
   ]
  },
  {
   "cell_type": "code",
   "execution_count": 11,
   "id": "0107492d",
   "metadata": {},
   "outputs": [],
   "source": [
    "# this function prints the number of vowels it finds in a filename\n",
    "\n",
    "def count_vowels():\n",
    "    filename = input('Enter a filename: ').strip()\n",
    "    \n",
    "    total = 0\n",
    "    for one_line in open(filename):\n",
    "        for one_character in one_line.lower():\n",
    "            if one_character in 'aeiou':\n",
    "                total += 1\n",
    "                \n",
    "    print(f'I found {total} vowels in {filename}.')\n",
    "    \n",
    "    "
   ]
  },
  {
   "cell_type": "code",
   "execution_count": 12,
   "id": "89263873",
   "metadata": {},
   "outputs": [
    {
     "name": "stdout",
     "output_type": "stream",
     "text": [
      "Enter a filename: /etc/passwd\n",
      "I found 1906 vowels in /etc/passwd.\n"
     ]
    }
   ],
   "source": [
    "count_vowels()"
   ]
  },
  {
   "cell_type": "markdown",
   "id": "097d0541",
   "metadata": {},
   "source": [
    "# Exercise: Calculator\n",
    "\n",
    "1. Write a function, `calc`, which will allow us to perform some simple calculations.\n",
    "2. Ask the user to enter a math expression in one line (e.g., `'2 + 2'`).\n",
    "3. Use `str.split` to break that input into a list of three elements. (Let's assume that the user enters a valid string, with numbers and an operator between them.)\n",
    "4. If the user entered `+`, print the result of adding the numbers.\n",
    "5. If the user entered `-`, print the result of subtracting the numbers.\n",
    "\n",
    "Example:\n",
    "\n",
    "    calc()\n",
    "\n",
    "    Enter an expression: 10 + 8\n",
    "    10 + 8 = 18    \n",
    "\n",
    "Hints/reminders:\n",
    "1. Any string can be split on whitespace with `s.split()` -- no argument means that we'll split on any whitespace, of any length.\n",
    "2. Remember that the result of `str.split` is a list of strings.\n",
    "3. If you need to turn a string into an integer, use `int`."
   ]
  },
  {
   "cell_type": "code",
   "execution_count": 13,
   "id": "6c24717e",
   "metadata": {},
   "outputs": [],
   "source": [
    "def calc():\n",
    "    s = input('Enter expression: ').strip()\n",
    "    \n",
    "#     fields = s.split()  # s.split() here will return a list of strings, e.g., ['2', '+', '2']\n",
    "\n",
    "#     first = fields[0]\n",
    "#     op = fields[1]\n",
    "#     second = fields[2]\n",
    "    \n",
    "    first, op, second = s.split()\n",
    "    first = int(first)  # turn first into an integer\n",
    "    second = int(second)  # turn second into an integer\n",
    "    \n",
    "    if op == '+':\n",
    "        result = first + second\n",
    "    elif op == '-':\n",
    "        result = first - second\n",
    "    else:\n",
    "        result = 'Not supported'\n",
    "        \n",
    "    print(f'{first} {op} {second} = {result}')"
   ]
  },
  {
   "cell_type": "code",
   "execution_count": 15,
   "id": "907b7cd0",
   "metadata": {},
   "outputs": [
    {
     "name": "stdout",
     "output_type": "stream",
     "text": [
      "Enter expression: 10 - 2\n",
      "10 - 2 = 8\n"
     ]
    }
   ],
   "source": [
    "calc()"
   ]
  },
  {
   "cell_type": "code",
   "execution_count": 16,
   "id": "1df4c092",
   "metadata": {},
   "outputs": [
    {
     "data": {
      "text/plain": [
       "4"
      ]
     },
     "execution_count": 16,
     "metadata": {},
     "output_type": "execute_result"
    }
   ],
   "source": [
    "# when we call a function, we can pass it one or more \"arguments\"\n",
    "# those are the values that you put inside of the parentheses\n",
    "\n",
    "len('abcd')   # we pass len one argument, of type str"
   ]
  },
  {
   "cell_type": "code",
   "execution_count": 17,
   "id": "f5d51e7e",
   "metadata": {},
   "outputs": [
    {
     "data": {
      "text/plain": [
       "4"
      ]
     },
     "execution_count": 17,
     "metadata": {},
     "output_type": "execute_result"
    }
   ],
   "source": [
    "len([10, 20, 30, 40])  # we pass len one argument, of type list"
   ]
  },
  {
   "cell_type": "code",
   "execution_count": 18,
   "id": "1a574024",
   "metadata": {},
   "outputs": [
    {
     "name": "stdout",
     "output_type": "stream",
     "text": [
      "Enter your name: asdfafa\n"
     ]
    },
    {
     "data": {
      "text/plain": [
       "'asdfafa'"
      ]
     },
     "execution_count": 18,
     "metadata": {},
     "output_type": "execute_result"
    }
   ],
   "source": [
    "input('Enter your name: ')   # we pass input one argument of type str"
   ]
  },
  {
   "cell_type": "markdown",
   "id": "9c6371aa",
   "metadata": {},
   "source": [
    "# Arguments and parameters\n",
    "\n",
    "When we call a function, we can pass one or more arguments.  Those are assigned to special variables in the function, known as parameters.\n",
    "\n",
    "We need to name the parameters at the top of the function, inside of the parentheses, after the function's name.\n",
    "\n",
    "If a function has 3 parameters, we *must* call it with 3 arguments."
   ]
  },
  {
   "cell_type": "code",
   "execution_count": 19,
   "id": "dbc4cf0f",
   "metadata": {},
   "outputs": [],
   "source": [
    "# in this version of \"hello\", we have one parameter, called \"name\".\n",
    "# having this parameter means that when we call hello, we must pass one argument.\n",
    "\n",
    "def hello(name):\n",
    "    print(f'Hello, {name}!')"
   ]
  },
  {
   "cell_type": "code",
   "execution_count": 20,
   "id": "f3ca5bd2",
   "metadata": {},
   "outputs": [
    {
     "ename": "TypeError",
     "evalue": "hello() missing 1 required positional argument: 'name'",
     "output_type": "error",
     "traceback": [
      "\u001b[0;31m---------------------------------------------------------------------------\u001b[0m",
      "\u001b[0;31mTypeError\u001b[0m                                 Traceback (most recent call last)",
      "\u001b[0;32m/var/folders/rr/0mnyyv811fs5vyp22gf4fxk00000gn/T/ipykernel_86208/2674044599.py\u001b[0m in \u001b[0;36m<module>\u001b[0;34m\u001b[0m\n\u001b[0;32m----> 1\u001b[0;31m \u001b[0mhello\u001b[0m\u001b[0;34m(\u001b[0m\u001b[0;34m)\u001b[0m\u001b[0;34m\u001b[0m\u001b[0;34m\u001b[0m\u001b[0m\n\u001b[0m",
      "\u001b[0;31mTypeError\u001b[0m: hello() missing 1 required positional argument: 'name'"
     ]
    }
   ],
   "source": [
    "hello()"
   ]
  },
  {
   "cell_type": "code",
   "execution_count": 21,
   "id": "e14859c3",
   "metadata": {},
   "outputs": [
    {
     "name": "stdout",
     "output_type": "stream",
     "text": [
      "Hello, world!\n"
     ]
    }
   ],
   "source": [
    "hello('world') # now we're passing one argument to hello"
   ]
  },
  {
   "cell_type": "code",
   "execution_count": 22,
   "id": "bca5b50e",
   "metadata": {},
   "outputs": [],
   "source": [
    "# let's write a function with two parameters\n",
    "\n",
    "def add(first, second):\n",
    "    print(first + second)"
   ]
  },
  {
   "cell_type": "code",
   "execution_count": 23,
   "id": "d427880d",
   "metadata": {},
   "outputs": [
    {
     "name": "stdout",
     "output_type": "stream",
     "text": [
      "5\n"
     ]
    }
   ],
   "source": [
    "add(2, 3)"
   ]
  },
  {
   "cell_type": "code",
   "execution_count": 24,
   "id": "cd9548db",
   "metadata": {},
   "outputs": [
    {
     "name": "stdout",
     "output_type": "stream",
     "text": [
      "28\n"
     ]
    }
   ],
   "source": [
    "add(10, 18)"
   ]
  },
  {
   "cell_type": "code",
   "execution_count": 25,
   "id": "e44f59da",
   "metadata": {},
   "outputs": [
    {
     "ename": "TypeError",
     "evalue": "add() missing 1 required positional argument: 'second'",
     "output_type": "error",
     "traceback": [
      "\u001b[0;31m---------------------------------------------------------------------------\u001b[0m",
      "\u001b[0;31mTypeError\u001b[0m                                 Traceback (most recent call last)",
      "\u001b[0;32m/var/folders/rr/0mnyyv811fs5vyp22gf4fxk00000gn/T/ipykernel_86208/53490253.py\u001b[0m in \u001b[0;36m<module>\u001b[0;34m\u001b[0m\n\u001b[0;32m----> 1\u001b[0;31m \u001b[0madd\u001b[0m\u001b[0;34m(\u001b[0m\u001b[0;36m10\u001b[0m\u001b[0;34m)\u001b[0m\u001b[0;34m\u001b[0m\u001b[0;34m\u001b[0m\u001b[0m\n\u001b[0m",
      "\u001b[0;31mTypeError\u001b[0m: add() missing 1 required positional argument: 'second'"
     ]
    }
   ],
   "source": [
    "add(10)"
   ]
  },
  {
   "cell_type": "code",
   "execution_count": 26,
   "id": "6c9592a3",
   "metadata": {},
   "outputs": [
    {
     "ename": "TypeError",
     "evalue": "add() missing 2 required positional arguments: 'first' and 'second'",
     "output_type": "error",
     "traceback": [
      "\u001b[0;31m---------------------------------------------------------------------------\u001b[0m",
      "\u001b[0;31mTypeError\u001b[0m                                 Traceback (most recent call last)",
      "\u001b[0;32m/var/folders/rr/0mnyyv811fs5vyp22gf4fxk00000gn/T/ipykernel_86208/3064714114.py\u001b[0m in \u001b[0;36m<module>\u001b[0;34m\u001b[0m\n\u001b[0;32m----> 1\u001b[0;31m \u001b[0madd\u001b[0m\u001b[0;34m(\u001b[0m\u001b[0;34m)\u001b[0m\u001b[0;34m\u001b[0m\u001b[0;34m\u001b[0m\u001b[0m\n\u001b[0m",
      "\u001b[0;31mTypeError\u001b[0m: add() missing 2 required positional arguments: 'first' and 'second'"
     ]
    }
   ],
   "source": [
    "add()"
   ]
  },
  {
   "cell_type": "code",
   "execution_count": 27,
   "id": "9370b780",
   "metadata": {},
   "outputs": [
    {
     "name": "stdout",
     "output_type": "stream",
     "text": [
      "abcdef\n"
     ]
    }
   ],
   "source": [
    "add('abcd', 'ef')   # will this work?"
   ]
  },
  {
   "cell_type": "markdown",
   "id": "ff96b069",
   "metadata": {},
   "source": [
    "# Functions, parameters, and \"overloading\"\n",
    "\n",
    "In some languages, you can define a function multiple times, each time with different types of parameters and different number of parameters.  So you could, in such a language, define:\n",
    "\n",
    "- `add` for two strings\n",
    "- `add` for two numbers\n",
    "- `add` for two lists\n",
    "- `add` for three strings\n",
    "- `add` for three numbers\n",
    "\n",
    "etc.\n",
    "\n",
    "Python does *not* support this.  When you define a function, you are defining the only version of that function that exists.  Your definition needs to indicate (in the documentation) how many arguments should be passed, and what types they should be."
   ]
  },
  {
   "cell_type": "code",
   "execution_count": 28,
   "id": "cf0cf54a",
   "metadata": {},
   "outputs": [
    {
     "data": {
      "text/plain": [
       "7"
      ]
     },
     "execution_count": 28,
     "metadata": {},
     "output_type": "execute_result"
    }
   ],
   "source": [
    "x = 10\n",
    "x = 7\n",
    "\n",
    "# would you expect that Python somehow remembers that x was previously 10? No.\n",
    "\n",
    "x"
   ]
  },
  {
   "cell_type": "code",
   "execution_count": 29,
   "id": "a6a0415e",
   "metadata": {},
   "outputs": [],
   "source": [
    "# functions are assigned to variables\n",
    "# and thus, the most recent definition of a function is the one that sticks around, and is invoked."
   ]
  },
  {
   "cell_type": "markdown",
   "id": "86b57668",
   "metadata": {},
   "source": [
    "# Exercise: `mysum`\n",
    "\n",
    "1. Python comes with a `sum` function, which takes a list or tuple of numbers, and returns the sum of those numbers. \n",
    "2. I want you to write a similar function, `mysum`, which takes a list or tuple of numbers, and prints the sum of those numbers.\n",
    "3. *DO NOT* use `sum` when writing `mysum`.\n",
    "\n",
    "Example:\n",
    "\n",
    "    mysum([10, 20, 30])   # should print 60\n",
    "    mysum((100, 200))     # should print 300\n"
   ]
  },
  {
   "cell_type": "code",
   "execution_count": 30,
   "id": "dcddc57e",
   "metadata": {},
   "outputs": [],
   "source": [
    "def mysum(numbers):\n",
    "    total = 0\n",
    "    \n",
    "    for one_number in numbers:\n",
    "        total += one_number\n",
    "        \n",
    "    print(total)"
   ]
  },
  {
   "cell_type": "code",
   "execution_count": 31,
   "id": "bf24a4af",
   "metadata": {},
   "outputs": [
    {
     "name": "stdout",
     "output_type": "stream",
     "text": [
      "60\n"
     ]
    }
   ],
   "source": [
    "mysum([10, 20, 30])"
   ]
  },
  {
   "cell_type": "code",
   "execution_count": 32,
   "id": "28a6b75f",
   "metadata": {},
   "outputs": [
    {
     "name": "stdout",
     "output_type": "stream",
     "text": [
      "1018\n"
     ]
    }
   ],
   "source": [
    "mysum([100, 200, 300, 400, 18])"
   ]
  },
  {
   "cell_type": "code",
   "execution_count": 33,
   "id": "235fdaf5",
   "metadata": {},
   "outputs": [
    {
     "ename": "TypeError",
     "evalue": "mysum() missing 1 required positional argument: 'numbers'",
     "output_type": "error",
     "traceback": [
      "\u001b[0;31m---------------------------------------------------------------------------\u001b[0m",
      "\u001b[0;31mTypeError\u001b[0m                                 Traceback (most recent call last)",
      "\u001b[0;32m/var/folders/rr/0mnyyv811fs5vyp22gf4fxk00000gn/T/ipykernel_86208/2216900251.py\u001b[0m in \u001b[0;36m<module>\u001b[0;34m\u001b[0m\n\u001b[0;32m----> 1\u001b[0;31m \u001b[0mmysum\u001b[0m\u001b[0;34m(\u001b[0m\u001b[0;34m)\u001b[0m\u001b[0;34m\u001b[0m\u001b[0;34m\u001b[0m\u001b[0m\n\u001b[0m",
      "\u001b[0;31mTypeError\u001b[0m: mysum() missing 1 required positional argument: 'numbers'"
     ]
    }
   ],
   "source": [
    "mysum()"
   ]
  },
  {
   "cell_type": "markdown",
   "id": "ad1ef712",
   "metadata": {},
   "source": [
    "# Two types of arguments: Positional and keyword\n",
    "\n",
    "When we call a function in Python, we can pass one or more arguments. These arguments are values that are assigned to parameters.\n",
    "\n",
    "How does Python decide which argument should be assigned to which parameter?\n",
    "\n",
    "There are two techniques:\n",
    "\n",
    "1. Positional arguments: The arguments are assigned to parameters based on their *positions*.  The first argument is assigned to the first parameter, the second to the second, etc.\n",
    "2. Keyword arguments: Here, the argument is of the form `name=value`, with an `=` between the name and value. The name must be a parameter name, and Python uses that to make the assignment."
   ]
  },
  {
   "cell_type": "code",
   "execution_count": 34,
   "id": "76c42833",
   "metadata": {},
   "outputs": [],
   "source": [
    "def add(a, b):\n",
    "    print(a + b)"
   ]
  },
  {
   "cell_type": "code",
   "execution_count": 35,
   "id": "b9c2f002",
   "metadata": {},
   "outputs": [
    {
     "name": "stdout",
     "output_type": "stream",
     "text": [
      "13\n"
     ]
    }
   ],
   "source": [
    "# parameters: a  b\n",
    "# arguments:  10 3\n",
    "\n",
    "add(10, 3)   # two positional arguments"
   ]
  },
  {
   "cell_type": "code",
   "execution_count": 36,
   "id": "879b352f",
   "metadata": {},
   "outputs": [
    {
     "name": "stdout",
     "output_type": "stream",
     "text": [
      "13\n"
     ]
    }
   ],
   "source": [
    "# parameters: a  b\n",
    "# arguments:  10 3\n",
    "\n",
    "add(a=10, b=3)  # keyword arguments"
   ]
  },
  {
   "cell_type": "code",
   "execution_count": 37,
   "id": "662c6490",
   "metadata": {},
   "outputs": [
    {
     "name": "stdout",
     "output_type": "stream",
     "text": [
      "13\n"
     ]
    }
   ],
   "source": [
    "# parameters: a  b\n",
    "# arguments:   a  10\n",
    "\n",
    "add(b=10, a=3)"
   ]
  },
  {
   "cell_type": "code",
   "execution_count": 38,
   "id": "7444103c",
   "metadata": {},
   "outputs": [
    {
     "name": "stdout",
     "output_type": "stream",
     "text": [
      "13\n"
     ]
    }
   ],
   "source": [
    "# can you mix positional and keyword arguments? YES, so long as all positional\n",
    "# come before all keyword\n",
    "\n",
    "add(10, b=3)   # positional, then keyword -- that's OK"
   ]
  },
  {
   "cell_type": "code",
   "execution_count": 39,
   "id": "d87572d4",
   "metadata": {},
   "outputs": [
    {
     "ename": "SyntaxError",
     "evalue": "positional argument follows keyword argument (2659952914.py, line 1)",
     "output_type": "error",
     "traceback": [
      "\u001b[0;36m  File \u001b[0;32m\"/var/folders/rr/0mnyyv811fs5vyp22gf4fxk00000gn/T/ipykernel_86208/2659952914.py\"\u001b[0;36m, line \u001b[0;32m1\u001b[0m\n\u001b[0;31m    add(a=10, 3)   # keyword, then positional -- not OK!\u001b[0m\n\u001b[0m               ^\u001b[0m\n\u001b[0;31mSyntaxError\u001b[0m\u001b[0;31m:\u001b[0m positional argument follows keyword argument\n"
     ]
    }
   ],
   "source": [
    "add(a=10, 3)   # keyword, then positional -- not OK!"
   ]
  },
  {
   "cell_type": "markdown",
   "id": "e1cf6ba1",
   "metadata": {},
   "source": [
    "# Next up\n",
    "\n",
    "1. Return values (how does a function \"return\" something to its caller?)\n",
    "2. Default argument values (i.e., making arguments optional)\n"
   ]
  },
  {
   "cell_type": "markdown",
   "id": "2c194b12",
   "metadata": {},
   "source": [
    "# Return values\n",
    "\n",
    "When I call a function, the function can print whatever it wants. It can print once, or many times.\n",
    "\n",
    "More important than what a function prints is the value that it \"returns.\"\n",
    "\n",
    "When I call `len('abcd')`, I don't want `len` to print `4` on the screen.  I want it to \"return\" a value that I can then assign to a variable, print, or do something else with.\n",
    "\n",
    "A function can return one value, because a function only returns once.  In assignment, the function call is replaced with its return value.\n",
    "\n",
    "A function can return a value with the `return` statement.  A function can return any type of Python data.  It can even have more than one `return` statement, but only one will ever be executed.  (This is comment in `if/else` blocks, where you return one thing if a condition is true, and another if it's not."
   ]
  },
  {
   "cell_type": "code",
   "execution_count": 40,
   "id": "d3253314",
   "metadata": {},
   "outputs": [],
   "source": [
    "# because len('abcd') returns a value,\n",
    "# I can put it on the right side of assignment\n",
    "\n",
    "x = len('abcd')     # same as x=4, because len('abcd') is replaced by the value 4, its return value."
   ]
  },
  {
   "cell_type": "code",
   "execution_count": 41,
   "id": "4ef3e588",
   "metadata": {},
   "outputs": [
    {
     "data": {
      "text/plain": [
       "4"
      ]
     },
     "execution_count": 41,
     "metadata": {},
     "output_type": "execute_result"
    }
   ],
   "source": [
    "x"
   ]
  },
  {
   "cell_type": "code",
   "execution_count": 42,
   "id": "d15a2f9a",
   "metadata": {},
   "outputs": [],
   "source": [
    "def hello(name):\n",
    "    return f'Hello, {name}!'"
   ]
  },
  {
   "cell_type": "code",
   "execution_count": 43,
   "id": "a3ee58ac",
   "metadata": {},
   "outputs": [],
   "source": [
    "s = hello('Reuven')  "
   ]
  },
  {
   "cell_type": "code",
   "execution_count": 44,
   "id": "214a1d52",
   "metadata": {},
   "outputs": [
    {
     "data": {
      "text/plain": [
       "'Hello, Reuven!'"
      ]
     },
     "execution_count": 44,
     "metadata": {},
     "output_type": "execute_result"
    }
   ],
   "source": [
    "s"
   ]
  },
  {
   "cell_type": "code",
   "execution_count": 45,
   "id": "ef1e2b10",
   "metadata": {},
   "outputs": [
    {
     "name": "stdout",
     "output_type": "stream",
     "text": [
      "Hello, Reuven!\n"
     ]
    }
   ],
   "source": [
    "print(s)"
   ]
  },
  {
   "cell_type": "code",
   "execution_count": 46,
   "id": "c2c2d3b0",
   "metadata": {},
   "outputs": [
    {
     "name": "stdout",
     "output_type": "stream",
     "text": [
      "Hello, Reuven!\n"
     ]
    }
   ],
   "source": [
    "print(hello('Reuven'))"
   ]
  },
  {
   "cell_type": "markdown",
   "id": "47e428b9",
   "metadata": {},
   "source": [
    "# `return` vs. `print`\n",
    "\n",
    "If a function prints something on the screen, then that's great for the end user, but not so good for the program -- we cannot capture, assign, or otherwise use that value.\n",
    "\n",
    "But if a function returns a value, then we can decide what to do with it.\n",
    "\n",
    "On balance, a function should use `print` if its job is to print things, or if you're debugging.\n",
    "\n",
    "In all other cases, I suggest using `return`."
   ]
  },
  {
   "cell_type": "code",
   "execution_count": 47,
   "id": "ef3d9ac3",
   "metadata": {},
   "outputs": [],
   "source": [
    "def div(first, second):\n",
    "    if second != 0:\n",
    "        return first / second\n",
    "    else:\n",
    "        return 'You cannot divide by zero!'"
   ]
  },
  {
   "cell_type": "code",
   "execution_count": 48,
   "id": "fae55cc7",
   "metadata": {},
   "outputs": [
    {
     "data": {
      "text/plain": [
       "5.0"
      ]
     },
     "execution_count": 48,
     "metadata": {},
     "output_type": "execute_result"
    }
   ],
   "source": [
    "div(10, 2)"
   ]
  },
  {
   "cell_type": "code",
   "execution_count": 49,
   "id": "a68c892a",
   "metadata": {},
   "outputs": [
    {
     "data": {
      "text/plain": [
       "'You cannot divide by zero!'"
      ]
     },
     "execution_count": 49,
     "metadata": {},
     "output_type": "execute_result"
    }
   ],
   "source": [
    "div(10, 0)"
   ]
  },
  {
   "cell_type": "markdown",
   "id": "0099c816",
   "metadata": {},
   "source": [
    "# Every function returns a value\n",
    "\n",
    "Even if you don't use `return` in a function, it'll still return a value when it's over. That's because Python functions return the special value `None` when you don't explicitly say what to return.\n",
    "\n"
   ]
  },
  {
   "cell_type": "markdown",
   "id": "5054f22a",
   "metadata": {},
   "source": [
    "# Exercise: min and max\n",
    "\n",
    "1. Write a function, `min_and_max`, that takes a list of numbers as an argument.\n",
    "2. The output from the function will be a two-element list, in which the first is the smallest number in the input, and the second is the largest number in the input.\n",
    "3. Return this list from the function.\n",
    "\n",
    "```python\n",
    "min_and_max([100, 50, 75, 20, 80])   # [20, 100]\n",
    "min_and_max([5])                     # [5, 5]\n",
    "```\n",
    "\n",
    "There are `min` and `max` functions in Python. Don't use them! Instead, use a `for` loop to iterate over the input list/tuple."
   ]
  },
  {
   "cell_type": "code",
   "execution_count": 50,
   "id": "d838d187",
   "metadata": {},
   "outputs": [],
   "source": [
    "def min_and_max(numbers):\n",
    "    smallest = numbers[0]   # assume the first number is the smallest\n",
    "    biggest = numbers[0]    # assume the first number is the biggest\n",
    "    \n",
    "    for one_number in numbers:\n",
    "        if one_number < smallest:\n",
    "            smallest = one_number\n",
    "        if one_number > biggest:\n",
    "            biggest = one_number\n",
    "            \n",
    "    return [smallest, biggest]"
   ]
  },
  {
   "cell_type": "code",
   "execution_count": 51,
   "id": "403fa0d1",
   "metadata": {},
   "outputs": [
    {
     "data": {
      "text/plain": [
       "[20, 100]"
      ]
     },
     "execution_count": 51,
     "metadata": {},
     "output_type": "execute_result"
    }
   ],
   "source": [
    "min_and_max([100, 50, 75, 20, 80])"
   ]
  },
  {
   "cell_type": "code",
   "execution_count": 52,
   "id": "2665b1dd",
   "metadata": {},
   "outputs": [
    {
     "data": {
      "text/plain": [
       "[5, 5]"
      ]
     },
     "execution_count": 52,
     "metadata": {},
     "output_type": "execute_result"
    }
   ],
   "source": [
    "min_and_max([5])"
   ]
  },
  {
   "cell_type": "code",
   "execution_count": 53,
   "id": "ddbb502a",
   "metadata": {},
   "outputs": [
    {
     "data": {
      "text/plain": [
       "['I', 'using']"
      ]
     },
     "execution_count": 53,
     "metadata": {},
     "output_type": "execute_result"
    }
   ],
   "source": [
    "# where in min_and_max do we mention numbers?\n",
    "# we don't! We're just comparing < and >\n",
    "# what if I were to find, in a given list of strings, the first and last words, alphabetically?\n",
    "\n",
    "min_and_max('this is a test sentence that I am using for my function'.split())"
   ]
  },
  {
   "cell_type": "code",
   "execution_count": 56,
   "id": "b283f2a8",
   "metadata": {},
   "outputs": [],
   "source": [
    "# can I use my existing function in a new function? YES!\n",
    "# can I write a function that gets the first and last words (alphabetically) in a file?  YES!\n",
    "\n",
    "def first_last_words_from_file(filename):     # find the first and last (alphabetically) words in a file\n",
    "\n",
    "    # create a list of all words from the file\n",
    "    words = []\n",
    "    for one_line in open(filename):\n",
    "        words += one_line.split()\n",
    "        \n",
    "    # now, words contains a list of strings -- all words in the file\n",
    "    return min_and_max(words)\n"
   ]
  },
  {
   "cell_type": "code",
   "execution_count": 54,
   "id": "103bd6a8",
   "metadata": {},
   "outputs": [
    {
     "name": "stdout",
     "output_type": "stream",
     "text": [
      "config.txt\t      mini-access-log.txt  nums.txt\t  wcfile.txt\r\n",
      "linux-etc-passwd.txt  myfile.txt\t   shoe-data.txt\r\n"
     ]
    }
   ],
   "source": [
    "!ls *.txt"
   ]
  },
  {
   "cell_type": "code",
   "execution_count": 55,
   "id": "90b2a8cd",
   "metadata": {},
   "outputs": [
    {
     "name": "stdout",
     "output_type": "stream",
     "text": [
      "This is a test file.\r\n",
      "\r\n",
      "It contains 28 words and 20 different words.\r\n",
      "\r\n",
      "It also contains 165 characters.\r\n",
      "\r\n",
      "It also contains 11 lines.\r\n",
      "\r\n",
      "It is also self-referential.\r\n",
      "\r\n",
      "Wow!\r\n"
     ]
    }
   ],
   "source": [
    "!cat wcfile.txt"
   ]
  },
  {
   "cell_type": "code",
   "execution_count": 57,
   "id": "b97e9128",
   "metadata": {},
   "outputs": [
    {
     "data": {
      "text/plain": [
       "['11', 'words.']"
      ]
     },
     "execution_count": 57,
     "metadata": {},
     "output_type": "execute_result"
    }
   ],
   "source": [
    "first_last_words_from_file('wcfile.txt')"
   ]
  },
  {
   "cell_type": "code",
   "execution_count": 58,
   "id": "c2df04da",
   "metadata": {},
   "outputs": [
    {
     "data": {
      "text/plain": [
       "[10, 10]"
      ]
     },
     "execution_count": 58,
     "metadata": {},
     "output_type": "execute_result"
    }
   ],
   "source": [
    "min_and_max([10])"
   ]
  },
  {
   "cell_type": "code",
   "execution_count": 59,
   "id": "4131c43b",
   "metadata": {},
   "outputs": [
    {
     "ename": "TypeError",
     "evalue": "'int' object is not subscriptable",
     "output_type": "error",
     "traceback": [
      "\u001b[0;31m---------------------------------------------------------------------------\u001b[0m",
      "\u001b[0;31mTypeError\u001b[0m                                 Traceback (most recent call last)",
      "\u001b[0;32m/var/folders/rr/0mnyyv811fs5vyp22gf4fxk00000gn/T/ipykernel_86208/3395039632.py\u001b[0m in \u001b[0;36m<module>\u001b[0;34m\u001b[0m\n\u001b[0;32m----> 1\u001b[0;31m \u001b[0mmin_and_max\u001b[0m\u001b[0;34m(\u001b[0m\u001b[0;36m10\u001b[0m\u001b[0;34m)\u001b[0m\u001b[0;34m\u001b[0m\u001b[0;34m\u001b[0m\u001b[0m\n\u001b[0m",
      "\u001b[0;32m/var/folders/rr/0mnyyv811fs5vyp22gf4fxk00000gn/T/ipykernel_86208/203511397.py\u001b[0m in \u001b[0;36mmin_and_max\u001b[0;34m(numbers)\u001b[0m\n\u001b[1;32m      1\u001b[0m \u001b[0;32mdef\u001b[0m \u001b[0mmin_and_max\u001b[0m\u001b[0;34m(\u001b[0m\u001b[0mnumbers\u001b[0m\u001b[0;34m)\u001b[0m\u001b[0;34m:\u001b[0m\u001b[0;34m\u001b[0m\u001b[0;34m\u001b[0m\u001b[0m\n\u001b[0;32m----> 2\u001b[0;31m     \u001b[0msmallest\u001b[0m \u001b[0;34m=\u001b[0m \u001b[0mnumbers\u001b[0m\u001b[0;34m[\u001b[0m\u001b[0;36m0\u001b[0m\u001b[0;34m]\u001b[0m   \u001b[0;31m# assume the first number is the smallest\u001b[0m\u001b[0;34m\u001b[0m\u001b[0;34m\u001b[0m\u001b[0m\n\u001b[0m\u001b[1;32m      3\u001b[0m     \u001b[0mbiggest\u001b[0m \u001b[0;34m=\u001b[0m \u001b[0mnumbers\u001b[0m\u001b[0;34m[\u001b[0m\u001b[0;36m0\u001b[0m\u001b[0;34m]\u001b[0m    \u001b[0;31m# assume the first number is the biggest\u001b[0m\u001b[0;34m\u001b[0m\u001b[0;34m\u001b[0m\u001b[0m\n\u001b[1;32m      4\u001b[0m \u001b[0;34m\u001b[0m\u001b[0m\n\u001b[1;32m      5\u001b[0m     \u001b[0;32mfor\u001b[0m \u001b[0mone_number\u001b[0m \u001b[0;32min\u001b[0m \u001b[0mnumbers\u001b[0m\u001b[0;34m:\u001b[0m\u001b[0;34m\u001b[0m\u001b[0;34m\u001b[0m\u001b[0m\n",
      "\u001b[0;31mTypeError\u001b[0m: 'int' object is not subscriptable"
     ]
    }
   ],
   "source": [
    "min_and_max(10)"
   ]
  },
  {
   "cell_type": "code",
   "execution_count": 60,
   "id": "3edfba01",
   "metadata": {},
   "outputs": [],
   "source": [
    "def add(first, second):\n",
    "    return first + second"
   ]
  },
  {
   "cell_type": "code",
   "execution_count": 61,
   "id": "83647e79",
   "metadata": {},
   "outputs": [
    {
     "data": {
      "text/plain": [
       "13"
      ]
     },
     "execution_count": 61,
     "metadata": {},
     "output_type": "execute_result"
    }
   ],
   "source": [
    "add(10, 3)"
   ]
  },
  {
   "cell_type": "code",
   "execution_count": 63,
   "id": "c3db7ac6",
   "metadata": {},
   "outputs": [
    {
     "ename": "TypeError",
     "evalue": "add() missing 1 required positional argument: 'second'",
     "output_type": "error",
     "traceback": [
      "\u001b[0;31m---------------------------------------------------------------------------\u001b[0m",
      "\u001b[0;31mTypeError\u001b[0m                                 Traceback (most recent call last)",
      "\u001b[0;32m/var/folders/rr/0mnyyv811fs5vyp22gf4fxk00000gn/T/ipykernel_86208/2138195058.py\u001b[0m in \u001b[0;36m<module>\u001b[0;34m\u001b[0m\n\u001b[1;32m      1\u001b[0m \u001b[0;31m# what if I call add with just one argument\u001b[0m\u001b[0;34m\u001b[0m\u001b[0;34m\u001b[0m\u001b[0m\n\u001b[0;32m----> 2\u001b[0;31m \u001b[0madd\u001b[0m\u001b[0;34m(\u001b[0m\u001b[0;36m10\u001b[0m\u001b[0;34m)\u001b[0m\u001b[0;34m\u001b[0m\u001b[0;34m\u001b[0m\u001b[0m\n\u001b[0m",
      "\u001b[0;31mTypeError\u001b[0m: add() missing 1 required positional argument: 'second'"
     ]
    }
   ],
   "source": [
    "# what if I call add with just one argument\n",
    "add(10)"
   ]
  },
  {
   "cell_type": "code",
   "execution_count": 64,
   "id": "82b8d1c3",
   "metadata": {},
   "outputs": [],
   "source": [
    "# I can tell Python to have a default argument value for second\n",
    "# that effectively makes second optional\n",
    "\n",
    "def add(first, second=3):    # here, we've specified that second's default value is 3\n",
    "    return first + second"
   ]
  },
  {
   "cell_type": "code",
   "execution_count": 65,
   "id": "8b4a83e8",
   "metadata": {},
   "outputs": [
    {
     "data": {
      "text/plain": [
       "12"
      ]
     },
     "execution_count": 65,
     "metadata": {},
     "output_type": "execute_result"
    }
   ],
   "source": [
    "# parameters: first  second\n",
    "# arguments    10     2\n",
    "\n",
    "add(10, 2)  "
   ]
  },
  {
   "cell_type": "code",
   "execution_count": 66,
   "id": "f61e372b",
   "metadata": {},
   "outputs": [
    {
     "data": {
      "text/plain": [
       "13"
      ]
     },
     "execution_count": 66,
     "metadata": {},
     "output_type": "execute_result"
    }
   ],
   "source": [
    "# parameters: first second\n",
    "# arguments:   10     3\n",
    "\n",
    "add(10)"
   ]
  },
  {
   "cell_type": "markdown",
   "id": "cda6f89c",
   "metadata": {},
   "source": [
    "# Default parameter values\n",
    "\n",
    "1. Any parameter in a Python function can have a default value. This value is assigned if, when calling the function, you don't provide an argument for this parameter.\n",
    "2. Just as when we call functions, positional arguments must all come before keyword arguments, so too must all mandatory parameters (i.e., those without defaults) come before optional ones (i.e., those with defaults).\n",
    "3. Don't use mutable values (e.g., lists and dicts) as defaults."
   ]
  },
  {
   "cell_type": "code",
   "execution_count": 67,
   "id": "9be5268d",
   "metadata": {},
   "outputs": [],
   "source": [
    "def add(first=2, second=3):\n",
    "    return first + second"
   ]
  },
  {
   "cell_type": "code",
   "execution_count": 68,
   "id": "9310483b",
   "metadata": {},
   "outputs": [
    {
     "data": {
      "text/plain": [
       "5"
      ]
     },
     "execution_count": 68,
     "metadata": {},
     "output_type": "execute_result"
    }
   ],
   "source": [
    "add()"
   ]
  },
  {
   "cell_type": "code",
   "execution_count": 69,
   "id": "874e946e",
   "metadata": {},
   "outputs": [
    {
     "data": {
      "text/plain": [
       "13"
      ]
     },
     "execution_count": 69,
     "metadata": {},
     "output_type": "execute_result"
    }
   ],
   "source": [
    "add(10)"
   ]
  },
  {
   "cell_type": "code",
   "execution_count": 70,
   "id": "0c558a51",
   "metadata": {},
   "outputs": [
    {
     "data": {
      "text/plain": [
       "12"
      ]
     },
     "execution_count": 70,
     "metadata": {},
     "output_type": "execute_result"
    }
   ],
   "source": [
    "add(second=10)"
   ]
  },
  {
   "cell_type": "code",
   "execution_count": 71,
   "id": "def7c192",
   "metadata": {},
   "outputs": [
    {
     "data": {
      "text/plain": [
       "13"
      ]
     },
     "execution_count": 71,
     "metadata": {},
     "output_type": "execute_result"
    }
   ],
   "source": [
    "add(3, second=10)"
   ]
  },
  {
   "cell_type": "code",
   "execution_count": 72,
   "id": "c3c4b97e",
   "metadata": {},
   "outputs": [
    {
     "ename": "SyntaxError",
     "evalue": "positional argument follows keyword argument (2601075463.py, line 1)",
     "output_type": "error",
     "traceback": [
      "\u001b[0;36m  File \u001b[0;32m\"/var/folders/rr/0mnyyv811fs5vyp22gf4fxk00000gn/T/ipykernel_86208/2601075463.py\"\u001b[0;36m, line \u001b[0;32m1\u001b[0m\n\u001b[0;31m    add(first=3, 10)\u001b[0m\n\u001b[0m                   ^\u001b[0m\n\u001b[0;31mSyntaxError\u001b[0m\u001b[0;31m:\u001b[0m positional argument follows keyword argument\n"
     ]
    }
   ],
   "source": [
    "add(first=3, 10)"
   ]
  },
  {
   "cell_type": "code",
   "execution_count": 73,
   "id": "dd9f3558",
   "metadata": {},
   "outputs": [
    {
     "ename": "SyntaxError",
     "evalue": "non-default argument follows default argument (2621524490.py, line 1)",
     "output_type": "error",
     "traceback": [
      "\u001b[0;36m  File \u001b[0;32m\"/var/folders/rr/0mnyyv811fs5vyp22gf4fxk00000gn/T/ipykernel_86208/2621524490.py\"\u001b[0;36m, line \u001b[0;32m1\u001b[0m\n\u001b[0;31m    def add(first=2, second):\u001b[0m\n\u001b[0m                     ^\u001b[0m\n\u001b[0;31mSyntaxError\u001b[0m\u001b[0;31m:\u001b[0m non-default argument follows default argument\n"
     ]
    }
   ],
   "source": [
    "def add(first=2, second):\n",
    "    return first + second"
   ]
  },
  {
   "cell_type": "markdown",
   "id": "1c351960",
   "metadata": {},
   "source": [
    "# Exercise: Count characters\n",
    "\n",
    "1. Write a function, `count_characters`, that takes two arguments:\n",
    "    - The name of the file you want to read from\n",
    "    - A string indicating which characters you want to count.  The default will be vowels (a, e, i, o, and u).\n",
    "2. The function should return an integer, the number of times the specified characters appeared in the file.\n",
    "\n",
    "Example:\n",
    "\n",
    "    count_characters('/etc/passwd', 'aeiou')   # how many vowels are in the file?\n",
    "    count_characters('wcfile.txt', '!?.')      # how many end-of-sentence punctuation marks are there?\n",
    "    "
   ]
  },
  {
   "cell_type": "code",
   "execution_count": 74,
   "id": "788dffec",
   "metadata": {},
   "outputs": [],
   "source": [
    "def count_characters(filename):\n",
    "    total = 0\n",
    "    \n",
    "    for one_line in open(filename):\n",
    "        for one_character in one_line.lower():\n",
    "            if one_character in 'aeiou':\n",
    "                total += 1\n",
    "                \n",
    "    return total"
   ]
  },
  {
   "cell_type": "code",
   "execution_count": 75,
   "id": "7c21f41e",
   "metadata": {},
   "outputs": [
    {
     "data": {
      "text/plain": [
       "44"
      ]
     },
     "execution_count": 75,
     "metadata": {},
     "output_type": "execute_result"
    }
   ],
   "source": [
    "# count the vowels\n",
    "count_characters('wcfile.txt')"
   ]
  },
  {
   "cell_type": "code",
   "execution_count": 76,
   "id": "7d7d665b",
   "metadata": {},
   "outputs": [],
   "source": [
    "def count_characters(filename, chars):\n",
    "    total = 0\n",
    "    \n",
    "    for one_line in open(filename):\n",
    "        for one_character in one_line.lower():\n",
    "            if one_character in chars:\n",
    "                total += 1\n",
    "                \n",
    "    return total"
   ]
  },
  {
   "cell_type": "code",
   "execution_count": 78,
   "id": "4061d7f2",
   "metadata": {},
   "outputs": [
    {
     "data": {
      "text/plain": [
       "44"
      ]
     },
     "execution_count": 78,
     "metadata": {},
     "output_type": "execute_result"
    }
   ],
   "source": [
    "# count the character in the 2nd argument, which happens to be 'aeiou'\n",
    "count_characters('wcfile.txt', 'aeiou')"
   ]
  },
  {
   "cell_type": "code",
   "execution_count": 79,
   "id": "3d03c2a7",
   "metadata": {},
   "outputs": [
    {
     "data": {
      "text/plain": [
       "6"
      ]
     },
     "execution_count": 79,
     "metadata": {},
     "output_type": "execute_result"
    }
   ],
   "source": [
    "count_characters('wcfile.txt', '!?.')"
   ]
  },
  {
   "cell_type": "code",
   "execution_count": 80,
   "id": "ef742ac2",
   "metadata": {},
   "outputs": [
    {
     "ename": "TypeError",
     "evalue": "count_characters() missing 1 required positional argument: 'chars'",
     "output_type": "error",
     "traceback": [
      "\u001b[0;31m---------------------------------------------------------------------------\u001b[0m",
      "\u001b[0;31mTypeError\u001b[0m                                 Traceback (most recent call last)",
      "\u001b[0;32m/var/folders/rr/0mnyyv811fs5vyp22gf4fxk00000gn/T/ipykernel_86208/881896316.py\u001b[0m in \u001b[0;36m<module>\u001b[0;34m\u001b[0m\n\u001b[0;32m----> 1\u001b[0;31m \u001b[0mcount_characters\u001b[0m\u001b[0;34m(\u001b[0m\u001b[0;34m'wcfile.txt'\u001b[0m\u001b[0;34m)\u001b[0m\u001b[0;34m\u001b[0m\u001b[0;34m\u001b[0m\u001b[0m\n\u001b[0m",
      "\u001b[0;31mTypeError\u001b[0m: count_characters() missing 1 required positional argument: 'chars'"
     ]
    }
   ],
   "source": [
    "count_characters('wcfile.txt')"
   ]
  },
  {
   "cell_type": "code",
   "execution_count": 81,
   "id": "53dfc01b",
   "metadata": {},
   "outputs": [],
   "source": [
    "# now our function has a default value of 'aeiou', for chars\n",
    "\n",
    "def count_characters(filename, chars='aeiou'):\n",
    "    total = 0\n",
    "    \n",
    "    for one_line in open(filename):\n",
    "        for one_character in one_line.lower():\n",
    "            if one_character in chars:\n",
    "                total += 1\n",
    "                \n",
    "    return total"
   ]
  },
  {
   "cell_type": "code",
   "execution_count": 82,
   "id": "c222973b",
   "metadata": {},
   "outputs": [
    {
     "data": {
      "text/plain": [
       "6"
      ]
     },
     "execution_count": 82,
     "metadata": {},
     "output_type": "execute_result"
    }
   ],
   "source": [
    "count_characters('wcfile.txt', '!?.')"
   ]
  },
  {
   "cell_type": "code",
   "execution_count": 83,
   "id": "b8486d6a",
   "metadata": {},
   "outputs": [
    {
     "data": {
      "text/plain": [
       "44"
      ]
     },
     "execution_count": 83,
     "metadata": {},
     "output_type": "execute_result"
    }
   ],
   "source": [
    "count_characters('wcfile.txt')  # now it'll look for vowels"
   ]
  },
  {
   "cell_type": "code",
   "execution_count": 84,
   "id": "d786a8c9",
   "metadata": {},
   "outputs": [
    {
     "data": {
      "text/plain": [
       "['ab', 'cd:ef', 'gh']"
      ]
     },
     "execution_count": 84,
     "metadata": {},
     "output_type": "execute_result"
    }
   ],
   "source": [
    "# split has a default!\n",
    "\n",
    "s = 'ab cd:ef gh'\n",
    "\n",
    "s.split(' ')"
   ]
  },
  {
   "cell_type": "code",
   "execution_count": 85,
   "id": "17870ade",
   "metadata": {},
   "outputs": [
    {
     "data": {
      "text/plain": [
       "['ab cd', 'ef gh']"
      ]
     },
     "execution_count": 85,
     "metadata": {},
     "output_type": "execute_result"
    }
   ],
   "source": [
    "s.split(':')"
   ]
  },
  {
   "cell_type": "code",
   "execution_count": 86,
   "id": "56150d36",
   "metadata": {},
   "outputs": [
    {
     "data": {
      "text/plain": [
       "['ab', 'cd:ef', 'gh']"
      ]
     },
     "execution_count": 86,
     "metadata": {},
     "output_type": "execute_result"
    }
   ],
   "source": [
    "s.split()   # look -- no argument at all!"
   ]
  },
  {
   "cell_type": "code",
   "execution_count": 87,
   "id": "b90c4ac3",
   "metadata": {},
   "outputs": [
    {
     "name": "stdout",
     "output_type": "stream",
     "text": [
      "Help on built-in function split:\n",
      "\n",
      "split(sep=None, maxsplit=-1) method of builtins.str instance\n",
      "    Return a list of the words in the string, using sep as the delimiter string.\n",
      "    \n",
      "    sep\n",
      "      The delimiter according which to split the string.\n",
      "      None (the default value) means split according to any whitespace,\n",
      "      and discard empty strings from the result.\n",
      "    maxsplit\n",
      "      Maximum number of splits to do.\n",
      "      -1 (the default value) means no limit.\n",
      "\n"
     ]
    }
   ],
   "source": [
    "help(s.split)   # what is this function's signature and documentation?"
   ]
  },
  {
   "cell_type": "code",
   "execution_count": 90,
   "id": "8c136894",
   "metadata": {},
   "outputs": [],
   "source": [
    "# let's change the function, so that if we don't specify characters,\n",
    "# it counts *all* characters\n",
    "\n",
    "# I'd suggest using None here\n",
    "\n",
    "def count_characters(filename, chars=None):\n",
    "    total = 0\n",
    "    \n",
    "    for one_line in open(filename):\n",
    "        for one_character in one_line.lower():\n",
    "\n",
    "            if chars == None:\n",
    "                total += 1\n",
    "\n",
    "            elif one_character in chars:\n",
    "                total += 1\n",
    "\n",
    "    return total"
   ]
  },
  {
   "cell_type": "code",
   "execution_count": 91,
   "id": "140d15f5",
   "metadata": {},
   "outputs": [
    {
     "data": {
      "text/plain": [
       "165"
      ]
     },
     "execution_count": 91,
     "metadata": {},
     "output_type": "execute_result"
    }
   ],
   "source": [
    "count_characters('wcfile.txt')"
   ]
  },
  {
   "cell_type": "code",
   "execution_count": 92,
   "id": "df798b1e",
   "metadata": {},
   "outputs": [
    {
     "data": {
      "text/plain": [
       "44"
      ]
     },
     "execution_count": 92,
     "metadata": {},
     "output_type": "execute_result"
    }
   ],
   "source": [
    "count_characters('wcfile.txt', 'aeiou')"
   ]
  },
  {
   "cell_type": "code",
   "execution_count": 93,
   "id": "f176d142",
   "metadata": {},
   "outputs": [
    {
     "data": {
      "text/plain": [
       "6"
      ]
     },
     "execution_count": 93,
     "metadata": {},
     "output_type": "execute_result"
    }
   ],
   "source": [
    "count_characters('wcfile.txt', '!?.')"
   ]
  },
  {
   "cell_type": "code",
   "execution_count": 94,
   "id": "e1666acd",
   "metadata": {},
   "outputs": [
    {
     "data": {
      "text/plain": [
       "['this', 'is', 'a', 'bunch', 'of', 'words']"
      ]
     },
     "execution_count": 94,
     "metadata": {},
     "output_type": "execute_result"
    }
   ],
   "source": [
    "s = 'this is a bunch of words'\n",
    "\n",
    "s.split()"
   ]
  },
  {
   "cell_type": "code",
   "execution_count": 96,
   "id": "1acf26f2",
   "metadata": {},
   "outputs": [
    {
     "data": {
      "text/plain": [
       "['this', 'is', 'a', 'bunch of words']"
      ]
     },
     "execution_count": 96,
     "metadata": {},
     "output_type": "execute_result"
    }
   ],
   "source": [
    "# I can use the \"maxsplit\" parameter to limit the number of times we cut\n",
    "s.split(maxsplit=3)"
   ]
  },
  {
   "cell_type": "markdown",
   "id": "1df1f891",
   "metadata": {},
   "source": [
    "# How are people supposed to know how many arguments to pass?\n",
    "\n",
    "If you're using PyCharm or VSCode, it'll give you some hints/warnings if you try to call a function with the wrong number of arguments. \n",
    "\n",
    "In general, though, Python assumes that people will read the documentation.  That's great, but (a) how do I read it, and (b) how can I write it?\n",
    "\n",
    "Python solves this with \"docstrings.\"  If the first line of a function is a string, then that is the documentation for the function, telling people how to invoke it.   This is *not* the same thing as a comment in the code! Comments are meant for maintainers, while docstrings are meant for users."
   ]
  },
  {
   "cell_type": "code",
   "execution_count": 99,
   "id": "b4d96ae4",
   "metadata": {},
   "outputs": [],
   "source": [
    "def hello(name):\n",
    "    \"\"\"A friendly function.\n",
    "    \n",
    "    Expects: A string\n",
    "    Modifies: Nothing\n",
    "    Returns: A friendly string with the user's name\n",
    "    \"\"\"\n",
    "    return f'Hello, {name}!'"
   ]
  },
  {
   "cell_type": "code",
   "execution_count": 100,
   "id": "e5f9d06d",
   "metadata": {},
   "outputs": [
    {
     "name": "stdout",
     "output_type": "stream",
     "text": [
      "Help on function hello in module __main__:\n",
      "\n",
      "hello(name)\n",
      "    A friendly function.\n",
      "    \n",
      "    Expects: A string\n",
      "    Modifies: Nothing\n",
      "    Returns: A friendly string with the user's name\n",
      "\n"
     ]
    }
   ],
   "source": [
    "help(hello)  # In Jupyter, I can use \"help\" on a function to get info about it"
   ]
  },
  {
   "cell_type": "code",
   "execution_count": 101,
   "id": "43526440",
   "metadata": {},
   "outputs": [],
   "source": [
    "def myfunc():\n",
    "    return(5)"
   ]
  },
  {
   "cell_type": "code",
   "execution_count": 102,
   "id": "32103187",
   "metadata": {},
   "outputs": [
    {
     "data": {
      "text/plain": [
       "5"
      ]
     },
     "execution_count": 102,
     "metadata": {},
     "output_type": "execute_result"
    }
   ],
   "source": [
    "myfunc()"
   ]
  },
  {
   "cell_type": "markdown",
   "id": "4f311491",
   "metadata": {},
   "source": [
    "# Next up\n",
    "\n",
    "1. Mutable defaults -- a bad idea\n",
    "2. Complex return values (returning more than one thing?)\n",
    "3. Unpacking in general, and with function return values\n",
    "4. Scoping (local vs. global variables)"
   ]
  },
  {
   "cell_type": "markdown",
   "id": "5893d153",
   "metadata": {},
   "source": [
    "# Mutable vs. immutable\n",
    "\n",
    "Mutable values can be changed.  For example, lists can be modified.  Strings cannot be modified."
   ]
  },
  {
   "cell_type": "code",
   "execution_count": 103,
   "id": "1667c157",
   "metadata": {},
   "outputs": [
    {
     "data": {
      "text/plain": [
       "['!', 20, 30]"
      ]
     },
     "execution_count": 103,
     "metadata": {},
     "output_type": "execute_result"
    }
   ],
   "source": [
    "mylist = [10, 20, 30]\n",
    "mylist[0] = '!'   # I've changed mylist\n",
    "mylist"
   ]
  },
  {
   "cell_type": "code",
   "execution_count": 104,
   "id": "dc0e769b",
   "metadata": {},
   "outputs": [
    {
     "data": {
      "text/plain": [
       "['!', 20, 30, 40]"
      ]
     },
     "execution_count": 104,
     "metadata": {},
     "output_type": "execute_result"
    }
   ],
   "source": [
    "mylist.append(40)    # I've changed mylist -- I made it longer\n",
    "mylist"
   ]
  },
  {
   "cell_type": "code",
   "execution_count": 105,
   "id": "90ef8470",
   "metadata": {},
   "outputs": [
    {
     "ename": "TypeError",
     "evalue": "'str' object does not support item assignment",
     "output_type": "error",
     "traceback": [
      "\u001b[0;31m---------------------------------------------------------------------------\u001b[0m",
      "\u001b[0;31mTypeError\u001b[0m                                 Traceback (most recent call last)",
      "\u001b[0;32m/var/folders/rr/0mnyyv811fs5vyp22gf4fxk00000gn/T/ipykernel_86208/2784001332.py\u001b[0m in \u001b[0;36m<module>\u001b[0;34m\u001b[0m\n\u001b[1;32m      1\u001b[0m \u001b[0ms\u001b[0m \u001b[0;34m=\u001b[0m \u001b[0;34m'abcd'\u001b[0m\u001b[0;34m\u001b[0m\u001b[0;34m\u001b[0m\u001b[0m\n\u001b[0;32m----> 2\u001b[0;31m \u001b[0ms\u001b[0m\u001b[0;34m[\u001b[0m\u001b[0;36m0\u001b[0m\u001b[0;34m]\u001b[0m \u001b[0;34m=\u001b[0m \u001b[0;34m'!'\u001b[0m  \u001b[0;31m# I cannot change s!\u001b[0m\u001b[0;34m\u001b[0m\u001b[0;34m\u001b[0m\u001b[0m\n\u001b[0m",
      "\u001b[0;31mTypeError\u001b[0m: 'str' object does not support item assignment"
     ]
    }
   ],
   "source": [
    "s = 'abcd'\n",
    "s[0] = '!'  # I cannot change s!"
   ]
  },
  {
   "cell_type": "markdown",
   "id": "8a77bbad",
   "metadata": {},
   "source": [
    "# Mutable vs. immutable defaults\n",
    "\n",
    "Python will allow you to use any value you want as a default to a function parameter.  However, it's a really bad idea to use a mutable value, such as a list or a dictionary.\n",
    "\n",
    "Stick to immutable values, such as `None`, integers, floats, strings, or even (sometimes) tuples, as your defaults to avoid problems."
   ]
  },
  {
   "cell_type": "code",
   "execution_count": 106,
   "id": "6c6e02c6",
   "metadata": {},
   "outputs": [
    {
     "data": {
      "text/plain": [
       "[1]"
      ]
     },
     "execution_count": 106,
     "metadata": {},
     "output_type": "execute_result"
    }
   ],
   "source": [
    "\n",
    "def add_one(x=[]):\n",
    "    x.append(1)\n",
    "    return x\n",
    "\n",
    "# when I call this function without any arguments, what do I get back?\n",
    "\n",
    "# parameters: x\n",
    "# arguments: []\n",
    "\n",
    "add_one()"
   ]
  },
  {
   "cell_type": "code",
   "execution_count": 107,
   "id": "f8e7cdfe",
   "metadata": {},
   "outputs": [
    {
     "data": {
      "text/plain": [
       "([1],)"
      ]
     },
     "execution_count": 107,
     "metadata": {},
     "output_type": "execute_result"
    }
   ],
   "source": [
    "add_one.__defaults__   # this is where defaults are stored!"
   ]
  },
  {
   "cell_type": "code",
   "execution_count": 108,
   "id": "7a42509a",
   "metadata": {},
   "outputs": [
    {
     "data": {
      "text/plain": [
       "[1, 1]"
      ]
     },
     "execution_count": 108,
     "metadata": {},
     "output_type": "execute_result"
    }
   ],
   "source": [
    "add_one()"
   ]
  },
  {
   "cell_type": "code",
   "execution_count": 109,
   "id": "03dd2b6f",
   "metadata": {},
   "outputs": [
    {
     "data": {
      "text/plain": [
       "[1, 1, 1]"
      ]
     },
     "execution_count": 109,
     "metadata": {},
     "output_type": "execute_result"
    }
   ],
   "source": [
    "add_one()"
   ]
  },
  {
   "cell_type": "markdown",
   "id": "c3e3a0d8",
   "metadata": {},
   "source": [
    "# Mutable defaults are dangerous\n",
    "\n",
    "If you have a mutable default in your function, and you modify that mutable default value, the change will stick around in future calls to the function.\n",
    "\n",
    "This is almost certainly a terrible, terrible thing that is hard to understand and debug.\n",
    "\n",
    "Try to avoid it as much as possible.  PyCharm and VSCode will both warn you if you have a mutable default."
   ]
  },
  {
   "cell_type": "markdown",
   "id": "61b9d653",
   "metadata": {},
   "source": [
    "# Return values\n",
    "\n",
    "In my function, I can use `return` to return any value that I want.  Usually, I'll want to return something that reflects what the function has done."
   ]
  },
  {
   "cell_type": "code",
   "execution_count": 110,
   "id": "e5005aa9",
   "metadata": {},
   "outputs": [],
   "source": [
    "def count_vowels(s):\n",
    "    total = 0\n",
    "    \n",
    "    for one_character in s.lower():\n",
    "        if one_character in 'aeiou':\n",
    "            total += 1\n",
    "            \n",
    "    return total"
   ]
  },
  {
   "cell_type": "code",
   "execution_count": 111,
   "id": "53fedc73",
   "metadata": {},
   "outputs": [
    {
     "data": {
      "text/plain": [
       "6"
      ]
     },
     "execution_count": 111,
     "metadata": {},
     "output_type": "execute_result"
    }
   ],
   "source": [
    "count_vowels('hello out there')"
   ]
  },
  {
   "cell_type": "code",
   "execution_count": 112,
   "id": "3f1cc668",
   "metadata": {},
   "outputs": [],
   "source": [
    "# can I return something more sophisticated?  Yes!\n",
    "# I can return a list\n",
    "\n",
    "def numbers_less_than(numbers, threshold):\n",
    "    output = []\n",
    "    \n",
    "    for one_number in numbers:\n",
    "        if one_number < threshold:\n",
    "            output.append(one_number)\n",
    "            \n",
    "    return output"
   ]
  },
  {
   "cell_type": "code",
   "execution_count": 113,
   "id": "e5bc41e8",
   "metadata": {},
   "outputs": [
    {
     "data": {
      "text/plain": [
       "[10, 20, 30]"
      ]
     },
     "execution_count": 113,
     "metadata": {},
     "output_type": "execute_result"
    }
   ],
   "source": [
    "numbers_less_than([10, 20, 30, 40, 50], 35)"
   ]
  },
  {
   "cell_type": "code",
   "execution_count": null,
   "id": "8d4244a6",
   "metadata": {},
   "outputs": [],
   "source": [
    "def odds_and_evens(numbers):\n",
    "    output = {'odds':[],    # dict keys are strings, dict values are lists\n",
    "             'evens':[]}\n",
    "    \n",
    "    for one_number in numbers:\n",
    "        if one_number % 2 == 1:   # if it's odd (i.e., remainder is 1 after dividing by 2)\n",
    "            output['odds'].append(one_number)\n",
    "        else:\n",
    "            output['evens'].append(one_number)\n",
    "            \n",
    "    return output "
   ]
  },
  {
   "cell_type": "code",
   "execution_count": 114,
   "id": "657f8dc1",
   "metadata": {},
   "outputs": [
    {
     "data": {
      "text/plain": [
       "4"
      ]
     },
     "execution_count": 114,
     "metadata": {},
     "output_type": "execute_result"
    }
   ],
   "source": [
    "len('abcd')   # len is a function -- it has no object"
   ]
  },
  {
   "cell_type": "code",
   "execution_count": 115,
   "id": "fb8eb2e6",
   "metadata": {},
   "outputs": [
    {
     "data": {
      "text/plain": [
       "'ABCD'"
      ]
     },
     "execution_count": 115,
     "metadata": {},
     "output_type": "execute_result"
    }
   ],
   "source": [
    "s = 'abcd'\n",
    "s.upper()    # upper is a string method; we run it on s"
   ]
  },
  {
   "cell_type": "markdown",
   "id": "3ec5bc91",
   "metadata": {},
   "source": [
    "# Counting characters, dict version\n",
    "\n",
    "1. Write a function, `count_characters`, which takes one argument, `s` a string\n",
    "2. Define an output dict, `output`.\n",
    "3. Go through the user's input string `s`, one character at a time.\n",
    "    - If we've never seen this character before (i.e., if the character is *not* a key in `output`), then assign the character as a key, and 1 as the value.\n",
    "    - If we *have* seen the character before, then add 1 to the value associated with it.\n",
    "4. Return `output`.\n",
    "\n",
    "Example:\n",
    "\n",
    "    count_characters('hello')   # {'h':1, 'e':1, 'l':2, 'o':1}"
   ]
  },
  {
   "cell_type": "code",
   "execution_count": 116,
   "id": "602fb714",
   "metadata": {},
   "outputs": [],
   "source": [
    "def count_characters(s):\n",
    "    output = {}\n",
    "    \n",
    "    for one_character in s:\n",
    "        if one_character in output:       # is the current character a key in our dict?\n",
    "            output[one_character] += 1    # if so, increment by 1\n",
    "        else:\n",
    "            output[one_character] = 1     # otherwise, add the key-value pair\n",
    "    \n",
    "    return output"
   ]
  },
  {
   "cell_type": "code",
   "execution_count": 118,
   "id": "593bafd4",
   "metadata": {},
   "outputs": [
    {
     "data": {
      "text/plain": [
       "{'h': 2, 'e': 3, 'l': 2, 'o': 2, ' ': 2, 'u': 1, 't': 2, 'r': 1}"
      ]
     },
     "execution_count": 118,
     "metadata": {},
     "output_type": "execute_result"
    }
   ],
   "source": [
    "count_characters('hello out there')"
   ]
  },
  {
   "cell_type": "code",
   "execution_count": 119,
   "id": "5b2d2d12",
   "metadata": {},
   "outputs": [],
   "source": [
    "d = count_characters('hello out there')"
   ]
  },
  {
   "cell_type": "code",
   "execution_count": 120,
   "id": "96b1c662",
   "metadata": {},
   "outputs": [
    {
     "data": {
      "text/plain": [
       "{'h': 2, 'e': 3, 'l': 2, 'o': 2, ' ': 2, 'u': 1, 't': 2, 'r': 1}"
      ]
     },
     "execution_count": 120,
     "metadata": {},
     "output_type": "execute_result"
    }
   ],
   "source": [
    "d"
   ]
  },
  {
   "cell_type": "code",
   "execution_count": 121,
   "id": "20d75639",
   "metadata": {},
   "outputs": [
    {
     "name": "stdout",
     "output_type": "stream",
     "text": [
      "Enter a string: hello out there\n",
      "h: 2\n",
      "e: 3\n",
      "l: 2\n",
      "o: 2\n",
      " : 2\n",
      "u: 1\n",
      "t: 2\n",
      "r: 1\n"
     ]
    }
   ],
   "source": [
    "s = input('Enter a string: ')\n",
    "d = count_characters(s)\n",
    "\n",
    "for key, value in d.items():\n",
    "    print(f'{key}: {value}')"
   ]
  },
  {
   "cell_type": "markdown",
   "id": "8f7b5184",
   "metadata": {},
   "source": [
    "# Returning multiple values\n",
    "\n",
    "You can only return one value from a Python function. But that value can be a list, tuple, dict, or something else that contains within it multiple values.\n",
    "\n",
    "It's very common to return a tuple, which gives the illusion of returning more than one value."
   ]
  },
  {
   "cell_type": "code",
   "execution_count": 122,
   "id": "0519c178",
   "metadata": {},
   "outputs": [],
   "source": [
    "# we can return a tuple\n",
    "\n",
    "def min_and_max(numbers):\n",
    "    smallest = numbers[0]  \n",
    "    biggest = numbers[0]   \n",
    "    \n",
    "    for one_number in numbers:\n",
    "        if one_number < smallest:\n",
    "            smallest = one_number\n",
    "        if one_number > biggest:\n",
    "            biggest = one_number\n",
    "            \n",
    "    return (smallest, biggest)"
   ]
  },
  {
   "cell_type": "code",
   "execution_count": 123,
   "id": "d7f005a0",
   "metadata": {},
   "outputs": [
    {
     "data": {
      "text/plain": [
       "(-2, 30)"
      ]
     },
     "execution_count": 123,
     "metadata": {},
     "output_type": "execute_result"
    }
   ],
   "source": [
    "min_and_max([10, 20, 30, 5, -2, 8])"
   ]
  },
  {
   "cell_type": "code",
   "execution_count": 126,
   "id": "b2572964",
   "metadata": {},
   "outputs": [],
   "source": [
    "# we can return a tuple ... without parentheses - which is traditional\n",
    "\n",
    "def min_and_max(numbers):\n",
    "    smallest = numbers[0]  \n",
    "    biggest = numbers[0]   \n",
    "    \n",
    "    for one_number in numbers:\n",
    "        if one_number < smallest:\n",
    "            smallest = one_number\n",
    "        if one_number > biggest:\n",
    "            biggest = one_number\n",
    "            \n",
    "    return smallest, biggest   # this is considered cleaner/nicer/etc."
   ]
  },
  {
   "cell_type": "code",
   "execution_count": 125,
   "id": "d1a845f3",
   "metadata": {},
   "outputs": [
    {
     "data": {
      "text/plain": [
       "(-2, 30)"
      ]
     },
     "execution_count": 125,
     "metadata": {},
     "output_type": "execute_result"
    }
   ],
   "source": [
    "min_and_max([10, 20, 30, 5, -2, 8])"
   ]
  },
  {
   "cell_type": "code",
   "execution_count": 131,
   "id": "09740783",
   "metadata": {},
   "outputs": [],
   "source": [
    "# remember that whenever we have an iterable (string, list, tuple), we can use unpacking\n",
    "\n",
    "mylist = [10, 20, 30]\n",
    "x,y,z = mylist     # 3 variables, 3 elements in mylist -- unpacking assigns them in parallel"
   ]
  },
  {
   "cell_type": "code",
   "execution_count": 128,
   "id": "e9c42bb7",
   "metadata": {},
   "outputs": [
    {
     "data": {
      "text/plain": [
       "10"
      ]
     },
     "execution_count": 128,
     "metadata": {},
     "output_type": "execute_result"
    }
   ],
   "source": [
    "x"
   ]
  },
  {
   "cell_type": "code",
   "execution_count": 129,
   "id": "76e1a0f5",
   "metadata": {},
   "outputs": [
    {
     "data": {
      "text/plain": [
       "20"
      ]
     },
     "execution_count": 129,
     "metadata": {},
     "output_type": "execute_result"
    }
   ],
   "source": [
    "y"
   ]
  },
  {
   "cell_type": "code",
   "execution_count": 130,
   "id": "e490067f",
   "metadata": {},
   "outputs": [
    {
     "data": {
      "text/plain": [
       "30"
      ]
     },
     "execution_count": 130,
     "metadata": {},
     "output_type": "execute_result"
    }
   ],
   "source": [
    "z"
   ]
  },
  {
   "cell_type": "code",
   "execution_count": 132,
   "id": "d670950c",
   "metadata": {},
   "outputs": [],
   "source": [
    "t = (10, 20, 30)\n",
    "x,y,z = t   # same thing -- tuples can also be used in unpacking"
   ]
  },
  {
   "cell_type": "code",
   "execution_count": 133,
   "id": "d5d67d32",
   "metadata": {},
   "outputs": [
    {
     "data": {
      "text/plain": [
       "10"
      ]
     },
     "execution_count": 133,
     "metadata": {},
     "output_type": "execute_result"
    }
   ],
   "source": [
    "x"
   ]
  },
  {
   "cell_type": "code",
   "execution_count": 134,
   "id": "39ab939f",
   "metadata": {},
   "outputs": [
    {
     "data": {
      "text/plain": [
       "20"
      ]
     },
     "execution_count": 134,
     "metadata": {},
     "output_type": "execute_result"
    }
   ],
   "source": [
    "y"
   ]
  },
  {
   "cell_type": "code",
   "execution_count": 135,
   "id": "20683d4b",
   "metadata": {},
   "outputs": [
    {
     "data": {
      "text/plain": [
       "30"
      ]
     },
     "execution_count": 135,
     "metadata": {},
     "output_type": "execute_result"
    }
   ],
   "source": [
    "z"
   ]
  },
  {
   "cell_type": "code",
   "execution_count": 136,
   "id": "1189258d",
   "metadata": {},
   "outputs": [
    {
     "data": {
      "text/plain": [
       "(-5, 30)"
      ]
     },
     "execution_count": 136,
     "metadata": {},
     "output_type": "execute_result"
    }
   ],
   "source": [
    "min_and_max([10, 20, 30, -5, 8, 7, 2])"
   ]
  },
  {
   "cell_type": "code",
   "execution_count": 141,
   "id": "13f39bc5",
   "metadata": {},
   "outputs": [],
   "source": [
    "# This looks like our function is returning multiple values\n",
    "# in fact, it's returning a single tuple with 2 elements\n",
    "# we're capturing them with two variables\n",
    "\n",
    "smallest, biggest = min_and_max([10, 20, 30, -5, 8, 7, 2])"
   ]
  },
  {
   "cell_type": "code",
   "execution_count": 139,
   "id": "233edf82",
   "metadata": {},
   "outputs": [
    {
     "data": {
      "text/plain": [
       "-5"
      ]
     },
     "execution_count": 139,
     "metadata": {},
     "output_type": "execute_result"
    }
   ],
   "source": [
    "smallest"
   ]
  },
  {
   "cell_type": "code",
   "execution_count": 140,
   "id": "90db2d4c",
   "metadata": {},
   "outputs": [
    {
     "data": {
      "text/plain": [
       "30"
      ]
     },
     "execution_count": 140,
     "metadata": {},
     "output_type": "execute_result"
    }
   ],
   "source": [
    "biggest"
   ]
  },
  {
   "cell_type": "code",
   "execution_count": 142,
   "id": "3239d7a9",
   "metadata": {},
   "outputs": [],
   "source": [
    "# let's assume that I have a function that returns both a status code (an integer)\n",
    "# and a dict describing the data it received\n",
    "\n",
    "def get_status():\n",
    "    return 200, {'url':'https://python.org', 'timestamp':'2022 Jun 03'}"
   ]
  },
  {
   "cell_type": "code",
   "execution_count": 144,
   "id": "330c535d",
   "metadata": {},
   "outputs": [
    {
     "data": {
      "text/plain": [
       "(200, {'url': 'https://python.org', 'timestamp': '2022 Jun 03'})"
      ]
     },
     "execution_count": 144,
     "metadata": {},
     "output_type": "execute_result"
    }
   ],
   "source": [
    "# this returns a tuple\n",
    "get_status()"
   ]
  },
  {
   "cell_type": "code",
   "execution_count": 145,
   "id": "5397e814",
   "metadata": {},
   "outputs": [],
   "source": [
    "# I can grab those, with unpacking, into two separate variables\n",
    "\n",
    "status_code, info = get_status()"
   ]
  },
  {
   "cell_type": "code",
   "execution_count": 146,
   "id": "3c9eb4a0",
   "metadata": {},
   "outputs": [
    {
     "data": {
      "text/plain": [
       "200"
      ]
     },
     "execution_count": 146,
     "metadata": {},
     "output_type": "execute_result"
    }
   ],
   "source": [
    "status_code"
   ]
  },
  {
   "cell_type": "code",
   "execution_count": 147,
   "id": "436fc96f",
   "metadata": {},
   "outputs": [
    {
     "data": {
      "text/plain": [
       "{'url': 'https://python.org', 'timestamp': '2022 Jun 03'}"
      ]
     },
     "execution_count": 147,
     "metadata": {},
     "output_type": "execute_result"
    }
   ],
   "source": [
    "info"
   ]
  },
  {
   "cell_type": "code",
   "execution_count": 148,
   "id": "1b83b6f9",
   "metadata": {},
   "outputs": [],
   "source": [
    "def sum_sub(a, b):\n",
    "    c = a+b\n",
    "    d = a-b\n",
    "    return c, d"
   ]
  },
  {
   "cell_type": "code",
   "execution_count": 150,
   "id": "b027992a",
   "metadata": {},
   "outputs": [
    {
     "data": {
      "text/plain": [
       "(12, 8)"
      ]
     },
     "execution_count": 150,
     "metadata": {},
     "output_type": "execute_result"
    }
   ],
   "source": [
    "sum_sub(10, 2)"
   ]
  },
  {
   "cell_type": "code",
   "execution_count": 151,
   "id": "71b64c68",
   "metadata": {},
   "outputs": [],
   "source": [
    "x,y = sum_sub(10, 5)"
   ]
  },
  {
   "cell_type": "code",
   "execution_count": 152,
   "id": "fa4ef61e",
   "metadata": {},
   "outputs": [
    {
     "data": {
      "text/plain": [
       "15"
      ]
     },
     "execution_count": 152,
     "metadata": {},
     "output_type": "execute_result"
    }
   ],
   "source": [
    "x"
   ]
  },
  {
   "cell_type": "code",
   "execution_count": 153,
   "id": "2dbeb16d",
   "metadata": {},
   "outputs": [
    {
     "data": {
      "text/plain": [
       "5"
      ]
     },
     "execution_count": 153,
     "metadata": {},
     "output_type": "execute_result"
    }
   ],
   "source": [
    "y"
   ]
  },
  {
   "cell_type": "code",
   "execution_count": 154,
   "id": "27393068",
   "metadata": {},
   "outputs": [],
   "source": [
    "# where can we use unpacking?\n",
    "# traditionally, we call it \"tuple unpacking,\" and it's used mostly with tuples\n",
    "\n",
    "x,y = sum_sub(10, 5)"
   ]
  },
  {
   "cell_type": "code",
   "execution_count": 155,
   "id": "31fd9c79",
   "metadata": {},
   "outputs": [
    {
     "data": {
      "text/plain": [
       "15"
      ]
     },
     "execution_count": 155,
     "metadata": {},
     "output_type": "execute_result"
    }
   ],
   "source": [
    "x"
   ]
  },
  {
   "cell_type": "code",
   "execution_count": 156,
   "id": "0f01a06d",
   "metadata": {},
   "outputs": [
    {
     "data": {
      "text/plain": [
       "5"
      ]
     },
     "execution_count": 156,
     "metadata": {},
     "output_type": "execute_result"
    }
   ],
   "source": [
    "y"
   ]
  },
  {
   "cell_type": "code",
   "execution_count": 157,
   "id": "c5dcd67c",
   "metadata": {},
   "outputs": [],
   "source": [
    "# change the function to return a list\n",
    "\n",
    "def sum_sub(a, b):\n",
    "    c = a+b\n",
    "    d = a-b\n",
    "    return [c, d]"
   ]
  },
  {
   "cell_type": "code",
   "execution_count": 158,
   "id": "83e29bac",
   "metadata": {},
   "outputs": [
    {
     "data": {
      "text/plain": [
       "[15, 5]"
      ]
     },
     "execution_count": 158,
     "metadata": {},
     "output_type": "execute_result"
    }
   ],
   "source": [
    "sum_sub(10, 5)"
   ]
  },
  {
   "cell_type": "code",
   "execution_count": 159,
   "id": "c61a8bde",
   "metadata": {},
   "outputs": [],
   "source": [
    "x,y = sum_sub(10, 5)"
   ]
  },
  {
   "cell_type": "code",
   "execution_count": 160,
   "id": "d00861fc",
   "metadata": {},
   "outputs": [
    {
     "data": {
      "text/plain": [
       "15"
      ]
     },
     "execution_count": 160,
     "metadata": {},
     "output_type": "execute_result"
    }
   ],
   "source": [
    "x"
   ]
  },
  {
   "cell_type": "code",
   "execution_count": 161,
   "id": "2f08944e",
   "metadata": {},
   "outputs": [
    {
     "data": {
      "text/plain": [
       "5"
      ]
     },
     "execution_count": 161,
     "metadata": {},
     "output_type": "execute_result"
    }
   ],
   "source": [
    "y"
   ]
  },
  {
   "cell_type": "code",
   "execution_count": 162,
   "id": "e9470a59",
   "metadata": {},
   "outputs": [],
   "source": [
    "# what about a dict?  Can we use unpacking with a dict?  Answer: Sort of.\n",
    "\n",
    "def count_characters(s):\n",
    "    output = {}\n",
    "    \n",
    "    for one_character in s:\n",
    "        if one_character in output:       # is the current character a key in our dict?\n",
    "            output[one_character] += 1    # if so, increment by 1\n",
    "        else:\n",
    "            output[one_character] = 1     # otherwise, add the key-value pair\n",
    "    \n",
    "    return output"
   ]
  },
  {
   "cell_type": "code",
   "execution_count": 164,
   "id": "5f33f86e",
   "metadata": {},
   "outputs": [
    {
     "data": {
      "text/plain": [
       "{'h': 1, 'e': 1, 'l': 2, 'o': 1}"
      ]
     },
     "execution_count": 164,
     "metadata": {},
     "output_type": "execute_result"
    }
   ],
   "source": [
    "count_characters('hello')"
   ]
  },
  {
   "cell_type": "code",
   "execution_count": 171,
   "id": "b39dcae6",
   "metadata": {},
   "outputs": [],
   "source": [
    "# unpacking runs a \"for\" loop in assignment\n",
    "# it will iterate over the right-hand side, and assign\n",
    "# the values it gets to the variables on the left-hand side\n",
    "\n",
    "# since iterating over a dict gives us its keys,\n",
    "# unpacking a dict gives us ... its keys\n",
    "\n",
    "a,b,c,d = count_characters('hello')"
   ]
  },
  {
   "cell_type": "code",
   "execution_count": 167,
   "id": "13122ea2",
   "metadata": {},
   "outputs": [
    {
     "data": {
      "text/plain": [
       "'h'"
      ]
     },
     "execution_count": 167,
     "metadata": {},
     "output_type": "execute_result"
    }
   ],
   "source": [
    "a"
   ]
  },
  {
   "cell_type": "code",
   "execution_count": 168,
   "id": "31ea71b6",
   "metadata": {},
   "outputs": [
    {
     "data": {
      "text/plain": [
       "'e'"
      ]
     },
     "execution_count": 168,
     "metadata": {},
     "output_type": "execute_result"
    }
   ],
   "source": [
    "b"
   ]
  },
  {
   "cell_type": "code",
   "execution_count": 169,
   "id": "01e3a730",
   "metadata": {},
   "outputs": [
    {
     "data": {
      "text/plain": [
       "'l'"
      ]
     },
     "execution_count": 169,
     "metadata": {},
     "output_type": "execute_result"
    }
   ],
   "source": [
    "c"
   ]
  },
  {
   "cell_type": "code",
   "execution_count": 170,
   "id": "cb249a35",
   "metadata": {},
   "outputs": [
    {
     "data": {
      "text/plain": [
       "'o'"
      ]
     },
     "execution_count": 170,
     "metadata": {},
     "output_type": "execute_result"
    }
   ],
   "source": [
    "d"
   ]
  },
  {
   "cell_type": "code",
   "execution_count": 172,
   "id": "d7000b2d",
   "metadata": {},
   "outputs": [],
   "source": [
    "# we can kinda, sorta get around this by running the \"items\" method on our dict\n",
    "\n",
    "a,b,c,d = count_characters('hello').items()"
   ]
  },
  {
   "cell_type": "code",
   "execution_count": 173,
   "id": "685b7503",
   "metadata": {},
   "outputs": [
    {
     "data": {
      "text/plain": [
       "('h', 1)"
      ]
     },
     "execution_count": 173,
     "metadata": {},
     "output_type": "execute_result"
    }
   ],
   "source": [
    "a"
   ]
  },
  {
   "cell_type": "code",
   "execution_count": 174,
   "id": "01bfb783",
   "metadata": {},
   "outputs": [
    {
     "data": {
      "text/plain": [
       "('e', 1)"
      ]
     },
     "execution_count": 174,
     "metadata": {},
     "output_type": "execute_result"
    }
   ],
   "source": [
    "b"
   ]
  },
  {
   "cell_type": "code",
   "execution_count": 175,
   "id": "8b3c55d4",
   "metadata": {},
   "outputs": [
    {
     "data": {
      "text/plain": [
       "('l', 2)"
      ]
     },
     "execution_count": 175,
     "metadata": {},
     "output_type": "execute_result"
    }
   ],
   "source": [
    "c"
   ]
  },
  {
   "cell_type": "code",
   "execution_count": 176,
   "id": "26f2c904",
   "metadata": {},
   "outputs": [
    {
     "data": {
      "text/plain": [
       "('o', 1)"
      ]
     },
     "execution_count": 176,
     "metadata": {},
     "output_type": "execute_result"
    }
   ],
   "source": [
    "d"
   ]
  },
  {
   "cell_type": "markdown",
   "id": "c9ead324",
   "metadata": {},
   "source": [
    "# Exercise: Short and long words\n",
    "\n",
    "1. Write a function, `short_and_long_words`, which takes a string as an input, and an integer.\n",
    "    - The string will contains words\n",
    "    - The integer is the threshold we'll use to determine how long \"long\" words are\n",
    "2. The function will return a 2-element tuple of lists.  \n",
    "    - The first list will contain all of the words from the input that were shorter than the threshold\n",
    "    - The second list will contain all of the words from the input that were `>=` the threshold.\n",
    "3. Return that 2-element tuple of lists\n",
    "4. Capture those lists with unpacking, and print their values.\n",
    "\n",
    "Example:\n",
    "\n",
    "    short_and_long_words('this is a terrible idea', 3)\n",
    "    \n",
    "That should return\n",
    "\n",
    "    (['is', 'a'], ['this', 'terrible', 'idea'])\n",
    "    \n",
    "    "
   ]
  },
  {
   "cell_type": "code",
   "execution_count": 177,
   "id": "4dc0e4af",
   "metadata": {},
   "outputs": [],
   "source": [
    "def short_and_long_words(s, n):\n",
    "    short_words = []\n",
    "    long_words = []\n",
    "    \n",
    "    for one_word in s.split():   # turn s into a list of strings, and iterate over the list\n",
    "        if len(one_word) < n:\n",
    "            short_words.append(one_word)   # is the word short? add it to short_words\n",
    "        else:\n",
    "            long_words.append(one_word)\n",
    "            \n",
    "    return short_words, long_words    # return a 2-element tuple of lists\n"
   ]
  },
  {
   "cell_type": "code",
   "execution_count": 179,
   "id": "3e9693f4",
   "metadata": {},
   "outputs": [
    {
     "data": {
      "text/plain": [
       "(['is', 'a'], ['this', 'terrible', 'idea'])"
      ]
     },
     "execution_count": 179,
     "metadata": {},
     "output_type": "execute_result"
    }
   ],
   "source": [
    "short_and_long_words('this is a terrible idea', 3)"
   ]
  },
  {
   "cell_type": "code",
   "execution_count": 180,
   "id": "2df7220d",
   "metadata": {},
   "outputs": [],
   "source": [
    "x,y = short_and_long_words('this is a terrible idea', 3)"
   ]
  },
  {
   "cell_type": "code",
   "execution_count": 181,
   "id": "d6eb165e",
   "metadata": {},
   "outputs": [
    {
     "data": {
      "text/plain": [
       "['is', 'a']"
      ]
     },
     "execution_count": 181,
     "metadata": {},
     "output_type": "execute_result"
    }
   ],
   "source": [
    "x"
   ]
  },
  {
   "cell_type": "code",
   "execution_count": 182,
   "id": "b49610f7",
   "metadata": {},
   "outputs": [
    {
     "data": {
      "text/plain": [
       "['this', 'terrible', 'idea']"
      ]
     },
     "execution_count": 182,
     "metadata": {},
     "output_type": "execute_result"
    }
   ],
   "source": [
    "y"
   ]
  },
  {
   "cell_type": "markdown",
   "id": "6ad31103",
   "metadata": {},
   "source": [
    "# Next up\n",
    "\n",
    "1. Local vs. global variables (\"scoping\")\n",
    "2. Online challenge for this week\n",
    "\n"
   ]
  },
  {
   "cell_type": "code",
   "execution_count": 183,
   "id": "7cace2bd",
   "metadata": {},
   "outputs": [],
   "source": [
    "# name, in this function, is a parameter\n",
    "# it's also known as a \"local variable\"\n",
    "\n",
    "# name doesn't exist outside of the function!\n",
    "\n",
    "def hello(name):\n",
    "    return f'Hello, {name}!'"
   ]
  },
  {
   "cell_type": "code",
   "execution_count": 186,
   "id": "0a21d8d1",
   "metadata": {},
   "outputs": [
    {
     "data": {
      "text/plain": [
       "'Hello, world!'"
      ]
     },
     "execution_count": 186,
     "metadata": {},
     "output_type": "execute_result"
    }
   ],
   "source": [
    "# parameters: name\n",
    "# arguments: 'world'\n",
    "\n",
    "hello('world')"
   ]
  },
  {
   "cell_type": "code",
   "execution_count": 187,
   "id": "5ba564dd",
   "metadata": {},
   "outputs": [
    {
     "data": {
      "text/plain": [
       "'Hello, Reuven!'"
      ]
     },
     "execution_count": 187,
     "metadata": {},
     "output_type": "execute_result"
    }
   ],
   "source": [
    "# parameters: name\n",
    "# arguments \"world\"\n",
    "\n",
    "hello('Reuven')"
   ]
  },
  {
   "cell_type": "code",
   "execution_count": 188,
   "id": "a6d5fc93",
   "metadata": {},
   "outputs": [
    {
     "ename": "NameError",
     "evalue": "name 'name' is not defined",
     "output_type": "error",
     "traceback": [
      "\u001b[0;31m---------------------------------------------------------------------------\u001b[0m",
      "\u001b[0;31mNameError\u001b[0m                                 Traceback (most recent call last)",
      "\u001b[0;32m/var/folders/rr/0mnyyv811fs5vyp22gf4fxk00000gn/T/ipykernel_86208/3474671970.py\u001b[0m in \u001b[0;36m<module>\u001b[0;34m\u001b[0m\n\u001b[0;32m----> 1\u001b[0;31m \u001b[0mname\u001b[0m\u001b[0;34m\u001b[0m\u001b[0;34m\u001b[0m\u001b[0m\n\u001b[0m",
      "\u001b[0;31mNameError\u001b[0m: name 'name' is not defined"
     ]
    }
   ],
   "source": [
    "name"
   ]
  },
  {
   "cell_type": "code",
   "execution_count": 189,
   "id": "77d3b7f5",
   "metadata": {},
   "outputs": [],
   "source": [
    "def goodbye(name):\n",
    "    return f'Goodbye, {name}'"
   ]
  },
  {
   "cell_type": "code",
   "execution_count": 190,
   "id": "2d7bba0e",
   "metadata": {},
   "outputs": [
    {
     "data": {
      "text/plain": [
       "'Goodbye, Reuven'"
      ]
     },
     "execution_count": 190,
     "metadata": {},
     "output_type": "execute_result"
    }
   ],
   "source": [
    "goodbye('Reuven')"
   ]
  },
  {
   "cell_type": "code",
   "execution_count": 191,
   "id": "d974302e",
   "metadata": {},
   "outputs": [
    {
     "data": {
      "text/plain": [
       "'Goodbye, forever'"
      ]
     },
     "execution_count": 191,
     "metadata": {},
     "output_type": "execute_result"
    }
   ],
   "source": [
    "goodbye('forever')"
   ]
  },
  {
   "cell_type": "code",
   "execution_count": 192,
   "id": "ff602900",
   "metadata": {},
   "outputs": [],
   "source": [
    "def myfunc():\n",
    "    mylist = [10, 20, 30]  # local variable mylist refers to a list object\n",
    "    return True"
   ]
  },
  {
   "cell_type": "code",
   "execution_count": 193,
   "id": "356d958b",
   "metadata": {},
   "outputs": [
    {
     "name": "stdout",
     "output_type": "stream",
     "text": [
      "x = 200\n"
     ]
    }
   ],
   "source": [
    "# what if I have the same variable name in a function and also outside of a function?\n",
    "# meaning: what if I have a local variable and a global variable, both with the same names?\n",
    "\n",
    "x = 100\n",
    "\n",
    "def myfunc():\n",
    "    x = 200\n",
    "    print(f'x = {x}')   # is x local? YES, 200\n",
    "    \n",
    "myfunc()  # what will it print?\n",
    "\n"
   ]
  },
  {
   "cell_type": "markdown",
   "id": "db969d4c",
   "metadata": {},
   "source": [
    "# Variable scoping in Python\n",
    "\n",
    "Python actually has four different scopes, known as:\n",
    "\n",
    "- Local\n",
    "- Enclosing\n",
    "- Global\n",
    "- Builtin\n",
    "\n",
    "We're only going to worry about local and global scopes right now.\n",
    "\n",
    "They are searched in that order -- LEGB.\n",
    "\n",
    "This means that if you have a local variable (defined inside of a function) and a global variable (defined outside of a function) with the same name, then the local variable gets priority inside of the function. (It doesn't even exist outside of the function.)\n"
   ]
  },
  {
   "cell_type": "code",
   "execution_count": 194,
   "id": "f6f75d08",
   "metadata": {},
   "outputs": [
    {
     "name": "stdout",
     "output_type": "stream",
     "text": [
      "x = 100\n"
     ]
    }
   ],
   "source": [
    "x = 100       # global variable, outside of a function\n",
    "\n",
    "def myfunc():\n",
    "    y = 200   # local variable, defined inside of a function\n",
    "    print(f'x = {x}')    # is x local? NO. Is x global? YES, 100\n",
    "    \n",
    "myfunc() \n"
   ]
  },
  {
   "cell_type": "code",
   "execution_count": 195,
   "id": "a24ef159",
   "metadata": {},
   "outputs": [
    {
     "data": {
      "text/plain": [
       "[10, 20, 30, 40, 50]"
      ]
     },
     "execution_count": 195,
     "metadata": {},
     "output_type": "execute_result"
    }
   ],
   "source": [
    "x = [10, 20, 30]\n",
    "y = x\n",
    "\n",
    "# both x and y now refer to the same list.  (This doesn't mean that y refers to x!)\n",
    "\n",
    "x.append(40)\n",
    "y.append(50)\n",
    "\n",
    "x"
   ]
  },
  {
   "cell_type": "code",
   "execution_count": 196,
   "id": "8ccf8991",
   "metadata": {},
   "outputs": [
    {
     "data": {
      "text/plain": [
       "[10, 20, 30, 40, 50]"
      ]
     },
     "execution_count": 196,
     "metadata": {},
     "output_type": "execute_result"
    }
   ],
   "source": [
    "y"
   ]
  },
  {
   "cell_type": "code",
   "execution_count": 197,
   "id": "54a6ef59",
   "metadata": {},
   "outputs": [
    {
     "name": "stdout",
     "output_type": "stream",
     "text": [
      "[10, 20, 30, 1]\n"
     ]
    }
   ],
   "source": [
    "# let's do this now with local and global variables\n",
    "\n",
    "x = [10, 20, 30]   # x is global\n",
    "\n",
    "def add_one(y):\n",
    "    y.append(1)\n",
    "    \n",
    "add_one(x)    # passing (the list that x refers to) as an argument\n",
    "\n",
    "print(x)"
   ]
  },
  {
   "cell_type": "markdown",
   "id": "cb704d78",
   "metadata": {},
   "source": [
    "# Scoping only refers to variable assignment\n",
    "\n",
    "If you assign to an element of a list, or if you call a method on an object, then you don't have to worry nearly as much about creating local variables by mistake.\n",
    "\n"
   ]
  },
  {
   "cell_type": "code",
   "execution_count": 198,
   "id": "6dfc1d21",
   "metadata": {},
   "outputs": [
    {
     "name": "stdout",
     "output_type": "stream",
     "text": [
      "['!', 20, 30]\n"
     ]
    }
   ],
   "source": [
    "x = [10, 20, 30]\n",
    "\n",
    "def myfunc():\n",
    "    x[0] = '!'  # aren't we assigning to x here? doesn't that make it a local variable? NO.. we're changing x\n",
    "    \n",
    "myfunc()\n",
    "print(x)"
   ]
  },
  {
   "cell_type": "code",
   "execution_count": 199,
   "id": "e5626014",
   "metadata": {},
   "outputs": [
    {
     "name": "stdout",
     "output_type": "stream",
     "text": [
      "[10, 20, 30, '!']\n"
     ]
    }
   ],
   "source": [
    "x = [10, 20, 30]\n",
    "\n",
    "def myfunc():\n",
    "    x.append('!')  # here, we're calling a method on x which modifies itself.. no assignment, no local variable\n",
    "    \n",
    "myfunc()\n",
    "print(x)"
   ]
  },
  {
   "cell_type": "code",
   "execution_count": 200,
   "id": "5586cf2b",
   "metadata": {},
   "outputs": [
    {
     "name": "stdout",
     "output_type": "stream",
     "text": [
      "0\n",
      "1\n",
      "2\n",
      "3\n",
      "4\n",
      "4\n"
     ]
    }
   ],
   "source": [
    "x = 100\n",
    "\n",
    "# just because we have indentation\n",
    "# doesn't mean that we have a new, local scope\n",
    "# or that variables are local/hidden\n",
    "\n",
    "for x in range(5):\n",
    "    print(x)\n",
    "    \n",
    "print(x)      # what is x here?"
   ]
  },
  {
   "cell_type": "code",
   "execution_count": 202,
   "id": "00bcffe6",
   "metadata": {},
   "outputs": [
    {
     "name": "stdout",
     "output_type": "stream",
     "text": [
      "Before, x = 100\n",
      "After, x = 100\n"
     ]
    }
   ],
   "source": [
    "x = 100\n",
    "\n",
    "def myfunc():\n",
    "    x = 200  # this assigns to a new, local variable x\n",
    "\n",
    "print(f'Before, x = {x}') # is x global? YES, 100   \n",
    "myfunc()\n",
    "print(f'After, x = {x}')  # is x global? YES, 100\n"
   ]
  },
  {
   "cell_type": "code",
   "execution_count": 203,
   "id": "0585359f",
   "metadata": {},
   "outputs": [
    {
     "name": "stdout",
     "output_type": "stream",
     "text": [
      "Before, x = 100\n",
      "After, x = 200\n"
     ]
    }
   ],
   "source": [
    "# But... we can use the \"global\" keyword in our function... \n",
    "# NORMALLY A BAD IDEA!\n",
    "\n",
    "x = 100\n",
    "\n",
    "def myfunc():\n",
    "    global x   # this means: don't create a new local variable x. Rather, use the global one\n",
    "    x = 200    # assign 200 to the GLOBAL variable x\n",
    "\n",
    "print(f'Before, x = {x}') # is x global? yes, 100\n",
    "myfunc()\n",
    "print(f'After, x = {x}')  # is x global? yes, 200\n"
   ]
  },
  {
   "cell_type": "code",
   "execution_count": null,
   "id": "22b78834",
   "metadata": {},
   "outputs": [],
   "source": [
    "# can we have a variable be both local and global?\n",
    "\n",
    "def myfunc():\n",
    "    global x\n",
    "    x = 200    # we know that x is global here, thanks to the \"global\" statement"
   ]
  }
 ],
 "metadata": {
  "kernelspec": {
   "display_name": "Python 3 (ipykernel)",
   "language": "python",
   "name": "python3"
  },
  "language_info": {
   "codemirror_mode": {
    "name": "ipython",
    "version": 3
   },
   "file_extension": ".py",
   "mimetype": "text/x-python",
   "name": "python",
   "nbconvert_exporter": "python",
   "pygments_lexer": "ipython3",
   "version": "3.10.4"
  }
 },
 "nbformat": 4,
 "nbformat_minor": 5
}
