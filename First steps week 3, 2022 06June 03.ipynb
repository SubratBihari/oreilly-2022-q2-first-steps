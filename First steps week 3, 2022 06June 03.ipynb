{
 "cells": [
  {
   "cell_type": "markdown",
   "id": "dcf37922",
   "metadata": {},
   "source": [
    "# Agenda: Functions!\n",
    "\n",
    "1. What are functions?\n",
    "2. Writing some simple functions\n",
    "3. Arguments and parameters\n",
    "4. Return values\n",
    "5. Default argument values\n",
    "6. Complex return values\n",
    "7. Unpacking and complex return values\n",
    "8. Local vs. global variables (a little scoping)"
   ]
  },
  {
   "cell_type": "markdown",
   "id": "fc6661e2",
   "metadata": {},
   "source": [
    "# DRY rule -- \"Don't repeat yourself!\"\n",
    "\n",
    "1. If we repeat ourselves several times in a row, we can use a *loop*.\n",
    "2. If we repeat ourselves several times in a program, we can use a *function*.\n",
    "\n",
    "A function lets us assign a name to a bunch of different actions.\n",
    "\n",
    "When we execute a function, we say that we're \"calling\" it.\n",
    "\n",
    "Abstraction -- let's hide the details, so that we can concentrate on the higher-level stuff.\n",
    "\n",
    "Functions are the verbs of a programming language -- they describe the actions.  When we define a new function, we're teaching the programming language a new verb."
   ]
  },
  {
   "cell_type": "code",
   "execution_count": 1,
   "id": "c4719a80",
   "metadata": {},
   "outputs": [],
   "source": [
    "# to define a function in Python, we use the keyword \"def\" (short for \"define\")\n",
    "\n",
    "def hello():\n",
    "    print('Hello out there!')"
   ]
  },
  {
   "cell_type": "markdown",
   "id": "0c16bbca",
   "metadata": {},
   "source": [
    "# Function definitions\n",
    "\n",
    "1. We start with `def`, and then the name of the function we want to define.  That name is actually a variable name, so all of the variable-name rules apply to it, as well.\n",
    "2. After the function's name, we have parentheses. For now, those parentheses will be empty -- but we'll put things in them later on.\n",
    "3. Then we have a `:`, at the end of the line.\n",
    "4. Then we have an indented block. This is the \"body\" of the function.  This is what will execute every time we call the function.\n",
    "5. The function body ends when we end the indentation. So long as we're in the indented block, we're in the function body.\n",
    "6. The function body can contain **ANY PYTHON CODE AT ALL**.  We can include `print` and `input` and `if/else` and `for` and `while`... anything at all.\n",
    "\n",
    "To call a function, just name the function and put parentheses (`()`) after the name."
   ]
  },
  {
   "cell_type": "code",
   "execution_count": 2,
   "id": "a52c0386",
   "metadata": {},
   "outputs": [
    {
     "name": "stdout",
     "output_type": "stream",
     "text": [
      "Hello out there!\n"
     ]
    }
   ],
   "source": [
    "hello()     # here, I'm calling the \"hello\" function"
   ]
  },
  {
   "cell_type": "code",
   "execution_count": 3,
   "id": "dfb532ab",
   "metadata": {},
   "outputs": [],
   "source": [
    "def hello():\n",
    "    name = input('Enter your name: ').strip()\n",
    "    print(f'Hello, {name}!')"
   ]
  },
  {
   "cell_type": "code",
   "execution_count": 4,
   "id": "24056207",
   "metadata": {},
   "outputs": [
    {
     "name": "stdout",
     "output_type": "stream",
     "text": [
      "Enter your name: Reuven\n",
      "Hello, Reuven!\n"
     ]
    }
   ],
   "source": [
    "hello()"
   ]
  },
  {
   "cell_type": "code",
   "execution_count": 5,
   "id": "81da89be",
   "metadata": {},
   "outputs": [],
   "source": [
    "def hello():\n",
    "    name = input('Enter your name: ').strip()\n",
    "    times = input('How many times should I greet you? ').strip()\n",
    "    \n",
    "    for i in range(int(times)):\n",
    "        print(f'Hello, {name}!')"
   ]
  },
  {
   "cell_type": "code",
   "execution_count": 6,
   "id": "91ece57d",
   "metadata": {},
   "outputs": [
    {
     "name": "stdout",
     "output_type": "stream",
     "text": [
      "Enter your name: Reuven\n",
      "How many times should I greet you? 5\n",
      "Hello, Reuven!\n",
      "Hello, Reuven!\n",
      "Hello, Reuven!\n",
      "Hello, Reuven!\n",
      "Hello, Reuven!\n"
     ]
    }
   ],
   "source": [
    "hello()"
   ]
  },
  {
   "cell_type": "code",
   "execution_count": 8,
   "id": "8e595e1b",
   "metadata": {},
   "outputs": [
    {
     "data": {
      "text/plain": [
       "4"
      ]
     },
     "execution_count": 8,
     "metadata": {},
     "output_type": "execute_result"
    }
   ],
   "source": [
    "len('abcd')     # we're passing 'abcd' as an argument to the len function"
   ]
  },
  {
   "cell_type": "code",
   "execution_count": 9,
   "id": "4183d845",
   "metadata": {},
   "outputs": [
    {
     "data": {
      "text/plain": [
       "3"
      ]
     },
     "execution_count": 9,
     "metadata": {},
     "output_type": "execute_result"
    }
   ],
   "source": [
    "len([10, 20, 30])  # we're passing [10, 20, 30] as an argument to the len function"
   ]
  },
  {
   "cell_type": "code",
   "execution_count": 10,
   "id": "cbb66521",
   "metadata": {},
   "outputs": [
    {
     "name": "stdout",
     "output_type": "stream",
     "text": [
      "A\n",
      "B\n",
      "Hello!\n",
      "C\n"
     ]
    }
   ],
   "source": [
    "print('A')\n",
    "\n",
    "def hello():\n",
    "    print('Hello!')\n",
    "    \n",
    "print('B')\n",
    "\n",
    "hello()\n",
    "\n",
    "print('C')"
   ]
  },
  {
   "cell_type": "code",
   "execution_count": 11,
   "id": "6149d676",
   "metadata": {},
   "outputs": [],
   "source": [
    "# this function prints the number of vowels it finds in a filename\n",
    "\n",
    "def count_vowels():\n",
    "    filename = input('Enter a filename: ').strip()\n",
    "    \n",
    "    total = 0\n",
    "    for one_line in open(filename):\n",
    "        for one_character in one_line.lower():\n",
    "            if one_character in 'aeiou':\n",
    "                total += 1\n",
    "                \n",
    "    print(f'I found {total} vowels in {filename}.')\n",
    "    \n",
    "    "
   ]
  },
  {
   "cell_type": "code",
   "execution_count": 12,
   "id": "d7eb4f49",
   "metadata": {},
   "outputs": [
    {
     "name": "stdout",
     "output_type": "stream",
     "text": [
      "Enter a filename: /etc/passwd\n",
      "I found 1906 vowels in /etc/passwd.\n"
     ]
    }
   ],
   "source": [
    "count_vowels()"
   ]
  },
  {
   "cell_type": "markdown",
   "id": "52481d65",
   "metadata": {},
   "source": [
    "# Exercise: Calculator\n",
    "\n",
    "1. Write a function, `calc`, which will allow us to perform some simple calculations.\n",
    "2. Ask the user to enter a math expression in one line (e.g., `'2 + 2'`).\n",
    "3. Use `str.split` to break that input into a list of three elements. (Let's assume that the user enters a valid string, with numbers and an operator between them.)\n",
    "4. If the user entered `+`, print the result of adding the numbers.\n",
    "5. If the user entered `-`, print the result of subtracting the numbers.\n",
    "\n",
    "Example:\n",
    "\n",
    "    calc()\n",
    "\n",
    "    Enter an expression: 10 + 8\n",
    "    10 + 8 = 18    \n",
    "\n",
    "Hints/reminders:\n",
    "1. Any string can be split on whitespace with `s.split()` -- no argument means that we'll split on any whitespace, of any length.\n",
    "2. Remember that the result of `str.split` is a list of strings.\n",
    "3. If you need to turn a string into an integer, use `int`."
   ]
  },
  {
   "cell_type": "code",
   "execution_count": 13,
   "id": "c6e308e8",
   "metadata": {},
   "outputs": [],
   "source": [
    "def calc():\n",
    "    s = input('Enter expression: ').strip()\n",
    "    \n",
    "#     fields = s.split()  # s.split() here will return a list of strings, e.g., ['2', '+', '2']\n",
    "\n",
    "#     first = fields[0]\n",
    "#     op = fields[1]\n",
    "#     second = fields[2]\n",
    "    \n",
    "    first, op, second = s.split()\n",
    "    first = int(first)  # turn first into an integer\n",
    "    second = int(second)  # turn second into an integer\n",
    "    \n",
    "    if op == '+':\n",
    "        result = first + second\n",
    "    elif op == '-':\n",
    "        result = first - second\n",
    "    else:\n",
    "        result = 'Not supported'\n",
    "        \n",
    "    print(f'{first} {op} {second} = {result}')"
   ]
  },
  {
   "cell_type": "code",
   "execution_count": 15,
   "id": "27dbbe0f",
   "metadata": {},
   "outputs": [
    {
     "name": "stdout",
     "output_type": "stream",
     "text": [
      "Enter expression: 10 - 2\n",
      "10 - 2 = 8\n"
     ]
    }
   ],
   "source": [
    "calc()"
   ]
  },
  {
   "cell_type": "code",
   "execution_count": 16,
   "id": "dcfef20c",
   "metadata": {},
   "outputs": [
    {
     "data": {
      "text/plain": [
       "4"
      ]
     },
     "execution_count": 16,
     "metadata": {},
     "output_type": "execute_result"
    }
   ],
   "source": [
    "# when we call a function, we can pass it one or more \"arguments\"\n",
    "# those are the values that you put inside of the parentheses\n",
    "\n",
    "len('abcd')   # we pass len one argument, of type str"
   ]
  },
  {
   "cell_type": "code",
   "execution_count": 17,
   "id": "5eb6c1df",
   "metadata": {},
   "outputs": [
    {
     "data": {
      "text/plain": [
       "4"
      ]
     },
     "execution_count": 17,
     "metadata": {},
     "output_type": "execute_result"
    }
   ],
   "source": [
    "len([10, 20, 30, 40])  # we pass len one argument, of type list"
   ]
  },
  {
   "cell_type": "code",
   "execution_count": 18,
   "id": "b113c482",
   "metadata": {},
   "outputs": [
    {
     "name": "stdout",
     "output_type": "stream",
     "text": [
      "Enter your name: asdfafa\n"
     ]
    },
    {
     "data": {
      "text/plain": [
       "'asdfafa'"
      ]
     },
     "execution_count": 18,
     "metadata": {},
     "output_type": "execute_result"
    }
   ],
   "source": [
    "input('Enter your name: ')   # we pass input one argument of type str"
   ]
  },
  {
   "cell_type": "markdown",
   "id": "5c7c536e",
   "metadata": {},
   "source": [
    "# Arguments and parameters\n",
    "\n",
    "When we call a function, we can pass one or more arguments.  Those are assigned to special variables in the function, known as parameters.\n",
    "\n",
    "We need to name the parameters at the top of the function, inside of the parentheses, after the function's name.\n",
    "\n",
    "If a function has 3 parameters, we *must* call it with 3 arguments."
   ]
  },
  {
   "cell_type": "code",
   "execution_count": 19,
   "id": "c4bfc46a",
   "metadata": {},
   "outputs": [],
   "source": [
    "# in this version of \"hello\", we have one parameter, called \"name\".\n",
    "# having this parameter means that when we call hello, we must pass one argument.\n",
    "\n",
    "def hello(name):\n",
    "    print(f'Hello, {name}!')"
   ]
  },
  {
   "cell_type": "code",
   "execution_count": 20,
   "id": "08e2097e",
   "metadata": {},
   "outputs": [
    {
     "ename": "TypeError",
     "evalue": "hello() missing 1 required positional argument: 'name'",
     "output_type": "error",
     "traceback": [
      "\u001b[0;31m---------------------------------------------------------------------------\u001b[0m",
      "\u001b[0;31mTypeError\u001b[0m                                 Traceback (most recent call last)",
      "\u001b[0;32m/var/folders/rr/0mnyyv811fs5vyp22gf4fxk00000gn/T/ipykernel_86208/2674044599.py\u001b[0m in \u001b[0;36m<module>\u001b[0;34m\u001b[0m\n\u001b[0;32m----> 1\u001b[0;31m \u001b[0mhello\u001b[0m\u001b[0;34m(\u001b[0m\u001b[0;34m)\u001b[0m\u001b[0;34m\u001b[0m\u001b[0;34m\u001b[0m\u001b[0m\n\u001b[0m",
      "\u001b[0;31mTypeError\u001b[0m: hello() missing 1 required positional argument: 'name'"
     ]
    }
   ],
   "source": [
    "hello()"
   ]
  },
  {
   "cell_type": "code",
   "execution_count": 21,
   "id": "e9f74369",
   "metadata": {},
   "outputs": [
    {
     "name": "stdout",
     "output_type": "stream",
     "text": [
      "Hello, world!\n"
     ]
    }
   ],
   "source": [
    "hello('world') # now we're passing one argument to hello"
   ]
  },
  {
   "cell_type": "code",
   "execution_count": 22,
   "id": "8bc3919c",
   "metadata": {},
   "outputs": [],
   "source": [
    "# let's write a function with two parameters\n",
    "\n",
    "def add(first, second):\n",
    "    print(first + second)"
   ]
  },
  {
   "cell_type": "code",
   "execution_count": 23,
   "id": "8b8b6eef",
   "metadata": {},
   "outputs": [
    {
     "name": "stdout",
     "output_type": "stream",
     "text": [
      "5\n"
     ]
    }
   ],
   "source": [
    "add(2, 3)"
   ]
  },
  {
   "cell_type": "code",
   "execution_count": 24,
   "id": "4d205aad",
   "metadata": {},
   "outputs": [
    {
     "name": "stdout",
     "output_type": "stream",
     "text": [
      "28\n"
     ]
    }
   ],
   "source": [
    "add(10, 18)"
   ]
  },
  {
   "cell_type": "code",
   "execution_count": 25,
   "id": "85e2f1f5",
   "metadata": {},
   "outputs": [
    {
     "ename": "TypeError",
     "evalue": "add() missing 1 required positional argument: 'second'",
     "output_type": "error",
     "traceback": [
      "\u001b[0;31m---------------------------------------------------------------------------\u001b[0m",
      "\u001b[0;31mTypeError\u001b[0m                                 Traceback (most recent call last)",
      "\u001b[0;32m/var/folders/rr/0mnyyv811fs5vyp22gf4fxk00000gn/T/ipykernel_86208/53490253.py\u001b[0m in \u001b[0;36m<module>\u001b[0;34m\u001b[0m\n\u001b[0;32m----> 1\u001b[0;31m \u001b[0madd\u001b[0m\u001b[0;34m(\u001b[0m\u001b[0;36m10\u001b[0m\u001b[0;34m)\u001b[0m\u001b[0;34m\u001b[0m\u001b[0;34m\u001b[0m\u001b[0m\n\u001b[0m",
      "\u001b[0;31mTypeError\u001b[0m: add() missing 1 required positional argument: 'second'"
     ]
    }
   ],
   "source": [
    "add(10)"
   ]
  },
  {
   "cell_type": "code",
   "execution_count": 26,
   "id": "15574b60",
   "metadata": {},
   "outputs": [
    {
     "ename": "TypeError",
     "evalue": "add() missing 2 required positional arguments: 'first' and 'second'",
     "output_type": "error",
     "traceback": [
      "\u001b[0;31m---------------------------------------------------------------------------\u001b[0m",
      "\u001b[0;31mTypeError\u001b[0m                                 Traceback (most recent call last)",
      "\u001b[0;32m/var/folders/rr/0mnyyv811fs5vyp22gf4fxk00000gn/T/ipykernel_86208/3064714114.py\u001b[0m in \u001b[0;36m<module>\u001b[0;34m\u001b[0m\n\u001b[0;32m----> 1\u001b[0;31m \u001b[0madd\u001b[0m\u001b[0;34m(\u001b[0m\u001b[0;34m)\u001b[0m\u001b[0;34m\u001b[0m\u001b[0;34m\u001b[0m\u001b[0m\n\u001b[0m",
      "\u001b[0;31mTypeError\u001b[0m: add() missing 2 required positional arguments: 'first' and 'second'"
     ]
    }
   ],
   "source": [
    "add()"
   ]
  },
  {
   "cell_type": "code",
   "execution_count": 27,
   "id": "d2fb9b11",
   "metadata": {},
   "outputs": [
    {
     "name": "stdout",
     "output_type": "stream",
     "text": [
      "abcdef\n"
     ]
    }
   ],
   "source": [
    "add('abcd', 'ef')   # will this work?"
   ]
  },
  {
   "cell_type": "markdown",
   "id": "8e7209cc",
   "metadata": {},
   "source": [
    "# Functions, parameters, and \"overloading\"\n",
    "\n",
    "In some languages, you can define a function multiple times, each time with different types of parameters and different number of parameters.  So you could, in such a language, define:\n",
    "\n",
    "- `add` for two strings\n",
    "- `add` for two numbers\n",
    "- `add` for two lists\n",
    "- `add` for three strings\n",
    "- `add` for three numbers\n",
    "\n",
    "etc.\n",
    "\n",
    "Python does *not* support this.  When you define a function, you are defining the only version of that function that exists.  Your definition needs to indicate (in the documentation) how many arguments should be passed, and what types they should be."
   ]
  },
  {
   "cell_type": "code",
   "execution_count": 28,
   "id": "ac3d0354",
   "metadata": {},
   "outputs": [
    {
     "data": {
      "text/plain": [
       "7"
      ]
     },
     "execution_count": 28,
     "metadata": {},
     "output_type": "execute_result"
    }
   ],
   "source": [
    "x = 10\n",
    "x = 7\n",
    "\n",
    "# would you expect that Python somehow remembers that x was previously 10? No.\n",
    "\n",
    "x"
   ]
  },
  {
   "cell_type": "code",
   "execution_count": 29,
   "id": "6237c8fd",
   "metadata": {},
   "outputs": [],
   "source": [
    "# functions are assigned to variables\n",
    "# and thus, the most recent definition of a function is the one that sticks around, and is invoked."
   ]
  },
  {
   "cell_type": "markdown",
   "id": "d9acb08d",
   "metadata": {},
   "source": [
    "# Exercise: `mysum`\n",
    "\n",
    "1. Python comes with a `sum` function, which takes a list or tuple of numbers, and returns the sum of those numbers. \n",
    "2. I want you to write a similar function, `mysum`, which takes a list or tuple of numbers, and prints the sum of those numbers.\n",
    "3. *DO NOT* use `sum` when writing `mysum`.\n",
    "\n",
    "Example:\n",
    "\n",
    "    mysum([10, 20, 30])   # should print 60\n",
    "    mysum((100, 200))     # should print 300\n"
   ]
  },
  {
   "cell_type": "code",
   "execution_count": 30,
   "id": "cfe31748",
   "metadata": {},
   "outputs": [],
   "source": [
    "def mysum(numbers):\n",
    "    total = 0\n",
    "    \n",
    "    for one_number in numbers:\n",
    "        total += one_number\n",
    "        \n",
    "    print(total)"
   ]
  },
  {
   "cell_type": "code",
   "execution_count": 31,
   "id": "91d5a65d",
   "metadata": {},
   "outputs": [
    {
     "name": "stdout",
     "output_type": "stream",
     "text": [
      "60\n"
     ]
    }
   ],
   "source": [
    "mysum([10, 20, 30])"
   ]
  },
  {
   "cell_type": "code",
   "execution_count": 32,
   "id": "a485140e",
   "metadata": {},
   "outputs": [
    {
     "name": "stdout",
     "output_type": "stream",
     "text": [
      "1018\n"
     ]
    }
   ],
   "source": [
    "mysum([100, 200, 300, 400, 18])"
   ]
  },
  {
   "cell_type": "code",
   "execution_count": 33,
   "id": "2ec30de8",
   "metadata": {},
   "outputs": [
    {
     "ename": "TypeError",
     "evalue": "mysum() missing 1 required positional argument: 'numbers'",
     "output_type": "error",
     "traceback": [
      "\u001b[0;31m---------------------------------------------------------------------------\u001b[0m",
      "\u001b[0;31mTypeError\u001b[0m                                 Traceback (most recent call last)",
      "\u001b[0;32m/var/folders/rr/0mnyyv811fs5vyp22gf4fxk00000gn/T/ipykernel_86208/2216900251.py\u001b[0m in \u001b[0;36m<module>\u001b[0;34m\u001b[0m\n\u001b[0;32m----> 1\u001b[0;31m \u001b[0mmysum\u001b[0m\u001b[0;34m(\u001b[0m\u001b[0;34m)\u001b[0m\u001b[0;34m\u001b[0m\u001b[0;34m\u001b[0m\u001b[0m\n\u001b[0m",
      "\u001b[0;31mTypeError\u001b[0m: mysum() missing 1 required positional argument: 'numbers'"
     ]
    }
   ],
   "source": [
    "mysum()"
   ]
  },
  {
   "cell_type": "markdown",
   "id": "35fa47ad",
   "metadata": {},
   "source": [
    "# Two types of arguments: Positional and keyword\n",
    "\n",
    "When we call a function in Python, we can pass one or more arguments. These arguments are values that are assigned to parameters.\n",
    "\n",
    "How does Python decide which argument should be assigned to which parameter?\n",
    "\n",
    "There are two techniques:\n",
    "\n",
    "1. Positional arguments: The arguments are assigned to parameters based on their *positions*.  The first argument is assigned to the first parameter, the second to the second, etc.\n",
    "2. Keyword arguments: Here, the argument is of the form `name=value`, with an `=` between the name and value. The name must be a parameter name, and Python uses that to make the assignment."
   ]
  },
  {
   "cell_type": "code",
   "execution_count": 34,
   "id": "150faea6",
   "metadata": {},
   "outputs": [],
   "source": [
    "def add(a, b):\n",
    "    print(a + b)"
   ]
  },
  {
   "cell_type": "code",
   "execution_count": 35,
   "id": "ed16052b",
   "metadata": {},
   "outputs": [
    {
     "name": "stdout",
     "output_type": "stream",
     "text": [
      "13\n"
     ]
    }
   ],
   "source": [
    "# parameters: a  b\n",
    "# arguments:  10 3\n",
    "\n",
    "add(10, 3)   # two positional arguments"
   ]
  },
  {
   "cell_type": "code",
   "execution_count": 36,
   "id": "996192e2",
   "metadata": {},
   "outputs": [
    {
     "name": "stdout",
     "output_type": "stream",
     "text": [
      "13\n"
     ]
    }
   ],
   "source": [
    "# parameters: a  b\n",
    "# arguments:  10 3\n",
    "\n",
    "add(a=10, b=3)  # keyword arguments"
   ]
  },
  {
   "cell_type": "code",
   "execution_count": 37,
   "id": "2dc35479",
   "metadata": {},
   "outputs": [
    {
     "name": "stdout",
     "output_type": "stream",
     "text": [
      "13\n"
     ]
    }
   ],
   "source": [
    "# parameters: a  b\n",
    "# arguments:   a  10\n",
    "\n",
    "add(b=10, a=3)"
   ]
  },
  {
   "cell_type": "code",
   "execution_count": 38,
   "id": "c942deea",
   "metadata": {},
   "outputs": [
    {
     "name": "stdout",
     "output_type": "stream",
     "text": [
      "13\n"
     ]
    }
   ],
   "source": [
    "# can you mix positional and keyword arguments? YES, so long as all positional\n",
    "# come before all keyword\n",
    "\n",
    "add(10, b=3)   # positional, then keyword -- that's OK"
   ]
  },
  {
   "cell_type": "code",
   "execution_count": 39,
   "id": "92266bc6",
   "metadata": {},
   "outputs": [
    {
     "ename": "SyntaxError",
     "evalue": "positional argument follows keyword argument (2659952914.py, line 1)",
     "output_type": "error",
     "traceback": [
      "\u001b[0;36m  File \u001b[0;32m\"/var/folders/rr/0mnyyv811fs5vyp22gf4fxk00000gn/T/ipykernel_86208/2659952914.py\"\u001b[0;36m, line \u001b[0;32m1\u001b[0m\n\u001b[0;31m    add(a=10, 3)   # keyword, then positional -- not OK!\u001b[0m\n\u001b[0m               ^\u001b[0m\n\u001b[0;31mSyntaxError\u001b[0m\u001b[0;31m:\u001b[0m positional argument follows keyword argument\n"
     ]
    }
   ],
   "source": [
    "add(a=10, 3)   # keyword, then positional -- not OK!"
   ]
  },
  {
   "cell_type": "markdown",
   "id": "ba46a584",
   "metadata": {},
   "source": [
    "# Next up\n",
    "\n",
    "1. Return values (how does a function \"return\" something to its caller?)\n",
    "2. Default argument values (i.e., making arguments optional)\n"
   ]
  },
  {
   "cell_type": "markdown",
   "id": "b2d8fe57",
   "metadata": {},
   "source": [
    "# Return values\n",
    "\n",
    "When I call a function, the function can print whatever it wants. It can print once, or many times.\n",
    "\n",
    "More important than what a function prints is the value that it \"returns.\"\n",
    "\n",
    "When I call `len('abcd')`, I don't want `len` to print `4` on the screen.  I want it to \"return\" a value that I can then assign to a variable, print, or do something else with.\n",
    "\n",
    "A function can return one value, because a function only returns once.  In assignment, the function call is replaced with its return value.\n",
    "\n",
    "A function can return a value with the `return` statement.  A function can return any type of Python data.  It can even have more than one `return` statement, but only one will ever be executed.  (This is comment in `if/else` blocks, where you return one thing if a condition is true, and another if it's not."
   ]
  },
  {
   "cell_type": "code",
   "execution_count": 40,
   "id": "f3ebf079",
   "metadata": {},
   "outputs": [],
   "source": [
    "# because len('abcd') returns a value,\n",
    "# I can put it on the right side of assignment\n",
    "\n",
    "x = len('abcd')     # same as x=4, because len('abcd') is replaced by the value 4, its return value."
   ]
  },
  {
   "cell_type": "code",
   "execution_count": 41,
   "id": "19297436",
   "metadata": {},
   "outputs": [
    {
     "data": {
      "text/plain": [
       "4"
      ]
     },
     "execution_count": 41,
     "metadata": {},
     "output_type": "execute_result"
    }
   ],
   "source": [
    "x"
   ]
  },
  {
   "cell_type": "code",
   "execution_count": 42,
   "id": "bc37fb8e",
   "metadata": {},
   "outputs": [],
   "source": [
    "def hello(name):\n",
    "    return f'Hello, {name}!'"
   ]
  },
  {
   "cell_type": "code",
   "execution_count": 43,
   "id": "4fc3bf55",
   "metadata": {},
   "outputs": [],
   "source": [
    "s = hello('Reuven')  "
   ]
  },
  {
   "cell_type": "code",
   "execution_count": 44,
   "id": "87446736",
   "metadata": {},
   "outputs": [
    {
     "data": {
      "text/plain": [
       "'Hello, Reuven!'"
      ]
     },
     "execution_count": 44,
     "metadata": {},
     "output_type": "execute_result"
    }
   ],
   "source": [
    "s"
   ]
  },
  {
   "cell_type": "code",
   "execution_count": 45,
   "id": "54ff8bd9",
   "metadata": {},
   "outputs": [
    {
     "name": "stdout",
     "output_type": "stream",
     "text": [
      "Hello, Reuven!\n"
     ]
    }
   ],
   "source": [
    "print(s)"
   ]
  },
  {
   "cell_type": "code",
   "execution_count": 46,
   "id": "c6c823c3",
   "metadata": {},
   "outputs": [
    {
     "name": "stdout",
     "output_type": "stream",
     "text": [
      "Hello, Reuven!\n"
     ]
    }
   ],
   "source": [
    "print(hello('Reuven'))"
   ]
  },
  {
   "cell_type": "markdown",
   "id": "446604af",
   "metadata": {},
   "source": [
    "# `return` vs. `print`\n",
    "\n",
    "If a function prints something on the screen, then that's great for the end user, but not so good for the program -- we cannot capture, assign, or otherwise use that value.\n",
    "\n",
    "But if a function returns a value, then we can decide what to do with it.\n",
    "\n",
    "On balance, a function should use `print` if its job is to print things, or if you're debugging.\n",
    "\n",
    "In all other cases, I suggest using `return`."
   ]
  },
  {
   "cell_type": "code",
   "execution_count": 47,
   "id": "dbc1de0c",
   "metadata": {},
   "outputs": [],
   "source": [
    "def div(first, second):\n",
    "    if second != 0:\n",
    "        return first / second\n",
    "    else:\n",
    "        return 'You cannot divide by zero!'"
   ]
  },
  {
   "cell_type": "code",
   "execution_count": 48,
   "id": "73e459f4",
   "metadata": {},
   "outputs": [
    {
     "data": {
      "text/plain": [
       "5.0"
      ]
     },
     "execution_count": 48,
     "metadata": {},
     "output_type": "execute_result"
    }
   ],
   "source": [
    "div(10, 2)"
   ]
  },
  {
   "cell_type": "code",
   "execution_count": 49,
   "id": "b93fddb2",
   "metadata": {},
   "outputs": [
    {
     "data": {
      "text/plain": [
       "'You cannot divide by zero!'"
      ]
     },
     "execution_count": 49,
     "metadata": {},
     "output_type": "execute_result"
    }
   ],
   "source": [
    "div(10, 0)"
   ]
  },
  {
   "cell_type": "markdown",
   "id": "f18b81cd",
   "metadata": {},
   "source": [
    "# Every function returns a value\n",
    "\n",
    "Even if you don't use `return` in a function, it'll still return a value when it's over. That's because Python functions return the special value `None` when you don't explicitly say what to return.\n",
    "\n"
   ]
  },
  {
   "cell_type": "markdown",
   "id": "ebbd89bc",
   "metadata": {},
   "source": [
    "# Exercise: min and max\n",
    "\n",
    "1. Write a function, `min_and_max`, that takes a list of numbers as an argument.\n",
    "2. The output from the function will be a two-element list, in which the first is the smallest number in the input, and the second is the largest number in the input.\n",
    "3. Return this list from the function.\n",
    "\n",
    "```python\n",
    "min_and_max([100, 50, 75, 20, 80])   # [20, 100]\n",
    "min_and_max([5])                     # [5, 5]\n",
    "```\n",
    "\n",
    "There are `min` and `max` functions in Python. Don't use them! Instead, use a `for` loop to iterate over the input list/tuple."
   ]
  },
  {
   "cell_type": "code",
   "execution_count": 50,
   "id": "f364db6c",
   "metadata": {},
   "outputs": [],
   "source": [
    "def min_and_max(numbers):\n",
    "    smallest = numbers[0]   # assume the first number is the smallest\n",
    "    biggest = numbers[0]    # assume the first number is the biggest\n",
    "    \n",
    "    for one_number in numbers:\n",
    "        if one_number < smallest:\n",
    "            smallest = one_number\n",
    "        if one_number > biggest:\n",
    "            biggest = one_number\n",
    "            \n",
    "    return [smallest, biggest]"
   ]
  },
  {
   "cell_type": "code",
   "execution_count": 51,
   "id": "c8f98d73",
   "metadata": {},
   "outputs": [
    {
     "data": {
      "text/plain": [
       "[20, 100]"
      ]
     },
     "execution_count": 51,
     "metadata": {},
     "output_type": "execute_result"
    }
   ],
   "source": [
    "min_and_max([100, 50, 75, 20, 80])"
   ]
  },
  {
   "cell_type": "code",
   "execution_count": 52,
   "id": "8d5ebb06",
   "metadata": {},
   "outputs": [
    {
     "data": {
      "text/plain": [
       "[5, 5]"
      ]
     },
     "execution_count": 52,
     "metadata": {},
     "output_type": "execute_result"
    }
   ],
   "source": [
    "min_and_max([5])"
   ]
  },
  {
   "cell_type": "code",
   "execution_count": 53,
   "id": "ec91b5fd",
   "metadata": {},
   "outputs": [
    {
     "data": {
      "text/plain": [
       "['I', 'using']"
      ]
     },
     "execution_count": 53,
     "metadata": {},
     "output_type": "execute_result"
    }
   ],
   "source": [
    "# where in min_and_max do we mention numbers?\n",
    "# we don't! We're just comparing < and >\n",
    "# what if I were to find, in a given list of strings, the first and last words, alphabetically?\n",
    "\n",
    "min_and_max('this is a test sentence that I am using for my function'.split())"
   ]
  },
  {
   "cell_type": "code",
   "execution_count": 56,
   "id": "7f020db5",
   "metadata": {},
   "outputs": [],
   "source": [
    "# can I use my existing function in a new function? YES!\n",
    "# can I write a function that gets the first and last words (alphabetically) in a file?  YES!\n",
    "\n",
    "def first_last_words_from_file(filename):     # find the first and last (alphabetically) words in a file\n",
    "\n",
    "    # create a list of all words from the file\n",
    "    words = []\n",
    "    for one_line in open(filename):\n",
    "        words += one_line.split()\n",
    "        \n",
    "    # now, words contains a list of strings -- all words in the file\n",
    "    return min_and_max(words)\n"
   ]
  },
  {
   "cell_type": "code",
   "execution_count": 54,
   "id": "43e00ab3",
   "metadata": {},
   "outputs": [
    {
     "name": "stdout",
     "output_type": "stream",
     "text": [
      "config.txt\t      mini-access-log.txt  nums.txt\t  wcfile.txt\r\n",
      "linux-etc-passwd.txt  myfile.txt\t   shoe-data.txt\r\n"
     ]
    }
   ],
   "source": [
    "!ls *.txt"
   ]
  },
  {
   "cell_type": "code",
   "execution_count": 55,
   "id": "7eb976a8",
   "metadata": {},
   "outputs": [
    {
     "name": "stdout",
     "output_type": "stream",
     "text": [
      "This is a test file.\r\n",
      "\r\n",
      "It contains 28 words and 20 different words.\r\n",
      "\r\n",
      "It also contains 165 characters.\r\n",
      "\r\n",
      "It also contains 11 lines.\r\n",
      "\r\n",
      "It is also self-referential.\r\n",
      "\r\n",
      "Wow!\r\n"
     ]
    }
   ],
   "source": [
    "!cat wcfile.txt"
   ]
  },
  {
   "cell_type": "code",
   "execution_count": 57,
   "id": "d4ab0477",
   "metadata": {},
   "outputs": [
    {
     "data": {
      "text/plain": [
       "['11', 'words.']"
      ]
     },
     "execution_count": 57,
     "metadata": {},
     "output_type": "execute_result"
    }
   ],
   "source": [
    "first_last_words_from_file('wcfile.txt')"
   ]
  },
  {
   "cell_type": "code",
   "execution_count": 58,
   "id": "8f4ed532",
   "metadata": {},
   "outputs": [
    {
     "data": {
      "text/plain": [
       "[10, 10]"
      ]
     },
     "execution_count": 58,
     "metadata": {},
     "output_type": "execute_result"
    }
   ],
   "source": [
    "min_and_max([10])"
   ]
  },
  {
   "cell_type": "code",
   "execution_count": 59,
   "id": "660ecd01",
   "metadata": {},
   "outputs": [
    {
     "ename": "TypeError",
     "evalue": "'int' object is not subscriptable",
     "output_type": "error",
     "traceback": [
      "\u001b[0;31m---------------------------------------------------------------------------\u001b[0m",
      "\u001b[0;31mTypeError\u001b[0m                                 Traceback (most recent call last)",
      "\u001b[0;32m/var/folders/rr/0mnyyv811fs5vyp22gf4fxk00000gn/T/ipykernel_86208/3395039632.py\u001b[0m in \u001b[0;36m<module>\u001b[0;34m\u001b[0m\n\u001b[0;32m----> 1\u001b[0;31m \u001b[0mmin_and_max\u001b[0m\u001b[0;34m(\u001b[0m\u001b[0;36m10\u001b[0m\u001b[0;34m)\u001b[0m\u001b[0;34m\u001b[0m\u001b[0;34m\u001b[0m\u001b[0m\n\u001b[0m",
      "\u001b[0;32m/var/folders/rr/0mnyyv811fs5vyp22gf4fxk00000gn/T/ipykernel_86208/203511397.py\u001b[0m in \u001b[0;36mmin_and_max\u001b[0;34m(numbers)\u001b[0m\n\u001b[1;32m      1\u001b[0m \u001b[0;32mdef\u001b[0m \u001b[0mmin_and_max\u001b[0m\u001b[0;34m(\u001b[0m\u001b[0mnumbers\u001b[0m\u001b[0;34m)\u001b[0m\u001b[0;34m:\u001b[0m\u001b[0;34m\u001b[0m\u001b[0;34m\u001b[0m\u001b[0m\n\u001b[0;32m----> 2\u001b[0;31m     \u001b[0msmallest\u001b[0m \u001b[0;34m=\u001b[0m \u001b[0mnumbers\u001b[0m\u001b[0;34m[\u001b[0m\u001b[0;36m0\u001b[0m\u001b[0;34m]\u001b[0m   \u001b[0;31m# assume the first number is the smallest\u001b[0m\u001b[0;34m\u001b[0m\u001b[0;34m\u001b[0m\u001b[0m\n\u001b[0m\u001b[1;32m      3\u001b[0m     \u001b[0mbiggest\u001b[0m \u001b[0;34m=\u001b[0m \u001b[0mnumbers\u001b[0m\u001b[0;34m[\u001b[0m\u001b[0;36m0\u001b[0m\u001b[0;34m]\u001b[0m    \u001b[0;31m# assume the first number is the biggest\u001b[0m\u001b[0;34m\u001b[0m\u001b[0;34m\u001b[0m\u001b[0m\n\u001b[1;32m      4\u001b[0m \u001b[0;34m\u001b[0m\u001b[0m\n\u001b[1;32m      5\u001b[0m     \u001b[0;32mfor\u001b[0m \u001b[0mone_number\u001b[0m \u001b[0;32min\u001b[0m \u001b[0mnumbers\u001b[0m\u001b[0;34m:\u001b[0m\u001b[0;34m\u001b[0m\u001b[0;34m\u001b[0m\u001b[0m\n",
      "\u001b[0;31mTypeError\u001b[0m: 'int' object is not subscriptable"
     ]
    }
   ],
   "source": [
    "min_and_max(10)"
   ]
  },
  {
   "cell_type": "code",
   "execution_count": 60,
   "id": "1082f593",
   "metadata": {},
   "outputs": [],
   "source": [
    "def add(first, second):\n",
    "    return first + second"
   ]
  },
  {
   "cell_type": "code",
   "execution_count": 61,
   "id": "c96fe049",
   "metadata": {},
   "outputs": [
    {
     "data": {
      "text/plain": [
       "13"
      ]
     },
     "execution_count": 61,
     "metadata": {},
     "output_type": "execute_result"
    }
   ],
   "source": [
    "add(10, 3)"
   ]
  },
  {
   "cell_type": "code",
   "execution_count": 63,
   "id": "3ad5aa00",
   "metadata": {},
   "outputs": [
    {
     "ename": "TypeError",
     "evalue": "add() missing 1 required positional argument: 'second'",
     "output_type": "error",
     "traceback": [
      "\u001b[0;31m---------------------------------------------------------------------------\u001b[0m",
      "\u001b[0;31mTypeError\u001b[0m                                 Traceback (most recent call last)",
      "\u001b[0;32m/var/folders/rr/0mnyyv811fs5vyp22gf4fxk00000gn/T/ipykernel_86208/2138195058.py\u001b[0m in \u001b[0;36m<module>\u001b[0;34m\u001b[0m\n\u001b[1;32m      1\u001b[0m \u001b[0;31m# what if I call add with just one argument\u001b[0m\u001b[0;34m\u001b[0m\u001b[0;34m\u001b[0m\u001b[0m\n\u001b[0;32m----> 2\u001b[0;31m \u001b[0madd\u001b[0m\u001b[0;34m(\u001b[0m\u001b[0;36m10\u001b[0m\u001b[0;34m)\u001b[0m\u001b[0;34m\u001b[0m\u001b[0;34m\u001b[0m\u001b[0m\n\u001b[0m",
      "\u001b[0;31mTypeError\u001b[0m: add() missing 1 required positional argument: 'second'"
     ]
    }
   ],
   "source": [
    "# what if I call add with just one argument\n",
    "add(10)"
   ]
  },
  {
   "cell_type": "code",
   "execution_count": 64,
   "id": "be297345",
   "metadata": {},
   "outputs": [],
   "source": [
    "# I can tell Python to have a default argument value for second\n",
    "# that effectively makes second optional\n",
    "\n",
    "def add(first, second=3):    # here, we've specified that second's default value is 3\n",
    "    return first + second"
   ]
  },
  {
   "cell_type": "code",
   "execution_count": 65,
   "id": "372db07c",
   "metadata": {},
   "outputs": [
    {
     "data": {
      "text/plain": [
       "12"
      ]
     },
     "execution_count": 65,
     "metadata": {},
     "output_type": "execute_result"
    }
   ],
   "source": [
    "# parameters: first  second\n",
    "# arguments    10     2\n",
    "\n",
    "add(10, 2)  "
   ]
  },
  {
   "cell_type": "code",
   "execution_count": 66,
   "id": "56ff1cdf",
   "metadata": {},
   "outputs": [
    {
     "data": {
      "text/plain": [
       "13"
      ]
     },
     "execution_count": 66,
     "metadata": {},
     "output_type": "execute_result"
    }
   ],
   "source": [
    "# parameters: first second\n",
    "# arguments:   10     3\n",
    "\n",
    "add(10)"
   ]
  },
  {
   "cell_type": "markdown",
   "id": "c1413506",
   "metadata": {},
   "source": [
    "# Default parameter values\n",
    "\n",
    "1. Any parameter in a Python function can have a default value. This value is assigned if, when calling the function, you don't provide an argument for this parameter.\n",
    "2. Just as when we call functions, positional arguments must all come before keyword arguments, so too must all mandatory parameters (i.e., those without defaults) come before optional ones (i.e., those with defaults).\n",
    "3. Don't use mutable values (e.g., lists and dicts) as defaults."
   ]
  },
  {
   "cell_type": "code",
   "execution_count": 67,
   "id": "69602b35",
   "metadata": {},
   "outputs": [],
   "source": [
    "def add(first=2, second=3):\n",
    "    return first + second"
   ]
  },
  {
   "cell_type": "code",
   "execution_count": 68,
   "id": "4edfdedd",
   "metadata": {},
   "outputs": [
    {
     "data": {
      "text/plain": [
       "5"
      ]
     },
     "execution_count": 68,
     "metadata": {},
     "output_type": "execute_result"
    }
   ],
   "source": [
    "add()"
   ]
  },
  {
   "cell_type": "code",
   "execution_count": 69,
   "id": "2584acf3",
   "metadata": {},
   "outputs": [
    {
     "data": {
      "text/plain": [
       "13"
      ]
     },
     "execution_count": 69,
     "metadata": {},
     "output_type": "execute_result"
    }
   ],
   "source": [
    "add(10)"
   ]
  },
  {
   "cell_type": "code",
   "execution_count": 70,
   "id": "69eccd23",
   "metadata": {},
   "outputs": [
    {
     "data": {
      "text/plain": [
       "12"
      ]
     },
     "execution_count": 70,
     "metadata": {},
     "output_type": "execute_result"
    }
   ],
   "source": [
    "add(second=10)"
   ]
  },
  {
   "cell_type": "code",
   "execution_count": 71,
   "id": "41650812",
   "metadata": {},
   "outputs": [
    {
     "data": {
      "text/plain": [
       "13"
      ]
     },
     "execution_count": 71,
     "metadata": {},
     "output_type": "execute_result"
    }
   ],
   "source": [
    "add(3, second=10)"
   ]
  },
  {
   "cell_type": "code",
   "execution_count": 72,
   "id": "fbed1d84",
   "metadata": {},
   "outputs": [
    {
     "ename": "SyntaxError",
     "evalue": "positional argument follows keyword argument (2601075463.py, line 1)",
     "output_type": "error",
     "traceback": [
      "\u001b[0;36m  File \u001b[0;32m\"/var/folders/rr/0mnyyv811fs5vyp22gf4fxk00000gn/T/ipykernel_86208/2601075463.py\"\u001b[0;36m, line \u001b[0;32m1\u001b[0m\n\u001b[0;31m    add(first=3, 10)\u001b[0m\n\u001b[0m                   ^\u001b[0m\n\u001b[0;31mSyntaxError\u001b[0m\u001b[0;31m:\u001b[0m positional argument follows keyword argument\n"
     ]
    }
   ],
   "source": [
    "add(first=3, 10)"
   ]
  },
  {
   "cell_type": "code",
   "execution_count": 73,
   "id": "18e5ffe1",
   "metadata": {},
   "outputs": [
    {
     "ename": "SyntaxError",
     "evalue": "non-default argument follows default argument (2621524490.py, line 1)",
     "output_type": "error",
     "traceback": [
      "\u001b[0;36m  File \u001b[0;32m\"/var/folders/rr/0mnyyv811fs5vyp22gf4fxk00000gn/T/ipykernel_86208/2621524490.py\"\u001b[0;36m, line \u001b[0;32m1\u001b[0m\n\u001b[0;31m    def add(first=2, second):\u001b[0m\n\u001b[0m                     ^\u001b[0m\n\u001b[0;31mSyntaxError\u001b[0m\u001b[0;31m:\u001b[0m non-default argument follows default argument\n"
     ]
    }
   ],
   "source": [
    "def add(first=2, second):\n",
    "    return first + second"
   ]
  },
  {
   "cell_type": "markdown",
   "id": "5e5fcf3d",
   "metadata": {},
   "source": [
    "# Exercise: Count characters\n",
    "\n",
    "1. Write a function, `count_characters`, that takes two arguments:\n",
    "    - The name of the file you want to read from\n",
    "    - A string indicating which characters you want to count.  The default will be vowels (a, e, i, o, and u).\n",
    "2. The function should return an integer, the number of times the specified characters appeared in the file.\n",
    "\n",
    "Example:\n",
    "\n",
    "    count_characters('/etc/passwd', 'aeiou')   # how many vowels are in the file?\n",
    "    count_characters('wcfile.txt', '!?.')      # how many end-of-sentence punctuation marks are there?\n",
    "    "
   ]
  },
  {
   "cell_type": "code",
   "execution_count": 74,
   "id": "b5d472bb",
   "metadata": {},
   "outputs": [],
   "source": [
    "def count_characters(filename):\n",
    "    total = 0\n",
    "    \n",
    "    for one_line in open(filename):\n",
    "        for one_character in one_line.lower():\n",
    "            if one_character in 'aeiou':\n",
    "                total += 1\n",
    "                \n",
    "    return total"
   ]
  },
  {
   "cell_type": "code",
   "execution_count": 75,
   "id": "90c988dc",
   "metadata": {},
   "outputs": [
    {
     "data": {
      "text/plain": [
       "44"
      ]
     },
     "execution_count": 75,
     "metadata": {},
     "output_type": "execute_result"
    }
   ],
   "source": [
    "# count the vowels\n",
    "count_characters('wcfile.txt')"
   ]
  },
  {
   "cell_type": "code",
   "execution_count": 76,
   "id": "afc0e9fa",
   "metadata": {},
   "outputs": [],
   "source": [
    "def count_characters(filename, chars):\n",
    "    total = 0\n",
    "    \n",
    "    for one_line in open(filename):\n",
    "        for one_character in one_line.lower():\n",
    "            if one_character in chars:\n",
    "                total += 1\n",
    "                \n",
    "    return total"
   ]
  },
  {
   "cell_type": "code",
   "execution_count": 78,
   "id": "b81be56f",
   "metadata": {},
   "outputs": [
    {
     "data": {
      "text/plain": [
       "44"
      ]
     },
     "execution_count": 78,
     "metadata": {},
     "output_type": "execute_result"
    }
   ],
   "source": [
    "# count the character in the 2nd argument, which happens to be 'aeiou'\n",
    "count_characters('wcfile.txt', 'aeiou')"
   ]
  },
  {
   "cell_type": "code",
   "execution_count": 79,
   "id": "8da2cc3c",
   "metadata": {},
   "outputs": [
    {
     "data": {
      "text/plain": [
       "6"
      ]
     },
     "execution_count": 79,
     "metadata": {},
     "output_type": "execute_result"
    }
   ],
   "source": [
    "count_characters('wcfile.txt', '!?.')"
   ]
  },
  {
   "cell_type": "code",
   "execution_count": 80,
   "id": "bea88907",
   "metadata": {},
   "outputs": [
    {
     "ename": "TypeError",
     "evalue": "count_characters() missing 1 required positional argument: 'chars'",
     "output_type": "error",
     "traceback": [
      "\u001b[0;31m---------------------------------------------------------------------------\u001b[0m",
      "\u001b[0;31mTypeError\u001b[0m                                 Traceback (most recent call last)",
      "\u001b[0;32m/var/folders/rr/0mnyyv811fs5vyp22gf4fxk00000gn/T/ipykernel_86208/881896316.py\u001b[0m in \u001b[0;36m<module>\u001b[0;34m\u001b[0m\n\u001b[0;32m----> 1\u001b[0;31m \u001b[0mcount_characters\u001b[0m\u001b[0;34m(\u001b[0m\u001b[0;34m'wcfile.txt'\u001b[0m\u001b[0;34m)\u001b[0m\u001b[0;34m\u001b[0m\u001b[0;34m\u001b[0m\u001b[0m\n\u001b[0m",
      "\u001b[0;31mTypeError\u001b[0m: count_characters() missing 1 required positional argument: 'chars'"
     ]
    }
   ],
   "source": [
    "count_characters('wcfile.txt')"
   ]
  },
  {
   "cell_type": "code",
   "execution_count": 81,
   "id": "7731e07f",
   "metadata": {},
   "outputs": [],
   "source": [
    "# now our function has a default value of 'aeiou', for chars\n",
    "\n",
    "def count_characters(filename, chars='aeiou'):\n",
    "    total = 0\n",
    "    \n",
    "    for one_line in open(filename):\n",
    "        for one_character in one_line.lower():\n",
    "            if one_character in chars:\n",
    "                total += 1\n",
    "                \n",
    "    return total"
   ]
  },
  {
   "cell_type": "code",
   "execution_count": 82,
   "id": "db3b6912",
   "metadata": {},
   "outputs": [
    {
     "data": {
      "text/plain": [
       "6"
      ]
     },
     "execution_count": 82,
     "metadata": {},
     "output_type": "execute_result"
    }
   ],
   "source": [
    "count_characters('wcfile.txt', '!?.')"
   ]
  },
  {
   "cell_type": "code",
   "execution_count": 83,
   "id": "f9bfb0c8",
   "metadata": {},
   "outputs": [
    {
     "data": {
      "text/plain": [
       "44"
      ]
     },
     "execution_count": 83,
     "metadata": {},
     "output_type": "execute_result"
    }
   ],
   "source": [
    "count_characters('wcfile.txt')  # now it'll look for vowels"
   ]
  },
  {
   "cell_type": "code",
   "execution_count": 84,
   "id": "912f25d1",
   "metadata": {},
   "outputs": [
    {
     "data": {
      "text/plain": [
       "['ab', 'cd:ef', 'gh']"
      ]
     },
     "execution_count": 84,
     "metadata": {},
     "output_type": "execute_result"
    }
   ],
   "source": [
    "# split has a default!\n",
    "\n",
    "s = 'ab cd:ef gh'\n",
    "\n",
    "s.split(' ')"
   ]
  },
  {
   "cell_type": "code",
   "execution_count": 85,
   "id": "86303ab6",
   "metadata": {},
   "outputs": [
    {
     "data": {
      "text/plain": [
       "['ab cd', 'ef gh']"
      ]
     },
     "execution_count": 85,
     "metadata": {},
     "output_type": "execute_result"
    }
   ],
   "source": [
    "s.split(':')"
   ]
  },
  {
   "cell_type": "code",
   "execution_count": 86,
   "id": "4321c326",
   "metadata": {},
   "outputs": [
    {
     "data": {
      "text/plain": [
       "['ab', 'cd:ef', 'gh']"
      ]
     },
     "execution_count": 86,
     "metadata": {},
     "output_type": "execute_result"
    }
   ],
   "source": [
    "s.split()   # look -- no argument at all!"
   ]
  },
  {
   "cell_type": "code",
   "execution_count": 87,
   "id": "f464eb35",
   "metadata": {},
   "outputs": [
    {
     "name": "stdout",
     "output_type": "stream",
     "text": [
      "Help on built-in function split:\n",
      "\n",
      "split(sep=None, maxsplit=-1) method of builtins.str instance\n",
      "    Return a list of the words in the string, using sep as the delimiter string.\n",
      "    \n",
      "    sep\n",
      "      The delimiter according which to split the string.\n",
      "      None (the default value) means split according to any whitespace,\n",
      "      and discard empty strings from the result.\n",
      "    maxsplit\n",
      "      Maximum number of splits to do.\n",
      "      -1 (the default value) means no limit.\n",
      "\n"
     ]
    }
   ],
   "source": [
    "help(s.split)   # what is this function's signature and documentation?"
   ]
  },
  {
   "cell_type": "code",
   "execution_count": 90,
   "id": "278a84f1",
   "metadata": {},
   "outputs": [],
   "source": [
    "# let's change the function, so that if we don't specify characters,\n",
    "# it counts *all* characters\n",
    "\n",
    "# I'd suggest using None here\n",
    "\n",
    "def count_characters(filename, chars=None):\n",
    "    total = 0\n",
    "    \n",
    "    for one_line in open(filename):\n",
    "        for one_character in one_line.lower():\n",
    "\n",
    "            if chars == None:\n",
    "                total += 1\n",
    "\n",
    "            elif one_character in chars:\n",
    "                total += 1\n",
    "\n",
    "    return total"
   ]
  },
  {
   "cell_type": "code",
   "execution_count": 91,
   "id": "2e142ae4",
   "metadata": {},
   "outputs": [
    {
     "data": {
      "text/plain": [
       "165"
      ]
     },
     "execution_count": 91,
     "metadata": {},
     "output_type": "execute_result"
    }
   ],
   "source": [
    "count_characters('wcfile.txt')"
   ]
  },
  {
   "cell_type": "code",
   "execution_count": 92,
   "id": "ad63f6e5",
   "metadata": {},
   "outputs": [
    {
     "data": {
      "text/plain": [
       "44"
      ]
     },
     "execution_count": 92,
     "metadata": {},
     "output_type": "execute_result"
    }
   ],
   "source": [
    "count_characters('wcfile.txt', 'aeiou')"
   ]
  },
  {
   "cell_type": "code",
   "execution_count": 93,
   "id": "c4f331d0",
   "metadata": {},
   "outputs": [
    {
     "data": {
      "text/plain": [
       "6"
      ]
     },
     "execution_count": 93,
     "metadata": {},
     "output_type": "execute_result"
    }
   ],
   "source": [
    "count_characters('wcfile.txt', '!?.')"
   ]
  },
  {
   "cell_type": "code",
   "execution_count": 94,
   "id": "cf4679af",
   "metadata": {},
   "outputs": [
    {
     "data": {
      "text/plain": [
       "['this', 'is', 'a', 'bunch', 'of', 'words']"
      ]
     },
     "execution_count": 94,
     "metadata": {},
     "output_type": "execute_result"
    }
   ],
   "source": [
    "s = 'this is a bunch of words'\n",
    "\n",
    "s.split()"
   ]
  },
  {
   "cell_type": "code",
   "execution_count": 96,
   "id": "9a78421f",
   "metadata": {},
   "outputs": [
    {
     "data": {
      "text/plain": [
       "['this', 'is', 'a', 'bunch of words']"
      ]
     },
     "execution_count": 96,
     "metadata": {},
     "output_type": "execute_result"
    }
   ],
   "source": [
    "# I can use the \"maxsplit\" parameter to limit the number of times we cut\n",
    "s.split(maxsplit=3)"
   ]
  },
  {
   "cell_type": "markdown",
   "id": "359a1781",
   "metadata": {},
   "source": [
    "# How are people supposed to know how many arguments to pass?\n",
    "\n",
    "If you're using PyCharm or VSCode, it'll give you some hints/warnings if you try to call a function with the wrong number of arguments. \n",
    "\n",
    "In general, though, Python assumes that people will read the documentation.  That's great, but (a) how do I read it, and (b) how can I write it?\n",
    "\n",
    "Python solves this with \"docstrings.\"  If the first line of a function is a string, then that is the documentation for the function, telling people how to invoke it.   This is *not* the same thing as a comment in the code! Comments are meant for maintainers, while docstrings are meant for users."
   ]
  },
  {
   "cell_type": "code",
   "execution_count": 99,
   "id": "1762aa41",
   "metadata": {},
   "outputs": [],
   "source": [
    "def hello(name):\n",
    "    \"\"\"A friendly function.\n",
    "    \n",
    "    Expects: A string\n",
    "    Modifies: Nothing\n",
    "    Returns: A friendly string with the user's name\n",
    "    \"\"\"\n",
    "    return f'Hello, {name}!'"
   ]
  },
  {
   "cell_type": "code",
   "execution_count": 100,
   "id": "3769323b",
   "metadata": {},
   "outputs": [
    {
     "name": "stdout",
     "output_type": "stream",
     "text": [
      "Help on function hello in module __main__:\n",
      "\n",
      "hello(name)\n",
      "    A friendly function.\n",
      "    \n",
      "    Expects: A string\n",
      "    Modifies: Nothing\n",
      "    Returns: A friendly string with the user's name\n",
      "\n"
     ]
    }
   ],
   "source": [
    "help(hello)  # In Jupyter, I can use \"help\" on a function to get info about it"
   ]
  },
  {
   "cell_type": "code",
   "execution_count": 101,
   "id": "089888af",
   "metadata": {},
   "outputs": [],
   "source": [
    "def myfunc():\n",
    "    return(5)"
   ]
  },
  {
   "cell_type": "code",
   "execution_count": 102,
   "id": "ee7990ed",
   "metadata": {},
   "outputs": [
    {
     "data": {
      "text/plain": [
       "5"
      ]
     },
     "execution_count": 102,
     "metadata": {},
     "output_type": "execute_result"
    }
   ],
   "source": [
    "myfunc()"
   ]
  },
  {
   "cell_type": "markdown",
   "id": "512826bb",
   "metadata": {},
   "source": [
    "# Next up\n",
    "\n",
    "1. Mutable defaults -- a bad idea\n",
    "2. Complex return values (returning more than one thing?)\n",
    "3. Unpacking in general, and with function return values\n",
    "4. Scoping (local vs. global variables)"
   ]
  },
  {
   "cell_type": "code",
   "execution_count": null,
   "id": "b0ebecb1",
   "metadata": {},
   "outputs": [],
   "source": []
  }
 ],
 "metadata": {
  "kernelspec": {
   "display_name": "Python 3 (ipykernel)",
   "language": "python",
   "name": "python3"
  },
  "language_info": {
   "codemirror_mode": {
    "name": "ipython",
    "version": 3
   },
   "file_extension": ".py",
   "mimetype": "text/x-python",
   "name": "python",
   "nbconvert_exporter": "python",
   "pygments_lexer": "ipython3",
   "version": "3.10.4"
  }
 },
 "nbformat": 4,
 "nbformat_minor": 5
}
