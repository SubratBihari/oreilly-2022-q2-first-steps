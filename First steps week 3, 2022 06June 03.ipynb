{
 "cells": [
  {
   "cell_type": "markdown",
   "id": "0738b0a6",
   "metadata": {},
   "source": [
    "# Agenda: Functions!\n",
    "\n",
    "1. What are functions?\n",
    "2. Writing some simple functions\n",
    "3. Arguments and parameters\n",
    "4. Return values\n",
    "5. Default argument values\n",
    "6. Complex return values\n",
    "7. Unpacking and complex return values\n",
    "8. Local vs. global variables (a little scoping)"
   ]
  },
  {
   "cell_type": "markdown",
   "id": "0f6ae504",
   "metadata": {},
   "source": [
    "# DRY rule -- \"Don't repeat yourself!\"\n",
    "\n",
    "1. If we repeat ourselves several times in a row, we can use a *loop*.\n",
    "2. If we repeat ourselves several times in a program, we can use a *function*.\n",
    "\n",
    "A function lets us assign a name to a bunch of different actions.\n",
    "\n",
    "When we execute a function, we say that we're \"calling\" it.\n",
    "\n",
    "Abstraction -- let's hide the details, so that we can concentrate on the higher-level stuff.\n",
    "\n",
    "Functions are the verbs of a programming language -- they describe the actions.  When we define a new function, we're teaching the programming language a new verb."
   ]
  },
  {
   "cell_type": "code",
   "execution_count": 1,
   "id": "1e17d7d7",
   "metadata": {},
   "outputs": [],
   "source": [
    "# to define a function in Python, we use the keyword \"def\" (short for \"define\")\n",
    "\n",
    "def hello():\n",
    "    print('Hello out there!')"
   ]
  },
  {
   "cell_type": "markdown",
   "id": "5f6fbedc",
   "metadata": {},
   "source": [
    "# Function definitions\n",
    "\n",
    "1. We start with `def`, and then the name of the function we want to define.  That name is actually a variable name, so all of the variable-name rules apply to it, as well.\n",
    "2. After the function's name, we have parentheses. For now, those parentheses will be empty -- but we'll put things in them later on.\n",
    "3. Then we have a `:`, at the end of the line.\n",
    "4. Then we have an indented block. This is the \"body\" of the function.  This is what will execute every time we call the function.\n",
    "5. The function body ends when we end the indentation. So long as we're in the indented block, we're in the function body.\n",
    "6. The function body can contain **ANY PYTHON CODE AT ALL**.  We can include `print` and `input` and `if/else` and `for` and `while`... anything at all.\n",
    "\n",
    "To call a function, just name the function and put parentheses (`()`) after the name."
   ]
  },
  {
   "cell_type": "code",
   "execution_count": 2,
   "id": "16508519",
   "metadata": {},
   "outputs": [
    {
     "name": "stdout",
     "output_type": "stream",
     "text": [
      "Hello out there!\n"
     ]
    }
   ],
   "source": [
    "hello()     # here, I'm calling the \"hello\" function"
   ]
  },
  {
   "cell_type": "code",
   "execution_count": 3,
   "id": "39623d08",
   "metadata": {},
   "outputs": [],
   "source": [
    "def hello():\n",
    "    name = input('Enter your name: ').strip()\n",
    "    print(f'Hello, {name}!')"
   ]
  },
  {
   "cell_type": "code",
   "execution_count": 4,
   "id": "c2ed791a",
   "metadata": {},
   "outputs": [
    {
     "name": "stdout",
     "output_type": "stream",
     "text": [
      "Enter your name: Reuven\n",
      "Hello, Reuven!\n"
     ]
    }
   ],
   "source": [
    "hello()"
   ]
  },
  {
   "cell_type": "code",
   "execution_count": 5,
   "id": "3eef00d6",
   "metadata": {},
   "outputs": [],
   "source": [
    "def hello():\n",
    "    name = input('Enter your name: ').strip()\n",
    "    times = input('How many times should I greet you? ').strip()\n",
    "    \n",
    "    for i in range(int(times)):\n",
    "        print(f'Hello, {name}!')"
   ]
  },
  {
   "cell_type": "code",
   "execution_count": 6,
   "id": "5d9d2464",
   "metadata": {},
   "outputs": [
    {
     "name": "stdout",
     "output_type": "stream",
     "text": [
      "Enter your name: Reuven\n",
      "How many times should I greet you? 5\n",
      "Hello, Reuven!\n",
      "Hello, Reuven!\n",
      "Hello, Reuven!\n",
      "Hello, Reuven!\n",
      "Hello, Reuven!\n"
     ]
    }
   ],
   "source": [
    "hello()"
   ]
  },
  {
   "cell_type": "code",
   "execution_count": 8,
   "id": "601c28da",
   "metadata": {},
   "outputs": [
    {
     "data": {
      "text/plain": [
       "4"
      ]
     },
     "execution_count": 8,
     "metadata": {},
     "output_type": "execute_result"
    }
   ],
   "source": [
    "len('abcd')     # we're passing 'abcd' as an argument to the len function"
   ]
  },
  {
   "cell_type": "code",
   "execution_count": 9,
   "id": "b5417b98",
   "metadata": {},
   "outputs": [
    {
     "data": {
      "text/plain": [
       "3"
      ]
     },
     "execution_count": 9,
     "metadata": {},
     "output_type": "execute_result"
    }
   ],
   "source": [
    "len([10, 20, 30])  # we're passing [10, 20, 30] as an argument to the len function"
   ]
  },
  {
   "cell_type": "code",
   "execution_count": 10,
   "id": "39602bac",
   "metadata": {},
   "outputs": [
    {
     "name": "stdout",
     "output_type": "stream",
     "text": [
      "A\n",
      "B\n",
      "Hello!\n",
      "C\n"
     ]
    }
   ],
   "source": [
    "print('A')\n",
    "\n",
    "def hello():\n",
    "    print('Hello!')\n",
    "    \n",
    "print('B')\n",
    "\n",
    "hello()\n",
    "\n",
    "print('C')"
   ]
  },
  {
   "cell_type": "code",
   "execution_count": 11,
   "id": "11636daf",
   "metadata": {},
   "outputs": [],
   "source": [
    "# this function prints the number of vowels it finds in a filename\n",
    "\n",
    "def count_vowels():\n",
    "    filename = input('Enter a filename: ').strip()\n",
    "    \n",
    "    total = 0\n",
    "    for one_line in open(filename):\n",
    "        for one_character in one_line.lower():\n",
    "            if one_character in 'aeiou':\n",
    "                total += 1\n",
    "                \n",
    "    print(f'I found {total} vowels in {filename}.')\n",
    "    \n",
    "    "
   ]
  },
  {
   "cell_type": "code",
   "execution_count": 12,
   "id": "00609f98",
   "metadata": {},
   "outputs": [
    {
     "name": "stdout",
     "output_type": "stream",
     "text": [
      "Enter a filename: /etc/passwd\n",
      "I found 1906 vowels in /etc/passwd.\n"
     ]
    }
   ],
   "source": [
    "count_vowels()"
   ]
  },
  {
   "cell_type": "markdown",
   "id": "9d78a2da",
   "metadata": {},
   "source": [
    "# Exercise: Calculator\n",
    "\n",
    "1. Write a function, `calc`, which will allow us to perform some simple calculations.\n",
    "2. Ask the user to enter a math expression in one line (e.g., `'2 + 2'`).\n",
    "3. Use `str.split` to break that input into a list of three elements. (Let's assume that the user enters a valid string, with numbers and an operator between them.)\n",
    "4. If the user entered `+`, print the result of adding the numbers.\n",
    "5. If the user entered `-`, print the result of subtracting the numbers.\n",
    "\n",
    "Example:\n",
    "\n",
    "    calc()\n",
    "\n",
    "    Enter an expression: 10 + 8\n",
    "    10 + 8 = 18    \n",
    "\n",
    "Hints/reminders:\n",
    "1. Any string can be split on whitespace with `s.split()` -- no argument means that we'll split on any whitespace, of any length.\n",
    "2. Remember that the result of `str.split` is a list of strings.\n",
    "3. If you need to turn a string into an integer, use `int`."
   ]
  },
  {
   "cell_type": "code",
   "execution_count": null,
   "id": "addfc460",
   "metadata": {},
   "outputs": [],
   "source": [
    "def calc():\n",
    "    s = input('Enter expression: ').strip()\n",
    "    \n",
    "    fields = s.split()  # s.split() here will return a list of strings, e.g., ['2', ],\n",
    "    first = fields[0]\n",
    "    op = fields[1]\n",
    "    second = fields[2]"
   ]
  }
 ],
 "metadata": {
  "kernelspec": {
   "display_name": "Python 3 (ipykernel)",
   "language": "python",
   "name": "python3"
  },
  "language_info": {
   "codemirror_mode": {
    "name": "ipython",
    "version": 3
   },
   "file_extension": ".py",
   "mimetype": "text/x-python",
   "name": "python",
   "nbconvert_exporter": "python",
   "pygments_lexer": "ipython3",
   "version": "3.10.4"
  }
 },
 "nbformat": 4,
 "nbformat_minor": 5
}
