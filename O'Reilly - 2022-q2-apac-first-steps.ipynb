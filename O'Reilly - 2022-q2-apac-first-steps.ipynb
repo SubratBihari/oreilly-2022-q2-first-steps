{
 "cells": [
  {
   "cell_type": "code",
   "execution_count": 6,
   "metadata": {},
   "outputs": [
    {
     "name": "stdout",
     "output_type": "stream",
     "text": [
      "Hello, world?\n"
     ]
    }
   ],
   "source": [
    "# this is a comment.  Python ignores it completely.\n",
    "# this is another comment.  Python ignores it, too.\n",
    "# comments are for people, not for the programming language\n",
    "\n",
    "# print is a function (a programming-language verb)\n",
    "# it displays things on the screen\n",
    "\n",
    "# to use print, I have to use ()  round parentheses\n",
    "# we say that I'm \"running\" or \"calling\" the print function\n",
    "\n",
    "# what are we printing here?  The text, \"Hello world!\"\n",
    "# notice that it's in quotes.  That tells Python that it's text.\n",
    "# Also notice that I use single quotes.  You can use either\n",
    "# single quotes or double quotes.  They are the same in Python.\n",
    "# (but they have to match)\n",
    "\n",
    "print('Hello, world?')    # to execute this, I use shift+enter"
   ]
  },
  {
   "cell_type": "markdown",
   "metadata": {},
   "source": [
    "# Two modes of working with Jupyter\n",
    "\n",
    "- Edit mode: In this mode, typing puts text inside of a cell. You can enter edit mode by clicking inside of a cell or by pressing ENTER.  In edit mode, the frame of the cell is green.\n",
    "- Command mode: In this mode, typing sends one-letter commands to Jupyter.  You can enter command mode by clicking to the left of the cell or by pressing ESC.  In command mode, the frame of the cell is blue.\n",
    "\n",
    "In command mode, I have a whole bunch of one-letter commands I can use.  Here are a few of them:\n",
    "- `h` -- this brings up help, telling you what commands are available.\n",
    "- `m` -- this turns the current cell into \"markdown,\" which lets us write HTML easily. I'm using Markdown right now to write this documentation.\n",
    "- `y` -- this turns the current cell into a code cell for Python.\n",
    "- `c` -- this copies the current cell, so we can paste it later\n",
    "- `x` -- this cuts the current cell, so we can remove it or paste it later\n",
    "- `v` -- this pastes the cell that was cut/copied into the current location\n",
    "- `a` -- this creates a new cell above the current one\n",
    "- `b` -- this creates a new cell below the current one"
   ]
  },
  {
   "cell_type": "code",
   "execution_count": 7,
   "metadata": {},
   "outputs": [
    {
     "name": "stdout",
     "output_type": "stream",
     "text": [
      "Hello!\n"
     ]
    }
   ],
   "source": [
    "print('Hello!')"
   ]
  },
  {
   "cell_type": "code",
   "execution_count": 8,
   "metadata": {},
   "outputs": [
    {
     "name": "stdout",
     "output_type": "stream",
     "text": [
      "30\n"
     ]
    }
   ],
   "source": [
    "print(10 + 20)   # this works fine"
   ]
  },
  {
   "cell_type": "code",
   "execution_count": 9,
   "metadata": {},
   "outputs": [
    {
     "data": {
      "text/plain": [
       "30"
      ]
     },
     "execution_count": 9,
     "metadata": {},
     "output_type": "execute_result"
    }
   ],
   "source": [
    "10 + 20   # no print is needed -- this is a special Jupyter thing"
   ]
  },
  {
   "cell_type": "code",
   "execution_count": 11,
   "metadata": {},
   "outputs": [
    {
     "data": {
      "text/plain": [
       "60"
      ]
     },
     "execution_count": 11,
     "metadata": {},
     "output_type": "execute_result"
    }
   ],
   "source": [
    "10 + 10  # Python executes this, but throws out the result (because not the final line)\n",
    "20 + 20  # Python executes this, but throws out the result (because not the final line)\n",
    "30 + 30  # Python executes this, but because it's the final line, we see the result"
   ]
  },
  {
   "cell_type": "code",
   "execution_count": 12,
   "metadata": {},
   "outputs": [
    {
     "name": "stdout",
     "output_type": "stream",
     "text": [
      "20\n",
      "40\n",
      "60\n"
     ]
    }
   ],
   "source": [
    "print(10 + 10)\n",
    "print(20 + 20)\n",
    "print(30 + 30)"
   ]
  },
  {
   "cell_type": "code",
   "execution_count": 13,
   "metadata": {},
   "outputs": [
    {
     "data": {
      "text/plain": [
       "20"
      ]
     },
     "execution_count": 13,
     "metadata": {},
     "output_type": "execute_result"
    }
   ],
   "source": [
    "10 + 10"
   ]
  },
  {
   "cell_type": "code",
   "execution_count": 14,
   "metadata": {},
   "outputs": [],
   "source": [
    "# what if I want to store this information, and use it later?\n",
    "# I can use variables.\n",
    "# variables are the pronouns of programming languages --\n",
    "# they refer to data that was defined elsewhere.\n",
    "\n",
    "x = 10  # x refers to the integer 10\n",
    "y = 20  # y refers to the integer 20\n",
    "\n",
    "# both x and y are variables"
   ]
  },
  {
   "cell_type": "markdown",
   "metadata": {},
   "source": [
    "# Assignment and variables in Python\n",
    "\n",
    "If I want to assign a value to a variable, I use `=`.  This is the same symbol you learned growing up in elementary school math!  But it's used differently.\n",
    "\n",
    "In math, `=` means: The two sides are the same.  That's **NOT** what it means in Python.  Instead, in Python, it means: I want to take the value on the right, and assign it to the variable on the left.\n",
    "\n",
    "```python\n",
    "x = 10\n",
    "```\n",
    "\n",
    "Notice also that I didn't need to declare `x` at any point.  In fact, there's no way to declare variables in Python.  The moment I assign to it, it's created.  And if it already exists, then I give it a new value.\n",
    "\n",
    "In Python, and other \"dynamic\" languages, variables don't have types. So `x`, and every other variable in Python, can refer to any type of data.\n",
    "\n",
    "Python doesn't need (and we don't use) `;` or anything else at the end of a line to indicate we're done with that command.  The end of a line is the end of the command, except if we have open parentheses.\n",
    "\n",
    "After I say `x=10`, the variable `x` now refers to the integer object `10`."
   ]
  },
  {
   "cell_type": "code",
   "execution_count": 15,
   "metadata": {},
   "outputs": [
    {
     "name": "stdout",
     "output_type": "stream",
     "text": [
      "10\n"
     ]
    }
   ],
   "source": [
    "x = 10  # we update the value of x to 10\n",
    "print(x)"
   ]
  },
  {
   "cell_type": "code",
   "execution_count": 16,
   "metadata": {},
   "outputs": [
    {
     "name": "stdout",
     "output_type": "stream",
     "text": [
      "20\n"
     ]
    }
   ],
   "source": [
    "x = 20  # we update the value of x to 20\n",
    "print(x)"
   ]
  },
  {
   "cell_type": "code",
   "execution_count": 17,
   "metadata": {},
   "outputs": [],
   "source": [
    "# I use \"gitautopush\" which sends (every 1-2 minutes) my Jupyter notebook to GitHub\n",
    "\n",
    "# Jupyter saves automatically every 1-2 minutes\n",
    "# gitautopush pushes to GitHub every 1-2 minutes\n",
    "# GitHub knows how to display Jupyter notebooks"
   ]
  },
  {
   "cell_type": "markdown",
   "metadata": {},
   "source": [
    "# Variable names\n",
    "\n",
    "Most importantly: Variable names are for people, not for the computer!  So choose variable names that are long, descriptive, and make your program clearer.\n",
    "\n",
    "Variable names can contain any combination of:\n",
    "\n",
    "- Letters\n",
    "- Digits\n",
    "- Underscore `_`\n",
    "\n",
    "But:\n",
    "\n",
    "- Variable names are case sensitive, so `x` and `X` are totally different variables\n",
    "- The variable name cannot start with a digit\n",
    "- Don't use `_` at the start of a variable name; that means the variable is \"private\" in Python"
   ]
  },
  {
   "cell_type": "code",
   "execution_count": 18,
   "metadata": {},
   "outputs": [
    {
     "name": "stdout",
     "output_type": "stream",
     "text": [
      "30\n"
     ]
    }
   ],
   "source": [
    "x = 10\n",
    "y = 20\n",
    "\n",
    "print(x+y)"
   ]
  },
  {
   "cell_type": "code",
   "execution_count": 19,
   "metadata": {},
   "outputs": [
    {
     "name": "stdout",
     "output_type": "stream",
     "text": [
      "abcd\n"
     ]
    }
   ],
   "source": [
    "# what if I try text, and not numbers?\n",
    "x = 'ab'\n",
    "y = 'cd'\n",
    "\n",
    "print(x+y)  # will this even work?"
   ]
  },
  {
   "cell_type": "code",
   "execution_count": 20,
   "metadata": {},
   "outputs": [],
   "source": [
    "# If you use +, Python tries to figure out the right thing to do.\n",
    "# If you have two numbers, it'll return the sum of those two numbers\n",
    "# If you have two text strings, it'll return a new text string -- the combination of both"
   ]
  },
  {
   "cell_type": "code",
   "execution_count": 22,
   "metadata": {},
   "outputs": [
    {
     "data": {
      "text/plain": [
       "str"
      ]
     },
     "execution_count": 22,
     "metadata": {},
     "output_type": "execute_result"
    }
   ],
   "source": [
    "type(x)  # what type of data is x referring to?  (\"str\" is \"string,\" or text)"
   ]
  },
  {
   "cell_type": "code",
   "execution_count": 23,
   "metadata": {},
   "outputs": [
    {
     "data": {
      "text/plain": [
       "int"
      ]
     },
     "execution_count": 23,
     "metadata": {},
     "output_type": "execute_result"
    }
   ],
   "source": [
    "x = 10\n",
    "type(x)  "
   ]
  },
  {
   "cell_type": "code",
   "execution_count": 24,
   "metadata": {},
   "outputs": [
    {
     "ename": "TypeError",
     "evalue": "unsupported operand type(s) for +: 'int' and 'str'",
     "output_type": "error",
     "traceback": [
      "\u001b[0;31m---------------------------------------------------------------------------\u001b[0m",
      "\u001b[0;31mTypeError\u001b[0m                                 Traceback (most recent call last)",
      "Input \u001b[0;32mIn [24]\u001b[0m, in \u001b[0;36m<cell line: 4>\u001b[0;34m()\u001b[0m\n\u001b[1;32m      1\u001b[0m x \u001b[38;5;241m=\u001b[39m \u001b[38;5;241m10\u001b[39m    \u001b[38;5;66;03m# this is a number\u001b[39;00m\n\u001b[1;32m      2\u001b[0m y \u001b[38;5;241m=\u001b[39m \u001b[38;5;124m'\u001b[39m\u001b[38;5;124m20\u001b[39m\u001b[38;5;124m'\u001b[39m  \u001b[38;5;66;03m# this is a text string\u001b[39;00m\n\u001b[0;32m----> 4\u001b[0m \u001b[38;5;28mprint\u001b[39m(\u001b[43mx\u001b[49m\u001b[38;5;241;43m+\u001b[39;49m\u001b[43my\u001b[49m)\n",
      "\u001b[0;31mTypeError\u001b[0m: unsupported operand type(s) for +: 'int' and 'str'"
     ]
    }
   ],
   "source": [
    "x = 10    # this is a number\n",
    "y = '20'  # this is a text string\n",
    "\n",
    "# maybe Python should turn y into an integer, and add 10+20 (30)\n",
    "# maybe Python should turn x into a string, and add '10'+'20' ('1020')\n",
    "\n",
    "# because Python cannot decide, it gives up and gives us an error\n",
    "# Python refuses to guess!\n",
    "\n",
    "print(x+y)"
   ]
  },
  {
   "cell_type": "code",
   "execution_count": 27,
   "metadata": {},
   "outputs": [
    {
     "name": "stdout",
     "output_type": "stream",
     "text": [
      "30\n"
     ]
    }
   ],
   "source": [
    "x = 10\n",
    "y = 20\n",
    "\n",
    "print(x+y)      # here, x and y are variables referring to other values"
   ]
  },
  {
   "cell_type": "code",
   "execution_count": 26,
   "metadata": {},
   "outputs": [
    {
     "name": "stdout",
     "output_type": "stream",
     "text": [
      "xy\n"
     ]
    }
   ],
   "source": [
    "print('x'+'y')  # this is very different -- we're adding the text strings 'x' and 'y'"
   ]
  },
  {
   "cell_type": "code",
   "execution_count": 28,
   "metadata": {},
   "outputs": [],
   "source": [
    "# quotes mean: take this literally, this is text\n",
    "# without quotes, a name is assumed to be a variable"
   ]
  },
  {
   "cell_type": "markdown",
   "metadata": {},
   "source": [
    "# This is a headline\n",
    "\n",
    "This is text\n",
    "This is more text\n",
    "\n",
    "- This is a list\n",
    "- And more\n",
    "- And more"
   ]
  },
  {
   "cell_type": "code",
   "execution_count": 29,
   "metadata": {},
   "outputs": [
    {
     "data": {
      "text/plain": [
       "10"
      ]
     },
     "execution_count": 29,
     "metadata": {},
     "output_type": "execute_result"
    }
   ],
   "source": [
    "x"
   ]
  },
  {
   "cell_type": "code",
   "execution_count": 30,
   "metadata": {},
   "outputs": [
    {
     "data": {
      "text/plain": [
       "20"
      ]
     },
     "execution_count": 30,
     "metadata": {},
     "output_type": "execute_result"
    }
   ],
   "source": [
    "y"
   ]
  },
  {
   "cell_type": "code",
   "execution_count": 31,
   "metadata": {},
   "outputs": [
    {
     "ename": "NameError",
     "evalue": "name 'xy' is not defined",
     "output_type": "error",
     "traceback": [
      "\u001b[0;31m---------------------------------------------------------------------------\u001b[0m",
      "\u001b[0;31mNameError\u001b[0m                                 Traceback (most recent call last)",
      "Input \u001b[0;32mIn [31]\u001b[0m, in \u001b[0;36m<cell line: 1>\u001b[0;34m()\u001b[0m\n\u001b[0;32m----> 1\u001b[0m \u001b[38;5;28mprint\u001b[39m(\u001b[43mxy\u001b[49m)\n",
      "\u001b[0;31mNameError\u001b[0m: name 'xy' is not defined"
     ]
    }
   ],
   "source": [
    "print(xy)"
   ]
  },
  {
   "cell_type": "markdown",
   "metadata": {},
   "source": [
    "# Exercise: Simple calculator\n",
    "\n",
    "1. Define two variables, `first` and `second`, each with a number.\n",
    "2. Print the result of adding those two numbers together with `+`."
   ]
  },
  {
   "cell_type": "code",
   "execution_count": 32,
   "metadata": {},
   "outputs": [
    {
     "name": "stdout",
     "output_type": "stream",
     "text": [
      "579\n"
     ]
    }
   ],
   "source": [
    "first = 123\n",
    "second = 456\n",
    "\n",
    "print(123 + 456)"
   ]
  },
  {
   "cell_type": "code",
   "execution_count": 33,
   "metadata": {},
   "outputs": [
    {
     "data": {
      "text/plain": [
       "579"
      ]
     },
     "execution_count": 33,
     "metadata": {},
     "output_type": "execute_result"
    }
   ],
   "source": [
    "123 + 456   # because we're in Jupyter and this is the final line in a cell..."
   ]
  },
  {
   "cell_type": "code",
   "execution_count": 34,
   "metadata": {},
   "outputs": [
    {
     "name": "stdout",
     "output_type": "stream",
     "text": [
      "Hello, Reuven\n"
     ]
    }
   ],
   "source": [
    "name = 'Reuven'\n",
    "print('Hello, ' + name)"
   ]
  },
  {
   "cell_type": "code",
   "execution_count": 35,
   "metadata": {},
   "outputs": [
    {
     "name": "stdout",
     "output_type": "stream",
     "text": [
      "Hello, Reuven.\n"
     ]
    }
   ],
   "source": [
    "print('Hello, ' + name + '.')"
   ]
  },
  {
   "cell_type": "code",
   "execution_count": 36,
   "metadata": {},
   "outputs": [
    {
     "name": "stdout",
     "output_type": "stream",
     "text": [
      "Hello,Reuven.\n"
     ]
    }
   ],
   "source": [
    "print('Hello,' + name + '.')"
   ]
  },
  {
   "cell_type": "code",
   "execution_count": 38,
   "metadata": {},
   "outputs": [
    {
     "name": "stdout",
     "output_type": "stream",
     "text": [
      "Hello, Reuven\n"
     ]
    }
   ],
   "source": [
    "print('Hello, ' + name)"
   ]
  },
  {
   "cell_type": "markdown",
   "metadata": {},
   "source": [
    "# Next up\n",
    "\n",
    "- Input from the user\n",
    "- Display friendly greetings\n",
    "- f-strings (to avoid problems when printing)\n",
    "- Comparisons \n",
    "- Equality with `==`\n",
    "- `True` and `False`\n",
    "- `if` and `else`"
   ]
  },
  {
   "cell_type": "code",
   "execution_count": 39,
   "metadata": {},
   "outputs": [
    {
     "data": {
      "text/plain": [
       "30"
      ]
     },
     "execution_count": 39,
     "metadata": {},
     "output_type": "execute_result"
    }
   ],
   "source": [
    "a = 10\n",
    "b = 20\n",
    "\n",
    "a+b   # totally reasonable!"
   ]
  },
  {
   "cell_type": "code",
   "execution_count": 40,
   "metadata": {},
   "outputs": [
    {
     "data": {
      "text/plain": [
       "30"
      ]
     },
     "execution_count": 40,
     "metadata": {},
     "output_type": "execute_result"
    }
   ],
   "source": [
    "a + b # also fine -- and I think it's easier to read"
   ]
  },
  {
   "cell_type": "code",
   "execution_count": 41,
   "metadata": {},
   "outputs": [
    {
     "name": "stdout",
     "output_type": "stream",
     "text": [
      "Hello, Reuven!\n"
     ]
    }
   ],
   "source": [
    "name = 'Reuven'\n",
    "print('Hello, ' + name + '!')"
   ]
  },
  {
   "cell_type": "code",
   "execution_count": 42,
   "metadata": {},
   "outputs": [
    {
     "ename": "TypeError",
     "evalue": "unsupported operand type(s) for +: 'int' and 'str'",
     "output_type": "error",
     "traceback": [
      "\u001b[0;31m---------------------------------------------------------------------------\u001b[0m",
      "\u001b[0;31mTypeError\u001b[0m                                 Traceback (most recent call last)",
      "Input \u001b[0;32mIn [42]\u001b[0m, in \u001b[0;36m<cell line: 4>\u001b[0;34m()\u001b[0m\n\u001b[1;32m      1\u001b[0m first \u001b[38;5;241m=\u001b[39m \u001b[38;5;241m10\u001b[39m\n\u001b[1;32m      2\u001b[0m second \u001b[38;5;241m=\u001b[39m \u001b[38;5;241m20\u001b[39m\n\u001b[0;32m----> 4\u001b[0m \u001b[38;5;28mprint\u001b[39m(\u001b[43mfirst\u001b[49m\u001b[43m \u001b[49m\u001b[38;5;241;43m+\u001b[39;49m\u001b[43m \u001b[49m\u001b[38;5;124;43m'\u001b[39;49m\u001b[38;5;124;43m+\u001b[39;49m\u001b[38;5;124;43m'\u001b[39;49m \u001b[38;5;241m+\u001b[39m second \u001b[38;5;241m+\u001b[39m \u001b[38;5;124m'\u001b[39m\u001b[38;5;124m=\u001b[39m\u001b[38;5;124m'\u001b[39m \u001b[38;5;241m+\u001b[39m first\u001b[38;5;241m+\u001b[39msecond)\n",
      "\u001b[0;31mTypeError\u001b[0m: unsupported operand type(s) for +: 'int' and 'str'"
     ]
    }
   ],
   "source": [
    "first = 10\n",
    "second = 20\n",
    "\n",
    "print(first + '+' + second + '=' + first+second)"
   ]
  },
  {
   "cell_type": "code",
   "execution_count": 43,
   "metadata": {},
   "outputs": [
    {
     "name": "stdout",
     "output_type": "stream",
     "text": [
      "10 + 20 = 30\n"
     ]
    }
   ],
   "source": [
    "# we can mix any types we want with a special kind of string\n",
    "# an f-string (short for \"format string\")\n",
    "\n",
    "# just put an f before the opening '\n",
    "# and put the variable or expression inside of {}\n",
    "# and it'll work!\n",
    "\n",
    "print(f'{first} + {second} = {first+second}')"
   ]
  },
  {
   "cell_type": "code",
   "execution_count": 44,
   "metadata": {},
   "outputs": [
    {
     "name": "stdout",
     "output_type": "stream",
     "text": [
      "Hello, Reuven!\n"
     ]
    }
   ],
   "source": [
    "name = 'Reuven'\n",
    "print(f'Hello, {name}!')"
   ]
  },
  {
   "cell_type": "code",
   "execution_count": 46,
   "metadata": {},
   "outputs": [
    {
     "name": "stdout",
     "output_type": "stream",
     "text": [
      "Enter your name: world\n",
      "Hello, world!\n"
     ]
    }
   ],
   "source": [
    "# How can I get input from the user, rather than hard-coding names in the program?\n",
    "# answer: we use the \"input\" function\n",
    "\n",
    "# this function ALWAYS returns a string. It only knows how to give a text string\n",
    "# back, even if that only includes digits.\n",
    "\n",
    "# assignment!\n",
    "# value from the right side is assigned ot the variable on the left side \n",
    "\n",
    "name = input('Enter your name: ')\n",
    "print(f'Hello, {name}!')"
   ]
  },
  {
   "cell_type": "markdown",
   "metadata": {},
   "source": [
    "# Exercise: Printing a nice greeting\n",
    "\n",
    "1. Ask the user for their name, and assign that to the variable `name`.\n",
    "2. Ask the user what country they are from, and assign that to the variable `country`.\n",
    "3. Print a nice greeting, using an f-string, that includes both `name` and `country`."
   ]
  },
  {
   "cell_type": "code",
   "execution_count": 47,
   "metadata": {},
   "outputs": [
    {
     "name": "stdout",
     "output_type": "stream",
     "text": [
      "worldReuven\n"
     ]
    }
   ],
   "source": [
    "# the value we pass to input is what we want to SEE.  It's the question\n",
    "# we're posing to the user, in order to get input\n",
    "\n",
    "# don't do this:\n",
    "name = input(name)"
   ]
  },
  {
   "cell_type": "code",
   "execution_count": 48,
   "metadata": {},
   "outputs": [
    {
     "data": {
      "text/plain": [
       "'Reuven'"
      ]
     },
     "execution_count": 48,
     "metadata": {},
     "output_type": "execute_result"
    }
   ],
   "source": [
    "name"
   ]
  },
  {
   "cell_type": "code",
   "execution_count": 49,
   "metadata": {},
   "outputs": [
    {
     "name": "stdout",
     "output_type": "stream",
     "text": [
      "Enter your name: Reuven\n",
      "Enter your country: Israel\n",
      "Hello, Reuven from Israel.\n"
     ]
    }
   ],
   "source": [
    "name = input('Enter your name: ')\n",
    "country = input('Enter your country: ')\n",
    "\n",
    "print(f'Hello, {name} from {country}.')"
   ]
  },
  {
   "cell_type": "code",
   "execution_count": 52,
   "metadata": {},
   "outputs": [
    {
     "name": "stdout",
     "output_type": "stream",
     "text": [
      "My name is Reuven\n"
     ]
    }
   ],
   "source": [
    "print(f'My name is {name}')"
   ]
  },
  {
   "cell_type": "code",
   "execution_count": 53,
   "metadata": {},
   "outputs": [
    {
     "ename": "SyntaxError",
     "evalue": "unterminated string literal (detected at line 1) (2382656565.py, line 1)",
     "output_type": "error",
     "traceback": [
      "\u001b[0;36m  Input \u001b[0;32mIn [53]\u001b[0;36m\u001b[0m\n\u001b[0;31m    print(f'{name} and {country})\u001b[0m\n\u001b[0m          ^\u001b[0m\n\u001b[0;31mSyntaxError\u001b[0m\u001b[0;31m:\u001b[0m unterminated string literal (detected at line 1)\n"
     ]
    }
   ],
   "source": [
    "print(f'{name} and {country})"
   ]
  },
  {
   "cell_type": "code",
   "execution_count": 54,
   "metadata": {},
   "outputs": [
    {
     "name": "stdout",
     "output_type": "stream",
     "text": [
      "Hello, Reuven from Israel.\n"
     ]
    }
   ],
   "source": [
    "print(f'Hello, {name} from {country}.')"
   ]
  },
  {
   "cell_type": "markdown",
   "metadata": {},
   "source": [
    "# Comparisons\n",
    "\n",
    "Sometimes, we want to know if two values are the same.\n",
    "\n",
    "- We might want to compare two literal values \n",
    "- We might want to compare a variable with a literal value\n",
    "- We might want to compare two variables\n",
    "\n",
    "In any case, we use `==` to ask a question -- are these two things the same?\n",
    "\n",
    "We'll get back one of two answers: `True` or `False`.  (And yes, they have capital letters at the start.)\n",
    "\n",
    "This is **VERY DIFFERENT** from  the `=` operator, which assigns."
   ]
  },
  {
   "cell_type": "code",
   "execution_count": 55,
   "metadata": {},
   "outputs": [
    {
     "data": {
      "text/plain": [
       "True"
      ]
     },
     "execution_count": 55,
     "metadata": {},
     "output_type": "execute_result"
    }
   ],
   "source": [
    "name == 'Reuven'"
   ]
  },
  {
   "cell_type": "code",
   "execution_count": 56,
   "metadata": {},
   "outputs": [
    {
     "data": {
      "text/plain": [
       "False"
      ]
     },
     "execution_count": 56,
     "metadata": {},
     "output_type": "execute_result"
    }
   ],
   "source": [
    "name == 'John'"
   ]
  },
  {
   "cell_type": "code",
   "execution_count": 57,
   "metadata": {},
   "outputs": [
    {
     "data": {
      "text/plain": [
       "True"
      ]
     },
     "execution_count": 57,
     "metadata": {},
     "output_type": "execute_result"
    }
   ],
   "source": [
    "name == name"
   ]
  },
  {
   "cell_type": "code",
   "execution_count": 58,
   "metadata": {},
   "outputs": [
    {
     "data": {
      "text/plain": [
       "False"
      ]
     },
     "execution_count": 58,
     "metadata": {},
     "output_type": "execute_result"
    }
   ],
   "source": [
    "'reuven' == 'Reuven'    # comparisons are case sensitive"
   ]
  },
  {
   "cell_type": "code",
   "execution_count": 59,
   "metadata": {},
   "outputs": [
    {
     "data": {
      "text/plain": [
       "False"
      ]
     },
     "execution_count": 59,
     "metadata": {},
     "output_type": "execute_result"
    }
   ],
   "source": [
    "x = 10\n",
    "y = 20\n",
    "\n",
    "x == y"
   ]
  },
  {
   "cell_type": "code",
   "execution_count": 60,
   "metadata": {},
   "outputs": [
    {
     "data": {
      "text/plain": [
       "True"
      ]
     },
     "execution_count": 60,
     "metadata": {},
     "output_type": "execute_result"
    }
   ],
   "source": [
    "x == x"
   ]
  },
  {
   "cell_type": "code",
   "execution_count": 61,
   "metadata": {},
   "outputs": [
    {
     "data": {
      "text/plain": [
       "True"
      ]
     },
     "execution_count": 61,
     "metadata": {},
     "output_type": "execute_result"
    }
   ],
   "source": [
    "x == 10"
   ]
  },
  {
   "cell_type": "code",
   "execution_count": 62,
   "metadata": {},
   "outputs": [
    {
     "data": {
      "text/plain": [
       "True"
      ]
     },
     "execution_count": 62,
     "metadata": {},
     "output_type": "execute_result"
    }
   ],
   "source": [
    "10 == 10"
   ]
  },
  {
   "cell_type": "code",
   "execution_count": 63,
   "metadata": {},
   "outputs": [
    {
     "data": {
      "text/plain": [
       "False"
      ]
     },
     "execution_count": 63,
     "metadata": {},
     "output_type": "execute_result"
    }
   ],
   "source": [
    "x = 10\n",
    "y = '10'\n",
    "\n",
    "x == y   # are these the same?"
   ]
  },
  {
   "cell_type": "code",
   "execution_count": 70,
   "metadata": {},
   "outputs": [
    {
     "ename": "IndentationError",
     "evalue": "expected an indented block after 'if' statement on line 9 (3076858430.py, line 10)",
     "output_type": "error",
     "traceback": [
      "\u001b[0;36m  Input \u001b[0;32mIn [70]\u001b[0;36m\u001b[0m\n\u001b[0;31m    print('Hello, boss!')           # indented block after the :\u001b[0m\n\u001b[0m    ^\u001b[0m\n\u001b[0;31mIndentationError\u001b[0m\u001b[0;31m:\u001b[0m expected an indented block after 'if' statement on line 9\n"
     ]
    }
   ],
   "source": [
    "# get the user's name\n",
    "name = input('Enter your name: ')\n",
    "\n",
    "# \"if\" checks whether a condition is true\n",
    "# \"if\" looks to its right and checks if there's a True value there\n",
    "# If so, then the indented block under the \"if\" runs\n",
    "# If not, then the \"else\" block (if there is one) runs\n",
    "\n",
    "if name == 'Reuven':                # colon at the end of the \"if\" line\n",
    "    print('Hello, boss!')           # indented block after the :\n",
    "    print('Nice to see you again!') # indentation is done with 4 spaces (or automatic)\n",
    "else:\n",
    "    print(f'Hello, {name}!')"
   ]
  },
  {
   "cell_type": "code",
   "execution_count": 66,
   "metadata": {},
   "outputs": [
    {
     "data": {
      "text/plain": [
       "False"
      ]
     },
     "execution_count": 66,
     "metadata": {},
     "output_type": "execute_result"
    }
   ],
   "source": [
    "name = 'Hello'\n",
    "\n",
    "name == 'hello'"
   ]
  },
  {
   "cell_type": "code",
   "execution_count": 72,
   "metadata": {},
   "outputs": [
    {
     "name": "stdout",
     "output_type": "stream",
     "text": [
      "Sorry, 20 < 100\n"
     ]
    }
   ],
   "source": [
    "x = 100\n",
    "y = 20\n",
    "\n",
    "if x < y:    # another comparison: <\n",
    "    print(f'Yes, {x} < {y}')\n",
    "else:\n",
    "    print(f'Sorry, {y} < {x}')"
   ]
  },
  {
   "cell_type": "markdown",
   "metadata": {},
   "source": [
    "# Comparison operators\n",
    "\n",
    "- `==` -- equals\n",
    "- `<` -- less than\n",
    "- `>` -- greater than\n",
    "- `<=` -- less than or equal\n",
    "- `>=` -- greater than or equal\n",
    "- `!=` -- not equal  (this is one operator -- the `!` is not an operator in Python)"
   ]
  },
  {
   "cell_type": "code",
   "execution_count": 73,
   "metadata": {},
   "outputs": [
    {
     "data": {
      "text/plain": [
       "True"
      ]
     },
     "execution_count": 73,
     "metadata": {},
     "output_type": "execute_result"
    }
   ],
   "source": [
    "'a' < 'b'"
   ]
  },
  {
   "cell_type": "code",
   "execution_count": 74,
   "metadata": {},
   "outputs": [
    {
     "data": {
      "text/plain": [
       "False"
      ]
     },
     "execution_count": 74,
     "metadata": {},
     "output_type": "execute_result"
    }
   ],
   "source": [
    "'b' < 'a'"
   ]
  },
  {
   "cell_type": "code",
   "execution_count": 75,
   "metadata": {},
   "outputs": [],
   "source": [
    "# we can compare numbers with ==, <, >, etc.\n",
    "# but we can also compare *words* with these"
   ]
  },
  {
   "cell_type": "markdown",
   "metadata": {},
   "source": [
    "# Exercise: Which word comes first?\n",
    "\n",
    "1. Ask the user to enter a word, and store it in `x`.\n",
    "2. Ask the user to enter a second word, and store it in `y`.\n",
    "3. Using `if`, `else`, and comparison operators, tell us which word comes first alphabetically.  (Note that you can compare letters or whole words, and Python handles this fine.)\n",
    "\n",
    "Assume that the user will only enter lowercase letters."
   ]
  },
  {
   "cell_type": "code",
   "execution_count": 80,
   "metadata": {},
   "outputs": [
    {
     "name": "stdout",
     "output_type": "stream",
     "text": [
      "Enter first word: chicken\n",
      "Enter second word: egg\n",
      "chicken comes before egg\n"
     ]
    }
   ],
   "source": [
    "x = input('Enter first word: ')\n",
    "y = input('Enter second word: ')\n",
    "\n",
    "if x < y:   \n",
    "    print(f'{x} comes before {y}')\n",
    "else:\n",
    "    print(f'{y} comes before {x}')"
   ]
  },
  {
   "cell_type": "markdown",
   "metadata": {},
   "source": [
    "# Comparison of strings\n",
    "\n",
    "- Python checks the first character in each, and if one comes first, that word comes first.\n",
    "- If not, then it keeps going through the word, until it finds either a difference (in which case, the character determines the order) or that one word ends (and then it wins)\n",
    "\n"
   ]
  },
  {
   "cell_type": "code",
   "execution_count": 83,
   "metadata": {},
   "outputs": [
    {
     "name": "stdout",
     "output_type": "stream",
     "text": [
      "Enter first word: water\n",
      "Enter second word: water\n",
      "water comes before water\n"
     ]
    }
   ],
   "source": [
    "x = input('Enter first word: ')\n",
    "y = input('Enter second word: ')\n",
    "\n",
    "if x < y:   \n",
    "    print(f'{x} comes before {y}')\n",
    "else:\n",
    "    print(f'{y} comes before {x}')"
   ]
  },
  {
   "cell_type": "code",
   "execution_count": 84,
   "metadata": {},
   "outputs": [
    {
     "data": {
      "text/plain": [
       "97"
      ]
     },
     "execution_count": 84,
     "metadata": {},
     "output_type": "execute_result"
    }
   ],
   "source": [
    "ord('a')  # returns the Unicode number for a given character"
   ]
  },
  {
   "cell_type": "code",
   "execution_count": 85,
   "metadata": {},
   "outputs": [
    {
     "data": {
      "text/plain": [
       "65"
      ]
     },
     "execution_count": 85,
     "metadata": {},
     "output_type": "execute_result"
    }
   ],
   "source": [
    "ord('A')"
   ]
  },
  {
   "cell_type": "markdown",
   "metadata": {},
   "source": [
    "# Next up\n",
    "\n",
    "- `elif` for additional comparison complexity\n",
    "- `and`, `or`, and `not` for even more comparisons\n",
    "- `==` and numeric expressions\n",
    "- `True` and `False`\n",
    "- A little guessing game\n",
    "\n",
    "A 10-minute break!"
   ]
  },
  {
   "cell_type": "code",
   "execution_count": 86,
   "metadata": {},
   "outputs": [
    {
     "data": {
      "text/plain": [
       "97"
      ]
     },
     "execution_count": 86,
     "metadata": {},
     "output_type": "execute_result"
    }
   ],
   "source": [
    "ord('a')"
   ]
  },
  {
   "cell_type": "code",
   "execution_count": 87,
   "metadata": {},
   "outputs": [
    {
     "ename": "TypeError",
     "evalue": "ord() expected a character, but string of length 4 found",
     "output_type": "error",
     "traceback": [
      "\u001b[0;31m---------------------------------------------------------------------------\u001b[0m",
      "\u001b[0;31mTypeError\u001b[0m                                 Traceback (most recent call last)",
      "Input \u001b[0;32mIn [87]\u001b[0m, in \u001b[0;36m<cell line: 2>\u001b[0;34m()\u001b[0m\n\u001b[1;32m      1\u001b[0m name \u001b[38;5;241m=\u001b[39m \u001b[38;5;124m'\u001b[39m\u001b[38;5;124mabcd\u001b[39m\u001b[38;5;124m'\u001b[39m\n\u001b[0;32m----> 2\u001b[0m \u001b[38;5;28;43mord\u001b[39;49m\u001b[43m(\u001b[49m\u001b[43mname\u001b[49m\u001b[43m)\u001b[49m\n",
      "\u001b[0;31mTypeError\u001b[0m: ord() expected a character, but string of length 4 found"
     ]
    }
   ],
   "source": [
    "name = 'abcd'\n",
    "ord(name)"
   ]
  },
  {
   "cell_type": "code",
   "execution_count": 92,
   "metadata": {},
   "outputs": [
    {
     "name": "stdout",
     "output_type": "stream",
     "text": [
      "Enter your name: Rachel\n",
      "Hello, Rachel.\n"
     ]
    }
   ],
   "source": [
    "name = input('Enter your name: ')\n",
    "\n",
    "# in an if/elif/else condition, ONE OF THESE (no more, no less) will run\n",
    "# if I have three \"if\" statements in a row, then zero, one, two, or three could run\n",
    "\n",
    "if name == 'Reuven':\n",
    "    print('Hi, boss!')\n",
    "    print('Nice to see you again!')\n",
    "elif name == 'Joe':\n",
    "    print('You are not so bad, Joe -- nice to see you, too!')\n",
    "elif name == 'Rachel':\n",
    "    print('What a pleasant surprise!')\n",
    "else:\n",
    "    print(f'Hello, {name}.')"
   ]
  },
  {
   "cell_type": "code",
   "execution_count": 94,
   "metadata": {},
   "outputs": [
    {
     "name": "stdout",
     "output_type": "stream",
     "text": [
      "Enter first word: chicken\n",
      "Enter second word: chicken\n",
      "You entered chicken twice.\n"
     ]
    }
   ],
   "source": [
    "# let's go back to our word comparison\n",
    "\n",
    "x = input('Enter first word: ')\n",
    "y = input('Enter second word: ')\n",
    "\n",
    "if x == y:\n",
    "    print(f'You entered {x} twice.')\n",
    "elif x < y:\n",
    "    print(f'{x} comes before {y}')\n",
    "else:\n",
    "    print(f'{y} comes before {x}')"
   ]
  },
  {
   "cell_type": "markdown",
   "metadata": {},
   "source": [
    "If you want a \"newline\" character in your string, you can use `'\\n'`.\n",
    "\n"
   ]
  },
  {
   "cell_type": "code",
   "execution_count": 95,
   "metadata": {},
   "outputs": [
    {
     "name": "stdout",
     "output_type": "stream",
     "text": [
      "abc\n",
      "def\n"
     ]
    }
   ],
   "source": [
    "print('abc\\ndef')"
   ]
  },
  {
   "cell_type": "markdown",
   "metadata": {},
   "source": [
    "# `=` vs. `==`\n",
    "\n",
    "`=` is for assignment.  It takes the value on the right, and assigns it to the variable on the left.  It is not asking a question.  It's saying: I want to assign.  If it succeeds, then the variable on the left has a new value.\n",
    "\n",
    "Note: Only variables can be on the left! You cannot assign to a number or string.\n",
    "\n",
    "`==` is for asking a question: Are these two things the same?  Whenever you use `==`, you're going to get a `True` or `False` answer.  Normally, you use `==` in an `if` statement."
   ]
  },
  {
   "cell_type": "code",
   "execution_count": 96,
   "metadata": {},
   "outputs": [],
   "source": [
    "x = 10  # works"
   ]
  },
  {
   "cell_type": "code",
   "execution_count": 97,
   "metadata": {},
   "outputs": [
    {
     "ename": "SyntaxError",
     "evalue": "cannot assign to literal here. Maybe you meant '==' instead of '='? (78648721.py, line 1)",
     "output_type": "error",
     "traceback": [
      "\u001b[0;36m  Input \u001b[0;32mIn [97]\u001b[0;36m\u001b[0m\n\u001b[0;31m    20 = 10   # does not work\u001b[0m\n\u001b[0m    ^\u001b[0m\n\u001b[0;31mSyntaxError\u001b[0m\u001b[0;31m:\u001b[0m cannot assign to literal here. Maybe you meant '==' instead of '='?\n"
     ]
    }
   ],
   "source": [
    "20 = 10   # does not work"
   ]
  },
  {
   "cell_type": "code",
   "execution_count": 98,
   "metadata": {},
   "outputs": [
    {
     "ename": "SyntaxError",
     "evalue": "cannot assign to literal here. Maybe you meant '==' instead of '='? (1128943954.py, line 1)",
     "output_type": "error",
     "traceback": [
      "\u001b[0;36m  Input \u001b[0;32mIn [98]\u001b[0;36m\u001b[0m\n\u001b[0;31m    'Reuven' = 'Lerner'\u001b[0m\n\u001b[0m    ^\u001b[0m\n\u001b[0;31mSyntaxError\u001b[0m\u001b[0;31m:\u001b[0m cannot assign to literal here. Maybe you meant '==' instead of '='?\n"
     ]
    }
   ],
   "source": [
    "'Reuven' = 'Lerner'"
   ]
  },
  {
   "cell_type": "code",
   "execution_count": 99,
   "metadata": {},
   "outputs": [
    {
     "name": "stdout",
     "output_type": "stream",
     "text": [
      "Yes, both are what you want!\n"
     ]
    }
   ],
   "source": [
    "# Let's check more than one condition\n",
    "\n",
    "x = 10\n",
    "y = 20\n",
    "\n",
    "# I want to know if x is 10 and y is 20.  Are both of these comparisons True?\n",
    "# and looks to the left and right, and asks, do I have True on both sides?\n",
    "# if so, then it returns True\n",
    "\n",
    "\n",
    "#   True    and        True --> True\n",
    "if x == 10  and   y == 20:\n",
    "    print('Yes, both are what you want!')"
   ]
  },
  {
   "cell_type": "code",
   "execution_count": 100,
   "metadata": {},
   "outputs": [],
   "source": [
    "#    False   and   True  --> False\n",
    "if x == 50  and   y == 20:\n",
    "    print('Yes, both are what you want!')"
   ]
  },
  {
   "cell_type": "code",
   "execution_count": 101,
   "metadata": {},
   "outputs": [
    {
     "name": "stdout",
     "output_type": "stream",
     "text": [
      "Yes, both are what you want!\n"
     ]
    }
   ],
   "source": [
    "# \"and\" returns True if both sides are True\n",
    "# \"or\" returns True if at least one side is True\n",
    "\n",
    "#    True   or      True  --> True\n",
    "if x == 10  or   y == 20:\n",
    "    print('Yes, both are what you want!')"
   ]
  },
  {
   "cell_type": "code",
   "execution_count": 102,
   "metadata": {},
   "outputs": [
    {
     "name": "stdout",
     "output_type": "stream",
     "text": [
      "Yes, both are what you want!\n"
     ]
    }
   ],
   "source": [
    "#    True   or   False  --> True  \n",
    "if x == 10  or   y == 50:\n",
    "    print('Yes, both are what you want!')"
   ]
  },
  {
   "cell_type": "code",
   "execution_count": 103,
   "metadata": {},
   "outputs": [
    {
     "name": "stdout",
     "output_type": "stream",
     "text": [
      "Yes, it is 10!\n"
     ]
    }
   ],
   "source": [
    "# I can also use \"not\", which flips the logic (True -> False or False -> True)\n",
    "# for whatever is to its right\n",
    "\n",
    "if x == 10:\n",
    "    print('Yes, it is 10!')"
   ]
  },
  {
   "cell_type": "code",
   "execution_count": 105,
   "metadata": {},
   "outputs": [
    {
     "name": "stdout",
     "output_type": "stream",
     "text": [
      "No, it is not 20\n"
     ]
    }
   ],
   "source": [
    "# Don't do this -- don't write this sort of code!\n",
    "if not x == 20:\n",
    "    print('No, it is not 20')"
   ]
  },
  {
   "cell_type": "code",
   "execution_count": 106,
   "metadata": {},
   "outputs": [
    {
     "name": "stdout",
     "output_type": "stream",
     "text": [
      "No, it is not 20\n"
     ]
    }
   ],
   "source": [
    "# better, and more idiomatic, to write\n",
    "if x != 20:\n",
    "    print('No, it is not 20')"
   ]
  },
  {
   "cell_type": "code",
   "execution_count": null,
   "metadata": {},
   "outputs": [],
   "source": []
  }
 ],
 "metadata": {
  "kernelspec": {
   "display_name": "Python 3 (ipykernel)",
   "language": "python",
   "name": "python3"
  },
  "language_info": {
   "codemirror_mode": {
    "name": "ipython",
    "version": 3
   },
   "file_extension": ".py",
   "mimetype": "text/x-python",
   "name": "python",
   "nbconvert_exporter": "python",
   "pygments_lexer": "ipython3",
   "version": "3.10.4"
  }
 },
 "nbformat": 4,
 "nbformat_minor": 4
}
