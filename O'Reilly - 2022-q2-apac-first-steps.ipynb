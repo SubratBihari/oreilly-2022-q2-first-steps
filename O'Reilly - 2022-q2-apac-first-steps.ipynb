{
 "cells": [
  {
   "cell_type": "code",
   "execution_count": 6,
   "metadata": {},
   "outputs": [
    {
     "name": "stdout",
     "output_type": "stream",
     "text": [
      "Hello, world?\n"
     ]
    }
   ],
   "source": [
    "# this is a comment.  Python ignores it completely.\n",
    "# this is another comment.  Python ignores it, too.\n",
    "# comments are for people, not for the programming language\n",
    "\n",
    "# print is a function (a programming-language verb)\n",
    "# it displays things on the screen\n",
    "\n",
    "# to use print, I have to use ()  round parentheses\n",
    "# we say that I'm \"running\" or \"calling\" the print function\n",
    "\n",
    "# what are we printing here?  The text, \"Hello world!\"\n",
    "# notice that it's in quotes.  That tells Python that it's text.\n",
    "# Also notice that I use single quotes.  You can use either\n",
    "# single quotes or double quotes.  They are the same in Python.\n",
    "# (but they have to match)\n",
    "\n",
    "print('Hello, world?')    # to execute this, I use shift+enter"
   ]
  },
  {
   "cell_type": "markdown",
   "metadata": {},
   "source": [
    "# Two modes of working with Jupyter\n",
    "\n",
    "- Edit mode: In this mode, typing puts text inside of a cell. You can enter edit mode by clicking inside of a cell or by pressing ENTER.  In edit mode, the frame of the cell is green.\n",
    "- Command mode: In this mode, typing sends one-letter commands to Jupyter.  You can enter command mode by clicking to the left of the cell or by pressing ESC.  In command mode, the frame of the cell is blue.\n",
    "\n",
    "In command mode, I have a whole bunch of one-letter commands I can use.  Here are a few of them:\n",
    "- `h` -- this brings up help, telling you what commands are available.\n",
    "- `M` -- this turns the current cell into \"markdown,\" which lets us write HTML easily. I'm using Markdown right now to write this documentation.\n",
    "- `y` -- this turns the current cell into a code cell for Python.\n",
    "- `c` -- this copies the current cell, so we can paste it later\n",
    "- `x` -- this cuts the current cell, so we can remove it or paste it later\n",
    "- `v` -- this pastes the cell that was cut/copied into the current location\n",
    "- `a` -- this creates a new cell above the current one\n",
    "- `b` -- this creates a new cell below the current one"
   ]
  },
  {
   "cell_type": "code",
   "execution_count": null,
   "metadata": {},
   "outputs": [],
   "source": []
  }
 ],
 "metadata": {
  "kernelspec": {
   "display_name": "Python 3 (ipykernel)",
   "language": "python",
   "name": "python3"
  },
  "language_info": {
   "codemirror_mode": {
    "name": "ipython",
    "version": 3
   },
   "file_extension": ".py",
   "mimetype": "text/x-python",
   "name": "python",
   "nbconvert_exporter": "python",
   "pygments_lexer": "ipython3",
   "version": "3.10.4"
  }
 },
 "nbformat": 4,
 "nbformat_minor": 4
}
