{
 "cells": [
  {
   "cell_type": "code",
   "execution_count": 4,
   "metadata": {},
   "outputs": [
    {
     "name": "stdout",
     "output_type": "stream",
     "text": [
      "Hello, world!\n"
     ]
    }
   ],
   "source": [
    "# this is a comment.  Python ignores it completely.\n",
    "# this is another comment.  Python ignores it, too.\n",
    "# comments are for people, not for the programming language\n",
    "\n",
    "# print is a function (a programming-language verb)\n",
    "# it displays things on the screen\n",
    "\n",
    "# to use print, I have to use ()  round parentheses\n",
    "# we say that I'm \"running\" or \"calling\" the print function\n",
    "\n",
    "# what are we printing here?  T\n",
    "\n",
    "print('Hello, world!')    # to execute this, I use shift+enter"
   ]
  },
  {
   "cell_type": "code",
   "execution_count": null,
   "metadata": {},
   "outputs": [],
   "source": []
  }
 ],
 "metadata": {
  "kernelspec": {
   "display_name": "Python 3 (ipykernel)",
   "language": "python",
   "name": "python3"
  },
  "language_info": {
   "codemirror_mode": {
    "name": "ipython",
    "version": 3
   },
   "file_extension": ".py",
   "mimetype": "text/x-python",
   "name": "python",
   "nbconvert_exporter": "python",
   "pygments_lexer": "ipython3",
   "version": "3.10.4"
  }
 },
 "nbformat": 4,
 "nbformat_minor": 4
}
