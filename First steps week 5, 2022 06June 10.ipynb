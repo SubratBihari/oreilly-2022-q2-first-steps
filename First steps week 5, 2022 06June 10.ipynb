{
 "cells": [
  {
   "cell_type": "markdown",
   "id": "2d9810be",
   "metadata": {},
   "source": [
    "# Week 5 agenda\n",
    "\n",
    "1. Review last week's challenge\n",
    "2. Modules and packages\n",
    "    - Importing modules\n",
    "    - Using modules\n",
    "    - Writing modules (a tiny bit -- needs an external editor)\n",
    "    - PyPI\n",
    "    - `pip` and installing packages from the Internet\n",
    "3. General Q&A about Python, software, etc.    "
   ]
  },
  {
   "cell_type": "code",
   "execution_count": null,
   "id": "52fa3f1f",
   "metadata": {},
   "outputs": [],
   "source": []
  }
 ],
 "metadata": {
  "kernelspec": {
   "display_name": "Python 3 (ipykernel)",
   "language": "python",
   "name": "python3"
  },
  "language_info": {
   "codemirror_mode": {
    "name": "ipython",
    "version": 3
   },
   "file_extension": ".py",
   "mimetype": "text/x-python",
   "name": "python",
   "nbconvert_exporter": "python",
   "pygments_lexer": "ipython3",
   "version": "3.10.4"
  }
 },
 "nbformat": 4,
 "nbformat_minor": 5
}
