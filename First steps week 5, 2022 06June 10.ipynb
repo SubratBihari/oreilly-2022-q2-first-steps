{
 "cells": [
  {
   "cell_type": "markdown",
   "id": "19e1dc45",
   "metadata": {},
   "source": [
    "# Week 5 agenda\n",
    "\n",
    "1. Review last week's challenge\n",
    "2. Modules and packages\n",
    "    - Importing modules\n",
    "    - Using modules\n",
    "    - Writing modules (a tiny bit -- needs an external editor)\n",
    "    - PyPI\n",
    "    - `pip` and installing packages from the Internet\n",
    "3. General Q&A about Python, software, etc.    "
   ]
  },
  {
   "cell_type": "code",
   "execution_count": 1,
   "id": "d29a09c3",
   "metadata": {},
   "outputs": [],
   "source": [
    "# challenge program:\n",
    "\n",
    "def count_ips(filename):\n",
    "    output = {}\n",
    "    for one_line in open(filename):\n",
    "        fields = one_line.split()\n",
    "        ip_address = fields[0]\n",
    "\n",
    "        if ip_address in output:    # have we seen this IP address already?\n",
    "            output[ip_address] += 1 # if so, add 1 to the count\n",
    "        else:\n",
    "            output[ip_address] = 1  # otherwise, set it to 1\n",
    "\n",
    "    return output\n",
    "\n",
    "# count_ips('logfile.txt')        \n"
   ]
  },
  {
   "cell_type": "markdown",
   "id": "c536f23f",
   "metadata": {},
   "source": [
    "# Modules and packages\n",
    "\n",
    "Let's start with my favorite programming rule, DRY (don't repeat yourself):\n",
    "\n",
    "1. If we have several lines repeated in our program, we can replace them (\"DRY up our code\") with a loop.\n",
    "2. If we have the same code repeated in multiple places in our program, we can replace them with a function.\n",
    "3. If we have the same code repeated in multiple programs, we can use a *library*.  Or, as it's known in Python, a *module*."
   ]
  },
  {
   "cell_type": "markdown",
   "id": "8af84741",
   "metadata": {},
   "source": [
    "# Using a module in Python\n",
    "\n",
    "In order to use a module in Python, we must \"import\" it.  This gives us access to whatever the module has defined. That'll typically be:\n",
    "\n",
    "- Data structures\n",
    "- Functions\n",
    "- Entirely new types of data (\"classes\")\n",
    "\n",
    "The `import` statement in Python is *not* a function! It's a statement -- so don't try to use it with parentheses. Think of `import` sort of like `def`.  `def` creates a new function object, and assigns it to a variable.  In the same way, `import` creates a new module object, and assigns it to a variable.\n",
    "\n",
    "If I say `import abcd`, the variable `abcd` will then be defined, and it'll contain a module object.  Assuming, of course, that `abcd` exists as a module on your computer."
   ]
  },
  {
   "cell_type": "code",
   "execution_count": null,
   "id": "0e034400",
   "metadata": {},
   "outputs": [],
   "source": [
    "import random  "
   ]
  },
  {
   "cell_type": "code",
   "execution_count": 3,
   "id": "a8e02137",
   "metadata": {},
   "outputs": [
    {
     "data": {
      "text/plain": [
       "module"
      ]
     },
     "execution_count": 3,
     "metadata": {},
     "output_type": "execute_result"
    }
   ],
   "source": [
    "type(random)   # what kind of data does the \"random\" variable contain?"
   ]
  },
  {
   "cell_type": "code",
   "execution_count": 4,
   "id": "fe976ef5",
   "metadata": {},
   "outputs": [
    {
     "data": {
      "text/plain": [
       "3"
      ]
     },
     "execution_count": 4,
     "metadata": {},
     "output_type": "execute_result"
    }
   ],
   "source": [
    "# once I've imported the module, I have access to all of the data and functions that it defines.\n",
    "# I can access those via a .\n",
    "# meaning: MODULENAME.DATA or MODULENAME.FUNCTION\n",
    "# then I just use the data, or use the function, as per usual.\n",
    "\n",
    "# for example, the \"random\" module defines the \"randint\" function.  I can call it as follows:\n",
    "\n",
    "random.randint(0, 100)"
   ]
  },
  {
   "cell_type": "code",
   "execution_count": 6,
   "id": "3b1cf026",
   "metadata": {},
   "outputs": [
    {
     "data": {
      "text/plain": [
       "<module 'random' from '/usr/local/Cellar/python@3.10/3.10.4/Frameworks/Python.framework/Versions/3.10/lib/python3.10/random.py'>"
      ]
     },
     "execution_count": 6,
     "metadata": {},
     "output_type": "execute_result"
    }
   ],
   "source": [
    "# we can ask a module to print itself out (\"printed representation\" of an object)\n",
    "random"
   ]
  },
  {
   "cell_type": "markdown",
   "id": "db40ac2f",
   "metadata": {},
   "source": [
    "# How does Python know where to find `random` and load it?\n",
    "\n",
    "If we say `import random`, Python looks for a file called `random.py`, where `py` is the standard Python suffix for program files.\n",
    "\n",
    "Where does it look for `random.py`?\n",
    "\n",
    "It looks in a whole bunch of directories, known as the \"search path.\" It looks through each of the directories in this path, one at a time.  The first directory in which it finds `random.py` wins, and the search ends.\n",
    "\n",
    "If Python doesn't find a matching name in its search path, it raises an error.  This means that module import is a matter of \"first come, first serve.\""
   ]
  },
  {
   "cell_type": "code",
   "execution_count": 7,
   "id": "fc171b30",
   "metadata": {},
   "outputs": [],
   "source": [
    "import sys     # sys is a special module -- it describes your Python running environment"
   ]
  },
  {
   "cell_type": "code",
   "execution_count": 8,
   "id": "0e8ae979",
   "metadata": {},
   "outputs": [
    {
     "data": {
      "text/plain": [
       "'3.10.4 (main, Apr 26 2022, 19:42:59) [Clang 13.1.6 (clang-1316.0.21.2)]'"
      ]
     },
     "execution_count": 8,
     "metadata": {},
     "output_type": "execute_result"
    }
   ],
   "source": [
    "sys.version    # what version of Python am I running?"
   ]
  },
  {
   "cell_type": "code",
   "execution_count": 9,
   "id": "101fff93",
   "metadata": {},
   "outputs": [
    {
     "data": {
      "text/plain": [
       "['/Users/reuven/Courses/Current/oreilly-2022-q2-first-steps',\n",
       " '/usr/local/Cellar/python@3.10/3.10.4/Frameworks/Python.framework/Versions/3.10/lib/python310.zip',\n",
       " '/usr/local/Cellar/python@3.10/3.10.4/Frameworks/Python.framework/Versions/3.10/lib/python3.10',\n",
       " '/usr/local/Cellar/python@3.10/3.10.4/Frameworks/Python.framework/Versions/3.10/lib/python3.10/lib-dynload',\n",
       " '',\n",
       " '/usr/local/lib/python3.10/site-packages',\n",
       " '/usr/local/lib/python3.10/site-packages/argclass-0.1.2-py3.10.egg',\n",
       " '/usr/local/Cellar/pybind11/2.9.2/libexec/lib/python3.10/site-packages',\n",
       " '/usr/local/lib/python3.10/site-packages/IPython/extensions',\n",
       " '/Users/reuven/.ipython']"
      ]
     },
     "execution_count": 9,
     "metadata": {},
     "output_type": "execute_result"
    }
   ],
   "source": [
    "sys.path       # this is a list of strings -- the search path for modules we import"
   ]
  },
  {
   "cell_type": "markdown",
   "id": "21539c59",
   "metadata": {},
   "source": [
    "# Exercise: Character classification\n",
    "\n",
    "1. Import the `string` module in Python.  Historically, this module used to have a lot of functionality, but most of that was moved into methods on the `str` (string) class.  However, it still defines a few different variables that can be useful.  For example, `string.digits` (all digits), `string.punctuation` (punctuation), and `string.ascii_letters` (letters).\n",
    "2. Define a dict with three keys -- `digits`, `punctuation`, and `letters`, and set the value to be 0 in each.\n",
    "3. Ask the user to enter a string.\n",
    "3. Go through the string, one character at a time:\n",
    "    - If the character is a digit, add 1 to the `digits` value\n",
    "    - If the character is punctuation, add 1 to the `punctuation` value\n",
    "    - If the character is letter, add 1 to the `letter` value\n",
    "4. Print out the resulting dict    "
   ]
  },
  {
   "cell_type": "code",
   "execution_count": null,
   "id": "e149933f",
   "metadata": {},
   "outputs": [],
   "source": []
  }
 ],
 "metadata": {
  "kernelspec": {
   "display_name": "Python 3 (ipykernel)",
   "language": "python",
   "name": "python3"
  },
  "language_info": {
   "codemirror_mode": {
    "name": "ipython",
    "version": 3
   },
   "file_extension": ".py",
   "mimetype": "text/x-python",
   "name": "python",
   "nbconvert_exporter": "python",
   "pygments_lexer": "ipython3",
   "version": "3.10.4"
  }
 },
 "nbformat": 4,
 "nbformat_minor": 5
}
