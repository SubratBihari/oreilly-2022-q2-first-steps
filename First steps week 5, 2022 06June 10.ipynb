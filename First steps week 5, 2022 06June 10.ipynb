{
 "cells": [
  {
   "cell_type": "markdown",
   "id": "59c463bd",
   "metadata": {},
   "source": [
    "# Week 5 agenda\n",
    "\n",
    "1. Review last week's challenge\n",
    "2. Modules and packages\n",
    "    - Importing modules\n",
    "    - Using modules\n",
    "    - Writing modules (a tiny bit -- needs an external editor)\n",
    "    - PyPI\n",
    "    - `pip` and installing packages from the Internet\n",
    "3. General Q&A about Python, software, etc.    "
   ]
  },
  {
   "cell_type": "code",
   "execution_count": 1,
   "id": "8c4c3962",
   "metadata": {},
   "outputs": [],
   "source": [
    "# challenge program:\n",
    "\n",
    "def count_ips(filename):\n",
    "    output = {}\n",
    "    for one_line in open(filename):\n",
    "        fields = one_line.split()\n",
    "        ip_address = fields[0]\n",
    "\n",
    "        if ip_address in output:    # have we seen this IP address already?\n",
    "            output[ip_address] += 1 # if so, add 1 to the count\n",
    "        else:\n",
    "            output[ip_address] = 1  # otherwise, set it to 1\n",
    "\n",
    "    return output\n",
    "\n",
    "# count_ips('logfile.txt')        \n"
   ]
  },
  {
   "cell_type": "code",
   "execution_count": null,
   "id": "80439e82",
   "metadata": {},
   "outputs": [],
   "source": []
  }
 ],
 "metadata": {
  "kernelspec": {
   "display_name": "Python 3 (ipykernel)",
   "language": "python",
   "name": "python3"
  },
  "language_info": {
   "codemirror_mode": {
    "name": "ipython",
    "version": 3
   },
   "file_extension": ".py",
   "mimetype": "text/x-python",
   "name": "python",
   "nbconvert_exporter": "python",
   "pygments_lexer": "ipython3",
   "version": "3.10.4"
  }
 },
 "nbformat": 4,
 "nbformat_minor": 5
}
