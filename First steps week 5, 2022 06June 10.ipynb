{
 "cells": [
  {
   "cell_type": "markdown",
   "id": "aa5596f3",
   "metadata": {},
   "source": [
    "# Week 5 agenda\n",
    "\n",
    "1. Review last week's challenge\n",
    "2. Modules and packages\n",
    "    - Importing modules\n",
    "    - Using modules\n",
    "    - Writing modules (a tiny bit -- needs an external editor)\n",
    "    - PyPI\n",
    "    - `pip` and installing packages from the Internet\n",
    "3. General Q&A about Python, software, etc.    "
   ]
  },
  {
   "cell_type": "code",
   "execution_count": 1,
   "id": "752f3bd9",
   "metadata": {},
   "outputs": [],
   "source": [
    "# challenge program:\n",
    "\n",
    "def count_ips(filename):\n",
    "    output = {}\n",
    "    for one_line in open(filename):\n",
    "        fields = one_line.split()\n",
    "        ip_address = fields[0]\n",
    "\n",
    "        if ip_address in output:    # have we seen this IP address already?\n",
    "            output[ip_address] += 1 # if so, add 1 to the count\n",
    "        else:\n",
    "            output[ip_address] = 1  # otherwise, set it to 1\n",
    "\n",
    "    return output\n",
    "\n",
    "# count_ips('logfile.txt')        \n"
   ]
  },
  {
   "cell_type": "markdown",
   "id": "9711c41c",
   "metadata": {},
   "source": [
    "# Modules and packages\n",
    "\n",
    "Let's start with my favorite programming rule, DRY (don't repeat yourself):\n",
    "\n",
    "1. If we have several lines repeated in our program, we can replace them (\"DRY up our code\") with a loop.\n",
    "2. If we have the same code repeated in multiple places in our program, we can replace them with a function.\n",
    "3. If we have the same code repeated in multiple programs, we can use a *library*.  Or, as it's known in Python, a *module*."
   ]
  },
  {
   "cell_type": "markdown",
   "id": "f4a029dd",
   "metadata": {},
   "source": [
    "# Using a module in Python\n",
    "\n",
    "In order to use a module in Python, we must \"import\" it.  This gives us access to whatever the module has defined. That'll typically be:\n",
    "\n",
    "- Data structures\n",
    "- Functions\n",
    "- Entirely new types of data (\"classes\")\n",
    "\n",
    "The `import` statement in Python is *not* a function! It's a statement -- so don't try to use it with parentheses. Think of `import` sort of like `def`.  `def` creates a new function object, and assigns it to a variable.  In the same way, `import` creates a new module object, and assigns it to a variable.\n",
    "\n",
    "If I say `import abcd`, the variable `abcd` will then be defined, and it'll contain a module object.  Assuming, of course, that `abcd` exists as a module on your computer."
   ]
  },
  {
   "cell_type": "code",
   "execution_count": null,
   "id": "38cb740b",
   "metadata": {},
   "outputs": [],
   "source": [
    "import random  "
   ]
  },
  {
   "cell_type": "code",
   "execution_count": 3,
   "id": "6cbeac73",
   "metadata": {},
   "outputs": [
    {
     "data": {
      "text/plain": [
       "module"
      ]
     },
     "execution_count": 3,
     "metadata": {},
     "output_type": "execute_result"
    }
   ],
   "source": [
    "type(random)   # what kind of data does the \"random\" variable contain?"
   ]
  },
  {
   "cell_type": "code",
   "execution_count": 4,
   "id": "6739843e",
   "metadata": {},
   "outputs": [
    {
     "data": {
      "text/plain": [
       "3"
      ]
     },
     "execution_count": 4,
     "metadata": {},
     "output_type": "execute_result"
    }
   ],
   "source": [
    "# once I've imported the module, I have access to all of the data and functions that it defines.\n",
    "# I can access those via a .\n",
    "# meaning: MODULENAME.DATA or MODULENAME.FUNCTION\n",
    "# then I just use the data, or use the function, as per usual.\n",
    "\n",
    "# for example, the \"random\" module defines the \"randint\" function.  I can call it as follows:\n",
    "\n",
    "random.randint(0, 100)"
   ]
  },
  {
   "cell_type": "code",
   "execution_count": 6,
   "id": "d2b69058",
   "metadata": {},
   "outputs": [
    {
     "data": {
      "text/plain": [
       "<module 'random' from '/usr/local/Cellar/python@3.10/3.10.4/Frameworks/Python.framework/Versions/3.10/lib/python3.10/random.py'>"
      ]
     },
     "execution_count": 6,
     "metadata": {},
     "output_type": "execute_result"
    }
   ],
   "source": [
    "# we can ask a module to print itself out (\"printed representation\" of an object)\n",
    "random"
   ]
  },
  {
   "cell_type": "code",
   "execution_count": null,
   "id": "64b6baed",
   "metadata": {},
   "outputs": [],
   "source": []
  }
 ],
 "metadata": {
  "kernelspec": {
   "display_name": "Python 3 (ipykernel)",
   "language": "python",
   "name": "python3"
  },
  "language_info": {
   "codemirror_mode": {
    "name": "ipython",
    "version": 3
   },
   "file_extension": ".py",
   "mimetype": "text/x-python",
   "name": "python",
   "nbconvert_exporter": "python",
   "pygments_lexer": "ipython3",
   "version": "3.10.4"
  }
 },
 "nbformat": 4,
 "nbformat_minor": 5
}
