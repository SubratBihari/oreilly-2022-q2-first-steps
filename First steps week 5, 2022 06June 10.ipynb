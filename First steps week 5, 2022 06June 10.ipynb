{
 "cells": [
  {
   "cell_type": "markdown",
   "id": "9dad8f06",
   "metadata": {},
   "source": [
    "# Week 5 agenda\n",
    "\n",
    "1. Review last week's challenge\n",
    "2. Modules and packages\n",
    "    - Importing modules\n",
    "    - Using modules\n",
    "    - Writing modules (a tiny bit -- needs an external editor)\n",
    "    - PyPI\n",
    "    - `pip` and installing packages from the Internet\n",
    "3. General Q&A about Python, software, etc.    "
   ]
  },
  {
   "cell_type": "code",
   "execution_count": 1,
   "id": "87df5da3",
   "metadata": {},
   "outputs": [],
   "source": [
    "# challenge program:\n",
    "\n",
    "def count_ips(filename):\n",
    "    output = {}\n",
    "    for one_line in open(filename):\n",
    "        fields = one_line.split()\n",
    "        ip_address = fields[0]\n",
    "\n",
    "        if ip_address in output:    # have we seen this IP address already?\n",
    "            output[ip_address] += 1 # if so, add 1 to the count\n",
    "        else:\n",
    "            output[ip_address] = 1  # otherwise, set it to 1\n",
    "\n",
    "    return output\n",
    "\n",
    "# count_ips('logfile.txt')        \n"
   ]
  },
  {
   "cell_type": "markdown",
   "id": "e9d7e402",
   "metadata": {},
   "source": [
    "# Modules and packages\n",
    "\n",
    "Let's start with my favorite programming rule, DRY (don't repeat yourself):\n",
    "\n",
    "1. If we have several lines repeated in our program, we can replace them (\"DRY up our code\") with a loop.\n",
    "2. If we have the same code repeated in multiple places in our program, we can replace them with a function.\n",
    "3. If we have the same code repeated in multiple programs, we can use a *library*.  Or, as it's known in Python, a *module*."
   ]
  },
  {
   "cell_type": "markdown",
   "id": "fbb6c4d9",
   "metadata": {},
   "source": [
    "# Using a module in Python\n",
    "\n",
    "In order to use a module in Python, we must \"import\" it.  This gives us access to whatever the module has defined. That'll typically be:\n",
    "\n",
    "- Data structures\n",
    "- Functions\n",
    "- Entirely new types of data (\"classes\")\n",
    "\n",
    "The `import` statement in Python is *not* a function! It's a statement -- so don't try to use it with parentheses. Think of `import` sort of like `def`.  `def` creates a new function object, and assigns it to a variable.  In the same way, `import` creates a new module object, and assigns it to a variable.\n",
    "\n",
    "If I say `import abcd`, the variable `abcd` will then be defined, and it'll contain a module object.  Assuming, of course, that `abcd` exists as a module on your computer."
   ]
  },
  {
   "cell_type": "code",
   "execution_count": null,
   "id": "01185fd4",
   "metadata": {},
   "outputs": [],
   "source": [
    "import random  "
   ]
  },
  {
   "cell_type": "code",
   "execution_count": 3,
   "id": "a61c2b50",
   "metadata": {},
   "outputs": [
    {
     "data": {
      "text/plain": [
       "module"
      ]
     },
     "execution_count": 3,
     "metadata": {},
     "output_type": "execute_result"
    }
   ],
   "source": [
    "type(random)   # what kind of data does the \"random\" variable contain?"
   ]
  },
  {
   "cell_type": "code",
   "execution_count": 4,
   "id": "88c492a6",
   "metadata": {},
   "outputs": [
    {
     "data": {
      "text/plain": [
       "3"
      ]
     },
     "execution_count": 4,
     "metadata": {},
     "output_type": "execute_result"
    }
   ],
   "source": [
    "# once I've imported the module, I have access to all of the data and functions that it defines.\n",
    "# I can access those via a .\n",
    "# meaning: MODULENAME.DATA or MODULENAME.FUNCTION\n",
    "# then I just use the data, or use the function, as per usual.\n",
    "\n",
    "# for example, the \"random\" module defines the \"randint\" function.  I can call it as follows:\n",
    "\n",
    "random.randint(0, 100)"
   ]
  },
  {
   "cell_type": "code",
   "execution_count": 6,
   "id": "82b9b5cb",
   "metadata": {},
   "outputs": [
    {
     "data": {
      "text/plain": [
       "<module 'random' from '/usr/local/Cellar/python@3.10/3.10.4/Frameworks/Python.framework/Versions/3.10/lib/python3.10/random.py'>"
      ]
     },
     "execution_count": 6,
     "metadata": {},
     "output_type": "execute_result"
    }
   ],
   "source": [
    "# we can ask a module to print itself out (\"printed representation\" of an object)\n",
    "random"
   ]
  },
  {
   "cell_type": "markdown",
   "id": "c9058308",
   "metadata": {},
   "source": [
    "# How does Python know where to find `random` and load it?\n",
    "\n",
    "If we say `import random`, Python looks for a file called `random.py`, where `py` is the standard Python suffix for program files.\n",
    "\n",
    "Where does it look for `random.py`?\n",
    "\n",
    "It looks in a whole bunch of directories, known as the \"search path.\" It looks through each of the directories in this path, one at a time.  The first directory in which it finds `random.py` wins, and the search ends.\n",
    "\n",
    "If Python doesn't find a matching name in its search path, it raises an error.  This means that module import is a matter of \"first come, first serve.\""
   ]
  },
  {
   "cell_type": "code",
   "execution_count": 7,
   "id": "90af8159",
   "metadata": {},
   "outputs": [],
   "source": [
    "import sys     # sys is a special module -- it describes your Python running environment"
   ]
  },
  {
   "cell_type": "code",
   "execution_count": 8,
   "id": "cb1dab59",
   "metadata": {},
   "outputs": [
    {
     "data": {
      "text/plain": [
       "'3.10.4 (main, Apr 26 2022, 19:42:59) [Clang 13.1.6 (clang-1316.0.21.2)]'"
      ]
     },
     "execution_count": 8,
     "metadata": {},
     "output_type": "execute_result"
    }
   ],
   "source": [
    "sys.version    # what version of Python am I running?"
   ]
  },
  {
   "cell_type": "code",
   "execution_count": 9,
   "id": "c868b8a1",
   "metadata": {},
   "outputs": [
    {
     "data": {
      "text/plain": [
       "['/Users/reuven/Courses/Current/oreilly-2022-q2-first-steps',\n",
       " '/usr/local/Cellar/python@3.10/3.10.4/Frameworks/Python.framework/Versions/3.10/lib/python310.zip',\n",
       " '/usr/local/Cellar/python@3.10/3.10.4/Frameworks/Python.framework/Versions/3.10/lib/python3.10',\n",
       " '/usr/local/Cellar/python@3.10/3.10.4/Frameworks/Python.framework/Versions/3.10/lib/python3.10/lib-dynload',\n",
       " '',\n",
       " '/usr/local/lib/python3.10/site-packages',\n",
       " '/usr/local/lib/python3.10/site-packages/argclass-0.1.2-py3.10.egg',\n",
       " '/usr/local/Cellar/pybind11/2.9.2/libexec/lib/python3.10/site-packages',\n",
       " '/usr/local/lib/python3.10/site-packages/IPython/extensions',\n",
       " '/Users/reuven/.ipython']"
      ]
     },
     "execution_count": 9,
     "metadata": {},
     "output_type": "execute_result"
    }
   ],
   "source": [
    "sys.path       # this is a list of strings -- the search path for modules we import"
   ]
  },
  {
   "cell_type": "markdown",
   "id": "26bde3b0",
   "metadata": {},
   "source": [
    "# Exercise: Character classification\n",
    "\n",
    "1. Import the `string` module in Python.  Historically, this module used to have a lot of functionality, but most of that was moved into methods on the `str` (string) class.  However, it still defines a few different variables that can be useful.  For example, `string.digits` (all digits), `string.punctuation` (punctuation), and `string.ascii_letters` (letters).\n",
    "2. Define a dict with three keys -- `digits`, `punctuation`, and `letters`, and set the value to be 0 in each.\n",
    "3. Ask the user to enter a string.\n",
    "3. Go through the string, one character at a time:\n",
    "    - If the character is a digit, add 1 to the `digits` value\n",
    "    - If the character is punctuation, add 1 to the `punctuation` value\n",
    "    - If the character is letter, add 1 to the `letter` value\n",
    "4. Print out the resulting dict    "
   ]
  },
  {
   "cell_type": "code",
   "execution_count": 10,
   "id": "070d147c",
   "metadata": {},
   "outputs": [],
   "source": [
    "import string"
   ]
  },
  {
   "cell_type": "code",
   "execution_count": 11,
   "id": "2df90071",
   "metadata": {},
   "outputs": [
    {
     "data": {
      "text/plain": [
       "'0123456789'"
      ]
     },
     "execution_count": 11,
     "metadata": {},
     "output_type": "execute_result"
    }
   ],
   "source": [
    "string.digits"
   ]
  },
  {
   "cell_type": "code",
   "execution_count": 12,
   "id": "d5ab1dd0",
   "metadata": {},
   "outputs": [
    {
     "data": {
      "text/plain": [
       "'!\"#$%&\\'()*+,-./:;<=>?@[\\\\]^_`{|}~'"
      ]
     },
     "execution_count": 12,
     "metadata": {},
     "output_type": "execute_result"
    }
   ],
   "source": [
    "string.punctuation"
   ]
  },
  {
   "cell_type": "code",
   "execution_count": 13,
   "id": "b4d941cc",
   "metadata": {},
   "outputs": [
    {
     "data": {
      "text/plain": [
       "'abcdefghijklmnopqrstuvwxyzABCDEFGHIJKLMNOPQRSTUVWXYZ'"
      ]
     },
     "execution_count": 13,
     "metadata": {},
     "output_type": "execute_result"
    }
   ],
   "source": [
    "string.ascii_letters"
   ]
  },
  {
   "cell_type": "code",
   "execution_count": 20,
   "id": "d387134f",
   "metadata": {},
   "outputs": [
    {
     "name": "stdout",
     "output_type": "stream",
     "text": [
      "Enter a string: hello in Hebrew is שלום\n",
      "Ignoring character \" \" (32)\n",
      "Ignoring character \" \" (32)\n",
      "Ignoring character \" \" (32)\n",
      "Ignoring character \" \" (32)\n",
      "Ignoring character \"ש\" (1513)\n",
      "Ignoring character \"ל\" (1500)\n",
      "Ignoring character \"ו\" (1493)\n",
      "Ignoring character \"ם\" (1501)\n",
      "{'digits': 0, 'punctuation': 0, 'letters': 15}\n"
     ]
    }
   ],
   "source": [
    "counts = {'digits':0, 'punctuation':0, 'letters':0}\n",
    "\n",
    "s = input('Enter a string: ').strip()\n",
    "\n",
    "for one_character in s:\n",
    "    if one_character in string.digits:\n",
    "        counts['digits'] += 1\n",
    "    elif one_character in string.punctuation:\n",
    "        counts['punctuation'] += 1\n",
    "    elif one_character in string.ascii_letters:\n",
    "        counts['letters'] += 1\n",
    "    else:\n",
    "        print(f'Ignoring character \"{one_character}\" ({ord(one_character)})')\n",
    "        \n",
    "print(counts)        "
   ]
  },
  {
   "cell_type": "markdown",
   "id": "841ffd1d",
   "metadata": {},
   "source": [
    "# Three examples (so far) of modules\n",
    "\n",
    "- `random`, which contains functions for generating random numbers\n",
    "- `sys`, which contains the Python language/system information\n",
    "- `string`, which defines a number of variables we can use for classifying characters"
   ]
  },
  {
   "cell_type": "code",
   "execution_count": 18,
   "id": "9b584602",
   "metadata": {},
   "outputs": [
    {
     "data": {
      "text/plain": [
       "'i'"
      ]
     },
     "execution_count": 18,
     "metadata": {},
     "output_type": "execute_result"
    }
   ],
   "source": [
    "s = 'abcdefghij'\n",
    "\n",
    "# I can use the random.choice method to retrieve a random element of s\n",
    "\n",
    "random.choice(s)"
   ]
  },
  {
   "cell_type": "markdown",
   "id": "770866f7",
   "metadata": {},
   "source": [
    "# How can I know what a module provides?\n",
    "\n",
    "1. Use `dir`\n",
    "2. Use `help`\n",
    "3. Use the Python documentation site"
   ]
  },
  {
   "cell_type": "code",
   "execution_count": 21,
   "id": "df9865ab",
   "metadata": {},
   "outputs": [
    {
     "data": {
      "text/plain": [
       "['BPF',\n",
       " 'LOG4',\n",
       " 'NV_MAGICCONST',\n",
       " 'RECIP_BPF',\n",
       " 'Random',\n",
       " 'SG_MAGICCONST',\n",
       " 'SystemRandom',\n",
       " 'TWOPI',\n",
       " '_ONE',\n",
       " '_Sequence',\n",
       " '_Set',\n",
       " '__all__',\n",
       " '__builtins__',\n",
       " '__cached__',\n",
       " '__doc__',\n",
       " '__file__',\n",
       " '__loader__',\n",
       " '__name__',\n",
       " '__package__',\n",
       " '__spec__',\n",
       " '_accumulate',\n",
       " '_acos',\n",
       " '_bisect',\n",
       " '_ceil',\n",
       " '_cos',\n",
       " '_e',\n",
       " '_exp',\n",
       " '_floor',\n",
       " '_index',\n",
       " '_inst',\n",
       " '_isfinite',\n",
       " '_log',\n",
       " '_os',\n",
       " '_pi',\n",
       " '_random',\n",
       " '_repeat',\n",
       " '_sha512',\n",
       " '_sin',\n",
       " '_sqrt',\n",
       " '_test',\n",
       " '_test_generator',\n",
       " '_urandom',\n",
       " '_warn',\n",
       " 'betavariate',\n",
       " 'choice',\n",
       " 'choices',\n",
       " 'expovariate',\n",
       " 'gammavariate',\n",
       " 'gauss',\n",
       " 'getrandbits',\n",
       " 'getstate',\n",
       " 'lognormvariate',\n",
       " 'normalvariate',\n",
       " 'paretovariate',\n",
       " 'randbytes',\n",
       " 'randint',\n",
       " 'random',\n",
       " 'randrange',\n",
       " 'sample',\n",
       " 'seed',\n",
       " 'setstate',\n",
       " 'shuffle',\n",
       " 'triangular',\n",
       " 'uniform',\n",
       " 'vonmisesvariate',\n",
       " 'weibullvariate']"
      ]
     },
     "execution_count": 21,
     "metadata": {},
     "output_type": "execute_result"
    }
   ],
   "source": [
    "# the \"dir\" function in Python, when applied to a module, shows us all of the names \n",
    "# available via that module\n",
    "\n",
    "dir(random)"
   ]
  },
  {
   "cell_type": "code",
   "execution_count": 22,
   "id": "32f92464",
   "metadata": {},
   "outputs": [],
   "source": [
    "# the list of strings we get back from \"dir\" describes the attributes we can use\n",
    "# on the module itself.  So if 'abcde' is an element shown by \"dir\", we can then say\n",
    "\n",
    "# module.abcde"
   ]
  },
  {
   "cell_type": "markdown",
   "id": "577f04c0",
   "metadata": {},
   "source": [
    "# `_` in Python names\n",
    "\n",
    "If a name starts with `_`, that is supposed to mean it's private -- we shouldn't use it, because it might change, or its internal to an object.  People often do use these, but then it's their fault if something goes wrong.\n",
    "\n",
    "If a name starts and ends with `__` (double underscore), then we often call it \"dunder\" in Python. For example, `__str__` is pronounced \"dunder str.\"  Usually, these are methods that we don't call directly, but which Python knows to invoke at specific times and particular circumstances."
   ]
  },
  {
   "cell_type": "code",
   "execution_count": 23,
   "id": "ce193422",
   "metadata": {
    "collapsed": true
   },
   "outputs": [
    {
     "name": "stdout",
     "output_type": "stream",
     "text": [
      "Help on module random:\n",
      "\n",
      "NAME\n",
      "    random - Random variable generators.\n",
      "\n",
      "DESCRIPTION\n",
      "        bytes\n",
      "        -----\n",
      "               uniform bytes (values between 0 and 255)\n",
      "    \n",
      "        integers\n",
      "        --------\n",
      "               uniform within range\n",
      "    \n",
      "        sequences\n",
      "        ---------\n",
      "               pick random element\n",
      "               pick random sample\n",
      "               pick weighted random sample\n",
      "               generate random permutation\n",
      "    \n",
      "        distributions on the real line:\n",
      "        ------------------------------\n",
      "               uniform\n",
      "               triangular\n",
      "               normal (Gaussian)\n",
      "               lognormal\n",
      "               negative exponential\n",
      "               gamma\n",
      "               beta\n",
      "               pareto\n",
      "               Weibull\n",
      "    \n",
      "        distributions on the circle (angles 0 to 2pi)\n",
      "        ---------------------------------------------\n",
      "               circular uniform\n",
      "               von Mises\n",
      "    \n",
      "    General notes on the underlying Mersenne Twister core generator:\n",
      "    \n",
      "    * The period is 2**19937-1.\n",
      "    * It is one of the most extensively tested generators in existence.\n",
      "    * The random() method is implemented in C, executes in a single Python step,\n",
      "      and is, therefore, threadsafe.\n",
      "\n",
      "CLASSES\n",
      "    _random.Random(builtins.object)\n",
      "        Random\n",
      "            SystemRandom\n",
      "    \n",
      "    class Random(_random.Random)\n",
      "     |  Random(x=None)\n",
      "     |  \n",
      "     |  Random number generator base class used by bound module functions.\n",
      "     |  \n",
      "     |  Used to instantiate instances of Random to get generators that don't\n",
      "     |  share state.\n",
      "     |  \n",
      "     |  Class Random can also be subclassed if you want to use a different basic\n",
      "     |  generator of your own devising: in that case, override the following\n",
      "     |  methods:  random(), seed(), getstate(), and setstate().\n",
      "     |  Optionally, implement a getrandbits() method so that randrange()\n",
      "     |  can cover arbitrarily large ranges.\n",
      "     |  \n",
      "     |  Method resolution order:\n",
      "     |      Random\n",
      "     |      _random.Random\n",
      "     |      builtins.object\n",
      "     |  \n",
      "     |  Methods defined here:\n",
      "     |  \n",
      "     |  __getstate__(self)\n",
      "     |      # Issue 17489: Since __reduce__ was defined to fix #759889 this is no\n",
      "     |      # longer called; we leave it here because it has been here since random was\n",
      "     |      # rewritten back in 2001 and why risk breaking something.\n",
      "     |  \n",
      "     |  __init__(self, x=None)\n",
      "     |      Initialize an instance.\n",
      "     |      \n",
      "     |      Optional argument x controls seeding, as for Random.seed().\n",
      "     |  \n",
      "     |  __reduce__(self)\n",
      "     |      Helper for pickle.\n",
      "     |  \n",
      "     |  __setstate__(self, state)\n",
      "     |  \n",
      "     |  betavariate(self, alpha, beta)\n",
      "     |      Beta distribution.\n",
      "     |      \n",
      "     |      Conditions on the parameters are alpha > 0 and beta > 0.\n",
      "     |      Returned values range between 0 and 1.\n",
      "     |  \n",
      "     |  choice(self, seq)\n",
      "     |      Choose a random element from a non-empty sequence.\n",
      "     |  \n",
      "     |  choices(self, population, weights=None, *, cum_weights=None, k=1)\n",
      "     |      Return a k sized list of population elements chosen with replacement.\n",
      "     |      \n",
      "     |      If the relative weights or cumulative weights are not specified,\n",
      "     |      the selections are made with equal probability.\n",
      "     |  \n",
      "     |  expovariate(self, lambd)\n",
      "     |      Exponential distribution.\n",
      "     |      \n",
      "     |      lambd is 1.0 divided by the desired mean.  It should be\n",
      "     |      nonzero.  (The parameter would be called \"lambda\", but that is\n",
      "     |      a reserved word in Python.)  Returned values range from 0 to\n",
      "     |      positive infinity if lambd is positive, and from negative\n",
      "     |      infinity to 0 if lambd is negative.\n",
      "     |  \n",
      "     |  gammavariate(self, alpha, beta)\n",
      "     |      Gamma distribution.  Not the gamma function!\n",
      "     |      \n",
      "     |      Conditions on the parameters are alpha > 0 and beta > 0.\n",
      "     |      \n",
      "     |      The probability distribution function is:\n",
      "     |      \n",
      "     |                  x ** (alpha - 1) * math.exp(-x / beta)\n",
      "     |        pdf(x) =  --------------------------------------\n",
      "     |                    math.gamma(alpha) * beta ** alpha\n",
      "     |  \n",
      "     |  gauss(self, mu, sigma)\n",
      "     |      Gaussian distribution.\n",
      "     |      \n",
      "     |      mu is the mean, and sigma is the standard deviation.  This is\n",
      "     |      slightly faster than the normalvariate() function.\n",
      "     |      \n",
      "     |      Not thread-safe without a lock around calls.\n",
      "     |  \n",
      "     |  getstate(self)\n",
      "     |      Return internal state; can be passed to setstate() later.\n",
      "     |  \n",
      "     |  lognormvariate(self, mu, sigma)\n",
      "     |      Log normal distribution.\n",
      "     |      \n",
      "     |      If you take the natural logarithm of this distribution, you'll get a\n",
      "     |      normal distribution with mean mu and standard deviation sigma.\n",
      "     |      mu can have any value, and sigma must be greater than zero.\n",
      "     |  \n",
      "     |  normalvariate(self, mu, sigma)\n",
      "     |      Normal distribution.\n",
      "     |      \n",
      "     |      mu is the mean, and sigma is the standard deviation.\n",
      "     |  \n",
      "     |  paretovariate(self, alpha)\n",
      "     |      Pareto distribution.  alpha is the shape parameter.\n",
      "     |  \n",
      "     |  randbytes(self, n)\n",
      "     |      Generate n random bytes.\n",
      "     |  \n",
      "     |  randint(self, a, b)\n",
      "     |      Return random integer in range [a, b], including both end points.\n",
      "     |  \n",
      "     |  randrange(self, start, stop=None, step=1)\n",
      "     |      Choose a random item from range(start, stop[, step]).\n",
      "     |      \n",
      "     |      This fixes the problem with randint() which includes the\n",
      "     |      endpoint; in Python this is usually not what you want.\n",
      "     |  \n",
      "     |  sample(self, population, k, *, counts=None)\n",
      "     |      Chooses k unique random elements from a population sequence or set.\n",
      "     |      \n",
      "     |      Returns a new list containing elements from the population while\n",
      "     |      leaving the original population unchanged.  The resulting list is\n",
      "     |      in selection order so that all sub-slices will also be valid random\n",
      "     |      samples.  This allows raffle winners (the sample) to be partitioned\n",
      "     |      into grand prize and second place winners (the subslices).\n",
      "     |      \n",
      "     |      Members of the population need not be hashable or unique.  If the\n",
      "     |      population contains repeats, then each occurrence is a possible\n",
      "     |      selection in the sample.\n",
      "     |      \n",
      "     |      Repeated elements can be specified one at a time or with the optional\n",
      "     |      counts parameter.  For example:\n",
      "     |      \n",
      "     |          sample(['red', 'blue'], counts=[4, 2], k=5)\n",
      "     |      \n",
      "     |      is equivalent to:\n",
      "     |      \n",
      "     |          sample(['red', 'red', 'red', 'red', 'blue', 'blue'], k=5)\n",
      "     |      \n",
      "     |      To choose a sample from a range of integers, use range() for the\n",
      "     |      population argument.  This is especially fast and space efficient\n",
      "     |      for sampling from a large population:\n",
      "     |      \n",
      "     |          sample(range(10000000), 60)\n",
      "     |  \n",
      "     |  seed(self, a=None, version=2)\n",
      "     |      Initialize internal state from a seed.\n",
      "     |      \n",
      "     |      The only supported seed types are None, int, float,\n",
      "     |      str, bytes, and bytearray.\n",
      "     |      \n",
      "     |      None or no argument seeds from current time or from an operating\n",
      "     |      system specific randomness source if available.\n",
      "     |      \n",
      "     |      If *a* is an int, all bits are used.\n",
      "     |      \n",
      "     |      For version 2 (the default), all of the bits are used if *a* is a str,\n",
      "     |      bytes, or bytearray.  For version 1 (provided for reproducing random\n",
      "     |      sequences from older versions of Python), the algorithm for str and\n",
      "     |      bytes generates a narrower range of seeds.\n",
      "     |  \n",
      "     |  setstate(self, state)\n",
      "     |      Restore internal state from object returned by getstate().\n",
      "     |  \n",
      "     |  shuffle(self, x, random=None)\n",
      "     |      Shuffle list x in place, and return None.\n",
      "     |      \n",
      "     |      Optional argument random is a 0-argument function returning a\n",
      "     |      random float in [0.0, 1.0); if it is the default None, the\n",
      "     |      standard random.random will be used.\n",
      "     |  \n",
      "     |  triangular(self, low=0.0, high=1.0, mode=None)\n",
      "     |      Triangular distribution.\n",
      "     |      \n",
      "     |      Continuous distribution bounded by given lower and upper limits,\n",
      "     |      and having a given mode value in-between.\n",
      "     |      \n",
      "     |      http://en.wikipedia.org/wiki/Triangular_distribution\n",
      "     |  \n",
      "     |  uniform(self, a, b)\n",
      "     |      Get a random number in the range [a, b) or [a, b] depending on rounding.\n",
      "     |  \n",
      "     |  vonmisesvariate(self, mu, kappa)\n",
      "     |      Circular data distribution.\n",
      "     |      \n",
      "     |      mu is the mean angle, expressed in radians between 0 and 2*pi, and\n",
      "     |      kappa is the concentration parameter, which must be greater than or\n",
      "     |      equal to zero.  If kappa is equal to zero, this distribution reduces\n",
      "     |      to a uniform random angle over the range 0 to 2*pi.\n",
      "     |  \n",
      "     |  weibullvariate(self, alpha, beta)\n",
      "     |      Weibull distribution.\n",
      "     |      \n",
      "     |      alpha is the scale parameter and beta is the shape parameter.\n",
      "     |  \n",
      "     |  ----------------------------------------------------------------------\n",
      "     |  Class methods defined here:\n",
      "     |  \n",
      "     |  __init_subclass__(**kwargs) from builtins.type\n",
      "     |      Control how subclasses generate random integers.\n",
      "     |      \n",
      "     |      The algorithm a subclass can use depends on the random() and/or\n",
      "     |      getrandbits() implementation available to it and determines\n",
      "     |      whether it can generate random integers from arbitrarily large\n",
      "     |      ranges.\n",
      "     |  \n",
      "     |  ----------------------------------------------------------------------\n",
      "     |  Data descriptors defined here:\n",
      "     |  \n",
      "     |  __dict__\n",
      "     |      dictionary for instance variables (if defined)\n",
      "     |  \n",
      "     |  __weakref__\n",
      "     |      list of weak references to the object (if defined)\n",
      "     |  \n",
      "     |  ----------------------------------------------------------------------\n",
      "     |  Data and other attributes defined here:\n",
      "     |  \n",
      "     |  VERSION = 3\n",
      "     |  \n",
      "     |  ----------------------------------------------------------------------\n",
      "     |  Methods inherited from _random.Random:\n",
      "     |  \n",
      "     |  getrandbits(self, k, /)\n",
      "     |      getrandbits(k) -> x.  Generates an int with k random bits.\n",
      "     |  \n",
      "     |  random(self, /)\n",
      "     |      random() -> x in the interval [0, 1).\n",
      "     |  \n",
      "     |  ----------------------------------------------------------------------\n",
      "     |  Static methods inherited from _random.Random:\n",
      "     |  \n",
      "     |  __new__(*args, **kwargs) from builtins.type\n",
      "     |      Create and return a new object.  See help(type) for accurate signature.\n",
      "    \n",
      "    class SystemRandom(Random)\n",
      "     |  SystemRandom(x=None)\n",
      "     |  \n",
      "     |  Alternate random number generator using sources provided\n",
      "     |  by the operating system (such as /dev/urandom on Unix or\n",
      "     |  CryptGenRandom on Windows).\n",
      "     |  \n",
      "     |   Not available on all systems (see os.urandom() for details).\n",
      "     |  \n",
      "     |  Method resolution order:\n",
      "     |      SystemRandom\n",
      "     |      Random\n",
      "     |      _random.Random\n",
      "     |      builtins.object\n",
      "     |  \n",
      "     |  Methods defined here:\n",
      "     |  \n",
      "     |  getrandbits(self, k)\n",
      "     |      getrandbits(k) -> x.  Generates an int with k random bits.\n",
      "     |  \n",
      "     |  getstate = _notimplemented(self, *args, **kwds)\n",
      "     |  \n",
      "     |  randbytes(self, n)\n",
      "     |      Generate n random bytes.\n",
      "     |  \n",
      "     |  random(self)\n",
      "     |      Get the next random number in the range [0.0, 1.0).\n",
      "     |  \n",
      "     |  seed(self, *args, **kwds)\n",
      "     |      Stub method.  Not used for a system random number generator.\n",
      "     |  \n",
      "     |  setstate = _notimplemented(self, *args, **kwds)\n",
      "     |  \n",
      "     |  ----------------------------------------------------------------------\n",
      "     |  Methods inherited from Random:\n",
      "     |  \n",
      "     |  __getstate__(self)\n",
      "     |      # Issue 17489: Since __reduce__ was defined to fix #759889 this is no\n",
      "     |      # longer called; we leave it here because it has been here since random was\n",
      "     |      # rewritten back in 2001 and why risk breaking something.\n",
      "     |  \n",
      "     |  __init__(self, x=None)\n",
      "     |      Initialize an instance.\n",
      "     |      \n",
      "     |      Optional argument x controls seeding, as for Random.seed().\n",
      "     |  \n",
      "     |  __reduce__(self)\n",
      "     |      Helper for pickle.\n",
      "     |  \n",
      "     |  __setstate__(self, state)\n",
      "     |  \n",
      "     |  betavariate(self, alpha, beta)\n",
      "     |      Beta distribution.\n",
      "     |      \n",
      "     |      Conditions on the parameters are alpha > 0 and beta > 0.\n",
      "     |      Returned values range between 0 and 1.\n",
      "     |  \n",
      "     |  choice(self, seq)\n",
      "     |      Choose a random element from a non-empty sequence.\n",
      "     |  \n",
      "     |  choices(self, population, weights=None, *, cum_weights=None, k=1)\n",
      "     |      Return a k sized list of population elements chosen with replacement.\n",
      "     |      \n",
      "     |      If the relative weights or cumulative weights are not specified,\n",
      "     |      the selections are made with equal probability.\n",
      "     |  \n",
      "     |  expovariate(self, lambd)\n",
      "     |      Exponential distribution.\n",
      "     |      \n",
      "     |      lambd is 1.0 divided by the desired mean.  It should be\n",
      "     |      nonzero.  (The parameter would be called \"lambda\", but that is\n",
      "     |      a reserved word in Python.)  Returned values range from 0 to\n",
      "     |      positive infinity if lambd is positive, and from negative\n",
      "     |      infinity to 0 if lambd is negative.\n",
      "     |  \n",
      "     |  gammavariate(self, alpha, beta)\n",
      "     |      Gamma distribution.  Not the gamma function!\n",
      "     |      \n",
      "     |      Conditions on the parameters are alpha > 0 and beta > 0.\n",
      "     |      \n",
      "     |      The probability distribution function is:\n",
      "     |      \n",
      "     |                  x ** (alpha - 1) * math.exp(-x / beta)\n",
      "     |        pdf(x) =  --------------------------------------\n",
      "     |                    math.gamma(alpha) * beta ** alpha\n",
      "     |  \n",
      "     |  gauss(self, mu, sigma)\n",
      "     |      Gaussian distribution.\n",
      "     |      \n",
      "     |      mu is the mean, and sigma is the standard deviation.  This is\n",
      "     |      slightly faster than the normalvariate() function.\n",
      "     |      \n",
      "     |      Not thread-safe without a lock around calls.\n",
      "     |  \n",
      "     |  lognormvariate(self, mu, sigma)\n",
      "     |      Log normal distribution.\n",
      "     |      \n",
      "     |      If you take the natural logarithm of this distribution, you'll get a\n",
      "     |      normal distribution with mean mu and standard deviation sigma.\n",
      "     |      mu can have any value, and sigma must be greater than zero.\n",
      "     |  \n",
      "     |  normalvariate(self, mu, sigma)\n",
      "     |      Normal distribution.\n",
      "     |      \n",
      "     |      mu is the mean, and sigma is the standard deviation.\n",
      "     |  \n",
      "     |  paretovariate(self, alpha)\n",
      "     |      Pareto distribution.  alpha is the shape parameter.\n",
      "     |  \n",
      "     |  randint(self, a, b)\n",
      "     |      Return random integer in range [a, b], including both end points.\n",
      "     |  \n",
      "     |  randrange(self, start, stop=None, step=1)\n",
      "     |      Choose a random item from range(start, stop[, step]).\n",
      "     |      \n",
      "     |      This fixes the problem with randint() which includes the\n",
      "     |      endpoint; in Python this is usually not what you want.\n",
      "     |  \n",
      "     |  sample(self, population, k, *, counts=None)\n",
      "     |      Chooses k unique random elements from a population sequence or set.\n",
      "     |      \n",
      "     |      Returns a new list containing elements from the population while\n",
      "     |      leaving the original population unchanged.  The resulting list is\n",
      "     |      in selection order so that all sub-slices will also be valid random\n",
      "     |      samples.  This allows raffle winners (the sample) to be partitioned\n",
      "     |      into grand prize and second place winners (the subslices).\n",
      "     |      \n",
      "     |      Members of the population need not be hashable or unique.  If the\n",
      "     |      population contains repeats, then each occurrence is a possible\n",
      "     |      selection in the sample.\n",
      "     |      \n",
      "     |      Repeated elements can be specified one at a time or with the optional\n",
      "     |      counts parameter.  For example:\n",
      "     |      \n",
      "     |          sample(['red', 'blue'], counts=[4, 2], k=5)\n",
      "     |      \n",
      "     |      is equivalent to:\n",
      "     |      \n",
      "     |          sample(['red', 'red', 'red', 'red', 'blue', 'blue'], k=5)\n",
      "     |      \n",
      "     |      To choose a sample from a range of integers, use range() for the\n",
      "     |      population argument.  This is especially fast and space efficient\n",
      "     |      for sampling from a large population:\n",
      "     |      \n",
      "     |          sample(range(10000000), 60)\n",
      "     |  \n",
      "     |  shuffle(self, x, random=None)\n",
      "     |      Shuffle list x in place, and return None.\n",
      "     |      \n",
      "     |      Optional argument random is a 0-argument function returning a\n",
      "     |      random float in [0.0, 1.0); if it is the default None, the\n",
      "     |      standard random.random will be used.\n",
      "     |  \n",
      "     |  triangular(self, low=0.0, high=1.0, mode=None)\n",
      "     |      Triangular distribution.\n",
      "     |      \n",
      "     |      Continuous distribution bounded by given lower and upper limits,\n",
      "     |      and having a given mode value in-between.\n",
      "     |      \n",
      "     |      http://en.wikipedia.org/wiki/Triangular_distribution\n",
      "     |  \n",
      "     |  uniform(self, a, b)\n",
      "     |      Get a random number in the range [a, b) or [a, b] depending on rounding.\n",
      "     |  \n",
      "     |  vonmisesvariate(self, mu, kappa)\n",
      "     |      Circular data distribution.\n",
      "     |      \n",
      "     |      mu is the mean angle, expressed in radians between 0 and 2*pi, and\n",
      "     |      kappa is the concentration parameter, which must be greater than or\n",
      "     |      equal to zero.  If kappa is equal to zero, this distribution reduces\n",
      "     |      to a uniform random angle over the range 0 to 2*pi.\n",
      "     |  \n",
      "     |  weibullvariate(self, alpha, beta)\n",
      "     |      Weibull distribution.\n",
      "     |      \n",
      "     |      alpha is the scale parameter and beta is the shape parameter.\n",
      "     |  \n",
      "     |  ----------------------------------------------------------------------\n",
      "     |  Class methods inherited from Random:\n",
      "     |  \n",
      "     |  __init_subclass__(**kwargs) from builtins.type\n",
      "     |      Control how subclasses generate random integers.\n",
      "     |      \n",
      "     |      The algorithm a subclass can use depends on the random() and/or\n",
      "     |      getrandbits() implementation available to it and determines\n",
      "     |      whether it can generate random integers from arbitrarily large\n",
      "     |      ranges.\n",
      "     |  \n",
      "     |  ----------------------------------------------------------------------\n",
      "     |  Data descriptors inherited from Random:\n",
      "     |  \n",
      "     |  __dict__\n",
      "     |      dictionary for instance variables (if defined)\n",
      "     |  \n",
      "     |  __weakref__\n",
      "     |      list of weak references to the object (if defined)\n",
      "     |  \n",
      "     |  ----------------------------------------------------------------------\n",
      "     |  Data and other attributes inherited from Random:\n",
      "     |  \n",
      "     |  VERSION = 3\n",
      "     |  \n",
      "     |  ----------------------------------------------------------------------\n",
      "     |  Static methods inherited from _random.Random:\n",
      "     |  \n",
      "     |  __new__(*args, **kwargs) from builtins.type\n",
      "     |      Create and return a new object.  See help(type) for accurate signature.\n",
      "\n",
      "FUNCTIONS\n",
      "    betavariate(alpha, beta) method of Random instance\n",
      "        Beta distribution.\n",
      "        \n",
      "        Conditions on the parameters are alpha > 0 and beta > 0.\n",
      "        Returned values range between 0 and 1.\n",
      "    \n",
      "    choice(seq) method of Random instance\n",
      "        Choose a random element from a non-empty sequence.\n",
      "    \n",
      "    choices(population, weights=None, *, cum_weights=None, k=1) method of Random instance\n",
      "        Return a k sized list of population elements chosen with replacement.\n",
      "        \n",
      "        If the relative weights or cumulative weights are not specified,\n",
      "        the selections are made with equal probability.\n",
      "    \n",
      "    expovariate(lambd) method of Random instance\n",
      "        Exponential distribution.\n",
      "        \n",
      "        lambd is 1.0 divided by the desired mean.  It should be\n",
      "        nonzero.  (The parameter would be called \"lambda\", but that is\n",
      "        a reserved word in Python.)  Returned values range from 0 to\n",
      "        positive infinity if lambd is positive, and from negative\n",
      "        infinity to 0 if lambd is negative.\n",
      "    \n",
      "    gammavariate(alpha, beta) method of Random instance\n",
      "        Gamma distribution.  Not the gamma function!\n",
      "        \n",
      "        Conditions on the parameters are alpha > 0 and beta > 0.\n",
      "        \n",
      "        The probability distribution function is:\n",
      "        \n",
      "                    x ** (alpha - 1) * math.exp(-x / beta)\n",
      "          pdf(x) =  --------------------------------------\n",
      "                      math.gamma(alpha) * beta ** alpha\n",
      "    \n",
      "    gauss(mu, sigma) method of Random instance\n",
      "        Gaussian distribution.\n",
      "        \n",
      "        mu is the mean, and sigma is the standard deviation.  This is\n",
      "        slightly faster than the normalvariate() function.\n",
      "        \n",
      "        Not thread-safe without a lock around calls.\n",
      "    \n",
      "    getrandbits(k, /) method of Random instance\n",
      "        getrandbits(k) -> x.  Generates an int with k random bits.\n",
      "    \n",
      "    getstate() method of Random instance\n",
      "        Return internal state; can be passed to setstate() later.\n",
      "    \n",
      "    lognormvariate(mu, sigma) method of Random instance\n",
      "        Log normal distribution.\n",
      "        \n",
      "        If you take the natural logarithm of this distribution, you'll get a\n",
      "        normal distribution with mean mu and standard deviation sigma.\n",
      "        mu can have any value, and sigma must be greater than zero.\n",
      "    \n",
      "    normalvariate(mu, sigma) method of Random instance\n",
      "        Normal distribution.\n",
      "        \n",
      "        mu is the mean, and sigma is the standard deviation.\n",
      "    \n",
      "    paretovariate(alpha) method of Random instance\n",
      "        Pareto distribution.  alpha is the shape parameter.\n",
      "    \n",
      "    randbytes(n) method of Random instance\n",
      "        Generate n random bytes.\n",
      "    \n",
      "    randint(a, b) method of Random instance\n",
      "        Return random integer in range [a, b], including both end points.\n",
      "    \n",
      "    random() method of Random instance\n",
      "        random() -> x in the interval [0, 1).\n",
      "    \n",
      "    randrange(start, stop=None, step=1) method of Random instance\n",
      "        Choose a random item from range(start, stop[, step]).\n",
      "        \n",
      "        This fixes the problem with randint() which includes the\n",
      "        endpoint; in Python this is usually not what you want.\n",
      "    \n",
      "    sample(population, k, *, counts=None) method of Random instance\n",
      "        Chooses k unique random elements from a population sequence or set.\n",
      "        \n",
      "        Returns a new list containing elements from the population while\n",
      "        leaving the original population unchanged.  The resulting list is\n",
      "        in selection order so that all sub-slices will also be valid random\n",
      "        samples.  This allows raffle winners (the sample) to be partitioned\n",
      "        into grand prize and second place winners (the subslices).\n",
      "        \n",
      "        Members of the population need not be hashable or unique.  If the\n",
      "        population contains repeats, then each occurrence is a possible\n",
      "        selection in the sample.\n",
      "        \n",
      "        Repeated elements can be specified one at a time or with the optional\n",
      "        counts parameter.  For example:\n",
      "        \n",
      "            sample(['red', 'blue'], counts=[4, 2], k=5)\n",
      "        \n",
      "        is equivalent to:\n",
      "        \n",
      "            sample(['red', 'red', 'red', 'red', 'blue', 'blue'], k=5)\n",
      "        \n",
      "        To choose a sample from a range of integers, use range() for the\n",
      "        population argument.  This is especially fast and space efficient\n",
      "        for sampling from a large population:\n",
      "        \n",
      "            sample(range(10000000), 60)\n",
      "    \n",
      "    seed(a=None, version=2) method of Random instance\n",
      "        Initialize internal state from a seed.\n",
      "        \n",
      "        The only supported seed types are None, int, float,\n",
      "        str, bytes, and bytearray.\n",
      "        \n",
      "        None or no argument seeds from current time or from an operating\n",
      "        system specific randomness source if available.\n",
      "        \n",
      "        If *a* is an int, all bits are used.\n",
      "        \n",
      "        For version 2 (the default), all of the bits are used if *a* is a str,\n",
      "        bytes, or bytearray.  For version 1 (provided for reproducing random\n",
      "        sequences from older versions of Python), the algorithm for str and\n",
      "        bytes generates a narrower range of seeds.\n",
      "    \n",
      "    setstate(state) method of Random instance\n",
      "        Restore internal state from object returned by getstate().\n",
      "    \n",
      "    shuffle(x, random=None) method of Random instance\n",
      "        Shuffle list x in place, and return None.\n",
      "        \n",
      "        Optional argument random is a 0-argument function returning a\n",
      "        random float in [0.0, 1.0); if it is the default None, the\n",
      "        standard random.random will be used.\n",
      "    \n",
      "    triangular(low=0.0, high=1.0, mode=None) method of Random instance\n",
      "        Triangular distribution.\n",
      "        \n",
      "        Continuous distribution bounded by given lower and upper limits,\n",
      "        and having a given mode value in-between.\n",
      "        \n",
      "        http://en.wikipedia.org/wiki/Triangular_distribution\n",
      "    \n",
      "    uniform(a, b) method of Random instance\n",
      "        Get a random number in the range [a, b) or [a, b] depending on rounding.\n",
      "    \n",
      "    vonmisesvariate(mu, kappa) method of Random instance\n",
      "        Circular data distribution.\n",
      "        \n",
      "        mu is the mean angle, expressed in radians between 0 and 2*pi, and\n",
      "        kappa is the concentration parameter, which must be greater than or\n",
      "        equal to zero.  If kappa is equal to zero, this distribution reduces\n",
      "        to a uniform random angle over the range 0 to 2*pi.\n",
      "    \n",
      "    weibullvariate(alpha, beta) method of Random instance\n",
      "        Weibull distribution.\n",
      "        \n",
      "        alpha is the scale parameter and beta is the shape parameter.\n",
      "\n",
      "DATA\n",
      "    __all__ = ['Random', 'SystemRandom', 'betavariate', 'choice', 'choices...\n",
      "\n",
      "FILE\n",
      "    /usr/local/Cellar/python@3.10/3.10.4/Frameworks/Python.framework/Versions/3.10/lib/python3.10/random.py\n",
      "\n",
      "\n"
     ]
    }
   ],
   "source": [
    "# we can also use the \"help\" function to find out about an entire module, or about one name in the module\n",
    "\n",
    "help(random)"
   ]
  },
  {
   "cell_type": "code",
   "execution_count": 24,
   "id": "603ef553",
   "metadata": {},
   "outputs": [
    {
     "name": "stdout",
     "output_type": "stream",
     "text": [
      "Help on method randint in module random:\n",
      "\n",
      "randint(a, b) method of random.Random instance\n",
      "    Return random integer in range [a, b], including both end points.\n",
      "\n"
     ]
    }
   ],
   "source": [
    "# If I want to know about one thing, I can ask for help on that specific thing\n",
    "\n",
    "help(random.randint)"
   ]
  },
  {
   "cell_type": "code",
   "execution_count": 25,
   "id": "bc6024c2",
   "metadata": {},
   "outputs": [
    {
     "name": "stdout",
     "output_type": "stream",
     "text": [
      "Help on built-in function random:\n",
      "\n",
      "random() method of random.Random instance\n",
      "    random() -> x in the interval [0, 1).\n",
      "\n"
     ]
    }
   ],
   "source": [
    "help(random.random)"
   ]
  },
  {
   "cell_type": "code",
   "execution_count": 26,
   "id": "96b6c7fb",
   "metadata": {},
   "outputs": [
    {
     "data": {
      "text/plain": [
       "0.7056282600553893"
      ]
     },
     "execution_count": 26,
     "metadata": {},
     "output_type": "execute_result"
    }
   ],
   "source": [
    "random.random()"
   ]
  },
  {
   "cell_type": "code",
   "execution_count": null,
   "id": "85264f4e",
   "metadata": {},
   "outputs": [],
   "source": [
    "# what is random.random?\n",
    "\n",
    "# - the module random\n",
    "# - inside of the module random, we have the function random\n",
    "\n",
    "# these are totally separate!`"
   ]
  },
  {
   "cell_type": "code",
   "execution_count": 27,
   "id": "5315c6ba",
   "metadata": {},
   "outputs": [],
   "source": [
    "# Final place to get documentation for Python modules, especially if they come with the language,\n",
    "# is docs.python.org"
   ]
  },
  {
   "cell_type": "markdown",
   "id": "74aab1af",
   "metadata": {},
   "source": [
    "# Functions vs. methods\n",
    "\n",
    "Both functions and methods are verbs in Python -- they both do things.\n",
    "\n",
    "They also both:\n",
    "\n",
    "- Are invoked with `()`\n",
    "- Can take arguments\n",
    "- Return values\n",
    "\n",
    "The difference is that functions are free floating.  We just call a function, and don't preface its name with a `.`.  By contrast, methods are always attached to objects.\n",
    "\n",
    "For example:\n",
    "\n",
    "```python\n",
    "s = 'abcd'\n",
    "\n",
    "len(s)     # we call the function len, which returns the integer 4\n",
    "s.upper()  # we call the method upper on s\n",
    "```\n",
    "\n",
    "The exception to this rule is that when you load functions or methods from a module, the function/method comes after a `.`.  That makes it a bit more confusing or unclear."
   ]
  },
  {
   "cell_type": "markdown",
   "id": "b2bd913a",
   "metadata": {},
   "source": [
    "# Next up\n",
    "\n",
    "1. Different forms of `import`\n",
    "2. We'll develop our own simple module\n",
    "\n"
   ]
  },
  {
   "cell_type": "code",
   "execution_count": 28,
   "id": "2f46c71b",
   "metadata": {},
   "outputs": [],
   "source": [
    "import random   # this defines the \"random\" variable, and I can access the module's components via it"
   ]
  },
  {
   "cell_type": "code",
   "execution_count": 29,
   "id": "0f4abf57",
   "metadata": {},
   "outputs": [
    {
     "data": {
      "text/plain": [
       "86"
      ]
     },
     "execution_count": 29,
     "metadata": {},
     "output_type": "execute_result"
    }
   ],
   "source": [
    "random.randint(0, 100)"
   ]
  },
  {
   "cell_type": "code",
   "execution_count": 30,
   "id": "47de4d4a",
   "metadata": {},
   "outputs": [
    {
     "ename": "NameError",
     "evalue": "name 'randint' is not defined",
     "output_type": "error",
     "traceback": [
      "\u001b[0;31m---------------------------------------------------------------------------\u001b[0m",
      "\u001b[0;31mNameError\u001b[0m                                 Traceback (most recent call last)",
      "\u001b[0;32m/var/folders/rr/0mnyyv811fs5vyp22gf4fxk00000gn/T/ipykernel_51380/87793915.py\u001b[0m in \u001b[0;36m<module>\u001b[0;34m\u001b[0m\n\u001b[1;32m      1\u001b[0m \u001b[0;31m# can I just call randint without the preceding \"random.\" ?\u001b[0m\u001b[0;34m\u001b[0m\u001b[0;34m\u001b[0m\u001b[0m\n\u001b[0;32m----> 2\u001b[0;31m \u001b[0mrandint\u001b[0m\u001b[0;34m(\u001b[0m\u001b[0;36m0\u001b[0m\u001b[0;34m,\u001b[0m \u001b[0;36m100\u001b[0m\u001b[0;34m)\u001b[0m\u001b[0;34m\u001b[0m\u001b[0;34m\u001b[0m\u001b[0m\n\u001b[0m",
      "\u001b[0;31mNameError\u001b[0m: name 'randint' is not defined"
     ]
    }
   ],
   "source": [
    "# can I just call randint without the preceding \"random.\" ?\n",
    "randint(0, 100)"
   ]
  },
  {
   "cell_type": "code",
   "execution_count": 31,
   "id": "2dee77f8",
   "metadata": {},
   "outputs": [],
   "source": [
    "# If I'm going to use random.randint a lot, it's annoying that I have to say random.randint,\n",
    "# and I cannot just say randint\n",
    "\n",
    "# to handle this, we have an alternative import syntax\n",
    "\n",
    "from random import randint\n",
    "\n",
    "# This \n",
    "# (1) imports the random module into memory\n",
    "# (2) defines the randint variable to refer to random.randint\n",
    "# (3) BUT BUT BUT it does *not* define the \"random\" variable!"
   ]
  },
  {
   "cell_type": "code",
   "execution_count": 32,
   "id": "dbb4f57a",
   "metadata": {},
   "outputs": [
    {
     "data": {
      "text/plain": [
       "1"
      ]
     },
     "execution_count": 32,
     "metadata": {},
     "output_type": "execute_result"
    }
   ],
   "source": [
    "randint(0, 100)"
   ]
  },
  {
   "cell_type": "code",
   "execution_count": 33,
   "id": "2dbf7395",
   "metadata": {},
   "outputs": [],
   "source": [
    "import random                        # everything in the random module is available as random.NAME\n",
    "\n",
    "from random import randint           # only randint is available\n",
    "\n",
    "from random import randint, choice   # only randint and choice are available"
   ]
  },
  {
   "cell_type": "code",
   "execution_count": 34,
   "id": "667664bf",
   "metadata": {},
   "outputs": [],
   "source": [
    "# what if I want to import a module, but I want to assign it to a different variable name?\n",
    "\n",
    "import random as r    # (1) load the random module, (2) assign it to the variable r"
   ]
  },
  {
   "cell_type": "code",
   "execution_count": 35,
   "id": "99ce039b",
   "metadata": {},
   "outputs": [
    {
     "data": {
      "text/plain": [
       "99"
      ]
     },
     "execution_count": 35,
     "metadata": {},
     "output_type": "execute_result"
    }
   ],
   "source": [
    "r.randint(0, 100)     # r is now an alias to random"
   ]
  },
  {
   "cell_type": "code",
   "execution_count": 36,
   "id": "b7c1c6da",
   "metadata": {},
   "outputs": [],
   "source": [
    "# in the world of data science, we use packages like NumPy and Pandas, which are traditionally\n",
    "# loaded as follows:\n",
    "\n",
    "import numpy as np\n",
    "import pandas as pd\n",
    "\n"
   ]
  },
  {
   "cell_type": "code",
   "execution_count": 37,
   "id": "c5a75e16",
   "metadata": {},
   "outputs": [],
   "source": [
    "# we can also rename anything we've loaded via \"from .. import\"\n",
    "\n",
    "from random import randint as ri   # now the function randint is available as \"ri\""
   ]
  },
  {
   "cell_type": "code",
   "execution_count": 38,
   "id": "7d270ef9",
   "metadata": {},
   "outputs": [
    {
     "data": {
      "text/plain": [
       "75"
      ]
     },
     "execution_count": 38,
     "metadata": {},
     "output_type": "execute_result"
    }
   ],
   "source": [
    "ri(0, 100)"
   ]
  },
  {
   "cell_type": "code",
   "execution_count": 39,
   "id": "51c3664c",
   "metadata": {},
   "outputs": [],
   "source": [
    "# this is a popular version of from .. import\n",
    "\n",
    "# from random import *\n",
    "\n",
    "# I BEG YOU -- never use this!"
   ]
  },
  {
   "cell_type": "markdown",
   "id": "bda4e757",
   "metadata": {},
   "source": [
    "# What's wrong with `from .. import *`?\n",
    "\n",
    "There are at least two problems, one practical and one philosophical.\n",
    "\n",
    "Practically, you're saying: Whatever names are defined in that module, I want them to be defined as global variables in my program.  That raises all sorts of problems:\n",
    "\n",
    "- What if a name from that module conflicts with a name in your program? Which gets priority?\n",
    "- What if the module is updated, and you don't pay attention, and then a name conflicts with one of yours?\n",
    "\n",
    "Philosophically, programmers have tried for *decades* to avoid defining too many global variables, which inevitably cause problems.  Here, you're saying: Please! Give me lots of new global variables!  Keeping track of things will be very hard.\n",
    "\n",
    "We want to have lots of namespaces.  We want to separate names, for easier understanding of our code, and `import *` undoes that."
   ]
  },
  {
   "cell_type": "markdown",
   "id": "46aad72d",
   "metadata": {},
   "source": [
    "# Summarizing syntax of `import`\n",
    "\n",
    "- `import MODNAME`\n",
    "- `import MODNAME as A`\n",
    "- `from MODNAME import THING`\n",
    "- `from MODNAME import THING as A`\n",
    "- `from MODNAME import *`"
   ]
  },
  {
   "cell_type": "code",
   "execution_count": 40,
   "id": "724815be",
   "metadata": {},
   "outputs": [
    {
     "name": "stdout",
     "output_type": "stream",
     "text": [
      "Hello\n"
     ]
    }
   ],
   "source": [
    "import hello"
   ]
  },
  {
   "cell_type": "code",
   "execution_count": 41,
   "id": "68587ee0",
   "metadata": {},
   "outputs": [],
   "source": [
    "import mymod"
   ]
  },
  {
   "cell_type": "code",
   "execution_count": 42,
   "id": "44b608fa",
   "metadata": {},
   "outputs": [
    {
     "data": {
      "text/plain": [
       "['__builtins__',\n",
       " '__cached__',\n",
       " '__doc__',\n",
       " '__file__',\n",
       " '__loader__',\n",
       " '__name__',\n",
       " '__package__',\n",
       " '__spec__']"
      ]
     },
     "execution_count": 42,
     "metadata": {},
     "output_type": "execute_result"
    }
   ],
   "source": [
    "dir(mymod)"
   ]
  },
  {
   "cell_type": "code",
   "execution_count": 43,
   "id": "c24e7d1f",
   "metadata": {},
   "outputs": [
    {
     "data": {
      "text/plain": [
       "'/Users/reuven/Courses/Current/oreilly-2022-q2-first-steps/mymod.py'"
      ]
     },
     "execution_count": 43,
     "metadata": {},
     "output_type": "execute_result"
    }
   ],
   "source": [
    "mymod.__file__"
   ]
  },
  {
   "cell_type": "code",
   "execution_count": 44,
   "id": "e2d2cf1a",
   "metadata": {},
   "outputs": [
    {
     "data": {
      "text/plain": [
       "'/usr/local/Cellar/python@3.10/3.10.4/Frameworks/Python.framework/Versions/3.10/lib/python3.10/random.py'"
      ]
     },
     "execution_count": 44,
     "metadata": {},
     "output_type": "execute_result"
    }
   ],
   "source": [
    "random.__file__"
   ]
  },
  {
   "cell_type": "code",
   "execution_count": 45,
   "id": "21e8b078",
   "metadata": {},
   "outputs": [
    {
     "data": {
      "text/plain": [
       "'/usr/local/Cellar/python@3.10/3.10.4/Frameworks/Python.framework/Versions/3.10/lib/python3.10/string.py'"
      ]
     },
     "execution_count": 45,
     "metadata": {},
     "output_type": "execute_result"
    }
   ],
   "source": [
    "string.__file__"
   ]
  },
  {
   "cell_type": "code",
   "execution_count": 46,
   "id": "6b7e43fb",
   "metadata": {},
   "outputs": [
    {
     "data": {
      "text/plain": [
       "'/usr/local/lib/python3.10/site-packages/pandas/__init__.py'"
      ]
     },
     "execution_count": 46,
     "metadata": {},
     "output_type": "execute_result"
    }
   ],
   "source": [
    "pd.__file__"
   ]
  },
  {
   "cell_type": "code",
   "execution_count": 47,
   "id": "54bf15df",
   "metadata": {},
   "outputs": [
    {
     "data": {
      "text/plain": [
       "'mymod'"
      ]
     },
     "execution_count": 47,
     "metadata": {},
     "output_type": "execute_result"
    }
   ],
   "source": [
    "mymod.__name__"
   ]
  },
  {
   "cell_type": "code",
   "execution_count": 48,
   "id": "26ade166",
   "metadata": {},
   "outputs": [
    {
     "data": {
      "text/plain": [
       "'string'"
      ]
     },
     "execution_count": 48,
     "metadata": {},
     "output_type": "execute_result"
    }
   ],
   "source": [
    "string.__name__"
   ]
  },
  {
   "cell_type": "code",
   "execution_count": 49,
   "id": "1e45d3e1",
   "metadata": {},
   "outputs": [
    {
     "data": {
      "text/plain": [
       "'pandas'"
      ]
     },
     "execution_count": 49,
     "metadata": {},
     "output_type": "execute_result"
    }
   ],
   "source": [
    "pd.__name__"
   ]
  },
  {
   "cell_type": "code",
   "execution_count": 50,
   "id": "26a113b0",
   "metadata": {},
   "outputs": [],
   "source": [
    "import mymod"
   ]
  },
  {
   "cell_type": "code",
   "execution_count": 51,
   "id": "349b7aa3",
   "metadata": {},
   "outputs": [
    {
     "data": {
      "text/plain": [
       "['__builtins__',\n",
       " '__cached__',\n",
       " '__doc__',\n",
       " '__file__',\n",
       " '__loader__',\n",
       " '__name__',\n",
       " '__package__',\n",
       " '__spec__']"
      ]
     },
     "execution_count": 51,
     "metadata": {},
     "output_type": "execute_result"
    }
   ],
   "source": [
    "dir(mymod)"
   ]
  },
  {
   "cell_type": "markdown",
   "id": "d7a1ae16",
   "metadata": {},
   "source": [
    "# `import` only works once!\n",
    "\n",
    "`import` normally does two things:\n",
    "\n",
    "1. Loads the module\n",
    "2. Defines the variable\n",
    "\n",
    "However, it only loads the module *once* per Python session.  If you're running an actual program, that's not an issue.  But if you're in Jupyter or a debugger, it is."
   ]
  },
  {
   "cell_type": "code",
   "execution_count": 1,
   "id": "b086f45f",
   "metadata": {},
   "outputs": [],
   "source": [
    "import mymod"
   ]
  },
  {
   "cell_type": "code",
   "execution_count": 2,
   "id": "9961f5d5",
   "metadata": {},
   "outputs": [
    {
     "data": {
      "text/plain": [
       "['__builtins__',\n",
       " '__cached__',\n",
       " '__doc__',\n",
       " '__file__',\n",
       " '__loader__',\n",
       " '__name__',\n",
       " '__package__',\n",
       " '__spec__',\n",
       " 'hello',\n",
       " 'months',\n",
       " 'x',\n",
       " 'y']"
      ]
     },
     "execution_count": 2,
     "metadata": {},
     "output_type": "execute_result"
    }
   ],
   "source": [
    "dir(mymod)"
   ]
  },
  {
   "cell_type": "code",
   "execution_count": 3,
   "id": "94e3974a",
   "metadata": {},
   "outputs": [
    {
     "data": {
      "text/plain": [
       "100"
      ]
     },
     "execution_count": 3,
     "metadata": {},
     "output_type": "execute_result"
    }
   ],
   "source": [
    "mymod.x"
   ]
  },
  {
   "cell_type": "code",
   "execution_count": 4,
   "id": "b14a2f73",
   "metadata": {},
   "outputs": [
    {
     "data": {
      "text/plain": [
       "[10, 20, 30]"
      ]
     },
     "execution_count": 4,
     "metadata": {},
     "output_type": "execute_result"
    }
   ],
   "source": [
    "mymod.y"
   ]
  },
  {
   "cell_type": "code",
   "execution_count": 5,
   "id": "08b6d63d",
   "metadata": {},
   "outputs": [
    {
     "data": {
      "text/plain": [
       "{'Jan': 1, 'Feb': 2, 'Mar': 3, 'Apr': 4, 'May': 5, 'Jun': 6}"
      ]
     },
     "execution_count": 5,
     "metadata": {},
     "output_type": "execute_result"
    }
   ],
   "source": [
    "mymod.months"
   ]
  },
  {
   "cell_type": "code",
   "execution_count": 6,
   "id": "6d25a329",
   "metadata": {},
   "outputs": [
    {
     "data": {
      "text/plain": [
       "3"
      ]
     },
     "execution_count": 6,
     "metadata": {},
     "output_type": "execute_result"
    }
   ],
   "source": [
    "mymod.months['Mar']"
   ]
  },
  {
   "cell_type": "code",
   "execution_count": 7,
   "id": "92deec13",
   "metadata": {},
   "outputs": [
    {
     "data": {
      "text/plain": [
       "'Hello, world!'"
      ]
     },
     "execution_count": 7,
     "metadata": {},
     "output_type": "execute_result"
    }
   ],
   "source": [
    "mymod.hello('world')"
   ]
  },
  {
   "cell_type": "markdown",
   "id": "9e66c851",
   "metadata": {},
   "source": [
    "# Exercise: Menu\n",
    "\n",
    "1. Create a new file, called `menu.py`. (You can use Jupyter for this, if you don't have a favorite editor.)\n",
    "2. In `menu.py`, define a function called `menu`.  (Yes, this means that it'll be accessed as `menu.menu`.\n",
    "3. The `menu` function should take a list of strings as an argument.\n",
    "    - Display the list of strings to the user, and ask them to choose one\n",
    "    - If they choose an element from the list, then return their choice\n",
    "    - If they choose something not on the list, scold them and have them try again\n",
    "\n",
    "Basically, then, calling `menu.menu(['a', 'b', 'c'])` guarantees that we'll get a return value of either `a`, `b`, or `c`.\n",
    "\n",
    "From Jupyter (or elsewhere), write a short program that invokes `menu.menu`:\n",
    "\n",
    "```python\n",
    "import menu\n",
    "user_choice = menu.menu(['a', 'b', 'c'])\n",
    "print(user_choice)\n",
    "```"
   ]
  },
  {
   "cell_type": "code",
   "execution_count": 8,
   "id": "a789e3c5",
   "metadata": {},
   "outputs": [
    {
     "name": "stdout",
     "output_type": "stream",
     "text": [
      "Enter a choice (a/b/c): q\n",
      "q is not a valid choice.\n",
      "Enter a choice (a/b/c): what?\n",
      "what? is not a valid choice.\n",
      "Enter a choice (a/b/c): oh well\n",
      "oh well is not a valid choice.\n",
      "Enter a choice (a/b/c): b\n",
      "b\n"
     ]
    }
   ],
   "source": [
    "import menu\n",
    "user_choice = menu.menu(['a', 'b', 'c'])\n",
    "print(user_choice)\n"
   ]
  },
  {
   "cell_type": "code",
   "execution_count": 1,
   "id": "e0771fe0",
   "metadata": {},
   "outputs": [
    {
     "name": "stdout",
     "output_type": "stream",
     "text": [
      "Hello from mymod!\n",
      "Goodbye from mymod!\n"
     ]
    }
   ],
   "source": [
    "import mymod"
   ]
  },
  {
   "cell_type": "markdown",
   "id": "dc0b2a05",
   "metadata": {},
   "source": [
    "# Variables (inside) and attributes (outside)\n",
    "\n",
    "Any variable (or function) we define inside of the module is visible to anyone who imports the module (outside) as an attribute on the module object.\n",
    "\n",
    "\n",
    "### `x`\n",
    "- Inside of `mymod.py`, we define the variable `x`.\n",
    "- Outside of `mymod.py`, when we `import mymod`, we have access to `mymod.x`.\n",
    "\n",
    "### `y`\n",
    "- Inside of `mymod.py`, we define the variable `y`.\n",
    "- Outside of `mymod.py`, when we `import mymod`, we have access to `mymod.y`.\n",
    "\n",
    "### `hello`\n",
    "- Inside of `mymod.py`, we define the function `hello`.\n",
    "- Outside of `mymod.py`, when we `import mymod`, we have access to `mymod.hello`.\n",
    "\n",
    "### `__name__`\n",
    "- Outside of `mymod.py`, when we `import mymod`, we have access to `mymod.__name__`.\n",
    "- So, inside of `mymod.py`, we have access to the variable `__name__`?\n",
    "\n"
   ]
  },
  {
   "cell_type": "code",
   "execution_count": 2,
   "id": "6ff32d33",
   "metadata": {},
   "outputs": [
    {
     "data": {
      "text/plain": [
       "'mymod'"
      ]
     },
     "execution_count": 2,
     "metadata": {},
     "output_type": "execute_result"
    }
   ],
   "source": [
    "mymod.__name__"
   ]
  },
  {
   "cell_type": "code",
   "execution_count": 1,
   "id": "9600ae74",
   "metadata": {},
   "outputs": [
    {
     "name": "stdout",
     "output_type": "stream",
     "text": [
      "Hello from mymod!\n",
      "Goodbye from mymod!\n"
     ]
    }
   ],
   "source": [
    "import mymod"
   ]
  },
  {
   "cell_type": "code",
   "execution_count": null,
   "id": "2f70ff71",
   "metadata": {},
   "outputs": [],
   "source": []
  }
 ],
 "metadata": {
  "kernelspec": {
   "display_name": "Python 3 (ipykernel)",
   "language": "python",
   "name": "python3"
  },
  "language_info": {
   "codemirror_mode": {
    "name": "ipython",
    "version": 3
   },
   "file_extension": ".py",
   "mimetype": "text/x-python",
   "name": "python",
   "nbconvert_exporter": "python",
   "pygments_lexer": "ipython3",
   "version": "3.10.4"
  }
 },
 "nbformat": 4,
 "nbformat_minor": 5
}
