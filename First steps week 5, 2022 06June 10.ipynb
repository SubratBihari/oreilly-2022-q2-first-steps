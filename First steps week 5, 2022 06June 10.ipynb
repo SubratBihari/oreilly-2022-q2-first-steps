{
 "cells": [
  {
   "cell_type": "markdown",
   "id": "d949516d",
   "metadata": {},
   "source": [
    "# Week 5 agenda\n",
    "\n",
    "1. Review last week's challenge\n",
    "2. Modules and packages\n",
    "    - Importing modules\n",
    "    - Using modules\n",
    "    - Writing modules (a tiny bit -- needs an external editor)\n",
    "    - PyPI\n",
    "    - `pip` and installing packages from the Internet\n",
    "3. General Q&A about Python, software, etc.    "
   ]
  },
  {
   "cell_type": "code",
   "execution_count": 1,
   "id": "a81e0071",
   "metadata": {},
   "outputs": [],
   "source": [
    "# challenge program:\n",
    "\n",
    "def count_ips(filename):\n",
    "    output = {}\n",
    "    for one_line in open(filename):\n",
    "        fields = one_line.split()\n",
    "        ip_address = fields[0]\n",
    "\n",
    "        if ip_address in output:    # have we seen this IP address already?\n",
    "            output[ip_address] += 1 # if so, add 1 to the count\n",
    "        else:\n",
    "            output[ip_address] = 1  # otherwise, set it to 1\n",
    "\n",
    "    return output\n",
    "\n",
    "# count_ips('logfile.txt')        \n"
   ]
  },
  {
   "cell_type": "markdown",
   "id": "fc75ec4f",
   "metadata": {},
   "source": [
    "# Modules and packages\n",
    "\n",
    "Let's start with my favorite programming rule, DRY (don't repeat yourself):\n",
    "\n",
    "1. If we have several lines repeated in our program, we can replace them (\"DRY up our code\") with a loop.\n",
    "2. If we have the same code repeated in multiple places in our program, we can replace them with a function.\n",
    "3. If we have the same code repeated in multiple programs, we can use a *library*.  Or, as it's known in Python, a *module*."
   ]
  },
  {
   "cell_type": "markdown",
   "id": "5bba8c5c",
   "metadata": {},
   "source": [
    "# Using a module in Python\n",
    "\n",
    "In order to use a module in Python, we must \"import\" it.  This gives us access to whatever the module has defined. That'll typically be:\n",
    "\n",
    "- Data structures\n",
    "- Functions\n",
    "- Entirely new types of data (\"classes\")\n",
    "\n",
    "The `import` statement in Python is *not* a function! It's a statement -- so don't try to use it with parentheses. Think of `import` sort of like `def`.  `def` creates a new function object, and assigns it to a variable.  In the same way, `import` creates a new module object, and assigns it to a variable.\n",
    "\n",
    "If I say `import abcd`, the variable `abcd` will then be defined, and it'll contain a module object.  Assuming, of course, that `abcd` exists as a module on your computer."
   ]
  },
  {
   "cell_type": "code",
   "execution_count": null,
   "id": "0e2181aa",
   "metadata": {},
   "outputs": [],
   "source": [
    "import random  "
   ]
  },
  {
   "cell_type": "code",
   "execution_count": 3,
   "id": "5811a0bd",
   "metadata": {},
   "outputs": [
    {
     "data": {
      "text/plain": [
       "module"
      ]
     },
     "execution_count": 3,
     "metadata": {},
     "output_type": "execute_result"
    }
   ],
   "source": [
    "type(random)   # what kind of data does the \"random\" variable contain?"
   ]
  },
  {
   "cell_type": "code",
   "execution_count": 4,
   "id": "cf526afb",
   "metadata": {},
   "outputs": [
    {
     "data": {
      "text/plain": [
       "3"
      ]
     },
     "execution_count": 4,
     "metadata": {},
     "output_type": "execute_result"
    }
   ],
   "source": [
    "# once I've imported the module, I have access to all of the data and functions that it defines.\n",
    "# I can access those via a .\n",
    "# meaning: MODULENAME.DATA or MODULENAME.FUNCTION\n",
    "# then I just use the data, or use the function, as per usual.\n",
    "\n",
    "# for example, the \"random\" module defines the \"randint\" function.  I can call it as follows:\n",
    "\n",
    "random.randint(0, 100)"
   ]
  },
  {
   "cell_type": "code",
   "execution_count": 6,
   "id": "1d7b785c",
   "metadata": {},
   "outputs": [
    {
     "data": {
      "text/plain": [
       "<module 'random' from '/usr/local/Cellar/python@3.10/3.10.4/Frameworks/Python.framework/Versions/3.10/lib/python3.10/random.py'>"
      ]
     },
     "execution_count": 6,
     "metadata": {},
     "output_type": "execute_result"
    }
   ],
   "source": [
    "# we can ask a module to print itself out (\"printed representation\" of an object)\n",
    "random"
   ]
  },
  {
   "cell_type": "markdown",
   "id": "ba482fba",
   "metadata": {},
   "source": [
    "# How does Python know where to find `random` and load it?\n",
    "\n",
    "If we say `import random`, Python looks for a file called `random.py`, where `py` is the standard Python suffix for program files.\n",
    "\n",
    "Where does it look for `random.py`?\n",
    "\n",
    "It looks in a whole bunch of directories, known as the \"search path.\" It looks through each of the directories in this path, one at a time.  The first directory in which it finds `random.py` wins, and the search ends.\n",
    "\n",
    "If Python doesn't find a matching name in its search path, it raises an error.  This means that module import is a matter of \"first come, first serve.\""
   ]
  },
  {
   "cell_type": "code",
   "execution_count": 7,
   "id": "978d8f89",
   "metadata": {},
   "outputs": [],
   "source": [
    "import sys     # sys is a special module -- it describes your Python running environment"
   ]
  },
  {
   "cell_type": "code",
   "execution_count": 8,
   "id": "562c62ee",
   "metadata": {},
   "outputs": [
    {
     "data": {
      "text/plain": [
       "'3.10.4 (main, Apr 26 2022, 19:42:59) [Clang 13.1.6 (clang-1316.0.21.2)]'"
      ]
     },
     "execution_count": 8,
     "metadata": {},
     "output_type": "execute_result"
    }
   ],
   "source": [
    "sys.version    # what version of Python am I running?"
   ]
  },
  {
   "cell_type": "code",
   "execution_count": 9,
   "id": "35874548",
   "metadata": {},
   "outputs": [
    {
     "data": {
      "text/plain": [
       "['/Users/reuven/Courses/Current/oreilly-2022-q2-first-steps',\n",
       " '/usr/local/Cellar/python@3.10/3.10.4/Frameworks/Python.framework/Versions/3.10/lib/python310.zip',\n",
       " '/usr/local/Cellar/python@3.10/3.10.4/Frameworks/Python.framework/Versions/3.10/lib/python3.10',\n",
       " '/usr/local/Cellar/python@3.10/3.10.4/Frameworks/Python.framework/Versions/3.10/lib/python3.10/lib-dynload',\n",
       " '',\n",
       " '/usr/local/lib/python3.10/site-packages',\n",
       " '/usr/local/lib/python3.10/site-packages/argclass-0.1.2-py3.10.egg',\n",
       " '/usr/local/Cellar/pybind11/2.9.2/libexec/lib/python3.10/site-packages',\n",
       " '/usr/local/lib/python3.10/site-packages/IPython/extensions',\n",
       " '/Users/reuven/.ipython']"
      ]
     },
     "execution_count": 9,
     "metadata": {},
     "output_type": "execute_result"
    }
   ],
   "source": [
    "sys.path       # this is a list of strings -- the search path for modules we import"
   ]
  },
  {
   "cell_type": "markdown",
   "id": "6b9e9ae1",
   "metadata": {},
   "source": [
    "# Exercise: Character classification\n",
    "\n",
    "1. Import the `string` module in Python.  Historically, this module used to have a lot of functionality, but most of that was moved into methods on the `str` (string) class.  However, it still defines a few different variables that can be useful.  For example, `string.digits` (all digits), `string.punctuation` (punctuation), and `string.ascii_letters` (letters).\n",
    "2. Define a dict with three keys -- `digits`, `punctuation`, and `letters`, and set the value to be 0 in each.\n",
    "3. Ask the user to enter a string.\n",
    "3. Go through the string, one character at a time:\n",
    "    - If the character is a digit, add 1 to the `digits` value\n",
    "    - If the character is punctuation, add 1 to the `punctuation` value\n",
    "    - If the character is letter, add 1 to the `letter` value\n",
    "4. Print out the resulting dict    "
   ]
  },
  {
   "cell_type": "code",
   "execution_count": 10,
   "id": "683f6b08",
   "metadata": {},
   "outputs": [],
   "source": [
    "import string"
   ]
  },
  {
   "cell_type": "code",
   "execution_count": 11,
   "id": "5005472c",
   "metadata": {},
   "outputs": [
    {
     "data": {
      "text/plain": [
       "'0123456789'"
      ]
     },
     "execution_count": 11,
     "metadata": {},
     "output_type": "execute_result"
    }
   ],
   "source": [
    "string.digits"
   ]
  },
  {
   "cell_type": "code",
   "execution_count": 12,
   "id": "82b69d64",
   "metadata": {},
   "outputs": [
    {
     "data": {
      "text/plain": [
       "'!\"#$%&\\'()*+,-./:;<=>?@[\\\\]^_`{|}~'"
      ]
     },
     "execution_count": 12,
     "metadata": {},
     "output_type": "execute_result"
    }
   ],
   "source": [
    "string.punctuation"
   ]
  },
  {
   "cell_type": "code",
   "execution_count": 13,
   "id": "b9974b36",
   "metadata": {},
   "outputs": [
    {
     "data": {
      "text/plain": [
       "'abcdefghijklmnopqrstuvwxyzABCDEFGHIJKLMNOPQRSTUVWXYZ'"
      ]
     },
     "execution_count": 13,
     "metadata": {},
     "output_type": "execute_result"
    }
   ],
   "source": [
    "string.ascii_letters"
   ]
  },
  {
   "cell_type": "code",
   "execution_count": 20,
   "id": "cfd25992",
   "metadata": {},
   "outputs": [
    {
     "name": "stdout",
     "output_type": "stream",
     "text": [
      "Enter a string: hello in Hebrew is שלום\n",
      "Ignoring character \" \" (32)\n",
      "Ignoring character \" \" (32)\n",
      "Ignoring character \" \" (32)\n",
      "Ignoring character \" \" (32)\n",
      "Ignoring character \"ש\" (1513)\n",
      "Ignoring character \"ל\" (1500)\n",
      "Ignoring character \"ו\" (1493)\n",
      "Ignoring character \"ם\" (1501)\n",
      "{'digits': 0, 'punctuation': 0, 'letters': 15}\n"
     ]
    }
   ],
   "source": [
    "counts = {'digits':0, 'punctuation':0, 'letters':0}\n",
    "\n",
    "s = input('Enter a string: ').strip()\n",
    "\n",
    "for one_character in s:\n",
    "    if one_character in string.digits:\n",
    "        counts['digits'] += 1\n",
    "    elif one_character in string.punctuation:\n",
    "        counts['punctuation'] += 1\n",
    "    elif one_character in string.ascii_letters:\n",
    "        counts['letters'] += 1\n",
    "    else:\n",
    "        print(f'Ignoring character \"{one_character}\" ({ord(one_character)})')\n",
    "        \n",
    "print(counts)        "
   ]
  },
  {
   "cell_type": "markdown",
   "id": "046bd805",
   "metadata": {},
   "source": [
    "# Three examples (so far) of modules\n",
    "\n",
    "- `random`, which contains functions for generating random numbers\n",
    "- `sys`, which contains the Python language/system information\n",
    "- `string`, which defines a number of variables we can use for classifying characters"
   ]
  },
  {
   "cell_type": "code",
   "execution_count": 18,
   "id": "17358145",
   "metadata": {},
   "outputs": [
    {
     "data": {
      "text/plain": [
       "'i'"
      ]
     },
     "execution_count": 18,
     "metadata": {},
     "output_type": "execute_result"
    }
   ],
   "source": [
    "s = 'abcdefghij'\n",
    "\n",
    "# I can use the random.choice method to retrieve a random element of s\n",
    "\n",
    "random.choice(s)"
   ]
  },
  {
   "cell_type": "markdown",
   "id": "0158a1f5",
   "metadata": {},
   "source": [
    "# How can I know what a module provides?\n",
    "\n",
    "1. Use `dir`\n",
    "2. Use `help`\n",
    "3. Use the Python documentation site"
   ]
  },
  {
   "cell_type": "code",
   "execution_count": 21,
   "id": "24e49348",
   "metadata": {},
   "outputs": [
    {
     "data": {
      "text/plain": [
       "['BPF',\n",
       " 'LOG4',\n",
       " 'NV_MAGICCONST',\n",
       " 'RECIP_BPF',\n",
       " 'Random',\n",
       " 'SG_MAGICCONST',\n",
       " 'SystemRandom',\n",
       " 'TWOPI',\n",
       " '_ONE',\n",
       " '_Sequence',\n",
       " '_Set',\n",
       " '__all__',\n",
       " '__builtins__',\n",
       " '__cached__',\n",
       " '__doc__',\n",
       " '__file__',\n",
       " '__loader__',\n",
       " '__name__',\n",
       " '__package__',\n",
       " '__spec__',\n",
       " '_accumulate',\n",
       " '_acos',\n",
       " '_bisect',\n",
       " '_ceil',\n",
       " '_cos',\n",
       " '_e',\n",
       " '_exp',\n",
       " '_floor',\n",
       " '_index',\n",
       " '_inst',\n",
       " '_isfinite',\n",
       " '_log',\n",
       " '_os',\n",
       " '_pi',\n",
       " '_random',\n",
       " '_repeat',\n",
       " '_sha512',\n",
       " '_sin',\n",
       " '_sqrt',\n",
       " '_test',\n",
       " '_test_generator',\n",
       " '_urandom',\n",
       " '_warn',\n",
       " 'betavariate',\n",
       " 'choice',\n",
       " 'choices',\n",
       " 'expovariate',\n",
       " 'gammavariate',\n",
       " 'gauss',\n",
       " 'getrandbits',\n",
       " 'getstate',\n",
       " 'lognormvariate',\n",
       " 'normalvariate',\n",
       " 'paretovariate',\n",
       " 'randbytes',\n",
       " 'randint',\n",
       " 'random',\n",
       " 'randrange',\n",
       " 'sample',\n",
       " 'seed',\n",
       " 'setstate',\n",
       " 'shuffle',\n",
       " 'triangular',\n",
       " 'uniform',\n",
       " 'vonmisesvariate',\n",
       " 'weibullvariate']"
      ]
     },
     "execution_count": 21,
     "metadata": {},
     "output_type": "execute_result"
    }
   ],
   "source": [
    "# the \"dir\" function in Python, when applied to a module, shows us all of the names \n",
    "# available via that module\n",
    "\n",
    "dir(random)"
   ]
  },
  {
   "cell_type": "code",
   "execution_count": 22,
   "id": "24aaa149",
   "metadata": {},
   "outputs": [],
   "source": [
    "# the list of strings we get back from \"dir\" describes the attributes we can use\n",
    "# on the module itself.  So if 'abcde' is an element shown by \"dir\", we can then say\n",
    "\n",
    "# module.abcde"
   ]
  },
  {
   "cell_type": "markdown",
   "id": "64c5a6af",
   "metadata": {},
   "source": [
    "# `_` in Python names\n",
    "\n",
    "If a name starts with `_`, that is supposed to mean it's private -- we shouldn't use it, because it might change, or its internal to an object.  People often do use these, but then it's their fault if something goes wrong.\n",
    "\n",
    "If a name starts and ends with `__` (double underscore), then we often call it \"dunder\" in Python. For example, `__str__` is pronounced \"dunder str.\"  Usually, these are methods that we don't call directly, but which Python knows to invoke at specific times and particular circumstances."
   ]
  },
  {
   "cell_type": "code",
   "execution_count": 23,
   "id": "23e1da2d",
   "metadata": {
    "collapsed": true
   },
   "outputs": [
    {
     "name": "stdout",
     "output_type": "stream",
     "text": [
      "Help on module random:\n",
      "\n",
      "NAME\n",
      "    random - Random variable generators.\n",
      "\n",
      "DESCRIPTION\n",
      "        bytes\n",
      "        -----\n",
      "               uniform bytes (values between 0 and 255)\n",
      "    \n",
      "        integers\n",
      "        --------\n",
      "               uniform within range\n",
      "    \n",
      "        sequences\n",
      "        ---------\n",
      "               pick random element\n",
      "               pick random sample\n",
      "               pick weighted random sample\n",
      "               generate random permutation\n",
      "    \n",
      "        distributions on the real line:\n",
      "        ------------------------------\n",
      "               uniform\n",
      "               triangular\n",
      "               normal (Gaussian)\n",
      "               lognormal\n",
      "               negative exponential\n",
      "               gamma\n",
      "               beta\n",
      "               pareto\n",
      "               Weibull\n",
      "    \n",
      "        distributions on the circle (angles 0 to 2pi)\n",
      "        ---------------------------------------------\n",
      "               circular uniform\n",
      "               von Mises\n",
      "    \n",
      "    General notes on the underlying Mersenne Twister core generator:\n",
      "    \n",
      "    * The period is 2**19937-1.\n",
      "    * It is one of the most extensively tested generators in existence.\n",
      "    * The random() method is implemented in C, executes in a single Python step,\n",
      "      and is, therefore, threadsafe.\n",
      "\n",
      "CLASSES\n",
      "    _random.Random(builtins.object)\n",
      "        Random\n",
      "            SystemRandom\n",
      "    \n",
      "    class Random(_random.Random)\n",
      "     |  Random(x=None)\n",
      "     |  \n",
      "     |  Random number generator base class used by bound module functions.\n",
      "     |  \n",
      "     |  Used to instantiate instances of Random to get generators that don't\n",
      "     |  share state.\n",
      "     |  \n",
      "     |  Class Random can also be subclassed if you want to use a different basic\n",
      "     |  generator of your own devising: in that case, override the following\n",
      "     |  methods:  random(), seed(), getstate(), and setstate().\n",
      "     |  Optionally, implement a getrandbits() method so that randrange()\n",
      "     |  can cover arbitrarily large ranges.\n",
      "     |  \n",
      "     |  Method resolution order:\n",
      "     |      Random\n",
      "     |      _random.Random\n",
      "     |      builtins.object\n",
      "     |  \n",
      "     |  Methods defined here:\n",
      "     |  \n",
      "     |  __getstate__(self)\n",
      "     |      # Issue 17489: Since __reduce__ was defined to fix #759889 this is no\n",
      "     |      # longer called; we leave it here because it has been here since random was\n",
      "     |      # rewritten back in 2001 and why risk breaking something.\n",
      "     |  \n",
      "     |  __init__(self, x=None)\n",
      "     |      Initialize an instance.\n",
      "     |      \n",
      "     |      Optional argument x controls seeding, as for Random.seed().\n",
      "     |  \n",
      "     |  __reduce__(self)\n",
      "     |      Helper for pickle.\n",
      "     |  \n",
      "     |  __setstate__(self, state)\n",
      "     |  \n",
      "     |  betavariate(self, alpha, beta)\n",
      "     |      Beta distribution.\n",
      "     |      \n",
      "     |      Conditions on the parameters are alpha > 0 and beta > 0.\n",
      "     |      Returned values range between 0 and 1.\n",
      "     |  \n",
      "     |  choice(self, seq)\n",
      "     |      Choose a random element from a non-empty sequence.\n",
      "     |  \n",
      "     |  choices(self, population, weights=None, *, cum_weights=None, k=1)\n",
      "     |      Return a k sized list of population elements chosen with replacement.\n",
      "     |      \n",
      "     |      If the relative weights or cumulative weights are not specified,\n",
      "     |      the selections are made with equal probability.\n",
      "     |  \n",
      "     |  expovariate(self, lambd)\n",
      "     |      Exponential distribution.\n",
      "     |      \n",
      "     |      lambd is 1.0 divided by the desired mean.  It should be\n",
      "     |      nonzero.  (The parameter would be called \"lambda\", but that is\n",
      "     |      a reserved word in Python.)  Returned values range from 0 to\n",
      "     |      positive infinity if lambd is positive, and from negative\n",
      "     |      infinity to 0 if lambd is negative.\n",
      "     |  \n",
      "     |  gammavariate(self, alpha, beta)\n",
      "     |      Gamma distribution.  Not the gamma function!\n",
      "     |      \n",
      "     |      Conditions on the parameters are alpha > 0 and beta > 0.\n",
      "     |      \n",
      "     |      The probability distribution function is:\n",
      "     |      \n",
      "     |                  x ** (alpha - 1) * math.exp(-x / beta)\n",
      "     |        pdf(x) =  --------------------------------------\n",
      "     |                    math.gamma(alpha) * beta ** alpha\n",
      "     |  \n",
      "     |  gauss(self, mu, sigma)\n",
      "     |      Gaussian distribution.\n",
      "     |      \n",
      "     |      mu is the mean, and sigma is the standard deviation.  This is\n",
      "     |      slightly faster than the normalvariate() function.\n",
      "     |      \n",
      "     |      Not thread-safe without a lock around calls.\n",
      "     |  \n",
      "     |  getstate(self)\n",
      "     |      Return internal state; can be passed to setstate() later.\n",
      "     |  \n",
      "     |  lognormvariate(self, mu, sigma)\n",
      "     |      Log normal distribution.\n",
      "     |      \n",
      "     |      If you take the natural logarithm of this distribution, you'll get a\n",
      "     |      normal distribution with mean mu and standard deviation sigma.\n",
      "     |      mu can have any value, and sigma must be greater than zero.\n",
      "     |  \n",
      "     |  normalvariate(self, mu, sigma)\n",
      "     |      Normal distribution.\n",
      "     |      \n",
      "     |      mu is the mean, and sigma is the standard deviation.\n",
      "     |  \n",
      "     |  paretovariate(self, alpha)\n",
      "     |      Pareto distribution.  alpha is the shape parameter.\n",
      "     |  \n",
      "     |  randbytes(self, n)\n",
      "     |      Generate n random bytes.\n",
      "     |  \n",
      "     |  randint(self, a, b)\n",
      "     |      Return random integer in range [a, b], including both end points.\n",
      "     |  \n",
      "     |  randrange(self, start, stop=None, step=1)\n",
      "     |      Choose a random item from range(start, stop[, step]).\n",
      "     |      \n",
      "     |      This fixes the problem with randint() which includes the\n",
      "     |      endpoint; in Python this is usually not what you want.\n",
      "     |  \n",
      "     |  sample(self, population, k, *, counts=None)\n",
      "     |      Chooses k unique random elements from a population sequence or set.\n",
      "     |      \n",
      "     |      Returns a new list containing elements from the population while\n",
      "     |      leaving the original population unchanged.  The resulting list is\n",
      "     |      in selection order so that all sub-slices will also be valid random\n",
      "     |      samples.  This allows raffle winners (the sample) to be partitioned\n",
      "     |      into grand prize and second place winners (the subslices).\n",
      "     |      \n",
      "     |      Members of the population need not be hashable or unique.  If the\n",
      "     |      population contains repeats, then each occurrence is a possible\n",
      "     |      selection in the sample.\n",
      "     |      \n",
      "     |      Repeated elements can be specified one at a time or with the optional\n",
      "     |      counts parameter.  For example:\n",
      "     |      \n",
      "     |          sample(['red', 'blue'], counts=[4, 2], k=5)\n",
      "     |      \n",
      "     |      is equivalent to:\n",
      "     |      \n",
      "     |          sample(['red', 'red', 'red', 'red', 'blue', 'blue'], k=5)\n",
      "     |      \n",
      "     |      To choose a sample from a range of integers, use range() for the\n",
      "     |      population argument.  This is especially fast and space efficient\n",
      "     |      for sampling from a large population:\n",
      "     |      \n",
      "     |          sample(range(10000000), 60)\n",
      "     |  \n",
      "     |  seed(self, a=None, version=2)\n",
      "     |      Initialize internal state from a seed.\n",
      "     |      \n",
      "     |      The only supported seed types are None, int, float,\n",
      "     |      str, bytes, and bytearray.\n",
      "     |      \n",
      "     |      None or no argument seeds from current time or from an operating\n",
      "     |      system specific randomness source if available.\n",
      "     |      \n",
      "     |      If *a* is an int, all bits are used.\n",
      "     |      \n",
      "     |      For version 2 (the default), all of the bits are used if *a* is a str,\n",
      "     |      bytes, or bytearray.  For version 1 (provided for reproducing random\n",
      "     |      sequences from older versions of Python), the algorithm for str and\n",
      "     |      bytes generates a narrower range of seeds.\n",
      "     |  \n",
      "     |  setstate(self, state)\n",
      "     |      Restore internal state from object returned by getstate().\n",
      "     |  \n",
      "     |  shuffle(self, x, random=None)\n",
      "     |      Shuffle list x in place, and return None.\n",
      "     |      \n",
      "     |      Optional argument random is a 0-argument function returning a\n",
      "     |      random float in [0.0, 1.0); if it is the default None, the\n",
      "     |      standard random.random will be used.\n",
      "     |  \n",
      "     |  triangular(self, low=0.0, high=1.0, mode=None)\n",
      "     |      Triangular distribution.\n",
      "     |      \n",
      "     |      Continuous distribution bounded by given lower and upper limits,\n",
      "     |      and having a given mode value in-between.\n",
      "     |      \n",
      "     |      http://en.wikipedia.org/wiki/Triangular_distribution\n",
      "     |  \n",
      "     |  uniform(self, a, b)\n",
      "     |      Get a random number in the range [a, b) or [a, b] depending on rounding.\n",
      "     |  \n",
      "     |  vonmisesvariate(self, mu, kappa)\n",
      "     |      Circular data distribution.\n",
      "     |      \n",
      "     |      mu is the mean angle, expressed in radians between 0 and 2*pi, and\n",
      "     |      kappa is the concentration parameter, which must be greater than or\n",
      "     |      equal to zero.  If kappa is equal to zero, this distribution reduces\n",
      "     |      to a uniform random angle over the range 0 to 2*pi.\n",
      "     |  \n",
      "     |  weibullvariate(self, alpha, beta)\n",
      "     |      Weibull distribution.\n",
      "     |      \n",
      "     |      alpha is the scale parameter and beta is the shape parameter.\n",
      "     |  \n",
      "     |  ----------------------------------------------------------------------\n",
      "     |  Class methods defined here:\n",
      "     |  \n",
      "     |  __init_subclass__(**kwargs) from builtins.type\n",
      "     |      Control how subclasses generate random integers.\n",
      "     |      \n",
      "     |      The algorithm a subclass can use depends on the random() and/or\n",
      "     |      getrandbits() implementation available to it and determines\n",
      "     |      whether it can generate random integers from arbitrarily large\n",
      "     |      ranges.\n",
      "     |  \n",
      "     |  ----------------------------------------------------------------------\n",
      "     |  Data descriptors defined here:\n",
      "     |  \n",
      "     |  __dict__\n",
      "     |      dictionary for instance variables (if defined)\n",
      "     |  \n",
      "     |  __weakref__\n",
      "     |      list of weak references to the object (if defined)\n",
      "     |  \n",
      "     |  ----------------------------------------------------------------------\n",
      "     |  Data and other attributes defined here:\n",
      "     |  \n",
      "     |  VERSION = 3\n",
      "     |  \n",
      "     |  ----------------------------------------------------------------------\n",
      "     |  Methods inherited from _random.Random:\n",
      "     |  \n",
      "     |  getrandbits(self, k, /)\n",
      "     |      getrandbits(k) -> x.  Generates an int with k random bits.\n",
      "     |  \n",
      "     |  random(self, /)\n",
      "     |      random() -> x in the interval [0, 1).\n",
      "     |  \n",
      "     |  ----------------------------------------------------------------------\n",
      "     |  Static methods inherited from _random.Random:\n",
      "     |  \n",
      "     |  __new__(*args, **kwargs) from builtins.type\n",
      "     |      Create and return a new object.  See help(type) for accurate signature.\n",
      "    \n",
      "    class SystemRandom(Random)\n",
      "     |  SystemRandom(x=None)\n",
      "     |  \n",
      "     |  Alternate random number generator using sources provided\n",
      "     |  by the operating system (such as /dev/urandom on Unix or\n",
      "     |  CryptGenRandom on Windows).\n",
      "     |  \n",
      "     |   Not available on all systems (see os.urandom() for details).\n",
      "     |  \n",
      "     |  Method resolution order:\n",
      "     |      SystemRandom\n",
      "     |      Random\n",
      "     |      _random.Random\n",
      "     |      builtins.object\n",
      "     |  \n",
      "     |  Methods defined here:\n",
      "     |  \n",
      "     |  getrandbits(self, k)\n",
      "     |      getrandbits(k) -> x.  Generates an int with k random bits.\n",
      "     |  \n",
      "     |  getstate = _notimplemented(self, *args, **kwds)\n",
      "     |  \n",
      "     |  randbytes(self, n)\n",
      "     |      Generate n random bytes.\n",
      "     |  \n",
      "     |  random(self)\n",
      "     |      Get the next random number in the range [0.0, 1.0).\n",
      "     |  \n",
      "     |  seed(self, *args, **kwds)\n",
      "     |      Stub method.  Not used for a system random number generator.\n",
      "     |  \n",
      "     |  setstate = _notimplemented(self, *args, **kwds)\n",
      "     |  \n",
      "     |  ----------------------------------------------------------------------\n",
      "     |  Methods inherited from Random:\n",
      "     |  \n",
      "     |  __getstate__(self)\n",
      "     |      # Issue 17489: Since __reduce__ was defined to fix #759889 this is no\n",
      "     |      # longer called; we leave it here because it has been here since random was\n",
      "     |      # rewritten back in 2001 and why risk breaking something.\n",
      "     |  \n",
      "     |  __init__(self, x=None)\n",
      "     |      Initialize an instance.\n",
      "     |      \n",
      "     |      Optional argument x controls seeding, as for Random.seed().\n",
      "     |  \n",
      "     |  __reduce__(self)\n",
      "     |      Helper for pickle.\n",
      "     |  \n",
      "     |  __setstate__(self, state)\n",
      "     |  \n",
      "     |  betavariate(self, alpha, beta)\n",
      "     |      Beta distribution.\n",
      "     |      \n",
      "     |      Conditions on the parameters are alpha > 0 and beta > 0.\n",
      "     |      Returned values range between 0 and 1.\n",
      "     |  \n",
      "     |  choice(self, seq)\n",
      "     |      Choose a random element from a non-empty sequence.\n",
      "     |  \n",
      "     |  choices(self, population, weights=None, *, cum_weights=None, k=1)\n",
      "     |      Return a k sized list of population elements chosen with replacement.\n",
      "     |      \n",
      "     |      If the relative weights or cumulative weights are not specified,\n",
      "     |      the selections are made with equal probability.\n",
      "     |  \n",
      "     |  expovariate(self, lambd)\n",
      "     |      Exponential distribution.\n",
      "     |      \n",
      "     |      lambd is 1.0 divided by the desired mean.  It should be\n",
      "     |      nonzero.  (The parameter would be called \"lambda\", but that is\n",
      "     |      a reserved word in Python.)  Returned values range from 0 to\n",
      "     |      positive infinity if lambd is positive, and from negative\n",
      "     |      infinity to 0 if lambd is negative.\n",
      "     |  \n",
      "     |  gammavariate(self, alpha, beta)\n",
      "     |      Gamma distribution.  Not the gamma function!\n",
      "     |      \n",
      "     |      Conditions on the parameters are alpha > 0 and beta > 0.\n",
      "     |      \n",
      "     |      The probability distribution function is:\n",
      "     |      \n",
      "     |                  x ** (alpha - 1) * math.exp(-x / beta)\n",
      "     |        pdf(x) =  --------------------------------------\n",
      "     |                    math.gamma(alpha) * beta ** alpha\n",
      "     |  \n",
      "     |  gauss(self, mu, sigma)\n",
      "     |      Gaussian distribution.\n",
      "     |      \n",
      "     |      mu is the mean, and sigma is the standard deviation.  This is\n",
      "     |      slightly faster than the normalvariate() function.\n",
      "     |      \n",
      "     |      Not thread-safe without a lock around calls.\n",
      "     |  \n",
      "     |  lognormvariate(self, mu, sigma)\n",
      "     |      Log normal distribution.\n",
      "     |      \n",
      "     |      If you take the natural logarithm of this distribution, you'll get a\n",
      "     |      normal distribution with mean mu and standard deviation sigma.\n",
      "     |      mu can have any value, and sigma must be greater than zero.\n",
      "     |  \n",
      "     |  normalvariate(self, mu, sigma)\n",
      "     |      Normal distribution.\n",
      "     |      \n",
      "     |      mu is the mean, and sigma is the standard deviation.\n",
      "     |  \n",
      "     |  paretovariate(self, alpha)\n",
      "     |      Pareto distribution.  alpha is the shape parameter.\n",
      "     |  \n",
      "     |  randint(self, a, b)\n",
      "     |      Return random integer in range [a, b], including both end points.\n",
      "     |  \n",
      "     |  randrange(self, start, stop=None, step=1)\n",
      "     |      Choose a random item from range(start, stop[, step]).\n",
      "     |      \n",
      "     |      This fixes the problem with randint() which includes the\n",
      "     |      endpoint; in Python this is usually not what you want.\n",
      "     |  \n",
      "     |  sample(self, population, k, *, counts=None)\n",
      "     |      Chooses k unique random elements from a population sequence or set.\n",
      "     |      \n",
      "     |      Returns a new list containing elements from the population while\n",
      "     |      leaving the original population unchanged.  The resulting list is\n",
      "     |      in selection order so that all sub-slices will also be valid random\n",
      "     |      samples.  This allows raffle winners (the sample) to be partitioned\n",
      "     |      into grand prize and second place winners (the subslices).\n",
      "     |      \n",
      "     |      Members of the population need not be hashable or unique.  If the\n",
      "     |      population contains repeats, then each occurrence is a possible\n",
      "     |      selection in the sample.\n",
      "     |      \n",
      "     |      Repeated elements can be specified one at a time or with the optional\n",
      "     |      counts parameter.  For example:\n",
      "     |      \n",
      "     |          sample(['red', 'blue'], counts=[4, 2], k=5)\n",
      "     |      \n",
      "     |      is equivalent to:\n",
      "     |      \n",
      "     |          sample(['red', 'red', 'red', 'red', 'blue', 'blue'], k=5)\n",
      "     |      \n",
      "     |      To choose a sample from a range of integers, use range() for the\n",
      "     |      population argument.  This is especially fast and space efficient\n",
      "     |      for sampling from a large population:\n",
      "     |      \n",
      "     |          sample(range(10000000), 60)\n",
      "     |  \n",
      "     |  shuffle(self, x, random=None)\n",
      "     |      Shuffle list x in place, and return None.\n",
      "     |      \n",
      "     |      Optional argument random is a 0-argument function returning a\n",
      "     |      random float in [0.0, 1.0); if it is the default None, the\n",
      "     |      standard random.random will be used.\n",
      "     |  \n",
      "     |  triangular(self, low=0.0, high=1.0, mode=None)\n",
      "     |      Triangular distribution.\n",
      "     |      \n",
      "     |      Continuous distribution bounded by given lower and upper limits,\n",
      "     |      and having a given mode value in-between.\n",
      "     |      \n",
      "     |      http://en.wikipedia.org/wiki/Triangular_distribution\n",
      "     |  \n",
      "     |  uniform(self, a, b)\n",
      "     |      Get a random number in the range [a, b) or [a, b] depending on rounding.\n",
      "     |  \n",
      "     |  vonmisesvariate(self, mu, kappa)\n",
      "     |      Circular data distribution.\n",
      "     |      \n",
      "     |      mu is the mean angle, expressed in radians between 0 and 2*pi, and\n",
      "     |      kappa is the concentration parameter, which must be greater than or\n",
      "     |      equal to zero.  If kappa is equal to zero, this distribution reduces\n",
      "     |      to a uniform random angle over the range 0 to 2*pi.\n",
      "     |  \n",
      "     |  weibullvariate(self, alpha, beta)\n",
      "     |      Weibull distribution.\n",
      "     |      \n",
      "     |      alpha is the scale parameter and beta is the shape parameter.\n",
      "     |  \n",
      "     |  ----------------------------------------------------------------------\n",
      "     |  Class methods inherited from Random:\n",
      "     |  \n",
      "     |  __init_subclass__(**kwargs) from builtins.type\n",
      "     |      Control how subclasses generate random integers.\n",
      "     |      \n",
      "     |      The algorithm a subclass can use depends on the random() and/or\n",
      "     |      getrandbits() implementation available to it and determines\n",
      "     |      whether it can generate random integers from arbitrarily large\n",
      "     |      ranges.\n",
      "     |  \n",
      "     |  ----------------------------------------------------------------------\n",
      "     |  Data descriptors inherited from Random:\n",
      "     |  \n",
      "     |  __dict__\n",
      "     |      dictionary for instance variables (if defined)\n",
      "     |  \n",
      "     |  __weakref__\n",
      "     |      list of weak references to the object (if defined)\n",
      "     |  \n",
      "     |  ----------------------------------------------------------------------\n",
      "     |  Data and other attributes inherited from Random:\n",
      "     |  \n",
      "     |  VERSION = 3\n",
      "     |  \n",
      "     |  ----------------------------------------------------------------------\n",
      "     |  Static methods inherited from _random.Random:\n",
      "     |  \n",
      "     |  __new__(*args, **kwargs) from builtins.type\n",
      "     |      Create and return a new object.  See help(type) for accurate signature.\n",
      "\n",
      "FUNCTIONS\n",
      "    betavariate(alpha, beta) method of Random instance\n",
      "        Beta distribution.\n",
      "        \n",
      "        Conditions on the parameters are alpha > 0 and beta > 0.\n",
      "        Returned values range between 0 and 1.\n",
      "    \n",
      "    choice(seq) method of Random instance\n",
      "        Choose a random element from a non-empty sequence.\n",
      "    \n",
      "    choices(population, weights=None, *, cum_weights=None, k=1) method of Random instance\n",
      "        Return a k sized list of population elements chosen with replacement.\n",
      "        \n",
      "        If the relative weights or cumulative weights are not specified,\n",
      "        the selections are made with equal probability.\n",
      "    \n",
      "    expovariate(lambd) method of Random instance\n",
      "        Exponential distribution.\n",
      "        \n",
      "        lambd is 1.0 divided by the desired mean.  It should be\n",
      "        nonzero.  (The parameter would be called \"lambda\", but that is\n",
      "        a reserved word in Python.)  Returned values range from 0 to\n",
      "        positive infinity if lambd is positive, and from negative\n",
      "        infinity to 0 if lambd is negative.\n",
      "    \n",
      "    gammavariate(alpha, beta) method of Random instance\n",
      "        Gamma distribution.  Not the gamma function!\n",
      "        \n",
      "        Conditions on the parameters are alpha > 0 and beta > 0.\n",
      "        \n",
      "        The probability distribution function is:\n",
      "        \n",
      "                    x ** (alpha - 1) * math.exp(-x / beta)\n",
      "          pdf(x) =  --------------------------------------\n",
      "                      math.gamma(alpha) * beta ** alpha\n",
      "    \n",
      "    gauss(mu, sigma) method of Random instance\n",
      "        Gaussian distribution.\n",
      "        \n",
      "        mu is the mean, and sigma is the standard deviation.  This is\n",
      "        slightly faster than the normalvariate() function.\n",
      "        \n",
      "        Not thread-safe without a lock around calls.\n",
      "    \n",
      "    getrandbits(k, /) method of Random instance\n",
      "        getrandbits(k) -> x.  Generates an int with k random bits.\n",
      "    \n",
      "    getstate() method of Random instance\n",
      "        Return internal state; can be passed to setstate() later.\n",
      "    \n",
      "    lognormvariate(mu, sigma) method of Random instance\n",
      "        Log normal distribution.\n",
      "        \n",
      "        If you take the natural logarithm of this distribution, you'll get a\n",
      "        normal distribution with mean mu and standard deviation sigma.\n",
      "        mu can have any value, and sigma must be greater than zero.\n",
      "    \n",
      "    normalvariate(mu, sigma) method of Random instance\n",
      "        Normal distribution.\n",
      "        \n",
      "        mu is the mean, and sigma is the standard deviation.\n",
      "    \n",
      "    paretovariate(alpha) method of Random instance\n",
      "        Pareto distribution.  alpha is the shape parameter.\n",
      "    \n",
      "    randbytes(n) method of Random instance\n",
      "        Generate n random bytes.\n",
      "    \n",
      "    randint(a, b) method of Random instance\n",
      "        Return random integer in range [a, b], including both end points.\n",
      "    \n",
      "    random() method of Random instance\n",
      "        random() -> x in the interval [0, 1).\n",
      "    \n",
      "    randrange(start, stop=None, step=1) method of Random instance\n",
      "        Choose a random item from range(start, stop[, step]).\n",
      "        \n",
      "        This fixes the problem with randint() which includes the\n",
      "        endpoint; in Python this is usually not what you want.\n",
      "    \n",
      "    sample(population, k, *, counts=None) method of Random instance\n",
      "        Chooses k unique random elements from a population sequence or set.\n",
      "        \n",
      "        Returns a new list containing elements from the population while\n",
      "        leaving the original population unchanged.  The resulting list is\n",
      "        in selection order so that all sub-slices will also be valid random\n",
      "        samples.  This allows raffle winners (the sample) to be partitioned\n",
      "        into grand prize and second place winners (the subslices).\n",
      "        \n",
      "        Members of the population need not be hashable or unique.  If the\n",
      "        population contains repeats, then each occurrence is a possible\n",
      "        selection in the sample.\n",
      "        \n",
      "        Repeated elements can be specified one at a time or with the optional\n",
      "        counts parameter.  For example:\n",
      "        \n",
      "            sample(['red', 'blue'], counts=[4, 2], k=5)\n",
      "        \n",
      "        is equivalent to:\n",
      "        \n",
      "            sample(['red', 'red', 'red', 'red', 'blue', 'blue'], k=5)\n",
      "        \n",
      "        To choose a sample from a range of integers, use range() for the\n",
      "        population argument.  This is especially fast and space efficient\n",
      "        for sampling from a large population:\n",
      "        \n",
      "            sample(range(10000000), 60)\n",
      "    \n",
      "    seed(a=None, version=2) method of Random instance\n",
      "        Initialize internal state from a seed.\n",
      "        \n",
      "        The only supported seed types are None, int, float,\n",
      "        str, bytes, and bytearray.\n",
      "        \n",
      "        None or no argument seeds from current time or from an operating\n",
      "        system specific randomness source if available.\n",
      "        \n",
      "        If *a* is an int, all bits are used.\n",
      "        \n",
      "        For version 2 (the default), all of the bits are used if *a* is a str,\n",
      "        bytes, or bytearray.  For version 1 (provided for reproducing random\n",
      "        sequences from older versions of Python), the algorithm for str and\n",
      "        bytes generates a narrower range of seeds.\n",
      "    \n",
      "    setstate(state) method of Random instance\n",
      "        Restore internal state from object returned by getstate().\n",
      "    \n",
      "    shuffle(x, random=None) method of Random instance\n",
      "        Shuffle list x in place, and return None.\n",
      "        \n",
      "        Optional argument random is a 0-argument function returning a\n",
      "        random float in [0.0, 1.0); if it is the default None, the\n",
      "        standard random.random will be used.\n",
      "    \n",
      "    triangular(low=0.0, high=1.0, mode=None) method of Random instance\n",
      "        Triangular distribution.\n",
      "        \n",
      "        Continuous distribution bounded by given lower and upper limits,\n",
      "        and having a given mode value in-between.\n",
      "        \n",
      "        http://en.wikipedia.org/wiki/Triangular_distribution\n",
      "    \n",
      "    uniform(a, b) method of Random instance\n",
      "        Get a random number in the range [a, b) or [a, b] depending on rounding.\n",
      "    \n",
      "    vonmisesvariate(mu, kappa) method of Random instance\n",
      "        Circular data distribution.\n",
      "        \n",
      "        mu is the mean angle, expressed in radians between 0 and 2*pi, and\n",
      "        kappa is the concentration parameter, which must be greater than or\n",
      "        equal to zero.  If kappa is equal to zero, this distribution reduces\n",
      "        to a uniform random angle over the range 0 to 2*pi.\n",
      "    \n",
      "    weibullvariate(alpha, beta) method of Random instance\n",
      "        Weibull distribution.\n",
      "        \n",
      "        alpha is the scale parameter and beta is the shape parameter.\n",
      "\n",
      "DATA\n",
      "    __all__ = ['Random', 'SystemRandom', 'betavariate', 'choice', 'choices...\n",
      "\n",
      "FILE\n",
      "    /usr/local/Cellar/python@3.10/3.10.4/Frameworks/Python.framework/Versions/3.10/lib/python3.10/random.py\n",
      "\n",
      "\n"
     ]
    }
   ],
   "source": [
    "# we can also use the \"help\" function to find out about an entire module, or about one name in the module\n",
    "\n",
    "help(random)"
   ]
  },
  {
   "cell_type": "code",
   "execution_count": 24,
   "id": "53c221da",
   "metadata": {},
   "outputs": [
    {
     "name": "stdout",
     "output_type": "stream",
     "text": [
      "Help on method randint in module random:\n",
      "\n",
      "randint(a, b) method of random.Random instance\n",
      "    Return random integer in range [a, b], including both end points.\n",
      "\n"
     ]
    }
   ],
   "source": [
    "# If I want to know about one thing, I can ask for help on that specific thing\n",
    "\n",
    "help(random.randint)"
   ]
  },
  {
   "cell_type": "code",
   "execution_count": 25,
   "id": "b43fca24",
   "metadata": {},
   "outputs": [
    {
     "name": "stdout",
     "output_type": "stream",
     "text": [
      "Help on built-in function random:\n",
      "\n",
      "random() method of random.Random instance\n",
      "    random() -> x in the interval [0, 1).\n",
      "\n"
     ]
    }
   ],
   "source": [
    "help(random.random)"
   ]
  },
  {
   "cell_type": "code",
   "execution_count": 26,
   "id": "3a94f7d4",
   "metadata": {},
   "outputs": [
    {
     "data": {
      "text/plain": [
       "0.7056282600553893"
      ]
     },
     "execution_count": 26,
     "metadata": {},
     "output_type": "execute_result"
    }
   ],
   "source": [
    "random.random()"
   ]
  },
  {
   "cell_type": "code",
   "execution_count": null,
   "id": "52618303",
   "metadata": {},
   "outputs": [],
   "source": [
    "# what is random.random?\n",
    "\n",
    "# - the module random\n",
    "# - inside of the module random, we have the function random\n",
    "\n",
    "# these are totally separate!`"
   ]
  },
  {
   "cell_type": "code",
   "execution_count": 27,
   "id": "3c1d316c",
   "metadata": {},
   "outputs": [],
   "source": [
    "# Final place to get documentation for Python modules, especially if they come with the language,\n",
    "# is docs.python.org"
   ]
  },
  {
   "cell_type": "markdown",
   "id": "e328aca1",
   "metadata": {},
   "source": [
    "# Functions vs. methods\n",
    "\n",
    "Both functions and methods are verbs in Python -- they both do things.\n",
    "\n",
    "They also both:\n",
    "\n",
    "- Are invoked with `()`\n",
    "- Can take arguments\n",
    "- Return values\n",
    "\n",
    "The difference is that functions are free floating.  We just call a function, and don't preface its name with a `.`.  By contrast, methods are always attached to objects.\n",
    "\n",
    "For example:\n",
    "\n",
    "```python\n",
    "s = 'abcd'\n",
    "\n",
    "len(s)     # we call the function len, which returns the integer 4\n",
    "s.upper()  # we call the method upper on s\n",
    "```\n",
    "\n",
    "The exception to this rule is that when you load functions or methods from a module, the function/method comes after a `.`.  That makes it a bit more confusing or unclear."
   ]
  },
  {
   "cell_type": "markdown",
   "id": "06a99ee3",
   "metadata": {},
   "source": [
    "# Next up\n",
    "\n",
    "1. Different forms of `import`\n",
    "2. We'll develop our own simple module\n",
    "\n"
   ]
  },
  {
   "cell_type": "code",
   "execution_count": 28,
   "id": "d01c520c",
   "metadata": {},
   "outputs": [],
   "source": [
    "import random   # this defines the \"random\" variable, and I can access the module's components via it"
   ]
  },
  {
   "cell_type": "code",
   "execution_count": 29,
   "id": "0e6ce3b9",
   "metadata": {},
   "outputs": [
    {
     "data": {
      "text/plain": [
       "86"
      ]
     },
     "execution_count": 29,
     "metadata": {},
     "output_type": "execute_result"
    }
   ],
   "source": [
    "random.randint(0, 100)"
   ]
  },
  {
   "cell_type": "code",
   "execution_count": 30,
   "id": "bc83e619",
   "metadata": {},
   "outputs": [
    {
     "ename": "NameError",
     "evalue": "name 'randint' is not defined",
     "output_type": "error",
     "traceback": [
      "\u001b[0;31m---------------------------------------------------------------------------\u001b[0m",
      "\u001b[0;31mNameError\u001b[0m                                 Traceback (most recent call last)",
      "\u001b[0;32m/var/folders/rr/0mnyyv811fs5vyp22gf4fxk00000gn/T/ipykernel_51380/87793915.py\u001b[0m in \u001b[0;36m<module>\u001b[0;34m\u001b[0m\n\u001b[1;32m      1\u001b[0m \u001b[0;31m# can I just call randint without the preceding \"random.\" ?\u001b[0m\u001b[0;34m\u001b[0m\u001b[0;34m\u001b[0m\u001b[0m\n\u001b[0;32m----> 2\u001b[0;31m \u001b[0mrandint\u001b[0m\u001b[0;34m(\u001b[0m\u001b[0;36m0\u001b[0m\u001b[0;34m,\u001b[0m \u001b[0;36m100\u001b[0m\u001b[0;34m)\u001b[0m\u001b[0;34m\u001b[0m\u001b[0;34m\u001b[0m\u001b[0m\n\u001b[0m",
      "\u001b[0;31mNameError\u001b[0m: name 'randint' is not defined"
     ]
    }
   ],
   "source": [
    "# can I just call randint without the preceding \"random.\" ?\n",
    "randint(0, 100)"
   ]
  },
  {
   "cell_type": "code",
   "execution_count": 31,
   "id": "1ec8048d",
   "metadata": {},
   "outputs": [],
   "source": [
    "# If I'm going to use random.randint a lot, it's annoying that I have to say random.randint,\n",
    "# and I cannot just say randint\n",
    "\n",
    "# to handle this, we have an alternative import syntax\n",
    "\n",
    "from random import randint\n",
    "\n",
    "# This \n",
    "# (1) imports the random module into memory\n",
    "# (2) defines the randint variable to refer to random.randint\n",
    "# (3) BUT BUT BUT it does *not* define the \"random\" variable!"
   ]
  },
  {
   "cell_type": "code",
   "execution_count": 32,
   "id": "c7148b5c",
   "metadata": {},
   "outputs": [
    {
     "data": {
      "text/plain": [
       "1"
      ]
     },
     "execution_count": 32,
     "metadata": {},
     "output_type": "execute_result"
    }
   ],
   "source": [
    "randint(0, 100)"
   ]
  },
  {
   "cell_type": "code",
   "execution_count": 33,
   "id": "71cf9f1a",
   "metadata": {},
   "outputs": [],
   "source": [
    "import random                        # everything in the random module is available as random.NAME\n",
    "\n",
    "from random import randint           # only randint is available\n",
    "\n",
    "from random import randint, choice   # only randint and choice are available"
   ]
  },
  {
   "cell_type": "code",
   "execution_count": 34,
   "id": "4ca5b7fc",
   "metadata": {},
   "outputs": [],
   "source": [
    "# what if I want to import a module, but I want to assign it to a different variable name?\n",
    "\n",
    "import random as r    # (1) load the random module, (2) assign it to the variable r"
   ]
  },
  {
   "cell_type": "code",
   "execution_count": 35,
   "id": "81e114a1",
   "metadata": {},
   "outputs": [
    {
     "data": {
      "text/plain": [
       "99"
      ]
     },
     "execution_count": 35,
     "metadata": {},
     "output_type": "execute_result"
    }
   ],
   "source": [
    "r.randint(0, 100)     # r is now an alias to random"
   ]
  },
  {
   "cell_type": "code",
   "execution_count": 36,
   "id": "c6900d74",
   "metadata": {},
   "outputs": [],
   "source": [
    "# in the world of data science, we use packages like NumPy and Pandas, which are traditionally\n",
    "# loaded as follows:\n",
    "\n",
    "import numpy as np\n",
    "import pandas as pd\n",
    "\n"
   ]
  },
  {
   "cell_type": "code",
   "execution_count": 37,
   "id": "2928bc5b",
   "metadata": {},
   "outputs": [],
   "source": [
    "# we can also rename anything we've loaded via \"from .. import\"\n",
    "\n",
    "from random import randint as ri   # now the function randint is available as \"ri\""
   ]
  },
  {
   "cell_type": "code",
   "execution_count": 38,
   "id": "0abf29bb",
   "metadata": {},
   "outputs": [
    {
     "data": {
      "text/plain": [
       "75"
      ]
     },
     "execution_count": 38,
     "metadata": {},
     "output_type": "execute_result"
    }
   ],
   "source": [
    "ri(0, 100)"
   ]
  },
  {
   "cell_type": "code",
   "execution_count": 39,
   "id": "06150ca3",
   "metadata": {},
   "outputs": [],
   "source": [
    "# this is a popular version of from .. import\n",
    "\n",
    "# from random import *\n",
    "\n",
    "# I BEG YOU -- never use this!"
   ]
  },
  {
   "cell_type": "markdown",
   "id": "534c3f59",
   "metadata": {},
   "source": [
    "# What's wrong with `from .. import *`?\n",
    "\n",
    "There are at least two problems, one practical and one philosophical.\n",
    "\n",
    "Practically, you're saying: Whatever names are defined in that module, I want them to be defined as global variables in my program.  That raises all sorts of problems:\n",
    "\n",
    "- What if a name from that module conflicts with a name in your program? Which gets priority?\n",
    "- What if the module is updated, and you don't pay attention, and then a name conflicts with one of yours?\n",
    "\n",
    "Philosophically, programmers have tried for *decades* to avoid defining too many global variables, which inevitably cause problems.  Here, you're saying: Please! Give me lots of new global variables!  Keeping track of things will be very hard.\n",
    "\n",
    "We want to have lots of namespaces.  We want to separate names, for easier understanding of our code, and `import *` undoes that."
   ]
  },
  {
   "cell_type": "markdown",
   "id": "23ef4bde",
   "metadata": {},
   "source": [
    "# Summarizing syntax of `import`\n",
    "\n",
    "- `import MODNAME`\n",
    "- `import MODNAME as A`\n",
    "- `from MODNAME import THING`\n",
    "- `from MODNAME import THING as A`\n",
    "- `from MODNAME import *`"
   ]
  },
  {
   "cell_type": "code",
   "execution_count": 40,
   "id": "8c108638",
   "metadata": {},
   "outputs": [
    {
     "name": "stdout",
     "output_type": "stream",
     "text": [
      "Hello\n"
     ]
    }
   ],
   "source": [
    "import hello"
   ]
  },
  {
   "cell_type": "code",
   "execution_count": 41,
   "id": "e1f16134",
   "metadata": {},
   "outputs": [],
   "source": [
    "import mymod"
   ]
  },
  {
   "cell_type": "code",
   "execution_count": 42,
   "id": "5e6573f3",
   "metadata": {},
   "outputs": [
    {
     "data": {
      "text/plain": [
       "['__builtins__',\n",
       " '__cached__',\n",
       " '__doc__',\n",
       " '__file__',\n",
       " '__loader__',\n",
       " '__name__',\n",
       " '__package__',\n",
       " '__spec__']"
      ]
     },
     "execution_count": 42,
     "metadata": {},
     "output_type": "execute_result"
    }
   ],
   "source": [
    "dir(mymod)"
   ]
  },
  {
   "cell_type": "code",
   "execution_count": 43,
   "id": "fa1d2740",
   "metadata": {},
   "outputs": [
    {
     "data": {
      "text/plain": [
       "'/Users/reuven/Courses/Current/oreilly-2022-q2-first-steps/mymod.py'"
      ]
     },
     "execution_count": 43,
     "metadata": {},
     "output_type": "execute_result"
    }
   ],
   "source": [
    "mymod.__file__"
   ]
  },
  {
   "cell_type": "code",
   "execution_count": 44,
   "id": "205764ec",
   "metadata": {},
   "outputs": [
    {
     "data": {
      "text/plain": [
       "'/usr/local/Cellar/python@3.10/3.10.4/Frameworks/Python.framework/Versions/3.10/lib/python3.10/random.py'"
      ]
     },
     "execution_count": 44,
     "metadata": {},
     "output_type": "execute_result"
    }
   ],
   "source": [
    "random.__file__"
   ]
  },
  {
   "cell_type": "code",
   "execution_count": 45,
   "id": "9d1b231a",
   "metadata": {},
   "outputs": [
    {
     "data": {
      "text/plain": [
       "'/usr/local/Cellar/python@3.10/3.10.4/Frameworks/Python.framework/Versions/3.10/lib/python3.10/string.py'"
      ]
     },
     "execution_count": 45,
     "metadata": {},
     "output_type": "execute_result"
    }
   ],
   "source": [
    "string.__file__"
   ]
  },
  {
   "cell_type": "code",
   "execution_count": 46,
   "id": "2ca993c4",
   "metadata": {},
   "outputs": [
    {
     "data": {
      "text/plain": [
       "'/usr/local/lib/python3.10/site-packages/pandas/__init__.py'"
      ]
     },
     "execution_count": 46,
     "metadata": {},
     "output_type": "execute_result"
    }
   ],
   "source": [
    "pd.__file__"
   ]
  },
  {
   "cell_type": "code",
   "execution_count": 47,
   "id": "4b013fda",
   "metadata": {},
   "outputs": [
    {
     "data": {
      "text/plain": [
       "'mymod'"
      ]
     },
     "execution_count": 47,
     "metadata": {},
     "output_type": "execute_result"
    }
   ],
   "source": [
    "mymod.__name__"
   ]
  },
  {
   "cell_type": "code",
   "execution_count": 48,
   "id": "481b689a",
   "metadata": {},
   "outputs": [
    {
     "data": {
      "text/plain": [
       "'string'"
      ]
     },
     "execution_count": 48,
     "metadata": {},
     "output_type": "execute_result"
    }
   ],
   "source": [
    "string.__name__"
   ]
  },
  {
   "cell_type": "code",
   "execution_count": 49,
   "id": "d403986a",
   "metadata": {},
   "outputs": [
    {
     "data": {
      "text/plain": [
       "'pandas'"
      ]
     },
     "execution_count": 49,
     "metadata": {},
     "output_type": "execute_result"
    }
   ],
   "source": [
    "pd.__name__"
   ]
  },
  {
   "cell_type": "code",
   "execution_count": 50,
   "id": "434ab049",
   "metadata": {},
   "outputs": [],
   "source": [
    "import mymod"
   ]
  },
  {
   "cell_type": "code",
   "execution_count": 51,
   "id": "43d875ea",
   "metadata": {},
   "outputs": [
    {
     "data": {
      "text/plain": [
       "['__builtins__',\n",
       " '__cached__',\n",
       " '__doc__',\n",
       " '__file__',\n",
       " '__loader__',\n",
       " '__name__',\n",
       " '__package__',\n",
       " '__spec__']"
      ]
     },
     "execution_count": 51,
     "metadata": {},
     "output_type": "execute_result"
    }
   ],
   "source": [
    "dir(mymod)"
   ]
  },
  {
   "cell_type": "markdown",
   "id": "9314169f",
   "metadata": {},
   "source": [
    "# `import` only works once!\n",
    "\n",
    "`import` normally does two things:\n",
    "\n",
    "1. Loads the module\n",
    "2. Defines the variable\n",
    "\n",
    "However, it only loads the module *once* per Python session.  If you're running an actual program, that's not an issue.  But if you're in Jupyter or a debugger, it is."
   ]
  },
  {
   "cell_type": "code",
   "execution_count": 1,
   "id": "51581a9d",
   "metadata": {},
   "outputs": [],
   "source": [
    "import mymod"
   ]
  },
  {
   "cell_type": "code",
   "execution_count": 2,
   "id": "5305e23e",
   "metadata": {},
   "outputs": [
    {
     "data": {
      "text/plain": [
       "['__builtins__',\n",
       " '__cached__',\n",
       " '__doc__',\n",
       " '__file__',\n",
       " '__loader__',\n",
       " '__name__',\n",
       " '__package__',\n",
       " '__spec__',\n",
       " 'hello',\n",
       " 'months',\n",
       " 'x',\n",
       " 'y']"
      ]
     },
     "execution_count": 2,
     "metadata": {},
     "output_type": "execute_result"
    }
   ],
   "source": [
    "dir(mymod)"
   ]
  },
  {
   "cell_type": "code",
   "execution_count": 3,
   "id": "993cae94",
   "metadata": {},
   "outputs": [
    {
     "data": {
      "text/plain": [
       "100"
      ]
     },
     "execution_count": 3,
     "metadata": {},
     "output_type": "execute_result"
    }
   ],
   "source": [
    "mymod.x"
   ]
  },
  {
   "cell_type": "code",
   "execution_count": 4,
   "id": "5a7f89b8",
   "metadata": {},
   "outputs": [
    {
     "data": {
      "text/plain": [
       "[10, 20, 30]"
      ]
     },
     "execution_count": 4,
     "metadata": {},
     "output_type": "execute_result"
    }
   ],
   "source": [
    "mymod.y"
   ]
  },
  {
   "cell_type": "code",
   "execution_count": 5,
   "id": "0cc423a0",
   "metadata": {},
   "outputs": [
    {
     "data": {
      "text/plain": [
       "{'Jan': 1, 'Feb': 2, 'Mar': 3, 'Apr': 4, 'May': 5, 'Jun': 6}"
      ]
     },
     "execution_count": 5,
     "metadata": {},
     "output_type": "execute_result"
    }
   ],
   "source": [
    "mymod.months"
   ]
  },
  {
   "cell_type": "code",
   "execution_count": 6,
   "id": "63090560",
   "metadata": {},
   "outputs": [
    {
     "data": {
      "text/plain": [
       "3"
      ]
     },
     "execution_count": 6,
     "metadata": {},
     "output_type": "execute_result"
    }
   ],
   "source": [
    "mymod.months['Mar']"
   ]
  },
  {
   "cell_type": "code",
   "execution_count": 7,
   "id": "6f6d85fc",
   "metadata": {},
   "outputs": [
    {
     "data": {
      "text/plain": [
       "'Hello, world!'"
      ]
     },
     "execution_count": 7,
     "metadata": {},
     "output_type": "execute_result"
    }
   ],
   "source": [
    "mymod.hello('world')"
   ]
  },
  {
   "cell_type": "markdown",
   "id": "1a46b1bb",
   "metadata": {},
   "source": [
    "# Exercise: Menu\n",
    "\n",
    "1. Create a new file, called `menu.py`. (You can use Jupyter for this, if you don't have a favorite editor.)\n",
    "2. In `menu.py`, define a function called `menu`.  (Yes, this means that it'll be accessed as `menu.menu`.\n",
    "3. The `menu` function should take a list of strings as an argument.\n",
    "    - Display the list of strings to the user, and ask them to choose one\n",
    "    - If they choose an element from the list, then return their choice\n",
    "    - If they choose something not on the list, scold them and have them try again\n",
    "\n",
    "Basically, then, calling `menu.menu(['a', 'b', 'c'])` guarantees that we'll get a return value of either `a`, `b`, or `c`.\n",
    "\n",
    "From Jupyter (or elsewhere), write a short program that invokes `menu.menu`:\n",
    "\n",
    "```python\n",
    "import menu\n",
    "user_choice = menu.menu(['a', 'b', 'c'])\n",
    "print(user_choice)\n",
    "```"
   ]
  },
  {
   "cell_type": "code",
   "execution_count": 8,
   "id": "e7452c4d",
   "metadata": {},
   "outputs": [
    {
     "name": "stdout",
     "output_type": "stream",
     "text": [
      "Enter a choice (a/b/c): q\n",
      "q is not a valid choice.\n",
      "Enter a choice (a/b/c): what?\n",
      "what? is not a valid choice.\n",
      "Enter a choice (a/b/c): oh well\n",
      "oh well is not a valid choice.\n",
      "Enter a choice (a/b/c): b\n",
      "b\n"
     ]
    }
   ],
   "source": [
    "import menu\n",
    "user_choice = menu.menu(['a', 'b', 'c'])\n",
    "print(user_choice)\n"
   ]
  },
  {
   "cell_type": "code",
   "execution_count": 1,
   "id": "74d39d72",
   "metadata": {},
   "outputs": [
    {
     "name": "stdout",
     "output_type": "stream",
     "text": [
      "Hello from mymod!\n",
      "Goodbye from mymod!\n"
     ]
    }
   ],
   "source": [
    "import mymod"
   ]
  },
  {
   "cell_type": "markdown",
   "id": "d945fd8f",
   "metadata": {},
   "source": [
    "# Variables (inside) and attributes (outside)\n",
    "\n",
    "Any variable (or function) we define inside of the module is visible to anyone who imports the module (outside) as an attribute on the module object.\n",
    "\n",
    "\n",
    "### `x`\n",
    "- Inside of `mymod.py`, we define the variable `x`.\n",
    "- Outside of `mymod.py`, when we `import mymod`, we have access to `mymod.x`.\n",
    "\n",
    "### `y`\n",
    "- Inside of `mymod.py`, we define the variable `y`.\n",
    "- Outside of `mymod.py`, when we `import mymod`, we have access to `mymod.y`.\n",
    "\n",
    "### `hello`\n",
    "- Inside of `mymod.py`, we define the function `hello`.\n",
    "- Outside of `mymod.py`, when we `import mymod`, we have access to `mymod.hello`.\n",
    "\n",
    "### `__name__`\n",
    "- Outside of `mymod.py`, when we `import mymod`, we have access to `mymod.__name__`.\n",
    "- So, inside of `mymod.py`, we have access to the variable `__name__`?\n",
    "\n"
   ]
  },
  {
   "cell_type": "code",
   "execution_count": 2,
   "id": "d67c10a1",
   "metadata": {},
   "outputs": [
    {
     "data": {
      "text/plain": [
       "'mymod'"
      ]
     },
     "execution_count": 2,
     "metadata": {},
     "output_type": "execute_result"
    }
   ],
   "source": [
    "mymod.__name__"
   ]
  },
  {
   "cell_type": "code",
   "execution_count": 1,
   "id": "511b3bbf",
   "metadata": {},
   "outputs": [
    {
     "name": "stdout",
     "output_type": "stream",
     "text": [
      "Hello from mymod!\n",
      "Goodbye from mymod!\n"
     ]
    }
   ],
   "source": [
    "import mymod"
   ]
  },
  {
   "cell_type": "markdown",
   "id": "371f8ac7",
   "metadata": {},
   "source": [
    "# `__name__` and `'__main__'`\n",
    "\n",
    "The variable `__name__` is always defined in Python.  It tells us what namespace we're currently in:\n",
    "\n",
    "- The first file loaded in a Python program, the one that we specify when we run Python from the command line, will always have the special string value `'__main__'` assigned to `__name__`.\n",
    "- If we import a module, then its `__name__` will be the string version of the module name.\n",
    "\n",
    "Meaning: If I `import mymod`, then `mymod` will believe that `__name__` is the string `'mymod'`.  But if I run `mymod.py` from the command line, then it will have `__name__` defined to be `'__main__'`.\n",
    "\n",
    "Who cares?\n",
    "\n",
    "This allows a module to distinguish between when it was imported, and when it is being run as an actual standalone program.  \n",
    "\n",
    "This means that we can ask the user for interactive input, or print things out, when the program is run, but not when it's imported.  We can have a two-faced module, one which is both importable and runnable."
   ]
  },
  {
   "cell_type": "code",
   "execution_count": 1,
   "id": "92989fea",
   "metadata": {},
   "outputs": [],
   "source": [
    "import mymod"
   ]
  },
  {
   "cell_type": "markdown",
   "id": "f13a7f9c",
   "metadata": {},
   "source": [
    "# Who uses this?\n",
    "\n",
    "Nearly every module in the Python world uses this technique, in different ways:\n",
    "\n",
    "- Some modules, when run, will test themselves\n",
    "- Some modules will give you a demo of their capabilities\n",
    "- Some modules will run interactive programs, using the functions they defined\n",
    "\n",
    "\n",
    "Remember (and this is hard):\n",
    "\n",
    "- `__name__` is a variable that contains a string\n",
    "- `'__main__'` is a string, assigned to `__name__` in certain circumstances."
   ]
  },
  {
   "cell_type": "markdown",
   "id": "67973d6c",
   "metadata": {},
   "source": [
    "# Next up\n",
    "\n",
    "1. Python standard library\n",
    "2. Modules vs. packages\n",
    "3. PyPI and `pip`\n",
    "4. What next? Your questions?"
   ]
  },
  {
   "cell_type": "code",
   "execution_count": 2,
   "id": "bbe9add4",
   "metadata": {},
   "outputs": [],
   "source": [
    "import os  # operating system -- info about files and directories"
   ]
  },
  {
   "cell_type": "code",
   "execution_count": 3,
   "id": "b0d971b2",
   "metadata": {},
   "outputs": [
    {
     "data": {
      "text/plain": [
       "['hello.py',\n",
       " \"O'Reilly - 2022-q2-apac-first-steps.ipynb\",\n",
       " 'First steps week 2, 2022 05May 20.ipynb',\n",
       " 'mini-access-log.txt',\n",
       " 'nums.txt',\n",
       " 'First steps week 3, 2022 05May 27.ipynb',\n",
       " 'config.txt',\n",
       " 'shoe-data.txt',\n",
       " 'linux-etc-passwd.txt',\n",
       " '__pycache__',\n",
       " 'README.md',\n",
       " 'First steps week 4, 2022 06June 03.ipynb',\n",
       " 'menu.py',\n",
       " 'wcfile.txt',\n",
       " 'exercise-files.zip',\n",
       " 'First steps week 5, 2022 06June 10.ipynb',\n",
       " 'myfile.txt',\n",
       " '.ipynb_checkpoints',\n",
       " '.git',\n",
       " 'mymod.py']"
      ]
     },
     "execution_count": 3,
     "metadata": {},
     "output_type": "execute_result"
    }
   ],
   "source": [
    "os.listdir('.')"
   ]
  },
  {
   "cell_type": "code",
   "execution_count": 4,
   "id": "8300c35a",
   "metadata": {},
   "outputs": [
    {
     "data": {
      "text/plain": [
       "os.stat_result(st_mode=33188, st_ino=76161725, st_dev=16777223, st_nlink=1, st_uid=501, st_gid=20, st_size=15, st_atime=1654831302, st_mtime=1654831301, st_ctime=1654831301)"
      ]
     },
     "execution_count": 4,
     "metadata": {},
     "output_type": "execute_result"
    }
   ],
   "source": [
    "os.stat('hello.py')"
   ]
  },
  {
   "cell_type": "code",
   "execution_count": 7,
   "id": "9dd86ab4",
   "metadata": {},
   "outputs": [
    {
     "name": "stdout",
     "output_type": "stream",
     "text": [
      "hello.py: 15\n",
      "O'Reilly - 2022-q2-apac-first-steps.ipynb: 76345\n",
      "First steps week 2, 2022 05May 20.ipynb: 90584\n",
      "mini-access-log.txt: 36562\n",
      "nums.txt: 42\n",
      "First steps week 3, 2022 05May 27.ipynb: 120970\n",
      "config.txt: 54\n",
      "shoe-data.txt: 1676\n",
      "linux-etc-passwd.txt: 2683\n",
      "__pycache__: 160\n",
      "README.md: 579\n",
      "First steps week 4, 2022 06June 03.ipynb: 101023\n",
      "menu.py: 244\n",
      "wcfile.txt: 165\n",
      "exercise-files.zip: 6148\n",
      "First steps week 5, 2022 06June 10.ipynb: 74554\n",
      "myfile.txt: 13\n",
      ".ipynb_checkpoints: 192\n",
      ".git: 416\n",
      "mymod.py: 450\n"
     ]
    }
   ],
   "source": [
    "# I could write a program that, given a directory, goes through each file and prints its name and size\n",
    "\n",
    "for one_filename in os.listdir('.'):\n",
    "    size = os.stat(one_filename).st_size\n",
    "    \n",
    "    print(f'{one_filename}: {size}')"
   ]
  },
  {
   "cell_type": "code",
   "execution_count": 12,
   "id": "c4772014",
   "metadata": {},
   "outputs": [],
   "source": [
    "def file_sizes(dirname):\n",
    "    output = {}\n",
    "    for one_filename in os.listdir(dirname):\n",
    "        output[one_filename] = os.stat(os.path.join(dirname, one_filename)).st_size\n",
    "\n",
    "    return output"
   ]
  },
  {
   "cell_type": "code",
   "execution_count": 13,
   "id": "931fd57c",
   "metadata": {},
   "outputs": [
    {
     "data": {
      "text/plain": [
       "{'hello.py': 15,\n",
       " \"O'Reilly - 2022-q2-apac-first-steps.ipynb\": 76345,\n",
       " 'First steps week 2, 2022 05May 20.ipynb': 90584,\n",
       " 'mini-access-log.txt': 36562,\n",
       " 'nums.txt': 42,\n",
       " 'First steps week 3, 2022 05May 27.ipynb': 120970,\n",
       " 'config.txt': 54,\n",
       " 'shoe-data.txt': 1676,\n",
       " 'linux-etc-passwd.txt': 2683,\n",
       " '__pycache__': 160,\n",
       " 'README.md': 579,\n",
       " 'First steps week 4, 2022 06June 03.ipynb': 101023,\n",
       " 'menu.py': 244,\n",
       " 'wcfile.txt': 165,\n",
       " 'exercise-files.zip': 6148,\n",
       " 'First steps week 5, 2022 06June 10.ipynb': 78311,\n",
       " 'myfile.txt': 13,\n",
       " '.ipynb_checkpoints': 192,\n",
       " '.git': 416,\n",
       " 'mymod.py': 450}"
      ]
     },
     "execution_count": 13,
     "metadata": {},
     "output_type": "execute_result"
    }
   ],
   "source": [
    "file_sizes('.')"
   ]
  },
  {
   "cell_type": "code",
   "execution_count": 14,
   "id": "02f94781",
   "metadata": {},
   "outputs": [
    {
     "ename": "FileNotFoundError",
     "evalue": "[Errno 2] No such file or directory: '/etc/X11'",
     "output_type": "error",
     "traceback": [
      "\u001b[0;31m---------------------------------------------------------------------------\u001b[0m",
      "\u001b[0;31mFileNotFoundError\u001b[0m                         Traceback (most recent call last)",
      "\u001b[0;32m/var/folders/rr/0mnyyv811fs5vyp22gf4fxk00000gn/T/ipykernel_58674/485422853.py\u001b[0m in \u001b[0;36m<module>\u001b[0;34m\u001b[0m\n\u001b[0;32m----> 1\u001b[0;31m \u001b[0mfile_sizes\u001b[0m\u001b[0;34m(\u001b[0m\u001b[0;34m'/etc'\u001b[0m\u001b[0;34m)\u001b[0m\u001b[0;34m\u001b[0m\u001b[0;34m\u001b[0m\u001b[0m\n\u001b[0m",
      "\u001b[0;32m/var/folders/rr/0mnyyv811fs5vyp22gf4fxk00000gn/T/ipykernel_58674/1838268411.py\u001b[0m in \u001b[0;36mfile_sizes\u001b[0;34m(dirname)\u001b[0m\n\u001b[1;32m      2\u001b[0m     \u001b[0moutput\u001b[0m \u001b[0;34m=\u001b[0m \u001b[0;34m{\u001b[0m\u001b[0;34m}\u001b[0m\u001b[0;34m\u001b[0m\u001b[0;34m\u001b[0m\u001b[0m\n\u001b[1;32m      3\u001b[0m     \u001b[0;32mfor\u001b[0m \u001b[0mone_filename\u001b[0m \u001b[0;32min\u001b[0m \u001b[0mos\u001b[0m\u001b[0;34m.\u001b[0m\u001b[0mlistdir\u001b[0m\u001b[0;34m(\u001b[0m\u001b[0mdirname\u001b[0m\u001b[0;34m)\u001b[0m\u001b[0;34m:\u001b[0m\u001b[0;34m\u001b[0m\u001b[0;34m\u001b[0m\u001b[0m\n\u001b[0;32m----> 4\u001b[0;31m         \u001b[0moutput\u001b[0m\u001b[0;34m[\u001b[0m\u001b[0mone_filename\u001b[0m\u001b[0;34m]\u001b[0m \u001b[0;34m=\u001b[0m \u001b[0mos\u001b[0m\u001b[0;34m.\u001b[0m\u001b[0mstat\u001b[0m\u001b[0;34m(\u001b[0m\u001b[0mos\u001b[0m\u001b[0;34m.\u001b[0m\u001b[0mpath\u001b[0m\u001b[0;34m.\u001b[0m\u001b[0mjoin\u001b[0m\u001b[0;34m(\u001b[0m\u001b[0mdirname\u001b[0m\u001b[0;34m,\u001b[0m \u001b[0mone_filename\u001b[0m\u001b[0;34m)\u001b[0m\u001b[0;34m)\u001b[0m\u001b[0;34m.\u001b[0m\u001b[0mst_size\u001b[0m\u001b[0;34m\u001b[0m\u001b[0;34m\u001b[0m\u001b[0m\n\u001b[0m\u001b[1;32m      5\u001b[0m \u001b[0;34m\u001b[0m\u001b[0m\n\u001b[1;32m      6\u001b[0m     \u001b[0;32mreturn\u001b[0m \u001b[0moutput\u001b[0m\u001b[0;34m\u001b[0m\u001b[0;34m\u001b[0m\u001b[0m\n",
      "\u001b[0;31mFileNotFoundError\u001b[0m: [Errno 2] No such file or directory: '/etc/X11'"
     ]
    }
   ],
   "source": [
    "file_sizes('/etc')"
   ]
  },
  {
   "cell_type": "code",
   "execution_count": 19,
   "id": "72e6c771",
   "metadata": {},
   "outputs": [
    {
     "data": {
      "text/plain": [
       "{'Think like a programmer': 96,\n",
       " 'Machine Learning': 224,\n",
       " \"Modi'in course suggestions\": 192,\n",
       " 'PostgreSQL': 224,\n",
       " 'Testing with pytest': 160,\n",
       " 'non-programmers': 1312,\n",
       " 'WPE': 1056,\n",
       " '.DS_Store': 38916,\n",
       " 'python-bootcamp': 128,\n",
       " 'HTML5': 256,\n",
       " 'Pytest': 288,\n",
       " 'Python': 352,\n",
       " 'XML Processing in Python': 416,\n",
       " 'Old': 1472,\n",
       " 'coaching-python': 128,\n",
       " 'Testing': 256,\n",
       " 'Humor': 160,\n",
       " 'Current': 736,\n",
       " 'Design Patterns': 352,\n",
       " 'Mypy': 160,\n",
       " 'Data Science': 544,\n",
       " 'Regular Expressions': 416,\n",
       " 'Files': 1216,\n",
       " 'DAB': 1216,\n",
       " 'Online': 1216,\n",
       " 'threading': 96,\n",
       " 'Django': 64,\n",
       " 'YouTube-notebooks': 1632,\n",
       " 'Ruby': 288,\n",
       " 'Git': 704,\n",
       " 'Master Python': 128}"
      ]
     },
     "execution_count": 19,
     "metadata": {},
     "output_type": "execute_result"
    }
   ],
   "source": [
    "file_sizes('/Users/reuven/Courses')"
   ]
  },
  {
   "cell_type": "markdown",
   "id": "485a10db",
   "metadata": {},
   "source": [
    "# Exercise: Total directory size\n",
    "\n",
    "1. Write a function, `dirsize`, that takes a directory name (string) as an argument.\n",
    "2. Inside of the function, go through each file in the directory (with `os.listdir`), and run `os.stat` on it, getting the size (`.st_size`).  Add that to the total, and return an integer - the total size of files in the directory.\n"
   ]
  },
  {
   "cell_type": "code",
   "execution_count": null,
   "id": "654add8b",
   "metadata": {},
   "outputs": [],
   "source": []
  },
  {
   "cell_type": "code",
   "execution_count": 20,
   "id": "83c2a4ff",
   "metadata": {},
   "outputs": [],
   "source": [
    "import os \n",
    "\n",
    "def file_sizes(dirname):\n",
    "    output = {}\n",
    "    for one_filename in os.listdir(dirname):\n",
    "        output[one_filename] = os.stat(os.path.join(dirname, one_filename)).st_size\n",
    "\n",
    "    return output"
   ]
  },
  {
   "cell_type": "code",
   "execution_count": 21,
   "id": "bc954206",
   "metadata": {},
   "outputs": [],
   "source": [
    "import os\n",
    "\n",
    "def dirsize(dirname):\n",
    "    total = 0\n",
    "    \n",
    "    for one_filename in os.listdir(dirname):\n",
    "        total += os.stat(os.path.join(dirname, one_filename)).st_size\n",
    "        \n",
    "    return total"
   ]
  },
  {
   "cell_type": "code",
   "execution_count": 23,
   "id": "f2e9e82f",
   "metadata": {},
   "outputs": [
    {
     "data": {
      "text/plain": [
       "154246782"
      ]
     },
     "execution_count": 23,
     "metadata": {},
     "output_type": "execute_result"
    }
   ],
   "source": [
    "dirsize('/Users/reuven/Desktop')"
   ]
  },
  {
   "cell_type": "code",
   "execution_count": 24,
   "id": "8b9f015d",
   "metadata": {},
   "outputs": [
    {
     "ename": "FileNotFoundError",
     "evalue": "[Errno 2] No such file or directory: '/Users/reuven/Downloads/.#ATT00002.txt'",
     "output_type": "error",
     "traceback": [
      "\u001b[0;31m---------------------------------------------------------------------------\u001b[0m",
      "\u001b[0;31mFileNotFoundError\u001b[0m                         Traceback (most recent call last)",
      "\u001b[0;32m/var/folders/rr/0mnyyv811fs5vyp22gf4fxk00000gn/T/ipykernel_58674/3195304043.py\u001b[0m in \u001b[0;36m<module>\u001b[0;34m\u001b[0m\n\u001b[0;32m----> 1\u001b[0;31m \u001b[0mdirsize\u001b[0m\u001b[0;34m(\u001b[0m\u001b[0;34m'/Users/reuven/Downloads'\u001b[0m\u001b[0;34m)\u001b[0m\u001b[0;34m\u001b[0m\u001b[0;34m\u001b[0m\u001b[0m\n\u001b[0m",
      "\u001b[0;32m/var/folders/rr/0mnyyv811fs5vyp22gf4fxk00000gn/T/ipykernel_58674/3813011120.py\u001b[0m in \u001b[0;36mdirsize\u001b[0;34m(dirname)\u001b[0m\n\u001b[1;32m      5\u001b[0m \u001b[0;34m\u001b[0m\u001b[0m\n\u001b[1;32m      6\u001b[0m     \u001b[0;32mfor\u001b[0m \u001b[0mone_filename\u001b[0m \u001b[0;32min\u001b[0m \u001b[0mos\u001b[0m\u001b[0;34m.\u001b[0m\u001b[0mlistdir\u001b[0m\u001b[0;34m(\u001b[0m\u001b[0mdirname\u001b[0m\u001b[0;34m)\u001b[0m\u001b[0;34m:\u001b[0m\u001b[0;34m\u001b[0m\u001b[0;34m\u001b[0m\u001b[0m\n\u001b[0;32m----> 7\u001b[0;31m         \u001b[0mtotal\u001b[0m \u001b[0;34m+=\u001b[0m \u001b[0mos\u001b[0m\u001b[0;34m.\u001b[0m\u001b[0mstat\u001b[0m\u001b[0;34m(\u001b[0m\u001b[0mos\u001b[0m\u001b[0;34m.\u001b[0m\u001b[0mpath\u001b[0m\u001b[0;34m.\u001b[0m\u001b[0mjoin\u001b[0m\u001b[0;34m(\u001b[0m\u001b[0mdirname\u001b[0m\u001b[0;34m,\u001b[0m \u001b[0mone_filename\u001b[0m\u001b[0;34m)\u001b[0m\u001b[0;34m)\u001b[0m\u001b[0;34m.\u001b[0m\u001b[0mst_size\u001b[0m\u001b[0;34m\u001b[0m\u001b[0;34m\u001b[0m\u001b[0m\n\u001b[0m\u001b[1;32m      8\u001b[0m \u001b[0;34m\u001b[0m\u001b[0m\n\u001b[1;32m      9\u001b[0m     \u001b[0;32mreturn\u001b[0m \u001b[0mtotal\u001b[0m\u001b[0;34m\u001b[0m\u001b[0;34m\u001b[0m\u001b[0m\n",
      "\u001b[0;31mFileNotFoundError\u001b[0m: [Errno 2] No such file or directory: '/Users/reuven/Downloads/.#ATT00002.txt'"
     ]
    }
   ],
   "source": [
    "dirsize('/Users/reuven/Downloads')"
   ]
  },
  {
   "cell_type": "code",
   "execution_count": 25,
   "id": "b18b3b52",
   "metadata": {},
   "outputs": [],
   "source": [
    "import os\n",
    "\n",
    "def dirsize(dirname):\n",
    "    total = 0\n",
    "    \n",
    "    for one_filename in os.listdir(dirname):\n",
    "        full_filename = os.path.join(dirname, one_filename)\n",
    "        \n",
    "        if os.path.exists(full_filename):\n",
    "            total += os.stat(full_filename).st_size\n",
    "        \n",
    "    return total"
   ]
  },
  {
   "cell_type": "code",
   "execution_count": 26,
   "id": "e0617944",
   "metadata": {},
   "outputs": [
    {
     "data": {
      "text/plain": [
       "11011872139"
      ]
     },
     "execution_count": 26,
     "metadata": {},
     "output_type": "execute_result"
    }
   ],
   "source": [
    "dirsize('/Users/reuven/Downloads')"
   ]
  },
  {
   "cell_type": "code",
   "execution_count": 27,
   "id": "3fcc203e",
   "metadata": {},
   "outputs": [
    {
     "data": {
      "text/plain": [
       "2512234"
      ]
     },
     "execution_count": 27,
     "metadata": {},
     "output_type": "execute_result"
    }
   ],
   "source": [
    "dirsize('/etc')"
   ]
  },
  {
   "cell_type": "markdown",
   "id": "1f2743c2",
   "metadata": {},
   "source": [
    "# Modules vs. packages\n",
    "\n",
    "A module is, as we've seen, an individual file with a `.py` extension.  It can contain definitions of functions, variables, and classes.\n",
    "\n",
    "What if you have several related modules? Then it becomes a pain to distribute them to other people.  You have to coordinate the use of several files at the same time.\n",
    "\n",
    "Python provides us with the idea of a \"package,\" a directory in which we have multiple modules.  You can import a package, and it can have special instructions for how to deal with the directory's import.\n",
    "\n",
    "When you import a module, you don't necessarily know if it's a module (one file) or a package (multiple files in a directory).  It works the same way in your Python program."
   ]
  },
  {
   "cell_type": "code",
   "execution_count": 28,
   "id": "89f84a6d",
   "metadata": {},
   "outputs": [
    {
     "data": {
      "text/plain": [
       "<module 'os' from '/usr/local/Cellar/python@3.10/3.10.4/Frameworks/Python.framework/Versions/3.10/lib/python3.10/os.py'>"
      ]
     },
     "execution_count": 28,
     "metadata": {},
     "output_type": "execute_result"
    }
   ],
   "source": [
    "os"
   ]
  },
  {
   "cell_type": "code",
   "execution_count": 29,
   "id": "7ce36fec",
   "metadata": {},
   "outputs": [
    {
     "data": {
      "text/plain": [
       "'/usr/local/Cellar/python@3.10/3.10.4/Frameworks/Python.framework/Versions/3.10/lib/python3.10/os.py'"
      ]
     },
     "execution_count": 29,
     "metadata": {},
     "output_type": "execute_result"
    }
   ],
   "source": [
    "os.__file__"
   ]
  },
  {
   "cell_type": "code",
   "execution_count": 31,
   "id": "bea610fa",
   "metadata": {},
   "outputs": [
    {
     "data": {
      "text/plain": [
       "'/usr/local/Cellar/python@3.10/3.10.4/Frameworks/Python.framework/Versions/3.10/lib/python3.10/random.py'"
      ]
     },
     "execution_count": 31,
     "metadata": {},
     "output_type": "execute_result"
    }
   ],
   "source": [
    "import random\n",
    "random.__file__"
   ]
  },
  {
   "cell_type": "code",
   "execution_count": 32,
   "id": "0a3b9291",
   "metadata": {},
   "outputs": [
    {
     "data": {
      "text/plain": [
       "['zipfile.py',\n",
       " 'shutil.py',\n",
       " 'tempfile.py',\n",
       " 'lib-dynload',\n",
       " 'encodings',\n",
       " 'queue.py',\n",
       " '_pyio.py',\n",
       " 'crypt.py',\n",
       " 'pkgutil.py',\n",
       " 'distutils',\n",
       " 'lzma.py',\n",
       " 'asyncore.py',\n",
       " '__phello__.foo.py',\n",
       " '_sitebuiltins.py',\n",
       " '_bootsubprocess.py',\n",
       " 'copyreg.py',\n",
       " 'sndhdr.py',\n",
       " 'rlcompleter.py',\n",
       " 'zoneinfo',\n",
       " 'gzip.py',\n",
       " 'ctypes',\n",
       " 'ipaddress.py',\n",
       " 'trace.py',\n",
       " 'webbrowser.py',\n",
       " 'nntplib.py',\n",
       " '_compat_pickle.py',\n",
       " 'unittest',\n",
       " 'dis.py',\n",
       " 'bdb.py',\n",
       " 'zipapp.py',\n",
       " 'cmd.py',\n",
       " 'tty.py',\n",
       " 'curses',\n",
       " 'tabnanny.py',\n",
       " '_py_abc.py',\n",
       " 'cProfile.py',\n",
       " 'zipimport.py',\n",
       " 'token.py',\n",
       " 'textwrap.py',\n",
       " 'base64.py',\n",
       " '_markupbase.py',\n",
       " 'bz2.py',\n",
       " 'signal.py',\n",
       " 'sre_constants.py',\n",
       " 'cgitb.py',\n",
       " '_aix_support.py',\n",
       " '_threading_local.py',\n",
       " 'pyclbr.py',\n",
       " 'test',\n",
       " 'gettext.py',\n",
       " 'wave.py',\n",
       " 'weakref.py',\n",
       " 'bisect.py',\n",
       " 'opcode.py',\n",
       " 'netrc.py',\n",
       " 'heapq.py',\n",
       " 'functools.py',\n",
       " 'modulefinder.py',\n",
       " '_compression.py',\n",
       " 'tracemalloc.py',\n",
       " 'hashlib.py',\n",
       " 'cgi.py',\n",
       " 'codeop.py',\n",
       " 'turtledemo',\n",
       " 'fnmatch.py',\n",
       " 'multiprocessing',\n",
       " 'traceback.py',\n",
       " 'nturl2path.py',\n",
       " 'warnings.py',\n",
       " 'subprocess.py',\n",
       " 'profile.py',\n",
       " 'imghdr.py',\n",
       " 'this.py',\n",
       " 'filecmp.py',\n",
       " 'codecs.py',\n",
       " 'urllib',\n",
       " 'uu.py',\n",
       " '_weakrefset.py',\n",
       " 'io.py',\n",
       " '_sysconfigdata__darwin_darwin.py',\n",
       " 'code.py',\n",
       " 'operator.py',\n",
       " 'fileinput.py',\n",
       " 'os.py',\n",
       " 'site-packages',\n",
       " 'difflib.py',\n",
       " 'pydoc.py',\n",
       " 'selectors.py',\n",
       " 'decimal.py',\n",
       " 'socketserver.py',\n",
       " 'copy.py',\n",
       " 'html',\n",
       " 'genericpath.py',\n",
       " 'linecache.py',\n",
       " 'types.py',\n",
       " 'tkinter',\n",
       " 'mimetypes.py',\n",
       " 'xdrlib.py',\n",
       " '__pycache__',\n",
       " 'colorsys.py',\n",
       " 'numbers.py',\n",
       " '_strptime.py',\n",
       " 'contextvars.py',\n",
       " 'random.py',\n",
       " 'ftplib.py',\n",
       " 'chunk.py',\n",
       " 'optparse.py',\n",
       " 'sitecustomize.py',\n",
       " 'xml',\n",
       " 'pdb.py',\n",
       " 'threading.py',\n",
       " 'turtle.py',\n",
       " 'platform.py',\n",
       " 'pstats.py',\n",
       " 'glob.py',\n",
       " 'quopri.py',\n",
       " 'symtable.py',\n",
       " 'pprint.py',\n",
       " 'calendar.py',\n",
       " 'inspect.py',\n",
       " 'wsgiref',\n",
       " 'poplib.py',\n",
       " 'binhex.py',\n",
       " 'plistlib.py',\n",
       " 'pickletools.py',\n",
       " 'pipes.py',\n",
       " 'site.py',\n",
       " 'json',\n",
       " 'telnetlib.py',\n",
       " 'keyword.py',\n",
       " 'configparser.py',\n",
       " 'reprlib.py',\n",
       " 'secrets.py',\n",
       " 'shlex.py',\n",
       " 'http',\n",
       " 'sqlite3',\n",
       " 'posixpath.py',\n",
       " 'py_compile.py',\n",
       " 'ensurepip',\n",
       " '_osx_support.py',\n",
       " 'stat.py',\n",
       " 'compileall.py',\n",
       " 'concurrent',\n",
       " 'csv.py',\n",
       " 'fractions.py',\n",
       " 'sched.py',\n",
       " 'config-3.10-darwin',\n",
       " 'imaplib.py',\n",
       " 'mailbox.py',\n",
       " 'sre_compile.py',\n",
       " 'locale.py',\n",
       " 'ast.py',\n",
       " 'doctest.py',\n",
       " 'argparse.py',\n",
       " 'getpass.py',\n",
       " 'pickle.py',\n",
       " 'pty.py',\n",
       " 'contextlib.py',\n",
       " 'statistics.py',\n",
       " '_collections_abc.py',\n",
       " 'sunau.py',\n",
       " '__future__.py',\n",
       " 'dataclasses.py',\n",
       " 'shelve.py',\n",
       " 'string.py',\n",
       " 'smtplib.py',\n",
       " 'venv',\n",
       " 'getopt.py',\n",
       " 'antigravity.py',\n",
       " 'enum.py',\n",
       " 'dbm',\n",
       " 'timeit.py',\n",
       " 'graphlib.py',\n",
       " 'hmac.py',\n",
       " 'tarfile.py',\n",
       " 'importlib',\n",
       " 'xmlrpc',\n",
       " 'stringprep.py',\n",
       " 'typing.py',\n",
       " 'LICENSE.txt',\n",
       " 'lib2to3',\n",
       " 'idlelib',\n",
       " 'pydoc_data',\n",
       " 'ssl.py',\n",
       " 'socket.py',\n",
       " 'datetime.py',\n",
       " 'sysconfig.py',\n",
       " 'collections',\n",
       " 'pathlib.py',\n",
       " '_pydecimal.py',\n",
       " 'ntpath.py',\n",
       " 'tokenize.py',\n",
       " 'uuid.py',\n",
       " 'asyncio',\n",
       " 'logging',\n",
       " 'imp.py',\n",
       " 'smtpd.py',\n",
       " 're.py',\n",
       " 'email',\n",
       " 'mailcap.py',\n",
       " 'aifc.py',\n",
       " 'struct.py',\n",
       " 'asynchat.py',\n",
       " 'sre_parse.py',\n",
       " 'abc.py',\n",
       " 'runpy.py']"
      ]
     },
     "execution_count": 32,
     "metadata": {},
     "output_type": "execute_result"
    }
   ],
   "source": [
    "os.listdir('/usr/local/Cellar/python@3.10/3.10.4/Frameworks/Python.framework/Versions/3.10/lib/python3.10/')"
   ]
  },
  {
   "cell_type": "code",
   "execution_count": 33,
   "id": "ecbd4269",
   "metadata": {},
   "outputs": [],
   "source": [
    "import urllib"
   ]
  },
  {
   "cell_type": "code",
   "execution_count": 34,
   "id": "cddf00fa",
   "metadata": {},
   "outputs": [
    {
     "data": {
      "text/plain": [
       "'/usr/local/Cellar/python@3.10/3.10.4/Frameworks/Python.framework/Versions/3.10/lib/python3.10/urllib/__init__.py'"
      ]
     },
     "execution_count": 34,
     "metadata": {},
     "output_type": "execute_result"
    }
   ],
   "source": [
    "urllib.__file__"
   ]
  },
  {
   "cell_type": "code",
   "execution_count": 35,
   "id": "f868917b",
   "metadata": {},
   "outputs": [
    {
     "name": "stdout",
     "output_type": "stream",
     "text": [
      "__init__.py  error.py  request.py   robotparser.py\r\n",
      "__pycache__  parse.py  response.py\r\n"
     ]
    }
   ],
   "source": [
    "!ls /usr/local/Cellar/python@3.10/3.10.4/Frameworks/Python.framework/Versions/3.10/lib/python3.10/urllib/"
   ]
  },
  {
   "cell_type": "code",
   "execution_count": 37,
   "id": "853b9104",
   "metadata": {},
   "outputs": [
    {
     "name": "stdout",
     "output_type": "stream",
     "text": [
      "-rw-r--r-- 1 reuven admin 0 Mar 23 22:25 /usr/local/Cellar/python@3.10/3.10.4/Frameworks/Python.framework/Versions/3.10/lib/python3.10/urllib/__init__.py\r\n"
     ]
    }
   ],
   "source": [
    "!ls -lh /usr/local/Cellar/python@3.10/3.10.4/Frameworks/Python.framework/Versions/3.10/lib/python3.10/urllib/__init__.py"
   ]
  },
  {
   "cell_type": "code",
   "execution_count": 40,
   "id": "d7187cd6",
   "metadata": {},
   "outputs": [
    {
     "name": "stdout",
     "output_type": "stream",
     "text": [
      "\"\"\"Core XML support for Python.\r\n",
      "\r\n",
      "This package contains four sub-packages:\r\n",
      "\r\n",
      "dom -- The W3C Document Object Model.  This supports DOM Level 1 +\r\n",
      "       Namespaces.\r\n",
      "\r\n",
      "parsers -- Python wrappers for XML parsers (currently only supports Expat).\r\n",
      "\r\n",
      "sax -- The Simple API for XML, developed by XML-Dev, led by David\r\n",
      "       Megginson and ported to Python by Lars Marius Garshol.  This\r\n",
      "       supports the SAX 2 API.\r\n",
      "\r\n",
      "etree -- The ElementTree XML library.  This is a subset of the full\r\n",
      "       ElementTree XML release.\r\n",
      "\r\n",
      "\"\"\"\r\n",
      "\r\n",
      "\r\n",
      "__all__ = [\"dom\", \"parsers\", \"sax\", \"etree\"]\r\n"
     ]
    }
   ],
   "source": [
    "!cat   /usr/local/Cellar/python@3.10/3.10.4/Frameworks/Python.framework/Versions/3.10/lib/python3.10/xml/__init__.py"
   ]
  },
  {
   "cell_type": "code",
   "execution_count": 41,
   "id": "492c1520",
   "metadata": {},
   "outputs": [],
   "source": [
    "# method 1 for importing from \"mypackage\": Use . as a directory/file separator\n",
    "\n",
    "import mypackage.moda\n",
    "import mypackage.modb"
   ]
  },
  {
   "cell_type": "code",
   "execution_count": 42,
   "id": "d3460eae",
   "metadata": {},
   "outputs": [
    {
     "data": {
      "text/plain": [
       "'Hello from moda, world!'"
      ]
     },
     "execution_count": 42,
     "metadata": {},
     "output_type": "execute_result"
    }
   ],
   "source": [
    "mypackage.moda.hello('world')"
   ]
  },
  {
   "cell_type": "code",
   "execution_count": 43,
   "id": "c6411743",
   "metadata": {},
   "outputs": [
    {
     "data": {
      "text/plain": [
       "'Hello from modb, world!'"
      ]
     },
     "execution_count": 43,
     "metadata": {},
     "output_type": "execute_result"
    }
   ],
   "source": [
    "mypackage.modb.hello('world')"
   ]
  },
  {
   "cell_type": "code",
   "execution_count": 1,
   "id": "b33e7b4b",
   "metadata": {},
   "outputs": [],
   "source": [
    "# method 2 for importing \"mypackage\": Use \"from .. import\"\n",
    "\n",
    "from mypackage import moda, modb"
   ]
  },
  {
   "cell_type": "code",
   "execution_count": 2,
   "id": "22a49f2c",
   "metadata": {},
   "outputs": [
    {
     "data": {
      "text/plain": [
       "'Hello from moda, world!'"
      ]
     },
     "execution_count": 2,
     "metadata": {},
     "output_type": "execute_result"
    }
   ],
   "source": [
    "moda.hello('world')"
   ]
  },
  {
   "cell_type": "code",
   "execution_count": 3,
   "id": "a275ef24",
   "metadata": {},
   "outputs": [
    {
     "data": {
      "text/plain": [
       "'Hello from modb, world!'"
      ]
     },
     "execution_count": 3,
     "metadata": {},
     "output_type": "execute_result"
    }
   ],
   "source": [
    "modb.hello('world')"
   ]
  },
  {
   "cell_type": "code",
   "execution_count": 1,
   "id": "e4351f9c",
   "metadata": {},
   "outputs": [],
   "source": [
    "import mypackage"
   ]
  },
  {
   "cell_type": "code",
   "execution_count": 2,
   "id": "faf9163c",
   "metadata": {},
   "outputs": [
    {
     "data": {
      "text/plain": [
       "module"
      ]
     },
     "execution_count": 2,
     "metadata": {},
     "output_type": "execute_result"
    }
   ],
   "source": [
    "type(mypackage)"
   ]
  },
  {
   "cell_type": "code",
   "execution_count": 3,
   "id": "32ad3f24",
   "metadata": {},
   "outputs": [
    {
     "data": {
      "text/plain": [
       "['__doc__',\n",
       " '__file__',\n",
       " '__loader__',\n",
       " '__name__',\n",
       " '__package__',\n",
       " '__path__',\n",
       " '__spec__']"
      ]
     },
     "execution_count": 3,
     "metadata": {},
     "output_type": "execute_result"
    }
   ],
   "source": [
    "dir(mypackage)"
   ]
  },
  {
   "cell_type": "code",
   "execution_count": 4,
   "id": "28f59f9a",
   "metadata": {},
   "outputs": [
    {
     "ename": "AttributeError",
     "evalue": "module 'mypackage' has no attribute 'moda'",
     "output_type": "error",
     "traceback": [
      "\u001b[0;31m---------------------------------------------------------------------------\u001b[0m",
      "\u001b[0;31mAttributeError\u001b[0m                            Traceback (most recent call last)",
      "\u001b[0;32m/var/folders/rr/0mnyyv811fs5vyp22gf4fxk00000gn/T/ipykernel_62706/3936317799.py\u001b[0m in \u001b[0;36m<module>\u001b[0;34m\u001b[0m\n\u001b[0;32m----> 1\u001b[0;31m \u001b[0mmypackage\u001b[0m\u001b[0;34m.\u001b[0m\u001b[0mmoda\u001b[0m\u001b[0;34m\u001b[0m\u001b[0;34m\u001b[0m\u001b[0m\n\u001b[0m",
      "\u001b[0;31mAttributeError\u001b[0m: module 'mypackage' has no attribute 'moda'"
     ]
    }
   ],
   "source": [
    "mypackage.moda"
   ]
  },
  {
   "cell_type": "code",
   "execution_count": 1,
   "id": "3cf313c1",
   "metadata": {},
   "outputs": [],
   "source": [
    "# method 3: we define __init__.py in mypackage, which will execute when we import the package\n",
    "import mypackage"
   ]
  },
  {
   "cell_type": "code",
   "execution_count": 2,
   "id": "fd85f435",
   "metadata": {},
   "outputs": [
    {
     "data": {
      "text/plain": [
       "['__builtins__',\n",
       " '__cached__',\n",
       " '__doc__',\n",
       " '__file__',\n",
       " '__loader__',\n",
       " '__name__',\n",
       " '__package__',\n",
       " '__path__',\n",
       " '__spec__',\n",
       " 'moda',\n",
       " 'modb']"
      ]
     },
     "execution_count": 2,
     "metadata": {},
     "output_type": "execute_result"
    }
   ],
   "source": [
    "dir(mypackage)"
   ]
  },
  {
   "cell_type": "markdown",
   "id": "f4d9d963",
   "metadata": {},
   "source": [
    "# Next up\n",
    "\n",
    "1. PyPI -- the Python package index\n",
    "2. `pip` -- the Python installer for packages\n",
    "3. Your questions about Python, software engineering, AMA!"
   ]
  },
  {
   "cell_type": "code",
   "execution_count": 3,
   "id": "ecea2fda",
   "metadata": {},
   "outputs": [],
   "source": [
    "import rich"
   ]
  },
  {
   "cell_type": "code",
   "execution_count": 4,
   "id": "9844bdc4",
   "metadata": {},
   "outputs": [
    {
     "data": {
      "text/html": [
       "<pre style=\"white-space:pre;overflow-x:auto;line-height:normal;font-family:Menlo,'DejaVu Sans Mono',consolas,'Courier New',monospace\">Hello, world!\n",
       "</pre>\n"
      ],
      "text/plain": [
       "Hello, world!\n"
      ]
     },
     "metadata": {},
     "output_type": "display_data"
    }
   ],
   "source": [
    "rich.print('Hello, world!')"
   ]
  },
  {
   "cell_type": "code",
   "execution_count": 6,
   "id": "47f5baf6",
   "metadata": {},
   "outputs": [
    {
     "data": {
      "text/html": [
       "<pre style=\"white-space:pre;overflow-x:auto;line-height:normal;font-family:Menlo,'DejaVu Sans Mono',consolas,'Courier New',monospace\">Look at this: <span style=\"color: #800000; text-decoration-color: #800000; font-weight: bold\">Hello, world!</span>.  Pretty neat, right?\n",
       "</pre>\n"
      ],
      "text/plain": [
       "Look at this: \u001b[1;31mHello, world!\u001b[0m.  Pretty neat, right?\n"
      ]
     },
     "metadata": {},
     "output_type": "display_data"
    }
   ],
   "source": [
    "rich.print('Look at this: [bold][red]Hello, world![/red][/bold].  Pretty neat, right?')"
   ]
  },
  {
   "cell_type": "code",
   "execution_count": 7,
   "id": "ce8d6008",
   "metadata": {},
   "outputs": [
    {
     "data": {
      "text/plain": [
       "'/usr/local/lib/python3.10/site-packages/rich/__init__.py'"
      ]
     },
     "execution_count": 7,
     "metadata": {},
     "output_type": "execute_result"
    }
   ],
   "source": [
    "rich.__file__"
   ]
  },
  {
   "cell_type": "markdown",
   "id": "550712f7",
   "metadata": {},
   "source": [
    "# Data structures vs. algorithms\n",
    "\n",
    "Data structures are nouns.  They describe how we organize our data.  \n",
    "\n",
    "We've seen a bunch of data structures:\n",
    "\n",
    "- Strings\n",
    "- Lists\n",
    "- Tuples\n",
    "- Dicts\n",
    "\n",
    "Algorithms are procedures, recipes, for solving problems.  \n",
    "\n",
    "Our data structures are implemented using algorithms.  For example, how does a dict add a new key-value pair?  It uses an algorithm for that, to know whether the location in memory it wants to use has already been taken (or not).\n",
    "\n",
    "We can write (or implement) algorithms using data structures. \n",
    "\n",
    "Some common algorithms that people want to learn have to do with:\n",
    "- Searching\n",
    "- Sorting\n",
    "\n"
   ]
  },
  {
   "cell_type": "markdown",
   "id": "f25123a3",
   "metadata": {},
   "source": [
    "# Data science -- what do you need to know?\n",
    "\n",
    "Data science is:\n",
    "- Data analytics (meaning: make sense of what you already know)\n",
    "- Data engineering (meaning: getting data from the outside world into your program)\n",
    "- Machine learning (meaning: make predictions based on data you've collected)\n",
    "\n",
    "To work in data science, you need to know (a) Python and (b) NumPy and/or Pandas.  Those are the data structures you'll use day to day.\n",
    "\n",
    "Data engineering requires knowledge of SQL and all sorts of communication systems that I don't know a lot about.  Maybe also clustering, cloud computing, and 3rd party services like AWS.\n",
    "\n",
    "Machine learning requires knowing about some algorithms (to compare them), testing your models (to know which one is most accurate), cleaning your data, and tricks/tips to improve your model's predictive ability."
   ]
  },
  {
   "cell_type": "markdown",
   "id": "7732547e",
   "metadata": {},
   "source": [
    "# Picking projects\n",
    "\n",
    "How can you get better at programming? Program!\n",
    "\n",
    "One option: Do something for work. Then you're getting paid! But.. work might not want to pay for your learning curve.\n",
    "\n",
    "Option 2: Do something for yourself! Solve a problem you have at home, even a small one.\n",
    "\n",
    "Option 3: Join an open-source project. Which one? Choose it based on two factors: (1) you care about it and (2) the people running it are nice.  If you can find a mentored sprint at a Python conference, on a topic you care about, that's the best.  Second best are non-mentored sprints.  Third best is -- e-mail the people in charge of the project, and ask where they need help.\n",
    "\n",
    "Hint: Often, the most help is needed in documentation, debugging.\n",
    "\n"
   ]
  },
  {
   "cell_type": "code",
   "execution_count": null,
   "id": "a77bcea6",
   "metadata": {},
   "outputs": [],
   "source": []
  }
 ],
 "metadata": {
  "kernelspec": {
   "display_name": "Python 3 (ipykernel)",
   "language": "python",
   "name": "python3"
  },
  "language_info": {
   "codemirror_mode": {
    "name": "ipython",
    "version": 3
   },
   "file_extension": ".py",
   "mimetype": "text/x-python",
   "name": "python",
   "nbconvert_exporter": "python",
   "pygments_lexer": "ipython3",
   "version": "3.10.4"
  }
 },
 "nbformat": 4,
 "nbformat_minor": 5
}
