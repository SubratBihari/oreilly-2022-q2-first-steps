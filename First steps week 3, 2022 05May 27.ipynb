{
 "cells": [
  {
   "cell_type": "markdown",
   "id": "1fbb0d35",
   "metadata": {},
   "source": [
    "# Week 3: Dictionaries and files\n",
    "\n",
    "1. Data structures recap\n",
    "2. Dictionaries\n",
    "    - Creating them\n",
    "    - Using them\n",
    "    - Dictionaries vs. other data structures\n",
    "    - The different paradigms for dict use\n",
    "3. Files\n",
    "    - (Just text files)\n",
    "    - Reading from files\n",
    "    - Writing to files\n",
    "    - files.lerner.co.il, grab the first zipfile, for basic/intro Python (https://files.lerner.co.il/exercise-files.zip)"
   ]
  },
  {
   "cell_type": "markdown",
   "id": "50c4ae11",
   "metadata": {},
   "source": [
    "# Data structures so far\n",
    "\n",
    "1. Numbers (`int` and `float`)\n",
    "    - Counting\n",
    "    - Calculating\n",
    "    - Indexes into strings/lists/tuples\n",
    "    - Used in data science\n",
    "    - *Neither* 32, nor 64-bit integers.  Integers in Python will take as much memory as possible to keep the number in memory.  So if you have a 1,000,000-digit integer, that's OK!\n",
    "2. Strings\n",
    "    - Text we want to print\n",
    "    - Input from the user\n",
    "    - Keys in dictionaries\n",
    "    - Reading from / writing to files\n",
    "    - Ordered, with an index starting at 0\n",
    "    - Immutable -- cannot be changed, once created\n",
    "3. Lists\n",
    "    - (Traditionally) collections of the same type -- list of numbers, list of strings\n",
    "    - List of usernames, or a list of IP addresses, or a list of filenames\n",
    "    - Often, we'll iterate over a list with a `for` loop\n",
    "    - These are ordered, with an index starting at 0\n",
    "    - Lists are mutable -- they can be changed, and extended, once created\n",
    "4. Tuples\n",
    "    - (Traditionally) collections of different types\n",
    "    - Used as records/struct\n",
    "    - Behind the scenes, Python uses tuples when we call functions (to pass the arguments)\n",
    "    - Immutable, like strings\n",
    "    - Can contain anything, like lists\n",
    "    \n",
    "Lists and tuples can both contain any combination of any types you want, including other lists and tuples.    \n",
    "    \n",
    "Strings, lists, and tuples are all \"sequences,\" with a common family of functionality:\n",
    "- They all use 0-based indexes\n",
    "- Retrieve one item with `[i]`\n",
    "- Retrieve a slice with `[start:end]` or even `[start:end:step]`\n",
    "- You can iterate over them all with `for` loops\n",
    "- You can search in them with `in`\n"
   ]
  },
  {
   "cell_type": "markdown",
   "id": "15b41c84",
   "metadata": {},
   "source": [
    "# What about arrays?\n",
    "\n",
    "An array is a data structure in many different programming languages.  It is an ordered collection, often with an index starting at 0.  (Sometimes, in some languages, it starts with 1, but that's not important.)\n",
    "\n",
    "So, are lists arrays?  The answer is: No.  Why not?  Because by definition, an array is:\n",
    "\n",
    "1. All of one type.\n",
    "2. Unchanging in size from when it was first created.\n",
    "\n",
    "Lists violate both of these rules, so they aren't arrays.\n",
    "\n",
    "Do we have arrays in Python?  Do we need arrays in Python?\n",
    "\n",
    "And the answer is... there is an \"array\" type in Python, but it's used so rarely that it'll soon be removed from the language.\n",
    "\n",
    "In the world of data science, we use NumPy and Pandas, two add-on extension packages.  These define arrays that are *very* popular.  But they're not core to the language."
   ]
  },
  {
   "cell_type": "markdown",
   "id": "a3efda59",
   "metadata": {},
   "source": [
    "# Dictionary\n",
    "\n",
    "If you've used other programming languages before, then you might be familiar with \"dicts\" (as they're known in Python) by another name:\n",
    "\n",
    "- Hash maps\n",
    "- Hashes\n",
    "- Maps\n",
    "- Associative arrays\n",
    "- Hash tables\n",
    "- Key-value stores\n",
    "- Name-value stores\n",
    "\n",
    "The ideas behind a dictionary are:\n",
    "\n",
    "- Data comes in pairs (known as a key and value, or a name and value)\n",
    "- You can decide what the keys and values are\n",
    "- Nearly any type of data can be a key\n",
    "- Any type of data can be a value\n",
    "\n",
    "It turns out that a very large number of programming problems can be solved with key-value pairs."
   ]
  },
  {
   "cell_type": "code",
   "execution_count": 4,
   "id": "9d6eaac4",
   "metadata": {},
   "outputs": [],
   "source": [
    "# let's define a dict:\n",
    "\n",
    "# (1) we use {} around the dictionary\n",
    "# (2) The keys and values are separated by :\n",
    "# (3) Each key-value pair is separated from other pairs by ,\n",
    "# (4) All keys have values, all values have keys\n",
    "\n",
    "d = {'a':10, 'b':20, 'c':30}\n",
    "\n",
    "# first pair: key is the string 'a', value is the int 10\n",
    "# second pair: key is the string 'b', value is the int 20\n",
    "# third pair: key is the string 'c', value is the int 30\n"
   ]
  },
  {
   "cell_type": "code",
   "execution_count": 2,
   "id": "905c5aa2",
   "metadata": {},
   "outputs": [
    {
     "data": {
      "text/plain": [
       "dict"
      ]
     },
     "execution_count": 2,
     "metadata": {},
     "output_type": "execute_result"
    }
   ],
   "source": [
    "# let's ask Python: What is d?\n",
    "type(d)"
   ]
  },
  {
   "cell_type": "code",
   "execution_count": 3,
   "id": "c5f3b712",
   "metadata": {},
   "outputs": [
    {
     "data": {
      "text/plain": [
       "3"
      ]
     },
     "execution_count": 3,
     "metadata": {},
     "output_type": "execute_result"
    }
   ],
   "source": [
    "# how many key-value pairs are there in d?\n",
    "len(d)"
   ]
  },
  {
   "cell_type": "code",
   "execution_count": 6,
   "id": "7d2f54da",
   "metadata": {},
   "outputs": [
    {
     "ename": "NameError",
     "evalue": "name 'a' is not defined",
     "output_type": "error",
     "traceback": [
      "\u001b[0;31m---------------------------------------------------------------------------\u001b[0m",
      "\u001b[0;31mNameError\u001b[0m                                 Traceback (most recent call last)",
      "\u001b[0;32m/var/folders/rr/0mnyyv811fs5vyp22gf4fxk00000gn/T/ipykernel_29532/1908958534.py\u001b[0m in \u001b[0;36m<module>\u001b[0;34m\u001b[0m\n\u001b[1;32m      1\u001b[0m \u001b[0;31m# what happens if I don't put quotes around 'a', 'b', and 'c'\u001b[0m\u001b[0;34m\u001b[0m\u001b[0;34m\u001b[0m\u001b[0m\n\u001b[1;32m      2\u001b[0m \u001b[0;34m\u001b[0m\u001b[0m\n\u001b[0;32m----> 3\u001b[0;31m \u001b[0md\u001b[0m \u001b[0;34m=\u001b[0m \u001b[0;34m{\u001b[0m\u001b[0ma\u001b[0m\u001b[0;34m:\u001b[0m\u001b[0;36m10\u001b[0m\u001b[0;34m,\u001b[0m \u001b[0mb\u001b[0m\u001b[0;34m:\u001b[0m\u001b[0;36m20\u001b[0m\u001b[0;34m,\u001b[0m \u001b[0mc\u001b[0m\u001b[0;34m:\u001b[0m\u001b[0;36m30\u001b[0m\u001b[0;34m}\u001b[0m\u001b[0;34m\u001b[0m\u001b[0;34m\u001b[0m\u001b[0m\n\u001b[0m\u001b[1;32m      4\u001b[0m \u001b[0;34m\u001b[0m\u001b[0m\n\u001b[1;32m      5\u001b[0m \u001b[0;31m# first pair: key is the value in the variable a, value is the int 10\u001b[0m\u001b[0;34m\u001b[0m\u001b[0;34m\u001b[0m\u001b[0m\n",
      "\u001b[0;31mNameError\u001b[0m: name 'a' is not defined"
     ]
    }
   ],
   "source": [
    "# what happens if I don't put quotes around 'a', 'b', and 'c'\n",
    "\n",
    "d = {a:10, b:20, c:30}\n",
    "\n",
    "# first pair: key is the value in the variable a, value is the int 10\n",
    "# second pair: key is the value in the variable b, value is the int 20\n",
    "# third pair: key is the value in the variable c, value is the int 30\n"
   ]
  },
  {
   "cell_type": "code",
   "execution_count": 7,
   "id": "905d4317",
   "metadata": {},
   "outputs": [
    {
     "data": {
      "text/plain": [
       "{'a': 10, 'b': 20, 'c': 30}"
      ]
     },
     "execution_count": 7,
     "metadata": {},
     "output_type": "execute_result"
    }
   ],
   "source": [
    "d"
   ]
  },
  {
   "cell_type": "code",
   "execution_count": 8,
   "id": "72b77cf6",
   "metadata": {},
   "outputs": [
    {
     "data": {
      "text/plain": [
       "10"
      ]
     },
     "execution_count": 8,
     "metadata": {},
     "output_type": "execute_result"
    }
   ],
   "source": [
    "# we can retrieve from a dict with [], just like with strings, lists, and tuples\n",
    "# but now we don't use the index (starting at 0), but rather the key\n",
    "\n",
    "d['a']"
   ]
  },
  {
   "cell_type": "code",
   "execution_count": 9,
   "id": "3ee8c7dd",
   "metadata": {},
   "outputs": [
    {
     "data": {
      "text/plain": [
       "20"
      ]
     },
     "execution_count": 9,
     "metadata": {},
     "output_type": "execute_result"
    }
   ],
   "source": [
    "d['b']"
   ]
  },
  {
   "cell_type": "code",
   "execution_count": 10,
   "id": "772d0a1d",
   "metadata": {},
   "outputs": [
    {
     "data": {
      "text/plain": [
       "30"
      ]
     },
     "execution_count": 10,
     "metadata": {},
     "output_type": "execute_result"
    }
   ],
   "source": [
    "d['c']"
   ]
  },
  {
   "cell_type": "code",
   "execution_count": 11,
   "id": "95544375",
   "metadata": {},
   "outputs": [
    {
     "ename": "KeyError",
     "evalue": "'x'",
     "output_type": "error",
     "traceback": [
      "\u001b[0;31m---------------------------------------------------------------------------\u001b[0m",
      "\u001b[0;31mKeyError\u001b[0m                                  Traceback (most recent call last)",
      "\u001b[0;32m/var/folders/rr/0mnyyv811fs5vyp22gf4fxk00000gn/T/ipykernel_29532/1278128738.py\u001b[0m in \u001b[0;36m<module>\u001b[0;34m\u001b[0m\n\u001b[1;32m      1\u001b[0m \u001b[0;31m# what happens if I retrieve a key that doesn't exist?\u001b[0m\u001b[0;34m\u001b[0m\u001b[0;34m\u001b[0m\u001b[0m\n\u001b[0;32m----> 2\u001b[0;31m \u001b[0md\u001b[0m\u001b[0;34m[\u001b[0m\u001b[0;34m'x'\u001b[0m\u001b[0;34m]\u001b[0m\u001b[0;34m\u001b[0m\u001b[0;34m\u001b[0m\u001b[0m\n\u001b[0m",
      "\u001b[0;31mKeyError\u001b[0m: 'x'"
     ]
    }
   ],
   "source": [
    "# what happens if I retrieve a key that doesn't exist?\n",
    "d['x']"
   ]
  },
  {
   "cell_type": "code",
   "execution_count": 12,
   "id": "8d16e273",
   "metadata": {},
   "outputs": [
    {
     "data": {
      "text/plain": [
       "True"
      ]
     },
     "execution_count": 12,
     "metadata": {},
     "output_type": "execute_result"
    }
   ],
   "source": [
    "# how can I check to see if a key is in a dict?\n",
    "# I can use \"in\" to look for that.\n",
    "# (\"in\" only looks at the keys, not at the values)\n",
    "\n",
    "'a' in d"
   ]
  },
  {
   "cell_type": "code",
   "execution_count": 13,
   "id": "18be9a8f",
   "metadata": {},
   "outputs": [
    {
     "data": {
      "text/plain": [
       "True"
      ]
     },
     "execution_count": 13,
     "metadata": {},
     "output_type": "execute_result"
    }
   ],
   "source": [
    "'b' in d"
   ]
  },
  {
   "cell_type": "code",
   "execution_count": 14,
   "id": "f8a07baa",
   "metadata": {},
   "outputs": [
    {
     "data": {
      "text/plain": [
       "True"
      ]
     },
     "execution_count": 14,
     "metadata": {},
     "output_type": "execute_result"
    }
   ],
   "source": [
    "'c' in d"
   ]
  },
  {
   "cell_type": "code",
   "execution_count": 15,
   "id": "d24b42f6",
   "metadata": {},
   "outputs": [
    {
     "data": {
      "text/plain": [
       "False"
      ]
     },
     "execution_count": 15,
     "metadata": {},
     "output_type": "execute_result"
    }
   ],
   "source": [
    "'x' in d"
   ]
  },
  {
   "cell_type": "code",
   "execution_count": 16,
   "id": "3710049a",
   "metadata": {},
   "outputs": [
    {
     "name": "stdout",
     "output_type": "stream",
     "text": [
      "10\n"
     ]
    }
   ],
   "source": [
    "k = 'a'\n",
    "\n",
    "print(d[k])  # retrieve the value associated with d[k], where k is a variable whose value is 'a'"
   ]
  },
  {
   "cell_type": "code",
   "execution_count": 20,
   "id": "cdf72e43",
   "metadata": {},
   "outputs": [
    {
     "name": "stdout",
     "output_type": "stream",
     "text": [
      "Enter a key: x\n"
     ]
    },
    {
     "ename": "KeyError",
     "evalue": "'x'",
     "output_type": "error",
     "traceback": [
      "\u001b[0;31m---------------------------------------------------------------------------\u001b[0m",
      "\u001b[0;31mKeyError\u001b[0m                                  Traceback (most recent call last)",
      "\u001b[0;32m/var/folders/rr/0mnyyv811fs5vyp22gf4fxk00000gn/T/ipykernel_29532/2513994380.py\u001b[0m in \u001b[0;36m<module>\u001b[0;34m\u001b[0m\n\u001b[1;32m      1\u001b[0m \u001b[0mk\u001b[0m \u001b[0;34m=\u001b[0m \u001b[0minput\u001b[0m\u001b[0;34m(\u001b[0m\u001b[0;34m'Enter a key: '\u001b[0m\u001b[0;34m)\u001b[0m\u001b[0;34m.\u001b[0m\u001b[0mstrip\u001b[0m\u001b[0;34m(\u001b[0m\u001b[0;34m)\u001b[0m\u001b[0;34m\u001b[0m\u001b[0;34m\u001b[0m\u001b[0m\n\u001b[1;32m      2\u001b[0m \u001b[0;34m\u001b[0m\u001b[0m\n\u001b[0;32m----> 3\u001b[0;31m \u001b[0mprint\u001b[0m\u001b[0;34m(\u001b[0m\u001b[0md\u001b[0m\u001b[0;34m[\u001b[0m\u001b[0mk\u001b[0m\u001b[0;34m]\u001b[0m\u001b[0;34m)\u001b[0m\u001b[0;34m\u001b[0m\u001b[0;34m\u001b[0m\u001b[0m\n\u001b[0m",
      "\u001b[0;31mKeyError\u001b[0m: 'x'"
     ]
    }
   ],
   "source": [
    "k = input('Enter a key: ').strip()\n",
    "\n",
    "print(d[k])"
   ]
  },
  {
   "cell_type": "markdown",
   "id": "936d7e4f",
   "metadata": {},
   "source": [
    "# Dict rules\n",
    "\n",
    "1. Keys must be *immutable* types, normally meaning integers and strings.  (Tuples can be, but that's much rarer.)\n",
    "2. Values can be any type at all, without any exceptions.\n",
    "3. Keys are unique. A key can exist only once in a dict.  Values can recur as often as we want."
   ]
  },
  {
   "cell_type": "code",
   "execution_count": 21,
   "id": "4079db0c",
   "metadata": {},
   "outputs": [],
   "source": [
    "# one use for a dict is as a small database\n",
    "\n",
    "person = {'first':'Reuven', 'last':'Lerner', 'shoesize':46}"
   ]
  },
  {
   "cell_type": "code",
   "execution_count": 22,
   "id": "8ceb6f98",
   "metadata": {},
   "outputs": [
    {
     "data": {
      "text/plain": [
       "'Reuven'"
      ]
     },
     "execution_count": 22,
     "metadata": {},
     "output_type": "execute_result"
    }
   ],
   "source": [
    "person['first']"
   ]
  },
  {
   "cell_type": "code",
   "execution_count": 23,
   "id": "f15a9a9c",
   "metadata": {},
   "outputs": [
    {
     "data": {
      "text/plain": [
       "'Lerner'"
      ]
     },
     "execution_count": 23,
     "metadata": {},
     "output_type": "execute_result"
    }
   ],
   "source": [
    "person['last']"
   ]
  },
  {
   "cell_type": "code",
   "execution_count": 24,
   "id": "97d8b476",
   "metadata": {},
   "outputs": [
    {
     "data": {
      "text/plain": [
       "46"
      ]
     },
     "execution_count": 24,
     "metadata": {},
     "output_type": "execute_result"
    }
   ],
   "source": [
    "person['shoesize']"
   ]
  },
  {
   "cell_type": "code",
   "execution_count": 25,
   "id": "50361faf",
   "metadata": {},
   "outputs": [],
   "source": [
    "# this is much easier to read (I think!) than a list or tuple with indexes 0, 1, and 2"
   ]
  },
  {
   "cell_type": "code",
   "execution_count": 30,
   "id": "aef0a6cf",
   "metadata": {},
   "outputs": [],
   "source": [
    "# tuples are indexes starting at 0, just like strings and lists\n",
    "t = ('Reuven', 'Lerner', 'shoesize')"
   ]
  },
  {
   "cell_type": "code",
   "execution_count": 27,
   "id": "4867a879",
   "metadata": {},
   "outputs": [
    {
     "data": {
      "text/plain": [
       "'Reuven'"
      ]
     },
     "execution_count": 27,
     "metadata": {},
     "output_type": "execute_result"
    }
   ],
   "source": [
    "t[0]"
   ]
  },
  {
   "cell_type": "code",
   "execution_count": 28,
   "id": "240c41d6",
   "metadata": {},
   "outputs": [
    {
     "data": {
      "text/plain": [
       "'Lerner'"
      ]
     },
     "execution_count": 28,
     "metadata": {},
     "output_type": "execute_result"
    }
   ],
   "source": [
    "t[1]"
   ]
  },
  {
   "cell_type": "code",
   "execution_count": 29,
   "id": "c423e8e9",
   "metadata": {},
   "outputs": [
    {
     "data": {
      "text/plain": [
       "'shoesize'"
      ]
     },
     "execution_count": 29,
     "metadata": {},
     "output_type": "execute_result"
    }
   ],
   "source": [
    "t[2]"
   ]
  },
  {
   "cell_type": "code",
   "execution_count": 31,
   "id": "2faecb6e",
   "metadata": {},
   "outputs": [],
   "source": [
    "# could I create a dict in which the keys are numbers? Sure!\n",
    "\n",
    "months = {1:'January', 2:'February', 3:'March', 4:'April', 5:'May'}"
   ]
  },
  {
   "cell_type": "code",
   "execution_count": 32,
   "id": "818cf1cd",
   "metadata": {},
   "outputs": [
    {
     "data": {
      "text/plain": [
       "'May'"
      ]
     },
     "execution_count": 32,
     "metadata": {},
     "output_type": "execute_result"
    }
   ],
   "source": [
    "months[5]"
   ]
  },
  {
   "cell_type": "code",
   "execution_count": 33,
   "id": "ded1b9d0",
   "metadata": {},
   "outputs": [],
   "source": [
    "# can we create a dictionary of tuples? Yes!\n",
    "# tuples are immutable, so they could be the keys and/or the values"
   ]
  },
  {
   "cell_type": "code",
   "execution_count": 34,
   "id": "04f50ab3",
   "metadata": {},
   "outputs": [],
   "source": [
    "\n",
    "\n",
    "cities = {(40.7127837, -74.0059413): 'New York',\n",
    "          ( 34.0522342, -118.2436849): 'Los Angeles'}"
   ]
  },
  {
   "cell_type": "code",
   "execution_count": 35,
   "id": "e052fbab",
   "metadata": {},
   "outputs": [
    {
     "data": {
      "text/plain": [
       "{(40.7127837, -74.0059413): 'New York',\n",
       " (34.0522342, -118.2436849): 'Los Angeles'}"
      ]
     },
     "execution_count": 35,
     "metadata": {},
     "output_type": "execute_result"
    }
   ],
   "source": [
    "cities"
   ]
  },
  {
   "cell_type": "code",
   "execution_count": 36,
   "id": "a80702f7",
   "metadata": {},
   "outputs": [],
   "source": [
    "# dict keys can be any immutable type -- numbers (int, float), strings, or tuples\n",
    "# dict values can be any type at all, including both immutable and mutable types"
   ]
  },
  {
   "cell_type": "code",
   "execution_count": null,
   "id": "7253d262",
   "metadata": {},
   "outputs": [],
   "source": [
    "# in this dict, months, the keys are integers (1, 2, 3, 4, etc. ) and the values are strings\n",
    "\n",
    "months = {1:'January', 2:'February', 3:'March', 4:'April', 5:'May'}"
   ]
  },
  {
   "cell_type": "markdown",
   "id": "f2d5c82e",
   "metadata": {},
   "source": [
    "Dicts will *always* be defined as \n",
    "\n",
    "{key1:value1, key2:value2, key3:value3}\n"
   ]
  },
  {
   "cell_type": "code",
   "execution_count": 37,
   "id": "7a0c11d9",
   "metadata": {},
   "outputs": [],
   "source": [
    "# could I do this?\n",
    "\n",
    "a=1\n",
    "b=2\n",
    "c=3\n",
    "\n",
    "months = {a:'January', b:'February', c:'March'}\n",
    "\n"
   ]
  },
  {
   "cell_type": "code",
   "execution_count": 38,
   "id": "6e3803eb",
   "metadata": {},
   "outputs": [
    {
     "data": {
      "text/plain": [
       "{1: 'January', 2: 'February', 3: 'March'}"
      ]
     },
     "execution_count": 38,
     "metadata": {},
     "output_type": "execute_result"
    }
   ],
   "source": [
    "months"
   ]
  },
  {
   "cell_type": "code",
   "execution_count": 39,
   "id": "f8a15326",
   "metadata": {},
   "outputs": [
    {
     "data": {
      "text/plain": [
       "'January'"
      ]
     },
     "execution_count": 39,
     "metadata": {},
     "output_type": "execute_result"
    }
   ],
   "source": [
    "months[1]"
   ]
  },
  {
   "cell_type": "code",
   "execution_count": 40,
   "id": "d94c5655",
   "metadata": {},
   "outputs": [
    {
     "data": {
      "text/plain": [
       "'January'"
      ]
     },
     "execution_count": 40,
     "metadata": {},
     "output_type": "execute_result"
    }
   ],
   "source": [
    "months[a]  # a is a variable with the value 1"
   ]
  },
  {
   "cell_type": "code",
   "execution_count": 41,
   "id": "6fe1dbaa",
   "metadata": {},
   "outputs": [
    {
     "ename": "KeyError",
     "evalue": "'a'",
     "output_type": "error",
     "traceback": [
      "\u001b[0;31m---------------------------------------------------------------------------\u001b[0m",
      "\u001b[0;31mKeyError\u001b[0m                                  Traceback (most recent call last)",
      "\u001b[0;32m/var/folders/rr/0mnyyv811fs5vyp22gf4fxk00000gn/T/ipykernel_29532/1630794497.py\u001b[0m in \u001b[0;36m<module>\u001b[0;34m\u001b[0m\n\u001b[0;32m----> 1\u001b[0;31m \u001b[0mmonths\u001b[0m\u001b[0;34m[\u001b[0m\u001b[0;34m'a'\u001b[0m\u001b[0;34m]\u001b[0m   \u001b[0;31m# does the \"months\" dict have a key 'a'?  I don't think so...\u001b[0m\u001b[0;34m\u001b[0m\u001b[0;34m\u001b[0m\u001b[0m\n\u001b[0m",
      "\u001b[0;31mKeyError\u001b[0m: 'a'"
     ]
    }
   ],
   "source": [
    "months['a']   # does the \"months\" dict have a key 'a'?  I don't think so..."
   ]
  },
  {
   "cell_type": "markdown",
   "id": "0ea5e6b4",
   "metadata": {},
   "source": [
    "# Paradigms of dictionary use\n",
    "\n",
    "1. Create a dict at the start of the program, and use it as a small database inside of your program.\n",
    "\n",
    "(More paradigms coming soon!)"
   ]
  },
  {
   "cell_type": "markdown",
   "id": "6861bb50",
   "metadata": {},
   "source": [
    "# Exercise: Restaurant\n",
    "\n",
    "1. Define a dict, `menu`, that contains the items and prices on a restaurant menu.\n",
    "2. Ask the user, repeatedly, to order something on the menu.\n",
    "    - If the user enters an empty string, then stop asking, and print the total price\n",
    "    - If the user enters something on the menu, then print the price and the current total\n",
    "    - If the user enters something *not* on the menu, then scold them and let them try again\n",
    "    \n",
    "Example:\n",
    "\n",
    "    Order: sandwich\n",
    "    sandwich is 10, total is 10\n",
    "    Order: tea\n",
    "    tea is 7, total is 17\n",
    "    Order: elephant\n",
    "    we are out of elephant today!\n",
    "    Order: [ENTER]\n",
    "    total is 17"
   ]
  },
  {
   "cell_type": "code",
   "execution_count": null,
   "id": "11df16eb",
   "metadata": {},
   "outputs": [],
   "source": []
  }
 ],
 "metadata": {
  "kernelspec": {
   "display_name": "Python 3 (ipykernel)",
   "language": "python",
   "name": "python3"
  },
  "language_info": {
   "codemirror_mode": {
    "name": "ipython",
    "version": 3
   },
   "file_extension": ".py",
   "mimetype": "text/x-python",
   "name": "python",
   "nbconvert_exporter": "python",
   "pygments_lexer": "ipython3",
   "version": "3.10.4"
  }
 },
 "nbformat": 4,
 "nbformat_minor": 5
}
