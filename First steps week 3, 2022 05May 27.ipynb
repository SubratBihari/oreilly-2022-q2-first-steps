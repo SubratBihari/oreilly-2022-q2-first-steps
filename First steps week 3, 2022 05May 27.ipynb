{
 "cells": [
  {
   "cell_type": "markdown",
   "id": "cffec359",
   "metadata": {},
   "source": [
    "# Week 3: Dictionaries and files\n",
    "\n",
    "1. Data structures recap\n",
    "2. Dictionaries\n",
    "    - Creating them\n",
    "    - Using them\n",
    "    - Dictionaries vs. other data structures\n",
    "    - The different paradigms for dict use\n",
    "3. Files\n",
    "    - (Just text files)\n",
    "    - Reading from files\n",
    "    - Writing to files\n",
    "    - files.lerner.co.il, grab the first zipfile, for basic/intro Python (https://files.lerner.co.il/exercise-files.zip)"
   ]
  },
  {
   "cell_type": "markdown",
   "id": "b7b18295",
   "metadata": {},
   "source": [
    "# Data structures so far\n",
    "\n",
    "1. Numbers (`int` and `float`)\n",
    "    - Counting\n",
    "    - Calculating\n",
    "    - Indexes into strings/lists/tuples\n",
    "    - Used in data science\n",
    "    - *Neither* 32, nor 64-bit integers.  Integers in Python will take as much memory as possible to keep the number in memory.  So if you have a 1,000,000-digit integer, that's OK!\n",
    "2. Strings\n",
    "    - Text we want to print\n",
    "    - Input from the user\n",
    "    - Keys in dictionaries\n",
    "    - Reading from / writing to files\n",
    "    - Ordered, with an index starting at 0\n",
    "    - Immutable -- cannot be changed, once created\n",
    "3. Lists\n",
    "    - (Traditionally) collections of the same type -- list of numbers, list of strings\n",
    "    - List of usernames, or a list of IP addresses, or a list of filenames\n",
    "    - Often, we'll iterate over a list with a `for` loop\n",
    "    - These are ordered, with an index starting at 0\n",
    "    - Lists are mutable -- they can be changed, and extended, once created\n",
    "4. Tuples\n",
    "    - (Traditionally) collections of different types\n",
    "    - Used as records/struct\n",
    "    - Behind the scenes, Python uses tuples when we call functions (to pass the arguments)\n",
    "    - Immutable, like strings\n",
    "    - Can contain anything, like lists\n",
    "    \n",
    "Lists and tuples can both contain any combination of any types you want, including other lists and tuples.    \n",
    "    \n",
    "Strings, lists, and tuples are all \"sequences,\" with a common family of functionality:\n",
    "- They all use 0-based indexes\n",
    "- Retrieve one item with `[i]`\n",
    "- Retrieve a slice with `[start:end]` or even `[start:end:step]`\n",
    "- You can iterate over them all with `for` loops\n",
    "- You can search in them with `in`\n"
   ]
  },
  {
   "cell_type": "markdown",
   "id": "e4b762e2",
   "metadata": {},
   "source": [
    "# What about arrays?\n",
    "\n",
    "An array is a data structure in many different programming languages.  It is an ordered collection, often with an index starting at 0.  (Sometimes, in some languages, it starts with 1, but that's not important.)\n",
    "\n",
    "So, are lists arrays?  The answer is: No.  Why not?  Because by definition, an array is:\n",
    "\n",
    "1. All of one type.\n",
    "2. Unchanging in size from when it was first created.\n",
    "\n",
    "Lists violate both of these rules, so they aren't arrays.\n",
    "\n",
    "Do we have arrays in Python?  Do we need arrays in Python?\n",
    "\n",
    "And the answer is... there is an \"array\" type in Python, but it's used so rarely that it'll soon be removed from the language.\n",
    "\n",
    "In the world of data science, we use NumPy and Pandas, two add-on extension packages.  These define arrays that are *very* popular.  But they're not core to the language."
   ]
  },
  {
   "cell_type": "markdown",
   "id": "7e230b10",
   "metadata": {},
   "source": [
    "# Dictionary\n",
    "\n",
    "If you've used other programming languages before, then you might be familiar with \"dicts\" (as they're known in Python) by another name:\n",
    "\n",
    "- Hash maps\n",
    "- Hashes\n",
    "- Maps\n",
    "- Associative arrays\n",
    "- Hash tables\n",
    "- Key-value stores\n",
    "- Name-value stores\n",
    "\n",
    "The ideas behind a dictionary are:\n",
    "\n",
    "- Data comes in pairs (known as a key and value, or a name and value)\n",
    "- You can decide what the keys and values are\n",
    "- Nearly any type of data can be a key\n",
    "- Any type of data can be a value\n",
    "\n",
    "It turns out that a very large number of programming problems can be solved with key-value pairs."
   ]
  },
  {
   "cell_type": "code",
   "execution_count": 4,
   "id": "06a260f3",
   "metadata": {},
   "outputs": [],
   "source": [
    "# let's define a dict:\n",
    "\n",
    "# (1) we use {} around the dictionary\n",
    "# (2) The keys and values are separated by :\n",
    "# (3) Each key-value pair is separated from other pairs by ,\n",
    "# (4) All keys have values, all values have keys\n",
    "\n",
    "d = {'a':10, 'b':20, 'c':30}\n",
    "\n",
    "# first pair: key is the string 'a', value is the int 10\n",
    "# second pair: key is the string 'b', value is the int 20\n",
    "# third pair: key is the string 'c', value is the int 30\n"
   ]
  },
  {
   "cell_type": "code",
   "execution_count": 2,
   "id": "fd3c445a",
   "metadata": {},
   "outputs": [
    {
     "data": {
      "text/plain": [
       "dict"
      ]
     },
     "execution_count": 2,
     "metadata": {},
     "output_type": "execute_result"
    }
   ],
   "source": [
    "# let's ask Python: What is d?\n",
    "type(d)"
   ]
  },
  {
   "cell_type": "code",
   "execution_count": 3,
   "id": "4dc58646",
   "metadata": {},
   "outputs": [
    {
     "data": {
      "text/plain": [
       "3"
      ]
     },
     "execution_count": 3,
     "metadata": {},
     "output_type": "execute_result"
    }
   ],
   "source": [
    "# how many key-value pairs are there in d?\n",
    "len(d)"
   ]
  },
  {
   "cell_type": "code",
   "execution_count": 6,
   "id": "68401500",
   "metadata": {},
   "outputs": [
    {
     "ename": "NameError",
     "evalue": "name 'a' is not defined",
     "output_type": "error",
     "traceback": [
      "\u001b[0;31m---------------------------------------------------------------------------\u001b[0m",
      "\u001b[0;31mNameError\u001b[0m                                 Traceback (most recent call last)",
      "\u001b[0;32m/var/folders/rr/0mnyyv811fs5vyp22gf4fxk00000gn/T/ipykernel_29532/1908958534.py\u001b[0m in \u001b[0;36m<module>\u001b[0;34m\u001b[0m\n\u001b[1;32m      1\u001b[0m \u001b[0;31m# what happens if I don't put quotes around 'a', 'b', and 'c'\u001b[0m\u001b[0;34m\u001b[0m\u001b[0;34m\u001b[0m\u001b[0m\n\u001b[1;32m      2\u001b[0m \u001b[0;34m\u001b[0m\u001b[0m\n\u001b[0;32m----> 3\u001b[0;31m \u001b[0md\u001b[0m \u001b[0;34m=\u001b[0m \u001b[0;34m{\u001b[0m\u001b[0ma\u001b[0m\u001b[0;34m:\u001b[0m\u001b[0;36m10\u001b[0m\u001b[0;34m,\u001b[0m \u001b[0mb\u001b[0m\u001b[0;34m:\u001b[0m\u001b[0;36m20\u001b[0m\u001b[0;34m,\u001b[0m \u001b[0mc\u001b[0m\u001b[0;34m:\u001b[0m\u001b[0;36m30\u001b[0m\u001b[0;34m}\u001b[0m\u001b[0;34m\u001b[0m\u001b[0;34m\u001b[0m\u001b[0m\n\u001b[0m\u001b[1;32m      4\u001b[0m \u001b[0;34m\u001b[0m\u001b[0m\n\u001b[1;32m      5\u001b[0m \u001b[0;31m# first pair: key is the value in the variable a, value is the int 10\u001b[0m\u001b[0;34m\u001b[0m\u001b[0;34m\u001b[0m\u001b[0m\n",
      "\u001b[0;31mNameError\u001b[0m: name 'a' is not defined"
     ]
    }
   ],
   "source": [
    "# what happens if I don't put quotes around 'a', 'b', and 'c'\n",
    "\n",
    "d = {a:10, b:20, c:30}\n",
    "\n",
    "# first pair: key is the value in the variable a, value is the int 10\n",
    "# second pair: key is the value in the variable b, value is the int 20\n",
    "# third pair: key is the value in the variable c, value is the int 30\n"
   ]
  },
  {
   "cell_type": "code",
   "execution_count": 7,
   "id": "8cc97479",
   "metadata": {},
   "outputs": [
    {
     "data": {
      "text/plain": [
       "{'a': 10, 'b': 20, 'c': 30}"
      ]
     },
     "execution_count": 7,
     "metadata": {},
     "output_type": "execute_result"
    }
   ],
   "source": [
    "d"
   ]
  },
  {
   "cell_type": "code",
   "execution_count": 8,
   "id": "688dfd2d",
   "metadata": {},
   "outputs": [
    {
     "data": {
      "text/plain": [
       "10"
      ]
     },
     "execution_count": 8,
     "metadata": {},
     "output_type": "execute_result"
    }
   ],
   "source": [
    "# we can retrieve from a dict with [], just like with strings, lists, and tuples\n",
    "# but now we don't use the index (starting at 0), but rather the key\n",
    "\n",
    "d['a']"
   ]
  },
  {
   "cell_type": "code",
   "execution_count": 9,
   "id": "65b78ec3",
   "metadata": {},
   "outputs": [
    {
     "data": {
      "text/plain": [
       "20"
      ]
     },
     "execution_count": 9,
     "metadata": {},
     "output_type": "execute_result"
    }
   ],
   "source": [
    "d['b']"
   ]
  },
  {
   "cell_type": "code",
   "execution_count": 10,
   "id": "8a057ecc",
   "metadata": {},
   "outputs": [
    {
     "data": {
      "text/plain": [
       "30"
      ]
     },
     "execution_count": 10,
     "metadata": {},
     "output_type": "execute_result"
    }
   ],
   "source": [
    "d['c']"
   ]
  },
  {
   "cell_type": "code",
   "execution_count": 11,
   "id": "40fd7873",
   "metadata": {},
   "outputs": [
    {
     "ename": "KeyError",
     "evalue": "'x'",
     "output_type": "error",
     "traceback": [
      "\u001b[0;31m---------------------------------------------------------------------------\u001b[0m",
      "\u001b[0;31mKeyError\u001b[0m                                  Traceback (most recent call last)",
      "\u001b[0;32m/var/folders/rr/0mnyyv811fs5vyp22gf4fxk00000gn/T/ipykernel_29532/1278128738.py\u001b[0m in \u001b[0;36m<module>\u001b[0;34m\u001b[0m\n\u001b[1;32m      1\u001b[0m \u001b[0;31m# what happens if I retrieve a key that doesn't exist?\u001b[0m\u001b[0;34m\u001b[0m\u001b[0;34m\u001b[0m\u001b[0m\n\u001b[0;32m----> 2\u001b[0;31m \u001b[0md\u001b[0m\u001b[0;34m[\u001b[0m\u001b[0;34m'x'\u001b[0m\u001b[0;34m]\u001b[0m\u001b[0;34m\u001b[0m\u001b[0;34m\u001b[0m\u001b[0m\n\u001b[0m",
      "\u001b[0;31mKeyError\u001b[0m: 'x'"
     ]
    }
   ],
   "source": [
    "# what happens if I retrieve a key that doesn't exist?\n",
    "d['x']"
   ]
  },
  {
   "cell_type": "code",
   "execution_count": 12,
   "id": "dc52351f",
   "metadata": {},
   "outputs": [
    {
     "data": {
      "text/plain": [
       "True"
      ]
     },
     "execution_count": 12,
     "metadata": {},
     "output_type": "execute_result"
    }
   ],
   "source": [
    "# how can I check to see if a key is in a dict?\n",
    "# I can use \"in\" to look for that.\n",
    "# (\"in\" only looks at the keys, not at the values)\n",
    "\n",
    "'a' in d"
   ]
  },
  {
   "cell_type": "code",
   "execution_count": 13,
   "id": "9dc37864",
   "metadata": {},
   "outputs": [
    {
     "data": {
      "text/plain": [
       "True"
      ]
     },
     "execution_count": 13,
     "metadata": {},
     "output_type": "execute_result"
    }
   ],
   "source": [
    "'b' in d"
   ]
  },
  {
   "cell_type": "code",
   "execution_count": 14,
   "id": "508b56da",
   "metadata": {},
   "outputs": [
    {
     "data": {
      "text/plain": [
       "True"
      ]
     },
     "execution_count": 14,
     "metadata": {},
     "output_type": "execute_result"
    }
   ],
   "source": [
    "'c' in d"
   ]
  },
  {
   "cell_type": "code",
   "execution_count": 15,
   "id": "7da8c11b",
   "metadata": {},
   "outputs": [
    {
     "data": {
      "text/plain": [
       "False"
      ]
     },
     "execution_count": 15,
     "metadata": {},
     "output_type": "execute_result"
    }
   ],
   "source": [
    "'x' in d"
   ]
  },
  {
   "cell_type": "code",
   "execution_count": 16,
   "id": "1d2c28b9",
   "metadata": {},
   "outputs": [
    {
     "name": "stdout",
     "output_type": "stream",
     "text": [
      "10\n"
     ]
    }
   ],
   "source": [
    "k = 'a'\n",
    "\n",
    "print(d[k])  # retrieve the value associated with d[k], where k is a variable whose value is 'a'"
   ]
  },
  {
   "cell_type": "code",
   "execution_count": 20,
   "id": "3c2d4165",
   "metadata": {},
   "outputs": [
    {
     "name": "stdout",
     "output_type": "stream",
     "text": [
      "Enter a key: x\n"
     ]
    },
    {
     "ename": "KeyError",
     "evalue": "'x'",
     "output_type": "error",
     "traceback": [
      "\u001b[0;31m---------------------------------------------------------------------------\u001b[0m",
      "\u001b[0;31mKeyError\u001b[0m                                  Traceback (most recent call last)",
      "\u001b[0;32m/var/folders/rr/0mnyyv811fs5vyp22gf4fxk00000gn/T/ipykernel_29532/2513994380.py\u001b[0m in \u001b[0;36m<module>\u001b[0;34m\u001b[0m\n\u001b[1;32m      1\u001b[0m \u001b[0mk\u001b[0m \u001b[0;34m=\u001b[0m \u001b[0minput\u001b[0m\u001b[0;34m(\u001b[0m\u001b[0;34m'Enter a key: '\u001b[0m\u001b[0;34m)\u001b[0m\u001b[0;34m.\u001b[0m\u001b[0mstrip\u001b[0m\u001b[0;34m(\u001b[0m\u001b[0;34m)\u001b[0m\u001b[0;34m\u001b[0m\u001b[0;34m\u001b[0m\u001b[0m\n\u001b[1;32m      2\u001b[0m \u001b[0;34m\u001b[0m\u001b[0m\n\u001b[0;32m----> 3\u001b[0;31m \u001b[0mprint\u001b[0m\u001b[0;34m(\u001b[0m\u001b[0md\u001b[0m\u001b[0;34m[\u001b[0m\u001b[0mk\u001b[0m\u001b[0;34m]\u001b[0m\u001b[0;34m)\u001b[0m\u001b[0;34m\u001b[0m\u001b[0;34m\u001b[0m\u001b[0m\n\u001b[0m",
      "\u001b[0;31mKeyError\u001b[0m: 'x'"
     ]
    }
   ],
   "source": [
    "k = input('Enter a key: ').strip()\n",
    "\n",
    "print(d[k])"
   ]
  },
  {
   "cell_type": "markdown",
   "id": "ccd6cb22",
   "metadata": {},
   "source": [
    "# Dict rules\n",
    "\n",
    "1. Keys must be *immutable* types, normally meaning integers and strings.  (Tuples can be, but that's much rarer.)\n",
    "2. Values can be any type at all, without any exceptions.\n",
    "3. Keys are unique. A key can exist only once in a dict.  Values can recur as often as we want."
   ]
  },
  {
   "cell_type": "code",
   "execution_count": 21,
   "id": "fea12cca",
   "metadata": {},
   "outputs": [],
   "source": [
    "# one use for a dict is as a small database\n",
    "\n",
    "person = {'first':'Reuven', 'last':'Lerner', 'shoesize':46}"
   ]
  },
  {
   "cell_type": "code",
   "execution_count": 22,
   "id": "2e70d571",
   "metadata": {},
   "outputs": [
    {
     "data": {
      "text/plain": [
       "'Reuven'"
      ]
     },
     "execution_count": 22,
     "metadata": {},
     "output_type": "execute_result"
    }
   ],
   "source": [
    "person['first']"
   ]
  },
  {
   "cell_type": "code",
   "execution_count": 23,
   "id": "ad6be2e4",
   "metadata": {},
   "outputs": [
    {
     "data": {
      "text/plain": [
       "'Lerner'"
      ]
     },
     "execution_count": 23,
     "metadata": {},
     "output_type": "execute_result"
    }
   ],
   "source": [
    "person['last']"
   ]
  },
  {
   "cell_type": "code",
   "execution_count": 24,
   "id": "5706802e",
   "metadata": {},
   "outputs": [
    {
     "data": {
      "text/plain": [
       "46"
      ]
     },
     "execution_count": 24,
     "metadata": {},
     "output_type": "execute_result"
    }
   ],
   "source": [
    "person['shoesize']"
   ]
  },
  {
   "cell_type": "code",
   "execution_count": 25,
   "id": "c55b6556",
   "metadata": {},
   "outputs": [],
   "source": [
    "# this is much easier to read (I think!) than a list or tuple with indexes 0, 1, and 2"
   ]
  },
  {
   "cell_type": "code",
   "execution_count": 30,
   "id": "cbe57df9",
   "metadata": {},
   "outputs": [],
   "source": [
    "# tuples are indexes starting at 0, just like strings and lists\n",
    "t = ('Reuven', 'Lerner', 'shoesize')"
   ]
  },
  {
   "cell_type": "code",
   "execution_count": 27,
   "id": "64670724",
   "metadata": {},
   "outputs": [
    {
     "data": {
      "text/plain": [
       "'Reuven'"
      ]
     },
     "execution_count": 27,
     "metadata": {},
     "output_type": "execute_result"
    }
   ],
   "source": [
    "t[0]"
   ]
  },
  {
   "cell_type": "code",
   "execution_count": 28,
   "id": "b90a08ef",
   "metadata": {},
   "outputs": [
    {
     "data": {
      "text/plain": [
       "'Lerner'"
      ]
     },
     "execution_count": 28,
     "metadata": {},
     "output_type": "execute_result"
    }
   ],
   "source": [
    "t[1]"
   ]
  },
  {
   "cell_type": "code",
   "execution_count": 29,
   "id": "af13f5cb",
   "metadata": {},
   "outputs": [
    {
     "data": {
      "text/plain": [
       "'shoesize'"
      ]
     },
     "execution_count": 29,
     "metadata": {},
     "output_type": "execute_result"
    }
   ],
   "source": [
    "t[2]"
   ]
  },
  {
   "cell_type": "code",
   "execution_count": 31,
   "id": "913d0835",
   "metadata": {},
   "outputs": [],
   "source": [
    "# could I create a dict in which the keys are numbers? Sure!\n",
    "\n",
    "months = {1:'January', 2:'February', 3:'March', 4:'April', 5:'May'}"
   ]
  },
  {
   "cell_type": "code",
   "execution_count": 32,
   "id": "29f073a4",
   "metadata": {},
   "outputs": [
    {
     "data": {
      "text/plain": [
       "'May'"
      ]
     },
     "execution_count": 32,
     "metadata": {},
     "output_type": "execute_result"
    }
   ],
   "source": [
    "months[5]"
   ]
  },
  {
   "cell_type": "code",
   "execution_count": 33,
   "id": "c64f9ae0",
   "metadata": {},
   "outputs": [],
   "source": [
    "# can we create a dictionary of tuples? Yes!\n",
    "# tuples are immutable, so they could be the keys and/or the values"
   ]
  },
  {
   "cell_type": "code",
   "execution_count": 34,
   "id": "005ee27b",
   "metadata": {},
   "outputs": [],
   "source": [
    "\n",
    "\n",
    "cities = {(40.7127837, -74.0059413): 'New York',\n",
    "          ( 34.0522342, -118.2436849): 'Los Angeles'}"
   ]
  },
  {
   "cell_type": "code",
   "execution_count": 35,
   "id": "5e3ed10f",
   "metadata": {},
   "outputs": [
    {
     "data": {
      "text/plain": [
       "{(40.7127837, -74.0059413): 'New York',\n",
       " (34.0522342, -118.2436849): 'Los Angeles'}"
      ]
     },
     "execution_count": 35,
     "metadata": {},
     "output_type": "execute_result"
    }
   ],
   "source": [
    "cities"
   ]
  },
  {
   "cell_type": "code",
   "execution_count": 36,
   "id": "c6a94f1e",
   "metadata": {},
   "outputs": [],
   "source": [
    "# dict keys can be any immutable type -- numbers (int, float), strings, or tuples\n",
    "# dict values can be any type at all, including both immutable and mutable types"
   ]
  },
  {
   "cell_type": "code",
   "execution_count": null,
   "id": "c7d44641",
   "metadata": {},
   "outputs": [],
   "source": [
    "# in this dict, months, the keys are integers (1, 2, 3, 4, etc. ) and the values are strings\n",
    "\n",
    "months = {1:'January', 2:'February', 3:'March', 4:'April', 5:'May'}"
   ]
  },
  {
   "cell_type": "markdown",
   "id": "c1b19a16",
   "metadata": {},
   "source": [
    "Dicts will *always* be defined as \n",
    "\n",
    "{key1:value1, key2:value2, key3:value3}\n"
   ]
  },
  {
   "cell_type": "code",
   "execution_count": 37,
   "id": "5fe0798d",
   "metadata": {},
   "outputs": [],
   "source": [
    "# could I do this?\n",
    "\n",
    "a=1\n",
    "b=2\n",
    "c=3\n",
    "\n",
    "months = {a:'January', b:'February', c:'March'}\n",
    "\n"
   ]
  },
  {
   "cell_type": "code",
   "execution_count": 38,
   "id": "e10850bd",
   "metadata": {},
   "outputs": [
    {
     "data": {
      "text/plain": [
       "{1: 'January', 2: 'February', 3: 'March'}"
      ]
     },
     "execution_count": 38,
     "metadata": {},
     "output_type": "execute_result"
    }
   ],
   "source": [
    "months"
   ]
  },
  {
   "cell_type": "code",
   "execution_count": 39,
   "id": "fb5cf51c",
   "metadata": {},
   "outputs": [
    {
     "data": {
      "text/plain": [
       "'January'"
      ]
     },
     "execution_count": 39,
     "metadata": {},
     "output_type": "execute_result"
    }
   ],
   "source": [
    "months[1]"
   ]
  },
  {
   "cell_type": "code",
   "execution_count": 40,
   "id": "eade0111",
   "metadata": {},
   "outputs": [
    {
     "data": {
      "text/plain": [
       "'January'"
      ]
     },
     "execution_count": 40,
     "metadata": {},
     "output_type": "execute_result"
    }
   ],
   "source": [
    "months[a]  # a is a variable with the value 1"
   ]
  },
  {
   "cell_type": "code",
   "execution_count": 41,
   "id": "f7167132",
   "metadata": {},
   "outputs": [
    {
     "ename": "KeyError",
     "evalue": "'a'",
     "output_type": "error",
     "traceback": [
      "\u001b[0;31m---------------------------------------------------------------------------\u001b[0m",
      "\u001b[0;31mKeyError\u001b[0m                                  Traceback (most recent call last)",
      "\u001b[0;32m/var/folders/rr/0mnyyv811fs5vyp22gf4fxk00000gn/T/ipykernel_29532/1630794497.py\u001b[0m in \u001b[0;36m<module>\u001b[0;34m\u001b[0m\n\u001b[0;32m----> 1\u001b[0;31m \u001b[0mmonths\u001b[0m\u001b[0;34m[\u001b[0m\u001b[0;34m'a'\u001b[0m\u001b[0;34m]\u001b[0m   \u001b[0;31m# does the \"months\" dict have a key 'a'?  I don't think so...\u001b[0m\u001b[0;34m\u001b[0m\u001b[0;34m\u001b[0m\u001b[0m\n\u001b[0m",
      "\u001b[0;31mKeyError\u001b[0m: 'a'"
     ]
    }
   ],
   "source": [
    "months['a']   # does the \"months\" dict have a key 'a'?  I don't think so..."
   ]
  },
  {
   "cell_type": "markdown",
   "id": "2cc5dca2",
   "metadata": {},
   "source": [
    "# Paradigms of dictionary use\n",
    "\n",
    "1. Create a dict at the start of the program, and use it as a small database inside of your program.\n",
    "\n",
    "(More paradigms coming soon!)"
   ]
  },
  {
   "cell_type": "markdown",
   "id": "54bd11f1",
   "metadata": {},
   "source": [
    "# Exercise: Restaurant\n",
    "\n",
    "1. Define a dict, `menu`, that contains the items and prices on a restaurant menu.\n",
    "2. Ask the user, repeatedly, to order something on the menu.\n",
    "    - If the user enters an empty string, then stop asking, and print the total price\n",
    "    - If the user enters something on the menu, then print the price and the current total\n",
    "    - If the user enters something *not* on the menu, then scold them and let them try again\n",
    "    \n",
    "Example:\n",
    "\n",
    "    Order: sandwich\n",
    "    sandwich is 10, total is 10\n",
    "    Order: tea\n",
    "    tea is 7, total is 17\n",
    "    Order: elephant\n",
    "    we are out of elephant today!\n",
    "    Order: [ENTER]\n",
    "    total is 17"
   ]
  },
  {
   "cell_type": "code",
   "execution_count": 42,
   "id": "9da1bbb6",
   "metadata": {},
   "outputs": [],
   "source": [
    "menu = {'sandwich':10, 'tea':7, 'apple':3, 'cake':5}"
   ]
  },
  {
   "cell_type": "code",
   "execution_count": 43,
   "id": "2eff0643",
   "metadata": {},
   "outputs": [
    {
     "data": {
      "text/plain": [
       "4"
      ]
     },
     "execution_count": 43,
     "metadata": {},
     "output_type": "execute_result"
    }
   ],
   "source": [
    "len(menu)"
   ]
  },
  {
   "cell_type": "code",
   "execution_count": 44,
   "id": "de2c2cfc",
   "metadata": {},
   "outputs": [
    {
     "data": {
      "text/plain": [
       "10"
      ]
     },
     "execution_count": 44,
     "metadata": {},
     "output_type": "execute_result"
    }
   ],
   "source": [
    "menu['sandwich']"
   ]
  },
  {
   "cell_type": "code",
   "execution_count": 45,
   "id": "3ca84aa4",
   "metadata": {},
   "outputs": [
    {
     "data": {
      "text/plain": [
       "7"
      ]
     },
     "execution_count": 45,
     "metadata": {},
     "output_type": "execute_result"
    }
   ],
   "source": [
    "menu['tea']"
   ]
  },
  {
   "cell_type": "code",
   "execution_count": 46,
   "id": "7d7d7802",
   "metadata": {},
   "outputs": [
    {
     "data": {
      "text/plain": [
       "True"
      ]
     },
     "execution_count": 46,
     "metadata": {},
     "output_type": "execute_result"
    }
   ],
   "source": [
    "'sandwich' in menu   # is the string 'sandwich' a key in menu?"
   ]
  },
  {
   "cell_type": "code",
   "execution_count": 47,
   "id": "ed9a3a2d",
   "metadata": {},
   "outputs": [
    {
     "name": "stdout",
     "output_type": "stream",
     "text": [
      "Order: sandwich\n",
      "sandwich costs 10 -- total is now 10\n",
      "Order: tea\n",
      "tea costs 7 -- total is now 17\n",
      "Order: elephant\n",
      "We are out of elephant today\n",
      "Order: apple\n",
      "apple costs 3 -- total is now 20\n",
      "Order: \n",
      "total is 20\n"
     ]
    }
   ],
   "source": [
    "menu = {'sandwich':10, 'tea':7, 'apple':3, 'cake':5}\n",
    "total = 0\n",
    "\n",
    "while True:   # ask the user, repeatedly\n",
    "\n",
    "    order = input('Order: ').strip()\n",
    "    \n",
    "    if order == '':   # did we get an empty string? break out of the while loop\n",
    "        break\n",
    "        \n",
    "    if order in menu:   # is the user's order a key in our dict?\n",
    "        price = menu[order]   # get the price\n",
    "        total += price         # add the price to the total\n",
    "        print(f'{order} costs {price} -- total is now {total}')\n",
    "    else:\n",
    "        print(f'We are out of {order} today')\n",
    "        \n",
    "print(f'total is {total}')          "
   ]
  },
  {
   "cell_type": "code",
   "execution_count": 49,
   "id": "19e3953d",
   "metadata": {},
   "outputs": [
    {
     "data": {
      "text/plain": [
       "dict_keys(['sandwich', 'tea', 'apple', 'cake'])"
      ]
     },
     "execution_count": 49,
     "metadata": {},
     "output_type": "execute_result"
    }
   ],
   "source": [
    "# we can get the keys of a dict with the .keys method\n",
    "# (pretty rare to use this)\n",
    "\n",
    "menu.keys()"
   ]
  },
  {
   "cell_type": "code",
   "execution_count": 50,
   "id": "4aa1e3a8",
   "metadata": {},
   "outputs": [
    {
     "data": {
      "text/plain": [
       "dict_values([10, 7, 3, 5])"
      ]
     },
     "execution_count": 50,
     "metadata": {},
     "output_type": "execute_result"
    }
   ],
   "source": [
    "# we can get the values from a dict with the .values method\n",
    "# (more common)\n",
    "\n",
    "menu.values()"
   ]
  },
  {
   "cell_type": "code",
   "execution_count": 51,
   "id": "9a198012",
   "metadata": {},
   "outputs": [
    {
     "data": {
      "text/plain": [
       "True"
      ]
     },
     "execution_count": 51,
     "metadata": {},
     "output_type": "execute_result"
    }
   ],
   "source": [
    "10 in menu.values()"
   ]
  },
  {
   "cell_type": "code",
   "execution_count": 54,
   "id": "1ee167a4",
   "metadata": {},
   "outputs": [],
   "source": [
    "# Search for \"How to sort anything\" that I gave at Euro Python (on YouTube)\n",
    "# for info how to sort dictionaries\n",
    "# (includes advanced techniques!)"
   ]
  },
  {
   "cell_type": "code",
   "execution_count": 55,
   "id": "78a815cb",
   "metadata": {},
   "outputs": [],
   "source": [
    "d = {'a':10, 'b':20, 'c ':30} # notice the third key!"
   ]
  },
  {
   "cell_type": "code",
   "execution_count": 56,
   "id": "6fd2e40c",
   "metadata": {},
   "outputs": [
    {
     "data": {
      "text/plain": [
       "10"
      ]
     },
     "execution_count": 56,
     "metadata": {},
     "output_type": "execute_result"
    }
   ],
   "source": [
    "d['a']"
   ]
  },
  {
   "cell_type": "code",
   "execution_count": 57,
   "id": "f3919573",
   "metadata": {},
   "outputs": [
    {
     "data": {
      "text/plain": [
       "20"
      ]
     },
     "execution_count": 57,
     "metadata": {},
     "output_type": "execute_result"
    }
   ],
   "source": [
    "d['b']"
   ]
  },
  {
   "cell_type": "code",
   "execution_count": 58,
   "id": "237413e5",
   "metadata": {},
   "outputs": [
    {
     "ename": "KeyError",
     "evalue": "'c'",
     "output_type": "error",
     "traceback": [
      "\u001b[0;31m---------------------------------------------------------------------------\u001b[0m",
      "\u001b[0;31mKeyError\u001b[0m                                  Traceback (most recent call last)",
      "\u001b[0;32m/var/folders/rr/0mnyyv811fs5vyp22gf4fxk00000gn/T/ipykernel_29532/1604721743.py\u001b[0m in \u001b[0;36m<module>\u001b[0;34m\u001b[0m\n\u001b[0;32m----> 1\u001b[0;31m \u001b[0md\u001b[0m\u001b[0;34m[\u001b[0m\u001b[0;34m'c'\u001b[0m\u001b[0;34m]\u001b[0m\u001b[0;34m\u001b[0m\u001b[0;34m\u001b[0m\u001b[0m\n\u001b[0m",
      "\u001b[0;31mKeyError\u001b[0m: 'c'"
     ]
    }
   ],
   "source": [
    "d['c']"
   ]
  },
  {
   "cell_type": "code",
   "execution_count": 59,
   "id": "cfce6c4d",
   "metadata": {},
   "outputs": [],
   "source": [
    "# dictionaries are mutable!  (We can change them)"
   ]
  },
  {
   "cell_type": "code",
   "execution_count": 61,
   "id": "a4e2c306",
   "metadata": {},
   "outputs": [
    {
     "data": {
      "text/plain": [
       "{'a': 10, 'b': 20, 'c': 12345}"
      ]
     },
     "execution_count": 61,
     "metadata": {},
     "output_type": "execute_result"
    }
   ],
   "source": [
    "d = {'a':10, 'b':20, 'c':30}\n",
    "\n",
    "# I can update/change a value by assigning to it\n",
    "# assigning to an existing key updates the value for that key\n",
    "d['c'] = 12345\n",
    "\n",
    "d"
   ]
  },
  {
   "cell_type": "code",
   "execution_count": 62,
   "id": "05ba71f1",
   "metadata": {},
   "outputs": [],
   "source": [
    "# can I add new key-value pairs to my dict? Yes!\n",
    "# there is no \"append\" method for dicts -- you just assign to a new key\n",
    "\n",
    "d['x'] = 98765"
   ]
  },
  {
   "cell_type": "code",
   "execution_count": 63,
   "id": "afc8f05e",
   "metadata": {},
   "outputs": [
    {
     "data": {
      "text/plain": [
       "{'a': 10, 'b': 20, 'c': 12345, 'x': 98765}"
      ]
     },
     "execution_count": 63,
     "metadata": {},
     "output_type": "execute_result"
    }
   ],
   "source": [
    "d"
   ]
  },
  {
   "cell_type": "code",
   "execution_count": 64,
   "id": "bea93c0f",
   "metadata": {},
   "outputs": [],
   "source": [
    "# updating a value in a dict, and adding a new key-value pair to a dict are both done with assignment"
   ]
  },
  {
   "cell_type": "code",
   "execution_count": 65,
   "id": "aeb4df05",
   "metadata": {},
   "outputs": [
    {
     "data": {
      "text/plain": [
       "98765"
      ]
     },
     "execution_count": 65,
     "metadata": {},
     "output_type": "execute_result"
    }
   ],
   "source": [
    "# can we remove key-value pairs from a dict?\n",
    "# yes, but you should know that it's kind of rare to do this\n",
    "\n",
    "d.pop('x')   # (a) removes the key 'x' and (b) returns its value"
   ]
  },
  {
   "cell_type": "code",
   "execution_count": 66,
   "id": "813c7b95",
   "metadata": {},
   "outputs": [
    {
     "data": {
      "text/plain": [
       "{'a': 10, 'b': 20, 'c': 12345}"
      ]
     },
     "execution_count": 66,
     "metadata": {},
     "output_type": "execute_result"
    }
   ],
   "source": [
    "d"
   ]
  },
  {
   "cell_type": "code",
   "execution_count": 67,
   "id": "6f6542b4",
   "metadata": {},
   "outputs": [
    {
     "data": {
      "text/plain": [
       "{'a': 10, 'b': 20, 'c': 30}"
      ]
     },
     "execution_count": 67,
     "metadata": {},
     "output_type": "execute_result"
    }
   ],
   "source": [
    "# I have a dict with three key-value pairs\n",
    "\n",
    "d = {'a':10, 'b':20, 'c':30}\n",
    "\n",
    "d"
   ]
  },
  {
   "cell_type": "code",
   "execution_count": 68,
   "id": "e3028d7e",
   "metadata": {},
   "outputs": [
    {
     "data": {
      "text/plain": [
       "30"
      ]
     },
     "execution_count": 68,
     "metadata": {},
     "output_type": "execute_result"
    }
   ],
   "source": [
    "# I want to remove the key-value pair associated with the key 'c'\n",
    "# I invoke the \"pop\" method, passing the key 'c'\n",
    "\n",
    "# this will:\n",
    "# (1) remove the key-value pair 'c':30\n",
    "# (2) return the value 30 which was associated with 'c'\n",
    "\n",
    "d.pop('c')   "
   ]
  },
  {
   "cell_type": "code",
   "execution_count": 69,
   "id": "a70c50d1",
   "metadata": {},
   "outputs": [
    {
     "data": {
      "text/plain": [
       "{'a': 10, 'b': 20}"
      ]
     },
     "execution_count": 69,
     "metadata": {},
     "output_type": "execute_result"
    }
   ],
   "source": [
    "d"
   ]
  },
  {
   "cell_type": "code",
   "execution_count": 70,
   "id": "a846074b",
   "metadata": {},
   "outputs": [
    {
     "ename": "KeyError",
     "evalue": "'c'",
     "output_type": "error",
     "traceback": [
      "\u001b[0;31m---------------------------------------------------------------------------\u001b[0m",
      "\u001b[0;31mKeyError\u001b[0m                                  Traceback (most recent call last)",
      "\u001b[0;32m/var/folders/rr/0mnyyv811fs5vyp22gf4fxk00000gn/T/ipykernel_29532/3287135417.py\u001b[0m in \u001b[0;36m<module>\u001b[0;34m\u001b[0m\n\u001b[0;32m----> 1\u001b[0;31m \u001b[0md\u001b[0m\u001b[0;34m.\u001b[0m\u001b[0mpop\u001b[0m\u001b[0;34m(\u001b[0m\u001b[0;34m'c'\u001b[0m\u001b[0;34m)\u001b[0m  \u001b[0;31m# can we remove the key 'c' once again?\u001b[0m\u001b[0;34m\u001b[0m\u001b[0;34m\u001b[0m\u001b[0m\n\u001b[0m",
      "\u001b[0;31mKeyError\u001b[0m: 'c'"
     ]
    }
   ],
   "source": [
    "d.pop('c')  # can we remove the key 'c' once again?"
   ]
  },
  {
   "cell_type": "markdown",
   "id": "ddb2d13d",
   "metadata": {},
   "source": [
    "# Everything is via the key!\n",
    "\n",
    "In a dict, the key is king!\n",
    "\n",
    "- Keys must be unique\n",
    "- Searching in a dict is via the key\n",
    "- We add key-value pairs via the key (and the value is brought along for the ride)\n",
    "- We update key-value pairs via the key\n",
    "- We remove key-value pairs via the key"
   ]
  },
  {
   "cell_type": "code",
   "execution_count": 71,
   "id": "f1034dbc",
   "metadata": {},
   "outputs": [],
   "source": [
    "# values can repeat, even though keys cannot\n",
    "\n",
    "d = {'a':10, 'b':10, 'c':10, 'd':10}"
   ]
  },
  {
   "cell_type": "code",
   "execution_count": 72,
   "id": "d56bab71",
   "metadata": {},
   "outputs": [
    {
     "ename": "AttributeError",
     "evalue": "'dict' object has no attribute 'remove_by_value'",
     "output_type": "error",
     "traceback": [
      "\u001b[0;31m---------------------------------------------------------------------------\u001b[0m",
      "\u001b[0;31mAttributeError\u001b[0m                            Traceback (most recent call last)",
      "\u001b[0;32m/var/folders/rr/0mnyyv811fs5vyp22gf4fxk00000gn/T/ipykernel_29532/404721926.py\u001b[0m in \u001b[0;36m<module>\u001b[0;34m\u001b[0m\n\u001b[1;32m      2\u001b[0m \u001b[0;31m# which of the keys would be removed if I could say\u001b[0m\u001b[0;34m\u001b[0m\u001b[0;34m\u001b[0m\u001b[0m\n\u001b[1;32m      3\u001b[0m \u001b[0;34m\u001b[0m\u001b[0m\n\u001b[0;32m----> 4\u001b[0;31m \u001b[0md\u001b[0m\u001b[0;34m.\u001b[0m\u001b[0mremove_by_value\u001b[0m\u001b[0;34m(\u001b[0m\u001b[0;36m10\u001b[0m\u001b[0;34m)\u001b[0m   \u001b[0;31m# this does not exist... but if it did, what would happen?\u001b[0m\u001b[0;34m\u001b[0m\u001b[0;34m\u001b[0m\u001b[0m\n\u001b[0m\u001b[1;32m      5\u001b[0m \u001b[0;34m\u001b[0m\u001b[0m\n",
      "\u001b[0;31mAttributeError\u001b[0m: 'dict' object has no attribute 'remove_by_value'"
     ]
    }
   ],
   "source": [
    "# if I could remove a key via a value, how would that work?\n",
    "# which of the keys would be removed if I could say\n",
    "\n",
    "d.remove_by_value(10)   # this does not exist... but if it did, what would happen?\n",
    "\n"
   ]
  },
  {
   "cell_type": "code",
   "execution_count": 73,
   "id": "8abc1ab6",
   "metadata": {},
   "outputs": [
    {
     "ename": "SyntaxError",
     "evalue": "expression expected after dictionary key and ':' (3560276099.py, line 1)",
     "output_type": "error",
     "traceback": [
      "\u001b[0;36m  File \u001b[0;32m\"/var/folders/rr/0mnyyv811fs5vyp22gf4fxk00000gn/T/ipykernel_29532/3560276099.py\"\u001b[0;36m, line \u001b[0;32m1\u001b[0m\n\u001b[0;31m    menu = {'sandwitch': 10, 'Tea': 7, 'apple': 3, 'cake': }\u001b[0m\n\u001b[0m                                                         ^\u001b[0m\n\u001b[0;31mSyntaxError\u001b[0m\u001b[0;31m:\u001b[0m expression expected after dictionary key and ':'\n"
     ]
    }
   ],
   "source": [
    "menu = {'sandwitch': 10, 'Tea': 7, 'apple': 3, 'cake': }"
   ]
  },
  {
   "cell_type": "code",
   "execution_count": 74,
   "id": "fdc8f614",
   "metadata": {},
   "outputs": [],
   "source": [
    "d = {'a':10, 'b':20, 'c':None, 'd':None, 'e':50}"
   ]
  },
  {
   "cell_type": "code",
   "execution_count": 76,
   "id": "ad86afe8",
   "metadata": {},
   "outputs": [
    {
     "name": "stdout",
     "output_type": "stream",
     "text": [
      "None\n"
     ]
    }
   ],
   "source": [
    "print(d['c'])"
   ]
  },
  {
   "cell_type": "markdown",
   "id": "1ad5d296",
   "metadata": {},
   "source": [
    "# Next up\n",
    "\n",
    "1. Using dicts to accumulate data in a program\n",
    "2. Using dicts to track data when we don't know either the keys or the values in advance!\n",
    "3. Looping over dicts"
   ]
  },
  {
   "cell_type": "code",
   "execution_count": 77,
   "id": "44617694",
   "metadata": {},
   "outputs": [
    {
     "data": {
      "text/plain": [
       "10"
      ]
     },
     "execution_count": 77,
     "metadata": {},
     "output_type": "execute_result"
    }
   ],
   "source": [
    "d = {'a':10, 'b':20, 'c':30}\n",
    "\n",
    "d['a']"
   ]
  },
  {
   "cell_type": "code",
   "execution_count": 78,
   "id": "1a8bf1e4",
   "metadata": {},
   "outputs": [
    {
     "data": {
      "text/plain": [
       "{'a': 20, 'b': 20, 'c': 30}"
      ]
     },
     "execution_count": 78,
     "metadata": {},
     "output_type": "execute_result"
    }
   ],
   "source": [
    "d['a'] = 20\n",
    "d"
   ]
  },
  {
   "cell_type": "code",
   "execution_count": 79,
   "id": "814c53e6",
   "metadata": {},
   "outputs": [],
   "source": [
    "# can I do this?\n",
    "d['a'] += 1 "
   ]
  },
  {
   "cell_type": "code",
   "execution_count": 80,
   "id": "9932ccb3",
   "metadata": {},
   "outputs": [
    {
     "data": {
      "text/plain": [
       "{'a': 21, 'b': 20, 'c': 30}"
      ]
     },
     "execution_count": 80,
     "metadata": {},
     "output_type": "execute_result"
    }
   ],
   "source": [
    "d"
   ]
  },
  {
   "cell_type": "code",
   "execution_count": 81,
   "id": "e57d8a8b",
   "metadata": {},
   "outputs": [],
   "source": [
    "# If I want, I can create a dict with keys and 0s as values, and then accumulate\n",
    "# information over time in my program.  At the end of the program, I can print the \n",
    "# dict, which will contain all of the counts."
   ]
  },
  {
   "cell_type": "markdown",
   "id": "730a7e03",
   "metadata": {},
   "source": [
    "# Paradigms for dict uses\n",
    "\n",
    "1. Define the dict at the start of the program, and use it as a read-only database.\n",
    "2. Define the dict at the start of the program with keys and 0s as values.  Over the course of the program, add to those numbers.  The keys will remain the same, but the values will change.\n",
    "\n"
   ]
  },
  {
   "cell_type": "markdown",
   "id": "99c606a2",
   "metadata": {},
   "source": [
    "# Exercise: Vowels, digits, and others\n",
    "\n",
    "1. Define a `counts` dict with three keys: `vowels`, `digits`, and `others`.  All three should have the value 0.\n",
    "2. Ask the user, repeatedly, to enter a string.\n",
    "    - If they enter an empty string, stop asking, and print `counts`.\n",
    "3. Go through each character in the entered string, and check:\n",
    "    - Is it a vowel? If so, add 1 to `counts['vowels']`\n",
    "    - Is it a digit? If so, add 1 to `counts['digits']`\n",
    "    - If neither, add 1 to `counts['others']`.\n",
    "    \n",
    "Example:\n",
    "\n",
    "    Enter string: hello\n",
    "    Enter string: bye 123\n",
    "    Enter string: [ENTER]\n",
    "    {'vowels':3, 'digits':3, 'others':6}"
   ]
  },
  {
   "cell_type": "code",
   "execution_count": 82,
   "id": "ac7eb6c9",
   "metadata": {},
   "outputs": [
    {
     "name": "stdout",
     "output_type": "stream",
     "text": [
      "Enter a string: hello\n",
      "Enter a string: bye 123\n",
      "Enter a string: \n",
      "{'vowels': 3, 'digits': 3, 'others': 6}\n"
     ]
    }
   ],
   "source": [
    "counts = {'vowels':0, 'digits':0, 'others':0}\n",
    "\n",
    "while True:   # infinite loop\n",
    "    s = input('Enter a string: ').strip()\n",
    "    \n",
    "    if s == '':   # if the user enters an empty string, stop asking\n",
    "        break\n",
    "        \n",
    "    # go through each character in the user's input\n",
    "    for one_character in s:\n",
    "        if one_character in 'aeiou':  # if it's a vowel\n",
    "            counts['vowels'] += 1\n",
    "        elif one_character.isdigit():  # if it's a digit\n",
    "            counts['digits'] += 1\n",
    "        else:\n",
    "            counts['others'] += 1\n",
    "            \n",
    "print(counts)    "
   ]
  },
  {
   "cell_type": "code",
   "execution_count": 84,
   "id": "a29878a8",
   "metadata": {},
   "outputs": [],
   "source": [
    "x = 100  # behind the scenes, this is stored in a dict, as 'x':100"
   ]
  },
  {
   "cell_type": "markdown",
   "id": "b2a8f455",
   "metadata": {},
   "source": [
    "# Namespaces\n",
    "\n",
    "A \"namespace\" is a programming term for a bunch of variables that are grouped together, sort of like a last name / surname.  A namespace ensures that there won't be \"namespace collisions,\" when more than one part of a program tries to use the same variable name.\n",
    "\n",
    "So if you have a variable `x` and I have a variable `x`, we can ensure they won't collide by having separate namespaces.\n",
    "\n",
    "We've effectively created our own, new, simple namespace here by putting `vowels`, `digits`, and `others` into a dict, rather than creating variables at the top level of our program."
   ]
  },
  {
   "cell_type": "code",
   "execution_count": 85,
   "id": "35bfd740",
   "metadata": {},
   "outputs": [
    {
     "name": "stdout",
     "output_type": "stream",
     "text": [
      "Enter a string: hello\n",
      "Enter a string: bye 123\n",
      "Enter a string: \n",
      "{'vowels': ['e', 'o', 'e'], 'digits': ['1', '2', '3'], 'others': ['h', 'l', 'l', 'b', 'y', ' ']}\n"
     ]
    }
   ],
   "source": [
    "# Another way to do vowels, digits, and others\n",
    "\n",
    "# this time, I won't count how many vowels, digits, and others I have\n",
    "# rather, I'll store them in lists!\n",
    "\n",
    "counts = {'vowels':[], 'digits':[], 'others':[]}\n",
    "\n",
    "while True:   # infinite loop\n",
    "    s = input('Enter a string: ').strip()\n",
    "    \n",
    "    if s == '':   # if the user enters an empty string, stop asking\n",
    "        break\n",
    "        \n",
    "    # go through each character in the user's input\n",
    "    for one_character in s:\n",
    "        if one_character in 'aeiou':  # if it's a vowel\n",
    "            counts['vowels'].append(one_character)\n",
    "        elif one_character.isdigit():  # if it's a digit\n",
    "            counts['digits'].append(one_character)\n",
    "        else:\n",
    "            counts['others'].append(one_character)\n",
    "            \n",
    "print(counts)    "
   ]
  },
  {
   "cell_type": "markdown",
   "id": "a437a95d",
   "metadata": {},
   "source": [
    "# Dict paradigms\n",
    "\n",
    "1. Define the dict, and use it as a read-only database in the program.\n",
    "2. Define the dict, and update its values but keep the keys as they are.\n",
    "3. Define an empty dict, and add both keys as values as necessary."
   ]
  },
  {
   "cell_type": "code",
   "execution_count": 86,
   "id": "8b1cc981",
   "metadata": {},
   "outputs": [
    {
     "name": "stdout",
     "output_type": "stream",
     "text": [
      "Enter a string: hello\n",
      "{'h': 1, 'e': 1, 'l': 2, 'o': 1}\n"
     ]
    }
   ],
   "source": [
    "# how often does key character appear?\n",
    "\n",
    "counts = {}   # empty dict!\n",
    "\n",
    "s = input('Enter a string: ').strip()\n",
    "\n",
    "for one_character in s:\n",
    "    if one_character in counts:      # have we already seen this character before?\n",
    "        counts[one_character] += 1   # add 1 to its count\n",
    "    else:\n",
    "        counts[one_character] = 1    # first time seeing it? set it to 1\n",
    "        \n",
    "print(counts)        "
   ]
  },
  {
   "cell_type": "markdown",
   "id": "4756ca96",
   "metadata": {},
   "source": [
    "# Exercise: Rainfall\n",
    "\n",
    "We're going to ask the user to enter the name of a city, and how many mm of rain fell in that city yesterday.  We'll keep track of the rainfall in a dict, called `rainfall`, in which the keys are city names and the values are integers.  Over time, we'll know how much rain fell in each city.\n",
    "\n",
    "1. Set up an empty dict, `rainfall`.\n",
    "2. Ask the user, repeatedly, to enter the name of a city.\n",
    "3. If the city name is empty, then stop asking (i.e., break out of the loop).\n",
    "4. If we got a city name, then ask the user to enter the number of mm rain that fell.  (Assume this is a legal number.)\n",
    "5. If we've seen the city before, then add this new amount of rain to the existing amount.\n",
    "6. If we haven't seen this city before, then add a new key-value pair to our dict, the city and the amount of rain.\n",
    "7. After exiting from the loop, print the `rainfall` dict.\n",
    "\n",
    "Example:\n",
    "\n",
    "    City: Jerusalem\n",
    "    Rain: 5\n",
    "    City: Tel Aviv\n",
    "    Rain: 4\n",
    "    City: Jerusalem\n",
    "    Rain: 3\n",
    "    City: [ENTER]\n",
    "    {'Jerusalem':8, 'Tel Aviv':4}"
   ]
  },
  {
   "cell_type": "code",
   "execution_count": 90,
   "id": "6a17f0dc",
   "metadata": {
    "scrolled": true
   },
   "outputs": [
    {
     "name": "stdout",
     "output_type": "stream",
     "text": [
      "Enter city name: Jerusalem\n",
      "Enter mm rain: 5\n",
      "Enter city name: Tel Aviv\n",
      "Enter mm rain: 4\n",
      "Enter city name: Jerusalem\n",
      "Enter mm rain: 3\n",
      "Enter city name: \n",
      "{'Jerusalem': 8, 'Tel Aviv': 4}\n"
     ]
    }
   ],
   "source": [
    "rainfall = {}   # empty dict\n",
    "\n",
    "while True:     # I don't know how many cities/reports will be entered\n",
    "    \n",
    "    city_name = input('Enter city name: ').strip()\n",
    "    \n",
    "    if city_name == '':   # stop asking if we got an empty city name\n",
    "        break\n",
    "        \n",
    "    mm_rain = input('Enter mm rain: ').strip()  # remember: input always gives us a string!\n",
    "    mm_rain = int(mm_rain)                      # get an integer based on mm_rain\n",
    "    \n",
    "    if city_name in rainfall:\n",
    "        rainfall[city_name] += mm_rain    # non-first times we see a city, add to what's already there\n",
    "    else:\n",
    "        rainfall[city_name] = mm_rain     # first time we see a city, assign\n",
    "    \n",
    "print(rainfall)    "
   ]
  },
  {
   "cell_type": "markdown",
   "id": "7b8ec691",
   "metadata": {},
   "source": [
    "# Next up\n",
    "\n",
    "1. Dicts\n",
    "    - Looping over dicts\n",
    "    - How do dicts work? (Why are they so beloved?)\n",
    "2. Files\n",
    "    - Opening files\n",
    "    - Reading from files\n",
    "    - Iterating over files\n",
    "    - Writing to files \n",
    "    \n",
    "(If you haven't yet downloaded the zipfile with some example files, please do that.)"
   ]
  },
  {
   "cell_type": "code",
   "execution_count": 91,
   "id": "124328f5",
   "metadata": {},
   "outputs": [
    {
     "name": "stdout",
     "output_type": "stream",
     "text": [
      "Enter a string: hello\n",
      "Enter a string: bye 123!\n",
      "Enter a string: \n",
      "{'vowels': ['e', 'o', 'e'], 'digits': ['1', '2', '3'], 'others': ['h', 'l', 'l', 'b', 'y', ' ', '!']}\n"
     ]
    }
   ],
   "source": [
    "# Another way to do vowels, digits, and others\n",
    "\n",
    "# this time, I won't count how many vowels, digits, and others I have\n",
    "# rather, I'll store them in lists!\n",
    "\n",
    "# dict keys: strings\n",
    "# dict values: lists\n",
    "counts = {'vowels':[], 'digits':[], 'others':[]}\n",
    "\n",
    "while True:   # infinite loop\n",
    "    s = input('Enter a string: ').strip()\n",
    "    \n",
    "    if s == '':   # if the user enters an empty string, stop asking\n",
    "        break\n",
    "        \n",
    "    # go through each character in the user's input\n",
    "    for one_character in s:\n",
    "        if one_character in 'aeiou':  # if it's a vowel\n",
    "            counts['vowels'].append(one_character)\n",
    "        elif one_character.isdigit():  # if it's a digit\n",
    "            counts['digits'].append(one_character)\n",
    "        else:\n",
    "            counts['others'].append(one_character)\n",
    "            \n",
    "print(counts)    "
   ]
  },
  {
   "cell_type": "code",
   "execution_count": 92,
   "id": "e9a197c3",
   "metadata": {},
   "outputs": [
    {
     "data": {
      "text/plain": [
       "3"
      ]
     },
     "execution_count": 92,
     "metadata": {},
     "output_type": "execute_result"
    }
   ],
   "source": [
    "# can I count the number of characters in each value?\n",
    "# answer: yes! These are lists\n",
    "\n",
    "len(counts['vowels'])"
   ]
  },
  {
   "cell_type": "code",
   "execution_count": 93,
   "id": "42380212",
   "metadata": {},
   "outputs": [
    {
     "data": {
      "text/plain": [
       "3"
      ]
     },
     "execution_count": 93,
     "metadata": {},
     "output_type": "execute_result"
    }
   ],
   "source": [
    "len(counts['digits'])"
   ]
  },
  {
   "cell_type": "code",
   "execution_count": 94,
   "id": "dbf5137c",
   "metadata": {},
   "outputs": [
    {
     "data": {
      "text/plain": [
       "7"
      ]
     },
     "execution_count": 94,
     "metadata": {},
     "output_type": "execute_result"
    }
   ],
   "source": [
    "len(counts['others'])"
   ]
  },
  {
   "cell_type": "markdown",
   "id": "12165c5c",
   "metadata": {},
   "source": [
    "# Brief overview of sets\n",
    "\n",
    "Sets are a core data type in Python (that we're not really going to discuss here).  A set is basically the same as a dict's keys.  Meaning: The values are guaranteed to be unique, and I can search for them.  You can add and remove elements to a set, as well.\n",
    "\n",
    "Sets are often used when you want to ensure that you have unique values, or be able to search for things (e.g., usernames or IP addresses) quickly."
   ]
  },
  {
   "cell_type": "markdown",
   "id": "4bb3da61",
   "metadata": {},
   "source": [
    "# Looping over dicts\n",
    "\n",
    "If I run a `for` loop over a data structure, what I get back depends on the data structure:\n",
    "\n",
    "- Each iteration over a string gives me one character\n",
    "- Each iteration over a list or tuple gives me one element"
   ]
  },
  {
   "cell_type": "code",
   "execution_count": 95,
   "id": "6be62956",
   "metadata": {},
   "outputs": [
    {
     "name": "stdout",
     "output_type": "stream",
     "text": [
      "a\n",
      "b\n",
      "c\n",
      "d\n"
     ]
    }
   ],
   "source": [
    "s = 'abcd'\n",
    "for one_item in s:\n",
    "    print(one_item)"
   ]
  },
  {
   "cell_type": "code",
   "execution_count": 96,
   "id": "d0a99953",
   "metadata": {},
   "outputs": [
    {
     "name": "stdout",
     "output_type": "stream",
     "text": [
      "10\n",
      "20\n",
      "30\n"
     ]
    }
   ],
   "source": [
    "mylist = [10, 20, 30]\n",
    "for one_item in mylist:\n",
    "    print(one_item)"
   ]
  },
  {
   "cell_type": "code",
   "execution_count": 97,
   "id": "5bf94c98",
   "metadata": {},
   "outputs": [
    {
     "name": "stdout",
     "output_type": "stream",
     "text": [
      "abcd\n",
      "ef\n",
      "ghij\n"
     ]
    }
   ],
   "source": [
    "mylist = ['abcd', 'ef', 'ghij']\n",
    "\n",
    "for one_item in mylist:\n",
    "    print(one_item)"
   ]
  },
  {
   "cell_type": "code",
   "execution_count": 98,
   "id": "22b32e36",
   "metadata": {},
   "outputs": [
    {
     "name": "stdout",
     "output_type": "stream",
     "text": [
      "a\n",
      "b\n",
      "c\n"
     ]
    }
   ],
   "source": [
    "# what happens if I iterate over a dict?\n",
    "\n",
    "d = {'a':10, 'b':20, 'c':30}\n",
    "\n",
    "for one_item in d:   # I get the keys, and *only* the keys!\n",
    "    print(one_item)"
   ]
  },
  {
   "cell_type": "code",
   "execution_count": 99,
   "id": "b87d8e3f",
   "metadata": {},
   "outputs": [
    {
     "name": "stdout",
     "output_type": "stream",
     "text": [
      "a: 10\n",
      "b: 20\n",
      "c: 30\n"
     ]
    }
   ],
   "source": [
    "for one_key in d:\n",
    "    print(f'{one_key}: {d[one_key]}')"
   ]
  },
  {
   "cell_type": "code",
   "execution_count": 100,
   "id": "678ed87a",
   "metadata": {},
   "outputs": [
    {
     "data": {
      "text/plain": [
       "{'Jerusalem': 8, 'Tel Aviv': 4}"
      ]
     },
     "execution_count": 100,
     "metadata": {},
     "output_type": "execute_result"
    }
   ],
   "source": [
    "rainfall"
   ]
  },
  {
   "cell_type": "code",
   "execution_count": 101,
   "id": "a70ff1be",
   "metadata": {},
   "outputs": [
    {
     "name": "stdout",
     "output_type": "stream",
     "text": [
      "Jerusalem: 8\n",
      "Tel Aviv: 4\n"
     ]
    }
   ],
   "source": [
    "for one_city in rainfall:\n",
    "    print(f'{one_city}: {rainfall[one_city]}')"
   ]
  },
  {
   "cell_type": "code",
   "execution_count": 102,
   "id": "04cc03d7",
   "metadata": {},
   "outputs": [
    {
     "data": {
      "text/plain": [
       "{'vowels': ['e', 'o', 'e'],\n",
       " 'digits': ['1', '2', '3'],\n",
       " 'others': ['h', 'l', 'l', 'b', 'y', ' ', '!']}"
      ]
     },
     "execution_count": 102,
     "metadata": {},
     "output_type": "execute_result"
    }
   ],
   "source": [
    "counts"
   ]
  },
  {
   "cell_type": "code",
   "execution_count": 103,
   "id": "407dc6db",
   "metadata": {},
   "outputs": [
    {
     "name": "stdout",
     "output_type": "stream",
     "text": [
      "vowels\n",
      "\te\n",
      "\to\n",
      "\te\n",
      "digits\n",
      "\t1\n",
      "\t2\n",
      "\t3\n",
      "others\n",
      "\th\n",
      "\tl\n",
      "\tl\n",
      "\tb\n",
      "\ty\n",
      "\t \n",
      "\t!\n"
     ]
    }
   ],
   "source": [
    "for one_key in counts:\n",
    "    print(f'{one_key}')\n",
    "    for one_item in counts[one_key]:\n",
    "        print(f'\\t{one_item}')"
   ]
  },
  {
   "cell_type": "code",
   "execution_count": 104,
   "id": "db22771d",
   "metadata": {},
   "outputs": [],
   "source": [
    "# to learn how to sort dictionaries, see my Euro Python talk from 2021,\n",
    "# \"How to sort anything\"\n",
    "\n",
    "# https://www.youtube.com/watch?v=Z3c2LvEJeu0"
   ]
  },
  {
   "cell_type": "code",
   "execution_count": 106,
   "id": "3754ab65",
   "metadata": {},
   "outputs": [
    {
     "name": "stdout",
     "output_type": "stream",
     "text": [
      "('a', 10)\n",
      "('b', 20)\n",
      "('c', 30)\n"
     ]
    }
   ],
   "source": [
    "# another (I think better) way to iterate over a dict\n",
    "# the \"items\" method is designed for use in a \"for\" loop\n",
    "# it returns a key-value tuple with each iteration\n",
    "# we can then pull that apart with unpacking\n",
    "\n",
    "for t in d.items():\n",
    "    print(t)"
   ]
  },
  {
   "cell_type": "code",
   "execution_count": 107,
   "id": "49dbce61",
   "metadata": {},
   "outputs": [
    {
     "name": "stdout",
     "output_type": "stream",
     "text": [
      "a: 10\n",
      "b: 20\n",
      "c: 30\n"
     ]
    }
   ],
   "source": [
    "for key, value in d.items():   # use unpacking in the for loop to assign (key, value) to 2 variables\n",
    "    print(f'{key}: {value}')"
   ]
  },
  {
   "cell_type": "code",
   "execution_count": 108,
   "id": "1a8e3bfb",
   "metadata": {},
   "outputs": [
    {
     "name": "stdout",
     "output_type": "stream",
     "text": [
      "{'a': 10, 'b': 20, 'c': 30}\n"
     ]
    }
   ],
   "source": [
    "print(d)"
   ]
  },
  {
   "cell_type": "code",
   "execution_count": 109,
   "id": "107ac81f",
   "metadata": {},
   "outputs": [
    {
     "data": {
      "text/plain": [
       "'xxx'"
      ]
     },
     "execution_count": 109,
     "metadata": {},
     "output_type": "execute_result"
    }
   ],
   "source": [
    "# you might know that Python lets us multiply an integer by a string\n",
    "\n",
    "'x' * 3"
   ]
  },
  {
   "cell_type": "code",
   "execution_count": 110,
   "id": "b4063427",
   "metadata": {},
   "outputs": [
    {
     "data": {
      "text/plain": [
       "'xxxxxxxxxx'"
      ]
     },
     "execution_count": 110,
     "metadata": {},
     "output_type": "execute_result"
    }
   ],
   "source": [
    "'x' * 10"
   ]
  },
  {
   "cell_type": "code",
   "execution_count": 112,
   "id": "f6d3291f",
   "metadata": {},
   "outputs": [
    {
     "name": "stdout",
     "output_type": "stream",
     "text": [
      "a: xxxxxxxxxx\n",
      "b: xxxxxxxxxxxxxxxxxxxx\n",
      "c: xxxxxxxxxxxxxxxxxxxxxxxxxxxxxx\n"
     ]
    }
   ],
   "source": [
    "# we can create a simple histogram! \n",
    "\n",
    "for key, value in d.items():\n",
    "    print(f'{key}: {value * \"x\"}')"
   ]
  },
  {
   "cell_type": "code",
   "execution_count": 114,
   "id": "b91d53ca",
   "metadata": {},
   "outputs": [
    {
     "name": "stdout",
     "output_type": "stream",
     "text": [
      "Jerusalem   : xxxxxxxx\n",
      "Tel Aviv    : xxxx\n"
     ]
    }
   ],
   "source": [
    "for city, mm_rain in rainfall.items():\n",
    "    print(f'{city:12}: {mm_rain * \"x\"}')"
   ]
  },
  {
   "cell_type": "code",
   "execution_count": 115,
   "id": "00f68a2b",
   "metadata": {},
   "outputs": [
    {
     "name": "stdout",
     "output_type": "stream",
     "text": [
      "a\n",
      "b\n",
      "c\n"
     ]
    }
   ],
   "source": [
    "# don't do this!\n",
    "\n",
    "for one_key in d.keys():   # why do this, when we can just say \"for one_key in d\"?\n",
    "    print(one_key)"
   ]
  },
  {
   "cell_type": "code",
   "execution_count": 117,
   "id": "175937ad",
   "metadata": {},
   "outputs": [
    {
     "name": "stdout",
     "output_type": "stream",
     "text": [
      "Keys with the value 20:\n",
      "\tb\n",
      "\te\n",
      "\tg\n",
      "\th\n"
     ]
    }
   ],
   "source": [
    "# question: can I get all of the keys whose value is a specific one?\n",
    "\n",
    "d = {'a':10, 'b':20, 'c':30, 'd':40, 'e':20, 'f':30, 'g':20, 'h':20}\n",
    "look_for = 20\n",
    "\n",
    "print(f'Keys with the value {look_for}:')\n",
    "for key, value in d.items():\n",
    "    if value == look_for:\n",
    "        print(f'\\t{key}')"
   ]
  },
  {
   "cell_type": "code",
   "execution_count": 118,
   "id": "3fa075cf",
   "metadata": {},
   "outputs": [
    {
     "data": {
      "text/plain": [
       "{'a': 10, 'b': 20, 'c': 30, 'd': 40, 'e': 20, 'f': 30, 'g': 20, 'h': 20}"
      ]
     },
     "execution_count": 118,
     "metadata": {},
     "output_type": "execute_result"
    }
   ],
   "source": [
    "d"
   ]
  },
  {
   "cell_type": "code",
   "execution_count": 119,
   "id": "e05c6905",
   "metadata": {},
   "outputs": [
    {
     "name": "stdout",
     "output_type": "stream",
     "text": [
      "{10: ['a'], 20: ['b', 'e', 'g', 'h'], 30: ['c', 'f'], 40: ['d']}\n"
     ]
    }
   ],
   "source": [
    "# let's create a new dict, in which the keys are the values from d, \n",
    "# and the values are lists of keys from d\n",
    "\n",
    "# (basically, flipping d around, but keeping all of the keys for each value in a list)\n",
    "\n",
    "counts = {}\n",
    "\n",
    "for key, value in d.items():\n",
    "    if value in counts:\n",
    "        counts[value].append(key)  # have we seen this value before? If so, just append the key to the list\n",
    "    else:\n",
    "        counts[value] = [key]      # first time seeing this value? Create a one-element list as the value\n",
    "        \n",
    "print(counts)        "
   ]
  },
  {
   "cell_type": "markdown",
   "id": "f03859a2",
   "metadata": {},
   "source": [
    "# How do dicts work?\n",
    "\n",
    "If I have to search in a list, it can take a long time -- because we might need to search through the entire list before finding the value we want.\n",
    "\n",
    "Metaphor for understanding this kind of search: You go to an office building, and you're not sure which office someone is in.  So you have to go from one office to the next, asking if your colleague is there.  The more offices there are, the longer you'll have to search."
   ]
  },
  {
   "cell_type": "markdown",
   "id": "2213af22",
   "metadata": {},
   "source": [
    "If I have to search in a dict, it takes *constant time* -- meaning, it doesn't matter how many key-value pairs I have!  The size of the dict doesn't affect our search time.\n",
    "\n",
    "Our metaphor here is that the office building has 26 offices.  Everyone whose surname starts with \"A\" is in office 1, surname with \"B\" is in office 2, etc.  You don't need to search each office!  You can just \"jump\" to the right office right away, and ignore all of the others."
   ]
  },
  {
   "cell_type": "code",
   "execution_count": 120,
   "id": "6e4ff121",
   "metadata": {},
   "outputs": [
    {
     "data": {
      "text/plain": [
       "{'a': 10, 'b': 20, 'c': 30, 'd': 40, 'e': 20, 'f': 30, 'g': 20, 'h': 20}"
      ]
     },
     "execution_count": 120,
     "metadata": {},
     "output_type": "execute_result"
    }
   ],
   "source": [
    "d"
   ]
  },
  {
   "cell_type": "code",
   "execution_count": 121,
   "id": "87341762",
   "metadata": {},
   "outputs": [
    {
     "ename": "TypeError",
     "evalue": "unhashable type: 'list'",
     "output_type": "error",
     "traceback": [
      "\u001b[0;31m---------------------------------------------------------------------------\u001b[0m",
      "\u001b[0;31mTypeError\u001b[0m                                 Traceback (most recent call last)",
      "\u001b[0;32m/var/folders/rr/0mnyyv811fs5vyp22gf4fxk00000gn/T/ipykernel_29532/933399630.py\u001b[0m in \u001b[0;36m<module>\u001b[0;34m\u001b[0m\n\u001b[1;32m      1\u001b[0m \u001b[0mmylist\u001b[0m \u001b[0;34m=\u001b[0m \u001b[0;34m[\u001b[0m\u001b[0;36m10\u001b[0m\u001b[0;34m,\u001b[0m \u001b[0;36m20\u001b[0m\u001b[0;34m,\u001b[0m \u001b[0;36m30\u001b[0m\u001b[0;34m]\u001b[0m\u001b[0;34m\u001b[0m\u001b[0;34m\u001b[0m\u001b[0m\n\u001b[1;32m      2\u001b[0m \u001b[0;34m\u001b[0m\u001b[0m\n\u001b[0;32m----> 3\u001b[0;31m \u001b[0md\u001b[0m\u001b[0;34m[\u001b[0m\u001b[0mmylist\u001b[0m\u001b[0;34m]\u001b[0m \u001b[0;34m=\u001b[0m \u001b[0;34m'hello'\u001b[0m  \u001b[0;31m# cannot work, because mylist is mutable, and thus cannot be a dict key\u001b[0m\u001b[0;34m\u001b[0m\u001b[0;34m\u001b[0m\u001b[0m\n\u001b[0m",
      "\u001b[0;31mTypeError\u001b[0m: unhashable type: 'list'"
     ]
    }
   ],
   "source": [
    "mylist = [10, 20, 30]\n",
    "\n",
    "d[mylist] = 'hello'  # cannot work, because mylist is mutable, and thus cannot be a dict key"
   ]
  },
  {
   "cell_type": "code",
   "execution_count": null,
   "id": "830897a4",
   "metadata": {},
   "outputs": [],
   "source": []
  }
 ],
 "metadata": {
  "kernelspec": {
   "display_name": "Python 3 (ipykernel)",
   "language": "python",
   "name": "python3"
  },
  "language_info": {
   "codemirror_mode": {
    "name": "ipython",
    "version": 3
   },
   "file_extension": ".py",
   "mimetype": "text/x-python",
   "name": "python",
   "nbconvert_exporter": "python",
   "pygments_lexer": "ipython3",
   "version": "3.10.4"
  }
 },
 "nbformat": 4,
 "nbformat_minor": 5
}
