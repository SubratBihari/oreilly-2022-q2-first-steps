{
 "cells": [
  {
   "cell_type": "markdown",
   "id": "1f0a6aeb",
   "metadata": {},
   "source": [
    "# Week 3: Dictionaries and files\n",
    "\n",
    "1. Data structures recap\n",
    "2. Dictionaries\n",
    "    - Creating them\n",
    "    - Using them\n",
    "    - Dictionaries vs. other data structures\n",
    "    - The different paradigms for dict use\n",
    "3. Files\n",
    "    - (Just text files)\n",
    "    - Reading from files\n",
    "    - Writing to files\n",
    "    - files.lerner.co.il, grab the first zipfile, for basic/intro Python (https://files.lerner.co.il/exercise-files.zip)"
   ]
  },
  {
   "cell_type": "markdown",
   "id": "5a20745d",
   "metadata": {},
   "source": [
    "# Data structures so far\n",
    "\n",
    "1. Numbers (`int` and `float`)\n",
    "    - Counting\n",
    "    - Calculating\n",
    "    - Indexes into strings/lists/tuples\n",
    "    - Used in data science\n",
    "    - *Neither* 32, nor 64-bit integers.  Integers in Python will take as much memory as possible to keep the number in memory.  So if you have a 1,000,000-digit integer, that's OK!\n",
    "2. Strings\n",
    "    - Text we want to print\n",
    "    - Input from the user\n",
    "    - Keys in dictionaries\n",
    "    - Reading from / writing to files\n",
    "    - Ordered, with an index starting at 0\n",
    "    - Immutable -- cannot be changed, once created\n",
    "3. Lists\n",
    "    - (Traditionally) collections of the same type -- list of numbers, list of strings\n",
    "    - List of usernames, or a list of IP addresses, or a list of filenames\n",
    "    - Often, we'll iterate over a list with a `for` loop\n",
    "    - These are ordered, with an index starting at 0\n",
    "    - Lists are mutable -- they can be changed, and extended, once created\n",
    "4. Tuples\n",
    "    - (Traditionally) collections of different types\n",
    "    - Used as records/struct\n",
    "    - Behind the scenes, Python uses tuples when we call functions (to pass the arguments)\n",
    "    - Immutable, like strings\n",
    "    - Can contain anything, like lists\n",
    "    \n",
    "Lists and tuples can both contain any combination of any types you want, including other lists and tuples.    \n",
    "    \n",
    "Strings, lists, and tuples are all \"sequences,\" with a common family of functionality:\n",
    "- They all use 0-based indexes\n",
    "- Retrieve one item with `[i]`\n",
    "- Retrieve a slice with `[start:end]` or even `[start:end:step]`\n",
    "- You can iterate over them all with `for` loops\n",
    "- You can search in them with `in`\n"
   ]
  },
  {
   "cell_type": "markdown",
   "id": "b4f65b0e",
   "metadata": {},
   "source": [
    "# What about arrays?\n",
    "\n",
    "An array is a data structure in many different programming languages.  It is an ordered collection, often with an index starting at 0.  (Sometimes, in some languages, it starts with 1, but that's not important.)\n",
    "\n",
    "So, are lists arrays?  The answer is: No.  Why not?  Because by definition, an array is:\n",
    "\n",
    "1. All of one type.\n",
    "2. Unchanging in size from when it was first created.\n",
    "\n",
    "Lists violate both of these rules, so they aren't arrays.\n",
    "\n",
    "Do we have arrays in Python?  Do we need arrays in Python?\n",
    "\n",
    "And the answer is... there is an \"array\" type in Python, but it's used so rarely that it'll soon be removed from the language.\n",
    "\n",
    "In the world of data science, we use NumPy and Pandas, two add-on extension packages.  These define arrays that are *very* popular.  But they're not core to the language."
   ]
  },
  {
   "cell_type": "markdown",
   "id": "ce820289",
   "metadata": {},
   "source": [
    "# Dictionary\n",
    "\n",
    "If you've used other programming languages before, then you might be familiar with \"dicts\" (as they're known in Python) by another name:\n",
    "\n",
    "- Hash maps\n",
    "- Hashes\n",
    "- Maps\n",
    "- Associative arrays\n",
    "- Hash tables\n",
    "- Key-value stores\n",
    "- Name-value stores\n",
    "\n",
    "The ideas behind a dictionary are:\n",
    "\n",
    "- Data comes in pairs (known as a key and value, or a name and value)\n",
    "- You can decide what the keys and values are\n",
    "- Nearly any type of data can be a key\n",
    "- Any type of data can be a value\n",
    "\n",
    "It turns out that a very large number of programming problems can be solved with key-value pairs."
   ]
  },
  {
   "cell_type": "code",
   "execution_count": 4,
   "id": "78f8182c",
   "metadata": {},
   "outputs": [],
   "source": [
    "# let's define a dict:\n",
    "\n",
    "# (1) we use {} around the dictionary\n",
    "# (2) The keys and values are separated by :\n",
    "# (3) Each key-value pair is separated from other pairs by ,\n",
    "# (4) All keys have values, all values have keys\n",
    "\n",
    "d = {'a':10, 'b':20, 'c':30}\n",
    "\n",
    "# first pair: key is the string 'a', value is the int 10\n",
    "# second pair: key is the string 'b', value is the int 20\n",
    "# third pair: key is the string 'c', value is the int 30\n"
   ]
  },
  {
   "cell_type": "code",
   "execution_count": 2,
   "id": "5b3936fa",
   "metadata": {},
   "outputs": [
    {
     "data": {
      "text/plain": [
       "dict"
      ]
     },
     "execution_count": 2,
     "metadata": {},
     "output_type": "execute_result"
    }
   ],
   "source": [
    "# let's ask Python: What is d?\n",
    "type(d)"
   ]
  },
  {
   "cell_type": "code",
   "execution_count": 3,
   "id": "882d7628",
   "metadata": {},
   "outputs": [
    {
     "data": {
      "text/plain": [
       "3"
      ]
     },
     "execution_count": 3,
     "metadata": {},
     "output_type": "execute_result"
    }
   ],
   "source": [
    "# how many key-value pairs are there in d?\n",
    "len(d)"
   ]
  },
  {
   "cell_type": "code",
   "execution_count": 6,
   "id": "9e50440b",
   "metadata": {},
   "outputs": [
    {
     "ename": "NameError",
     "evalue": "name 'a' is not defined",
     "output_type": "error",
     "traceback": [
      "\u001b[0;31m---------------------------------------------------------------------------\u001b[0m",
      "\u001b[0;31mNameError\u001b[0m                                 Traceback (most recent call last)",
      "\u001b[0;32m/var/folders/rr/0mnyyv811fs5vyp22gf4fxk00000gn/T/ipykernel_29532/1908958534.py\u001b[0m in \u001b[0;36m<module>\u001b[0;34m\u001b[0m\n\u001b[1;32m      1\u001b[0m \u001b[0;31m# what happens if I don't put quotes around 'a', 'b', and 'c'\u001b[0m\u001b[0;34m\u001b[0m\u001b[0;34m\u001b[0m\u001b[0m\n\u001b[1;32m      2\u001b[0m \u001b[0;34m\u001b[0m\u001b[0m\n\u001b[0;32m----> 3\u001b[0;31m \u001b[0md\u001b[0m \u001b[0;34m=\u001b[0m \u001b[0;34m{\u001b[0m\u001b[0ma\u001b[0m\u001b[0;34m:\u001b[0m\u001b[0;36m10\u001b[0m\u001b[0;34m,\u001b[0m \u001b[0mb\u001b[0m\u001b[0;34m:\u001b[0m\u001b[0;36m20\u001b[0m\u001b[0;34m,\u001b[0m \u001b[0mc\u001b[0m\u001b[0;34m:\u001b[0m\u001b[0;36m30\u001b[0m\u001b[0;34m}\u001b[0m\u001b[0;34m\u001b[0m\u001b[0;34m\u001b[0m\u001b[0m\n\u001b[0m\u001b[1;32m      4\u001b[0m \u001b[0;34m\u001b[0m\u001b[0m\n\u001b[1;32m      5\u001b[0m \u001b[0;31m# first pair: key is the value in the variable a, value is the int 10\u001b[0m\u001b[0;34m\u001b[0m\u001b[0;34m\u001b[0m\u001b[0m\n",
      "\u001b[0;31mNameError\u001b[0m: name 'a' is not defined"
     ]
    }
   ],
   "source": [
    "# what happens if I don't put quotes around 'a', 'b', and 'c'\n",
    "\n",
    "d = {a:10, b:20, c:30}\n",
    "\n",
    "# first pair: key is the value in the variable a, value is the int 10\n",
    "# second pair: key is the value in the variable b, value is the int 20\n",
    "# third pair: key is the value in the variable c, value is the int 30\n"
   ]
  },
  {
   "cell_type": "code",
   "execution_count": 7,
   "id": "1dc39c82",
   "metadata": {},
   "outputs": [
    {
     "data": {
      "text/plain": [
       "{'a': 10, 'b': 20, 'c': 30}"
      ]
     },
     "execution_count": 7,
     "metadata": {},
     "output_type": "execute_result"
    }
   ],
   "source": [
    "d"
   ]
  },
  {
   "cell_type": "code",
   "execution_count": 8,
   "id": "b549309c",
   "metadata": {},
   "outputs": [
    {
     "data": {
      "text/plain": [
       "10"
      ]
     },
     "execution_count": 8,
     "metadata": {},
     "output_type": "execute_result"
    }
   ],
   "source": [
    "# we can retrieve from a dict with [], just like with strings, lists, and tuples\n",
    "# but now we don't use the index (starting at 0), but rather the key\n",
    "\n",
    "d['a']"
   ]
  },
  {
   "cell_type": "code",
   "execution_count": 9,
   "id": "cd5f18be",
   "metadata": {},
   "outputs": [
    {
     "data": {
      "text/plain": [
       "20"
      ]
     },
     "execution_count": 9,
     "metadata": {},
     "output_type": "execute_result"
    }
   ],
   "source": [
    "d['b']"
   ]
  },
  {
   "cell_type": "code",
   "execution_count": 10,
   "id": "c054715d",
   "metadata": {},
   "outputs": [
    {
     "data": {
      "text/plain": [
       "30"
      ]
     },
     "execution_count": 10,
     "metadata": {},
     "output_type": "execute_result"
    }
   ],
   "source": [
    "d['c']"
   ]
  },
  {
   "cell_type": "code",
   "execution_count": 11,
   "id": "44efb2a0",
   "metadata": {},
   "outputs": [
    {
     "ename": "KeyError",
     "evalue": "'x'",
     "output_type": "error",
     "traceback": [
      "\u001b[0;31m---------------------------------------------------------------------------\u001b[0m",
      "\u001b[0;31mKeyError\u001b[0m                                  Traceback (most recent call last)",
      "\u001b[0;32m/var/folders/rr/0mnyyv811fs5vyp22gf4fxk00000gn/T/ipykernel_29532/1278128738.py\u001b[0m in \u001b[0;36m<module>\u001b[0;34m\u001b[0m\n\u001b[1;32m      1\u001b[0m \u001b[0;31m# what happens if I retrieve a key that doesn't exist?\u001b[0m\u001b[0;34m\u001b[0m\u001b[0;34m\u001b[0m\u001b[0m\n\u001b[0;32m----> 2\u001b[0;31m \u001b[0md\u001b[0m\u001b[0;34m[\u001b[0m\u001b[0;34m'x'\u001b[0m\u001b[0;34m]\u001b[0m\u001b[0;34m\u001b[0m\u001b[0;34m\u001b[0m\u001b[0m\n\u001b[0m",
      "\u001b[0;31mKeyError\u001b[0m: 'x'"
     ]
    }
   ],
   "source": [
    "# what happens if I retrieve a key that doesn't exist?\n",
    "d['x']"
   ]
  },
  {
   "cell_type": "code",
   "execution_count": 12,
   "id": "0b5564b3",
   "metadata": {},
   "outputs": [
    {
     "data": {
      "text/plain": [
       "True"
      ]
     },
     "execution_count": 12,
     "metadata": {},
     "output_type": "execute_result"
    }
   ],
   "source": [
    "# how can I check to see if a key is in a dict?\n",
    "# I can use \"in\" to look for that.\n",
    "# (\"in\" only looks at the keys, not at the values)\n",
    "\n",
    "'a' in d"
   ]
  },
  {
   "cell_type": "code",
   "execution_count": 13,
   "id": "274c3115",
   "metadata": {},
   "outputs": [
    {
     "data": {
      "text/plain": [
       "True"
      ]
     },
     "execution_count": 13,
     "metadata": {},
     "output_type": "execute_result"
    }
   ],
   "source": [
    "'b' in d"
   ]
  },
  {
   "cell_type": "code",
   "execution_count": 14,
   "id": "83f782bf",
   "metadata": {},
   "outputs": [
    {
     "data": {
      "text/plain": [
       "True"
      ]
     },
     "execution_count": 14,
     "metadata": {},
     "output_type": "execute_result"
    }
   ],
   "source": [
    "'c' in d"
   ]
  },
  {
   "cell_type": "code",
   "execution_count": 15,
   "id": "7b5c24b3",
   "metadata": {},
   "outputs": [
    {
     "data": {
      "text/plain": [
       "False"
      ]
     },
     "execution_count": 15,
     "metadata": {},
     "output_type": "execute_result"
    }
   ],
   "source": [
    "'x' in d"
   ]
  },
  {
   "cell_type": "code",
   "execution_count": 16,
   "id": "4ac48504",
   "metadata": {},
   "outputs": [
    {
     "name": "stdout",
     "output_type": "stream",
     "text": [
      "10\n"
     ]
    }
   ],
   "source": [
    "k = 'a'\n",
    "\n",
    "print(d[k])  # retrieve the value associated with d[k], where k is a variable whose value is 'a'"
   ]
  },
  {
   "cell_type": "code",
   "execution_count": 20,
   "id": "0ae5560c",
   "metadata": {},
   "outputs": [
    {
     "name": "stdout",
     "output_type": "stream",
     "text": [
      "Enter a key: x\n"
     ]
    },
    {
     "ename": "KeyError",
     "evalue": "'x'",
     "output_type": "error",
     "traceback": [
      "\u001b[0;31m---------------------------------------------------------------------------\u001b[0m",
      "\u001b[0;31mKeyError\u001b[0m                                  Traceback (most recent call last)",
      "\u001b[0;32m/var/folders/rr/0mnyyv811fs5vyp22gf4fxk00000gn/T/ipykernel_29532/2513994380.py\u001b[0m in \u001b[0;36m<module>\u001b[0;34m\u001b[0m\n\u001b[1;32m      1\u001b[0m \u001b[0mk\u001b[0m \u001b[0;34m=\u001b[0m \u001b[0minput\u001b[0m\u001b[0;34m(\u001b[0m\u001b[0;34m'Enter a key: '\u001b[0m\u001b[0;34m)\u001b[0m\u001b[0;34m.\u001b[0m\u001b[0mstrip\u001b[0m\u001b[0;34m(\u001b[0m\u001b[0;34m)\u001b[0m\u001b[0;34m\u001b[0m\u001b[0;34m\u001b[0m\u001b[0m\n\u001b[1;32m      2\u001b[0m \u001b[0;34m\u001b[0m\u001b[0m\n\u001b[0;32m----> 3\u001b[0;31m \u001b[0mprint\u001b[0m\u001b[0;34m(\u001b[0m\u001b[0md\u001b[0m\u001b[0;34m[\u001b[0m\u001b[0mk\u001b[0m\u001b[0;34m]\u001b[0m\u001b[0;34m)\u001b[0m\u001b[0;34m\u001b[0m\u001b[0;34m\u001b[0m\u001b[0m\n\u001b[0m",
      "\u001b[0;31mKeyError\u001b[0m: 'x'"
     ]
    }
   ],
   "source": [
    "k = input('Enter a key: ').strip()\n",
    "\n",
    "print(d[k])"
   ]
  },
  {
   "cell_type": "markdown",
   "id": "c8758801",
   "metadata": {},
   "source": [
    "# Dict rules\n",
    "\n",
    "1. Keys must be *immutable* types, normally meaning integers and strings.  (Tuples can be, but that's much rarer.)\n",
    "2. Values can be any type at all, without any exceptions.\n",
    "3. Keys are unique. A key can exist only once in a dict.  Values can recur as often as we want."
   ]
  },
  {
   "cell_type": "code",
   "execution_count": null,
   "id": "d3c2b16a",
   "metadata": {},
   "outputs": [],
   "source": []
  }
 ],
 "metadata": {
  "kernelspec": {
   "display_name": "Python 3 (ipykernel)",
   "language": "python",
   "name": "python3"
  },
  "language_info": {
   "codemirror_mode": {
    "name": "ipython",
    "version": 3
   },
   "file_extension": ".py",
   "mimetype": "text/x-python",
   "name": "python",
   "nbconvert_exporter": "python",
   "pygments_lexer": "ipython3",
   "version": "3.10.4"
  }
 },
 "nbformat": 4,
 "nbformat_minor": 5
}
